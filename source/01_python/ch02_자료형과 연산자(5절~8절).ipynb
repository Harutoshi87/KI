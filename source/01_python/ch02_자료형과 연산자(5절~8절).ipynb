{
 "cells": [
  {
   "cell_type": "code",
   "execution_count": 1,
   "id": "fc8fd694",
   "metadata": {},
   "outputs": [
    {
     "data": {
      "text/html": [
       "\n",
       "<style>\n",
       "div.container{width:90% !important;}\n",
       "div.cell.code_cell.rendered{width:100%;}\n",
       "div.input_prompt{padding:0px;}\n",
       "div.CodeMirror {font-family:Consolas; font-size:12pt;}\n",
       "div.text_cell_render.rendered_html{font-size:12pt;}\n",
       "div.output {font-size:12pt; font-weight:bold;}\n",
       "div.input {font-family:Consolas; font-size:12pt;}\n",
       "div.prompt {min-width:70px;}\n",
       "div#toc-wrapper{padding-top:120px;}\n",
       "div.text_cell_render ul li{font-size:12pt;padding:5px;}\n",
       "table.dataframe{font-size:12px;}\n",
       "</style>\n"
      ],
      "text/plain": [
       "<IPython.core.display.HTML object>"
      ]
     },
     "metadata": {},
     "output_type": "display_data"
    }
   ],
   "source": [
    "from IPython.display import display, HTML\n",
    "display(HTML(\"\"\"\n",
    "<style>\n",
    "div.container{width:90% !important;}\n",
    "div.cell.code_cell.rendered{width:100%;}\n",
    "div.input_prompt{padding:0px;}\n",
    "div.CodeMirror {font-family:Consolas; font-size:12pt;}\n",
    "div.text_cell_render.rendered_html{font-size:12pt;}\n",
    "div.output {font-size:12pt; font-weight:bold;}\n",
    "div.input {font-family:Consolas; font-size:12pt;}\n",
    "div.prompt {min-width:70px;}\n",
    "div#toc-wrapper{padding-top:120px;}\n",
    "div.text_cell_render ul li{font-size:12pt;padding:5px;}\n",
    "table.dataframe{font-size:12px;}\n",
    "</style>\n",
    "\"\"\"))"
   ]
  },
  {
   "cell_type": "markdown",
   "id": "bf4a4e2c",
   "metadata": {},
   "source": [
    "<b><font size=\"6\" color=\"red\">ch02. 자료형과 연산자<font></b>\n",
    "# 5. 연산자\n",
    "## 5.1.산술 연산자 : +, -, *, /(나누기의 결과는 늘 float), //(몫 연산자), %(나머지), **(제곱)"
   ]
  },
  {
   "cell_type": "code",
   "execution_count": 6,
   "id": "7f5af906",
   "metadata": {},
   "outputs": [
    {
     "name": "stdout",
     "output_type": "stream",
     "text": [
      "10*5승 = 100000\n",
      "5/2(결과는 무조건 실수) = 2.5\n",
      "5//2(몫) = 2\n",
      "5%2(나머지) = 1\n"
     ]
    }
   ],
   "source": [
    "print('10*5승 =', 10**5)\n",
    "print('5/2(결과는 무조건 실수) =', 5/2)\n",
    "print('5//2(몫) =', 5//2)\n",
    "print('5%2(나머지) =', 5%2)"
   ]
  },
  {
   "cell_type": "code",
   "execution_count": 7,
   "id": "22f1a2db",
   "metadata": {},
   "outputs": [
    {
     "name": "stdout",
     "output_type": "stream",
     "text": [
      "4**2 = 16\n",
      "4.0**2 = 16.0\n"
     ]
    }
   ],
   "source": [
    "# 정수끼리의 연산은 결과가 정수 (단 / 제외)\n",
    "# 정수와 실수 또는 실수끼리의 연산 결과는 실수\n",
    "print('4**2 =', 4**2)\n",
    "print('4.0**2 =', 4.0**2)"
   ]
  },
  {
   "cell_type": "code",
   "execution_count": 10,
   "id": "7fa6c5c7",
   "metadata": {},
   "outputs": [
    {
     "name": "stdout",
     "output_type": "stream",
     "text": [
      "정수를 입력하시오:8\n",
      "입력하신 수는 8, 2로 나눈 나머지는 0, 그러므로 짝수를 입력하였습니다\n"
     ]
    }
   ],
   "source": [
    "# quiz 1. 정수를 입력받아 짝수인지 홀수인지 여부를 출력 \n",
    "num = int(input('정수를 입력하시오:'))\n",
    "result = num % 2 # -1, 0, 1; 0이면 짝수\n",
    "if result: #True\n",
    "    temp = '홀수' # 임시 변수\n",
    "else:\n",
    "    temp = '짝수'\n",
    "print('입력하신 수는 {}, 2로 나눈 나머지는 {}, 그러므로 {}를 입력하였습니다'.format(num, result, temp))"
   ]
  },
  {
   "cell_type": "code",
   "execution_count": 2,
   "id": "c28100e3",
   "metadata": {},
   "outputs": [
    {
     "name": "stdout",
     "output_type": "stream",
     "text": [
      "정수를 입력하시오:9\n",
      "입력하신 수는 9, 5로 나눈 나머지는 4, 그러므로 5의 배수가 아닙니다\n"
     ]
    }
   ],
   "source": [
    "# quiz 2. 정수를 입력받아 5의 배수인지 여부를 출력\n",
    "num = int(input('정수를 입력하시오:'))\n",
    "result = num % 5\n",
    "if result:\n",
    "    temp = '5의 배수가 아닙니다'\n",
    "else:\n",
    "    temp = '5의 배수입니다'\n",
    "print('입력하신 수는 {}, 5로 나눈 나머지는 {}, 그러므로 {}'.format(num, result, temp))"
   ]
  },
  {
   "cell_type": "code",
   "execution_count": 1,
   "id": "68ea2ae7",
   "metadata": {},
   "outputs": [
    {
     "name": "stdout",
     "output_type": "stream",
     "text": [
      "국어:99\n",
      "영어:100\n",
      "수학:99\n",
      "국어:  99\t영어: 100\t수학:  99\n",
      "총점: 298\t평균: 99.3\n"
     ]
    }
   ],
   "source": [
    "# quiz 3. 국 , 영 , 수 점수를 입력받아 다음셀에서 다음과 같이 출력하도록 구현하시오\n",
    "kor = int(input('국어:'))\n",
    "eng = int(input('영어:'))\n",
    "mat = int(input('수학:'))\n",
    "sum = kor + eng + mat\n",
    "avg = sum / 3\n",
    "print('국어: {:3d}\\t영어: {:3d}\\t수학: {:3d}'.format(kor, eng, mat))\n",
    "print('총점: {:3d}\\t평균:{:5.1f}'.format(sum, avg))"
   ]
  },
  {
   "cell_type": "markdown",
   "id": "fe22f19b",
   "metadata": {},
   "source": [
    "## 5.2.할당 연산자 : =, +=, -=, /=, *=, //=, %="
   ]
  },
  {
   "cell_type": "code",
   "execution_count": 3,
   "id": "3075f364",
   "metadata": {},
   "outputs": [
    {
     "name": "stdout",
     "output_type": "stream",
     "text": [
      "a = 15\n"
     ]
    }
   ],
   "source": [
    "a = 10\n",
    "a += 5 # a = a+5 와 동일\n",
    "print(f\"a = {a}\")"
   ]
  },
  {
   "cell_type": "code",
   "execution_count": 4,
   "id": "0f83fb43",
   "metadata": {},
   "outputs": [
    {
     "name": "stdout",
     "output_type": "stream",
     "text": [
      "5빼기 : 10\n",
      "10배 : 100\n",
      "5나눈 몫 : 20\n"
     ]
    }
   ],
   "source": [
    "a -= 5 # a = a-5\n",
    "print('5빼기 :', a) # 10\n",
    "a *= 10 # a = a*10\n",
    "print('10배 :', a) # 100\n",
    "a //= 5 # a = a//5\n",
    "print('5나눈 몫 :', a)"
   ]
  },
  {
   "cell_type": "markdown",
   "id": "8ec45546",
   "metadata": {},
   "source": [
    "## 5.3.논리 연산자 : &, and, |, or, not"
   ]
  },
  {
   "cell_type": "code",
   "execution_count": 10,
   "id": "933ba618",
   "metadata": {},
   "outputs": [
    {
     "name": "stdout",
     "output_type": "stream",
     "text": [
      "True\n",
      "0\n",
      "1100\n"
     ]
    }
   ],
   "source": [
    "# & : 논리 연산자, 비트 연산자\n",
    "print((10>3) & (10>5)) # 논리 연산 True & True\n",
    "print(12 & 1) # 비트 연산 1 1 0 0 (12) \n",
    "                       # 0 0 0 1 (1)\n",
    "                    # &: 0 0 0 0   \n",
    "print('{:4b}'.format(12))"
   ]
  },
  {
   "cell_type": "code",
   "execution_count": 9,
   "id": "7dc16a73",
   "metadata": {},
   "outputs": [
    {
     "name": "stdout",
     "output_type": "stream",
     "text": [
      "True\n",
      "0\n"
     ]
    }
   ],
   "source": [
    "# and : 논리 연산자 (False로 판별되는 첫번째 항의 결과 반환)\n",
    "        # 모든 항이 True면 마지막 항의 결과를 반환한다\n",
    "print((10>3) and (10>5))\n",
    "print(0 and 1)"
   ]
  },
  {
   "cell_type": "code",
   "execution_count": 13,
   "id": "d1a53ce9",
   "metadata": {},
   "outputs": [
    {
     "name": "stdout",
     "output_type": "stream",
     "text": [
      "논리 연산(연산자 앞뒤가 논리형일 때) : True\n",
      "비트 연산(연산자 앞이나 뒤가 숫자일 때) : 3\n"
     ]
    }
   ],
   "source": [
    "# | : 논리 연산자, 비트 연산자 (문자 입력하면 에러 남)\n",
    "result = True | False\n",
    "print('논리 연산(연산자 앞뒤가 논리형일 때) :', result)\n",
    "result = False | 3 # 무조건 비트 연산: 0000 (0) \n",
    "                                   # 0011 (3)\n",
    "print('비트 연산(연산자 앞이나 뒤가 숫자일 때) :', result)"
   ]
  },
  {
   "cell_type": "code",
   "execution_count": 17,
   "id": "e000421a",
   "metadata": {},
   "outputs": [
    {
     "name": "stdout",
     "output_type": "stream",
     "text": [
      "[]\n",
      "Hong\n"
     ]
    }
   ],
   "source": [
    "# or : 논리 연산자 (True로 판별되는 첫번째 항의 결과 반환)\n",
    "                    # 모든 항이 거짓이면 마지막 항의 결과를 반환한다\n",
    "print(False or 0 or '' or None or [])\n",
    "print(False or 0 or 'Hong' or None or [])"
   ]
  },
  {
   "cell_type": "code",
   "execution_count": 18,
   "id": "9bb07c29",
   "metadata": {},
   "outputs": [
    {
     "data": {
      "text/plain": [
       "False"
      ]
     },
     "execution_count": 18,
     "metadata": {},
     "output_type": "execute_result"
    }
   ],
   "source": [
    "not 10>5"
   ]
  },
  {
   "cell_type": "markdown",
   "id": "ea056a6b",
   "metadata": {},
   "source": [
    "## 5.4.비교 연산자 : >, >=, <, <=, ==, !=(다르다)"
   ]
  },
  {
   "cell_type": "code",
   "execution_count": 22,
   "id": "dfcf2af6",
   "metadata": {},
   "outputs": [
    {
     "name": "stdout",
     "output_type": "stream",
     "text": [
      "True\n",
      "True\n",
      "True\n"
     ]
    }
   ],
   "source": [
    "# 비교 연산자는 이항, 삼항, 사항,... 다항 연산자\n",
    "x = 95\n",
    "print((90<=x) & (x<=100))\n",
    "print(90 <= x <= 100)\n",
    "print(90 <= x <= 100 > 10)"
   ]
  },
  {
   "cell_type": "code",
   "execution_count": 25,
   "id": "09f1ace6",
   "metadata": {},
   "outputs": [
    {
     "name": "stdout",
     "output_type": "stream",
     "text": [
      "True\n",
      "False\n",
      "False\n"
     ]
    }
   ],
   "source": [
    "# 비교 연산자의 우선 순위가 비트 연산자(|, &)의 우선 순위보다 낮다\n",
    "print((10>5) & (10>7))\n",
    "print(10>5 & 10>7) # 괄호가 없으면 우선 순위가 높은 5 & 10 부터 실행됨 \n",
    "# 0101(5) & 1010(10) == 0\n",
    "print(10> 0 >7)"
   ]
  },
  {
   "cell_type": "code",
   "execution_count": 27,
   "id": "b63d8614",
   "metadata": {},
   "outputs": [
    {
     "name": "stdout",
     "output_type": "stream",
     "text": [
      "True\n",
      "True\n"
     ]
    }
   ],
   "source": [
    "address = '목동'\n",
    "age = 29\n",
    "print((address=='목동') & (age<=30))\n",
    "print(address=='목동' and age<=30) # 논리 연산자인 and 가 비교 연산자보다 우선 순위가 낮다"
   ]
  },
  {
   "cell_type": "code",
   "execution_count": 29,
   "id": "1993e0ea",
   "metadata": {},
   "outputs": [
    {
     "data": {
      "text/plain": [
       "True"
      ]
     },
     "execution_count": 29,
     "metadata": {},
     "output_type": "execute_result"
    }
   ],
   "source": [
    "# 문자는 ASCII 코드 순으로 비교 : 특수문자 < 숫자문자 < 대문자 < 소문자(abc순)\n",
    "'scott' < 'tiger'"
   ]
  },
  {
   "cell_type": "code",
   "execution_count": 28,
   "id": "3eed256c",
   "metadata": {},
   "outputs": [
    {
     "data": {
      "text/plain": [
       "True"
      ]
     },
     "execution_count": 28,
     "metadata": {},
     "output_type": "execute_result"
    }
   ],
   "source": [
    "'김길동' < '홍길동'"
   ]
  },
  {
   "cell_type": "markdown",
   "id": "43b6c1e9",
   "metadata": {},
   "source": [
    "## 5.5.비트 연산 : &, |, ^(XOR), ~(반대)\n",
    "XOR : 같으면 0, 다르면 1\n",
    "```\n",
    "x   y   x&y   x|y   x^y   ~x\n",
    "-----------------------------\n",
    "0   0    0     0     0     1\n",
    "0   1    0     1     1     1\n",
    "1   0    0     1     1     0\n",
    "1   1    1     1     0     0\n",
    "\n",
    "```"
   ]
  },
  {
   "cell_type": "code",
   "execution_count": 13,
   "id": "ed68ec10",
   "metadata": {},
   "outputs": [
    {
     "name": "stdout",
     "output_type": "stream",
     "text": [
      "  a =15 : 1111\n",
      "  b = 2 : 0010\n",
      "a&b = 2 : 0010\n",
      "a|b =15 : 1111\n",
      "a^b =13 : 1101\n"
     ]
    }
   ],
   "source": [
    "a = 15 # 1111(8+4+2+1)\n",
    "b = 2 # 0010\n",
    "print('  a ={0:2} : {0:04b}'.format(a))\n",
    "print('  b ={0:2} : {0:04b}'.format(b))\n",
    "print('a&b ={0:2} : {0:04b}'.format(a&b))\n",
    "print('a|b ={0:2} : {0:04b}'.format(a|b))\n",
    "print('a^b ={0:2} : {0:04b}'.format(a^b))"
   ]
  },
  {
   "cell_type": "markdown",
   "id": "2097c288",
   "metadata": {},
   "source": [
    "# 6. 문자열 다루기\n",
    "- 문자열 변수[from:to:step] : 일부 문자 추출\n",
    "\n",
    "함수:\n",
    "- len(문자열 변수) : 문자 수\n",
    "- upper() : 대문자로 변환\n",
    "- lower() : 소문자로 변환\n",
    "- title() : 한 어절의 앞 글자만 대문자로 변환\n",
    "- capitalize() : 첫 문자만 대문자로\n",
    "- count('찾을문자'): '찾을문자'가 몇 개 들어 있는지 개수를 반환\n",
    "- **find('찾을문자') : '찾을문자'가 왼쪽에서부터 몇 번째에 있는지 index 반환 (없으면 -1을 반환)**\n",
    "- rfind('찾을문자') : '찾을문자'가 오른쪽에서부터 몇 번째에 있는지 index를 반환 (없으면 -1을 반환)\n",
    "    \n",
    "    cf. index('찾을문자') : '찾을문자'가 왼쪽부터 몇 번째에 있는지 index를 반환 (없으면 에러를 반환)\n",
    "\n",
    "- startswith('특정문자') : '특정문자'로 시작하는지 여부 반환\n",
    "- endswith('특정문자') : '특정문자'로 끝나는지 여부 반환\n",
    "\n",
    "- strip() : 좌우 공백 제거(java, c, oracle >> trim)\n",
    "- lstrip() :왼쪽 공백 제거\n",
    "- rstrip() : 오른쪽 공백 제거\n",
    "- **split() : 문자열을 공백이나 다른 문자 기준으로 나누어 리스트로 반환**\n",
    "- isdigit() : 문자열이 숫자 문자열인지 여부 반환\n",
    "- islower() : 문자열이 소문자인지 여부 반환 (True | False)\n",
    "- isupper() : 문자열이 대문자인지 여부 반환 (True | False)\n",
    "- **replace(oldStr, newStr) : oldStr을 newStr로 변경**"
   ]
  },
  {
   "cell_type": "code",
   "execution_count": 7,
   "id": "518b9ab1",
   "metadata": {},
   "outputs": [
    {
     "data": {
      "text/plain": [
       "1000"
      ]
     },
     "execution_count": 7,
     "metadata": {},
     "output_type": "execute_result"
    }
   ],
   "source": [
    "int('1,000'.replace(',', ''))\n"
   ]
  },
  {
   "cell_type": "code",
   "execution_count": 2,
   "id": "b2186163",
   "metadata": {},
   "outputs": [
    {
     "data": {
      "text/plain": [
       "('python is easy. python is smart. python', 39)"
      ]
     },
     "execution_count": 2,
     "metadata": {},
     "output_type": "execute_result"
    }
   ],
   "source": [
    "temp = 'python is easy. python is smart. python'\n",
    "temp, len(temp)"
   ]
  },
  {
   "cell_type": "code",
   "execution_count": 3,
   "id": "b5b612e9",
   "metadata": {},
   "outputs": [
    {
     "name": "stdout",
     "output_type": "stream",
     "text": [
      "대문자로 : PYTHON IS EASY. PYTHON IS SMART. PYTHON\n",
      "소문자로 : python is easy. python is smart. python\n",
      "Title() : Python Is Easy. Python Is Smart. Python\n",
      "capitalize() : Python is easy. python is smart. python\n",
      "python이 몇 번 나오는지 : 3\n",
      "대소문자 구분 없이 python이 몇 번 : 3\n",
      "대소문자 구분 없이 python이 몇 번 : 3\n",
      "대소문자 구분 없이 python이 몇 번 : 3\n",
      "c가 몇 번 나오는지 : 0\n",
      "python이 나오는 첫 index 위치 : 0\n",
      "python이 나오는 마지막 index 위치 : 33\n",
      "c가 나오는 index 위치 : -1\n",
      "python이 나오는 첫 index 위치 :  0\n",
      "python으로 시작하는지 여부 : True\n",
      "대소문자 구분 없이 python으로 시작하는지 여부 : True\n",
      "python으로 끝나는지 여부 : True\n",
      "n으로 끝나는지 여부 : True\n",
      "python을 R로 변경 : R is easy. R is smart. R\n",
      "python is easy. python is smart. python\n"
     ]
    }
   ],
   "source": [
    "print('대문자로 :', temp.upper())\n",
    "print('소문자로 :', temp.lower())\n",
    "print('Title() :', temp.title())\n",
    "print('capitalize() :', temp.capitalize())\n",
    "print('python이 몇 번 나오는지 :', temp.count('python'))\n",
    "print('대소문자 구분 없이 python이 몇 번 :', temp.lower().count('python'))\n",
    "print('대소문자 구분 없이 python이 몇 번 :', temp.upper().count('PYTHON'))\n",
    "print('대소문자 구분 없이 python이 몇 번 :', temp.title().count('Python'))\n",
    "print('c가 몇 번 나오는지 :', temp.count('c'))\n",
    "print('python이 나오는 첫 index 위치 :', temp.find('python'))\n",
    "print('python이 나오는 마지막 index 위치 :', temp.rfind('python'))\n",
    "print('c가 나오는 index 위치 :', temp.find('c')) # 찾는 문자가 없을 경우 -1을 반환\n",
    "print('python이 나오는 첫 index 위치 : ', temp.index('python')) # index 함수의 경우 찾는 문자가 없을 경우 에러를 반환\n",
    "print('python으로 시작하는지 여부 :', temp.startswith('python'))\n",
    "print('대소문자 구분 없이 python으로 시작하는지 여부 :', temp.lower().startswith('python'))\n",
    "print('python으로 끝나는지 여부 :', temp.endswith('python'))\n",
    "print('n으로 끝나는지 여부 :', temp.endswith('n'))\n",
    "print('python을 R로 변경 :', temp.replace('python', 'R'))\n",
    "print(temp)"
   ]
  },
  {
   "cell_type": "code",
   "execution_count": 47,
   "id": "fbefd696",
   "metadata": {},
   "outputs": [
    {
     "name": "stdout",
     "output_type": "stream",
     "text": [
      "좌우 공백 제거 :[    python is easy    ]\n",
      "좌우 공백 제거 :[python is easy]\n",
      "왼쪽 공백 제거 :[python is easy    ]\n",
      "오른쪽 공백 제거 :[    python is easy]\n",
      "isdigit(숫자문자)인지 여부 : False\n",
      "1,000을 1000으로 변환 : 1000\n",
      "replace 후 isdigit(숫자문자)인지 여부 : True\n",
      "대문자인지 여부 : False\n",
      "소문자인지 여부 : True\n"
     ]
    }
   ],
   "source": [
    "temp = '    python is easy    '\n",
    "notdigit = '1,000'\n",
    "print('좌우 공백 제거 :[{}]'.format(temp))\n",
    "print('좌우 공백 제거 :[{}]'.format(temp.strip()))\n",
    "print('왼쪽 공백 제거 :[{}]'.format(temp.lstrip()))\n",
    "print('오른쪽 공백 제거 :[{}]'.format(temp.rstrip()))\n",
    "print('isdigit(숫자문자)인지 여부 :', notdigit.isdigit())\n",
    "print('1,000을 1000으로 변환 :', notdigit.replace(',', ''))\n",
    "print('replace 후 isdigit(숫자문자)인지 여부 :', notdigit.replace(',', '').isdigit())\n",
    "print('대문자인지 여부 :', temp.isupper())\n",
    "print('소문자인지 여부 :', temp.islower())"
   ]
  },
  {
   "cell_type": "code",
   "execution_count": 50,
   "id": "bb978387",
   "metadata": {},
   "outputs": [
    {
     "name": "stdout",
     "output_type": "stream",
     "text": [
      "space 단위로 names 분리(list로 반환) : ['홍길동', '김길동', '박길동', '주길동', '고길동']\n",
      "홍길동 김길동\n"
     ]
    }
   ],
   "source": [
    "names = '홍길동 김길동 박길동 주길동 고길동'\n",
    "name_list = names.split()\n",
    "print('space 단위로 names 분리(list로 반환) :', name_list)\n",
    "print(name_list[0], name_list[1])"
   ]
  },
  {
   "cell_type": "code",
   "execution_count": 55,
   "id": "8b693492",
   "metadata": {},
   "outputs": [
    {
     "name": "stdout",
     "output_type": "stream",
     "text": [
      "['2025', '09', '17']\n",
      "년도 : 2025\n",
      "월 : 09\n",
      "일 : 17\n"
     ]
    }
   ],
   "source": [
    "date_str = '2025-09-17'\n",
    "date_list = date_str.split('-')\n",
    "print(date_list)\n",
    "print('년도 :', date_list[0])\n",
    "print('월 :', date_list[1])\n",
    "print('일 :', date_list[2])"
   ]
  },
  {
   "cell_type": "code",
   "execution_count": 57,
   "id": "6498da17",
   "metadata": {},
   "outputs": [
    {
     "data": {
      "text/plain": [
       "('A', 'B', 'C')"
      ]
     },
     "execution_count": 57,
     "metadata": {},
     "output_type": "execute_result"
    }
   ],
   "source": [
    "# str_ = 'ABC'\n",
    "str = ['A', 'B', 'C']\n",
    "str_[0], str_[1], str_[2]"
   ]
  },
  {
   "cell_type": "code",
   "execution_count": 66,
   "id": "bdcb1818",
   "metadata": {},
   "outputs": [
    {
     "name": "stdout",
     "output_type": "stream",
     "text": [
      "splited  temp : ['Python', '웹(HTML/CSS/JS)', 'Oracle/MySQL(DBMS)', 'DL/ML', 'LLM(RAG)']\n",
      "joined temp : Python/웹(HTML/CSS/JS)/Oracle/MySQL(DBMS)/DL/ML/LLM(RAG)\n"
     ]
    }
   ],
   "source": [
    "# ' - '을 '/'로 바꾸기\n",
    "temp = 'Python - 웹(HTML/CSS/JS) - Oracle/MySQL(DBMS) - DL/ML - LLM(RAG)'\n",
    "# temp.replace(' - ', '/')\n",
    "# split()와 join()을 사용하여 replace 역할 대체\n",
    "splited_temp = temp.split(' - ')\n",
    "splited_temp\n",
    "print('splited  temp :', splited_temp)\n",
    "joined_temp = '/'.join(splited_temp) #'/'로 매개변수 list를 연결\n",
    "print('joined temp :', joined_temp)"
   ]
  },
  {
   "cell_type": "code",
   "execution_count": 67,
   "id": "f288381a",
   "metadata": {
    "collapsed": true
   },
   "outputs": [
    {
     "data": {
      "text/plain": [
       "['__add__',\n",
       " '__class__',\n",
       " '__class_getitem__',\n",
       " '__contains__',\n",
       " '__delattr__',\n",
       " '__delitem__',\n",
       " '__dir__',\n",
       " '__doc__',\n",
       " '__eq__',\n",
       " '__format__',\n",
       " '__ge__',\n",
       " '__getattribute__',\n",
       " '__getitem__',\n",
       " '__gt__',\n",
       " '__hash__',\n",
       " '__iadd__',\n",
       " '__imul__',\n",
       " '__init__',\n",
       " '__init_subclass__',\n",
       " '__iter__',\n",
       " '__le__',\n",
       " '__len__',\n",
       " '__lt__',\n",
       " '__mul__',\n",
       " '__ne__',\n",
       " '__new__',\n",
       " '__reduce__',\n",
       " '__reduce_ex__',\n",
       " '__repr__',\n",
       " '__reversed__',\n",
       " '__rmul__',\n",
       " '__setattr__',\n",
       " '__setitem__',\n",
       " '__sizeof__',\n",
       " '__str__',\n",
       " '__subclasshook__',\n",
       " 'append',\n",
       " 'clear',\n",
       " 'copy',\n",
       " 'count',\n",
       " 'extend',\n",
       " 'index',\n",
       " 'insert',\n",
       " 'pop',\n",
       " 'remove',\n",
       " 'reverse',\n",
       " 'sort']"
      ]
     },
     "execution_count": 67,
     "metadata": {},
     "output_type": "execute_result"
    }
   ],
   "source": [
    "# 문자열을 다룰 수 있는 함수 목록\n",
    "dir(str)"
   ]
  },
  {
   "cell_type": "markdown",
   "id": "ca6abfa9",
   "metadata": {},
   "source": [
    "# 7. 시간, 날짜 다루기"
   ]
  },
  {
   "cell_type": "code",
   "execution_count": 90,
   "id": "5ce22247",
   "metadata": {},
   "outputs": [
    {
     "data": {
      "text/plain": [
       "'C:\\\\Users\\\\Admin\\\\anaconda3\\\\lib\\\\datetime.py'"
      ]
     },
     "execution_count": 90,
     "metadata": {},
     "output_type": "execute_result"
    }
   ],
   "source": [
    "import datetime\n",
    "datetime.__file__"
   ]
  },
  {
   "cell_type": "code",
   "execution_count": 91,
   "id": "7db38f90",
   "metadata": {},
   "outputs": [],
   "source": [
    "# datetime 모듈(datetime.py) 안의 아래 세 가지만 load\n",
    "from datetime import datetime, date, time"
   ]
  },
  {
   "cell_type": "markdown",
   "id": "8fc49a00",
   "metadata": {},
   "source": [
    "## 7.1.시간과 날짜"
   ]
  },
  {
   "cell_type": "code",
   "execution_count": 71,
   "id": "a28adf5c",
   "metadata": {},
   "outputs": [
    {
     "data": {
      "text/plain": [
       "datetime.datetime(2025, 9, 11, 9, 30)"
      ]
     },
     "execution_count": 71,
     "metadata": {},
     "output_type": "execute_result"
    }
   ],
   "source": [
    "# 특정 시점을 갖는 datetime 객체 생성\n",
    "thatday = datetime(2025, 9, 11, 9, 30)\n",
    "thatday"
   ]
  },
  {
   "cell_type": "code",
   "execution_count": 73,
   "id": "3a41c53a",
   "metadata": {},
   "outputs": [
    {
     "name": "stdout",
     "output_type": "stream",
     "text": [
      "25년09월11일(Thursday) 09:30:00\n",
      "25년09월11일(Thursday) 09:30:00\n",
      "Thu Sep 11 09:30:00 2025\n"
     ]
    }
   ],
   "source": [
    "# 날짜를 문자열로 전환\n",
    "print('{:%y년%m월%d일(%A) %H:%M:%S}'.format(thatday))\n",
    "print(thatday.strftime('%y년%m월%d일(%A) %H:%M:%S'))\n",
    "print(thatday.ctime()) #ctime() : 영어권 화자가 읽기 쉬운 형태로 convert"
   ]
  },
  {
   "cell_type": "code",
   "execution_count": 77,
   "id": "c85d562c",
   "metadata": {},
   "outputs": [
    {
     "name": "stdout",
     "output_type": "stream",
     "text": [
      "2025-09-17 14:24:09.414572\n",
      "Wed Sep 17 14:24:09 2025\n",
      "2025년09월17일 PM 02:24:09\n"
     ]
    }
   ],
   "source": [
    "# 지금을 저장하는 datetime 객체 생성\n",
    "now = datetime.now()\n",
    "print(now)\n",
    "print(now.ctime())\n",
    "print(now.strftime('%Y년%m월%d일 %p %I:%M:%S'))"
   ]
  },
  {
   "cell_type": "code",
   "execution_count": 79,
   "id": "4fdcccb6",
   "metadata": {},
   "outputs": [
    {
     "name": "stdout",
     "output_type": "stream",
     "text": [
      "6 days, 4:54:09.414572\n",
      "6\n"
     ]
    }
   ],
   "source": [
    "diff = now - thatday\n",
    "print(diff)\n",
    "print(diff.days)"
   ]
  },
  {
   "cell_type": "markdown",
   "id": "37027ce9",
   "metadata": {},
   "source": [
    "## 7.2.날짜"
   ]
  },
  {
   "cell_type": "code",
   "execution_count": 80,
   "id": "0f2999cf",
   "metadata": {},
   "outputs": [
    {
     "data": {
      "text/plain": [
       "datetime.date(2025, 9, 11)"
      ]
     },
     "execution_count": 80,
     "metadata": {},
     "output_type": "execute_result"
    }
   ],
   "source": [
    "# 특정한 날짜를 갖는 date 객체 생성\n",
    "oneday = date(2025, 9, 11)\n",
    "oneday"
   ]
  },
  {
   "cell_type": "code",
   "execution_count": 85,
   "id": "48c0275c",
   "metadata": {},
   "outputs": [
    {
     "name": "stdout",
     "output_type": "stream",
     "text": [
      "2025-09-11\n",
      "2025년 09월 11일 00:00\n"
     ]
    }
   ],
   "source": [
    "print(oneday)\n",
    "print(oneday.strftime('%Y년 %m월 %d일 %H:%M'))"
   ]
  },
  {
   "cell_type": "code",
   "execution_count": 86,
   "id": "28e0758b",
   "metadata": {},
   "outputs": [
    {
     "name": "stdout",
     "output_type": "stream",
     "text": [
      "True\n"
     ]
    }
   ],
   "source": [
    "# 오늘을 갖는 date 객체 생성\n",
    "today1 = date.today()\n",
    "today2 = datetime.now().date()\n",
    "print(today1 == today2)"
   ]
  },
  {
   "cell_type": "code",
   "execution_count": 87,
   "id": "51169e53",
   "metadata": {},
   "outputs": [
    {
     "name": "stdout",
     "output_type": "stream",
     "text": [
      "2025년 09월 17일 00:00\n",
      "2025년 09월 17일 00:00\n"
     ]
    }
   ],
   "source": [
    "print(today1.strftime('%Y년 %m월 %d일 %H:%M'))\n",
    "print(today2.strftime('%Y년 %m월 %d일 %H:%M'))"
   ]
  },
  {
   "cell_type": "code",
   "execution_count": 89,
   "id": "cdf9416c",
   "metadata": {},
   "outputs": [
    {
     "name": "stdout",
     "output_type": "stream",
     "text": [
      "-6 days, 0:00:00\n",
      "-6\n"
     ]
    }
   ],
   "source": [
    "diff = oneday - today1\n",
    "print(diff)\n",
    "print(diff.days)"
   ]
  },
  {
   "cell_type": "markdown",
   "id": "30a84d33",
   "metadata": {},
   "source": [
    "## 7.3.시간"
   ]
  },
  {
   "cell_type": "code",
   "execution_count": 92,
   "id": "ed8b51c8",
   "metadata": {},
   "outputs": [
    {
     "data": {
      "text/plain": [
       "datetime.time(14, 39)"
      ]
     },
     "execution_count": 92,
     "metadata": {},
     "output_type": "execute_result"
    }
   ],
   "source": [
    "# 특정한 시간을 저장하는 time 객체 생성\n",
    "t = time(14, 39, 0)\n",
    "t"
   ]
  },
  {
   "cell_type": "code",
   "execution_count": 94,
   "id": "599a10af",
   "metadata": {},
   "outputs": [
    {
     "name": "stdout",
     "output_type": "stream",
     "text": [
      "PM 02:39\n"
     ]
    }
   ],
   "source": [
    "print(t.strftime('%p %I:%M'))"
   ]
  },
  {
   "cell_type": "code",
   "execution_count": 96,
   "id": "56980f20",
   "metadata": {},
   "outputs": [
    {
     "name": "stdout",
     "output_type": "stream",
     "text": [
      "PM 02:39\n"
     ]
    }
   ],
   "source": [
    "# print(t.strftime('%Y년 %m월 %d일 %p %I:%M'))\n",
    "print(t.strftime('%p %I:%M'))"
   ]
  },
  {
   "cell_type": "code",
   "execution_count": 99,
   "id": "3d9364c1",
   "metadata": {},
   "outputs": [
    {
     "name": "stdout",
     "output_type": "stream",
     "text": [
      "14:46:33.864287\n"
     ]
    }
   ],
   "source": [
    "# 현재 시간\n",
    "nowtime = datetime.now().time()\n",
    "print(nowtime)"
   ]
  },
  {
   "cell_type": "markdown",
   "id": "f27639bd",
   "metadata": {},
   "source": [
    "# 8. 연습 문제"
   ]
  },
  {
   "cell_type": "code",
   "execution_count": 15,
   "id": "300ede7a",
   "metadata": {},
   "outputs": [
    {
     "name": "stdout",
     "output_type": "stream",
     "text": [
      "[홍길동님의 나이는 23살입니다]\n"
     ]
    }
   ],
   "source": [
    "#1. 이름과 나이 변수를 다음 형식으로 출력하도록 format()함수를 이용해 형식화하시오\n",
    "#[출력형식 : 홍길동님의 나이는 23 살입니다]\n",
    "name = '홍길동'\n",
    "age = 23\n",
    "print('[{}님의 나이는 {}살입니다]'.format(name, age))"
   ]
  },
  {
   "cell_type": "code",
   "execution_count": 6,
   "id": "0e5e902c",
   "metadata": {},
   "outputs": [
    {
     "name": "stdout",
     "output_type": "stream",
     "text": [
      "첫번째 정수를 입력하시오: 87\n",
      "두번째 정수를 입력하시오: 26\n",
      "113 61 2262 3.3461538461538463 3 9\n",
      "합 : 113\n",
      "차 : 61\n",
      "곱 : 2262\n",
      "나눔 : 3.3461538461538463\n",
      "몫 : 3\n",
      "나머지 : 9\n"
     ]
    }
   ],
   "source": [
    "#2. 두 정수를 입력받아 두 수의 덧셈 , 뺄셈 , 곱셈 , 나눗셈 , 몫 , 나머지를 출력하세요\n",
    "first_int = int(input('첫번째 정수를 입력하시오: '))\n",
    "second_int = int(input('두번째 정수를 입력하시오: '))\n",
    "sum = first_int + second_int\n",
    "subtraction = first_int - second_int\n",
    "multiplication = first_int * second_int\n",
    "division = first_int / second_int\n",
    "quotidient = first_int // second_int\n",
    "remainder = first_int % second_int\n",
    "print(sum, subtraction, multiplication, division, quotidient, remainder)\n",
    "print('합 :', sum)\n",
    "print('차 :', subtraction)\n",
    "print('곱 :', multiplication)\n",
    "print('나눔 :', division)\n",
    "print('몫 :', quotidient)\n",
    "print('나머지 :', remainder)"
   ]
  },
  {
   "cell_type": "code",
   "execution_count": 20,
   "id": "3b6f9017",
   "metadata": {},
   "outputs": [
    {
     "name": "stdout",
     "output_type": "stream",
     "text": [
      "['Hello', 'World']\n",
      "World Hello\n"
     ]
    }
   ],
   "source": [
    "#3. 문자열의 분리하기와 합치기 기능을 이용하여 'Hello World'가 할당된 변수를 이용하여 'World Hello'로 출력하세요\n",
    "text = 'Hello World'\n",
    "print(text.split())\n",
    "splited_text = text.split()\n",
    "print(' '.join(splited_text[::-1]))"
   ]
  },
  {
   "cell_type": "code",
   "execution_count": 19,
   "id": "6d3b38f3",
   "metadata": {},
   "outputs": [
    {
     "name": "stdout",
     "output_type": "stream",
     "text": [
      "bcdefa\n"
     ]
    }
   ],
   "source": [
    "#4. x = 'abcdef'를 이용하여 'bcdefa' 로 출력하세요 (문자 슬라이싱이용)\n",
    "x = 'abcdef'\n",
    "print(x[1:]+x[0])"
   ]
  },
  {
   "cell_type": "code",
   "execution_count": 8,
   "id": "45ca640a",
   "metadata": {},
   "outputs": [
    {
     "name": "stdout",
     "output_type": "stream",
     "text": [
      "fedcba\n"
     ]
    }
   ],
   "source": [
    "#5. x = 'abcdef' 를 이용하여 'fedcba' 로 출력하세요\n",
    "x = 'abcdef'\n",
    "print(x[-1::-1])"
   ]
  },
  {
   "cell_type": "code",
   "execution_count": 25,
   "id": "869a34cf",
   "metadata": {},
   "outputs": [
    {
     "name": "stdout",
     "output_type": "stream",
     "text": [
      "오늘의 온도는 (섭씨)? 21\n",
      "오늘의 온도는 (화씨) : 69.80\n"
     ]
    }
   ],
   "source": [
    "#6. 오늘의 온도를 섭씨온도로 입력받아 화씨 온도로 변환하는 프로그램을 작성하세요. \n",
    "#화씨 온도는 소수점이 있을 경우만 두번째 자리까지 출력되고 소수점이하 값이 없는 경우 소수점을 출력하지 않도록 합니다. \n",
    "#다음은 섭씨와 화씨의 변환 공식입니다 . C 는 섭씨 ,F 는 화씨\n",
    "C = (F - 32) / 1.8\n",
    "F = (C * 1.8) + 32\n",
    "C = int(input('오늘의 온도는 (섭씨)? '))\n",
    "F = C * 1.8 + 32\n",
    "if F % 1 == 0:\n",
    "    print('오늘의 온도는 (화씨) :','{:.0f}'.format(F))\n",
    "else:    \n",
    "    print('오늘의 온도는 (화씨) :', '{:.2f}'.format(F))"
   ]
  },
  {
   "cell_type": "code",
   "execution_count": 24,
   "id": "f5cd6f02",
   "metadata": {},
   "outputs": [],
   "source": [
    "#7. 다음 중 변수 선언으로 잘못된 것을 모두 고르시오\n",
    "#① for\n",
    "#② 10th\n",
    "#③ Student.name\n",
    "#④ _1234\n",
    "#1(제어문), 2(숫자로 시작하면 안됨), 3(가운데의 점 제거 필요)"
   ]
  },
  {
   "cell_type": "code",
   "execution_count": 12,
   "id": "1790d65e",
   "metadata": {},
   "outputs": [
    {
     "name": "stdout",
     "output_type": "stream",
     "text": [
      "SeounSeoul\n",
      "Seou n Seoul\n"
     ]
    }
   ],
   "source": [
    "#8. \n",
    "text = 'Seoul A001 - programming with python'\n",
    "print(text[:4]+text[-1]+text.split()[0])\n",
    "print(text[:4], text[-1], text.split()[0])"
   ]
  },
  {
   "cell_type": "code",
   "execution_count": 13,
   "id": "e6f8fcae",
   "metadata": {},
   "outputs": [],
   "source": [
    "#9. 답 == 2번 (8/2 의 결과는 파이썬에서 실수 4.0)"
   ]
  },
  {
   "cell_type": "code",
   "execution_count": 14,
   "id": "62251bda",
   "metadata": {},
   "outputs": [],
   "source": [
    "#10. 답 == 에러 발생 (숫자와 문자의 연산은 불가능)"
   ]
  },
  {
   "cell_type": "code",
   "execution_count": 3,
   "id": "1173bd37",
   "metadata": {},
   "outputs": [
    {
     "name": "stdout",
     "output_type": "stream",
     "text": [
      "['우리', '나라', '대한', '민국']\n",
      "나라\n"
     ]
    }
   ],
   "source": [
    "# 11. split() 함수를 이용하여 str_ 의 값 중 '나라' 를 출력하는 프로그램을 완성하시오\n",
    "str_ = '우리 나라 대한 민국'\n",
    "print(str_.split())\n",
    "str_list = str_.split()\n",
    "print(str_list[1])"
   ]
  }
 ],
 "metadata": {
  "kernelspec": {
   "display_name": "Python 3 (ipykernel)",
   "language": "python",
   "name": "python3"
  },
  "language_info": {
   "codemirror_mode": {
    "name": "ipython",
    "version": 3
   },
   "file_extension": ".py",
   "mimetype": "text/x-python",
   "name": "python",
   "nbconvert_exporter": "python",
   "pygments_lexer": "ipython3",
   "version": "3.10.9"
  },
  "toc": {
   "base_numbering": 1,
   "nav_menu": {},
   "number_sections": false,
   "sideBar": true,
   "skip_h1_title": false,
   "title_cell": "Table of Contents",
   "title_sidebar": "Contents",
   "toc_cell": false,
   "toc_position": {
    "height": "calc(100% - 180px)",
    "left": "10px",
    "top": "150px",
    "width": "199px"
   },
   "toc_section_display": true,
   "toc_window_display": true
  }
 },
 "nbformat": 4,
 "nbformat_minor": 5
}

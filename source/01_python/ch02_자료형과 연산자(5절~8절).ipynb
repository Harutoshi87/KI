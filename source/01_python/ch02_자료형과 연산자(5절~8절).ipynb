{
 "cells": [
  {
   "cell_type": "code",
   "execution_count": 1,
   "id": "fc8fd694",
   "metadata": {},
   "outputs": [
    {
     "data": {
      "text/html": [
       "\n",
       "<style>\n",
       "div.container{width:90% !important;}\n",
       "div.cell.code_cell.rendered{width:100%;}\n",
       "div.input_prompt{padding:0px;}\n",
       "div.CodeMirror {font-family:Consolas; font-size:12pt;}\n",
       "div.text_cell_render.rendered_html{font-size:12pt;}\n",
       "div.output {font-size:12pt; font-weight:bold;}\n",
       "div.input {font-family:Consolas; font-size:12pt;}\n",
       "div.prompt {min-width:70px;}\n",
       "div#toc-wrapper{padding-top:120px;}\n",
       "div.text_cell_render ul li{font-size:12pt;padding:5px;}\n",
       "table.dataframe{font-size:12px;}\n",
       "</style>\n"
      ],
      "text/plain": [
       "<IPython.core.display.HTML object>"
      ]
     },
     "metadata": {},
     "output_type": "display_data"
    }
   ],
   "source": [
    "from IPython.display import display, HTML\n",
    "display(HTML(\"\"\"\n",
    "<style>\n",
    "div.container{width:90% !important;}\n",
    "div.cell.code_cell.rendered{width:100%;}\n",
    "div.input_prompt{padding:0px;}\n",
    "div.CodeMirror {font-family:Consolas; font-size:12pt;}\n",
    "div.text_cell_render.rendered_html{font-size:12pt;}\n",
    "div.output {font-size:12pt; font-weight:bold;}\n",
    "div.input {font-family:Consolas; font-size:12pt;}\n",
    "div.prompt {min-width:70px;}\n",
    "div#toc-wrapper{padding-top:120px;}\n",
    "div.text_cell_render ul li{font-size:12pt;padding:5px;}\n",
    "table.dataframe{font-size:12px;}\n",
    "</style>\n",
    "\"\"\"))"
   ]
  },
  {
   "cell_type": "markdown",
   "id": "bf4a4e2c",
   "metadata": {},
   "source": [
    "<b><font size=\"6\" color=\"red\">ch02. 자료형과 연산자<font></b>\n",
    "# 5. 연산자\n",
    "## 5.1.산술 연산자 : +, -, *, /(나누기의 결과는 늘 float), //(몫 연산자), %(나머지), **(제곱)"
   ]
  },
  {
   "cell_type": "code",
   "execution_count": 6,
   "id": "7f5af906",
   "metadata": {},
   "outputs": [
    {
     "name": "stdout",
     "output_type": "stream",
     "text": [
      "10*5승 = 100000\n",
      "5/2(결과는 무조건 실수) = 2.5\n",
      "5//2(몫) = 2\n",
      "5%2(나머지) = 1\n"
     ]
    }
   ],
   "source": [
    "print('10*5승 =', 10**5)\n",
    "print('5/2(결과는 무조건 실수) =', 5/2)\n",
    "print('5//2(몫) =', 5//2)\n",
    "print('5%2(나머지) =', 5%2)"
   ]
  },
  {
   "cell_type": "code",
   "execution_count": 7,
   "id": "22f1a2db",
   "metadata": {},
   "outputs": [
    {
     "name": "stdout",
     "output_type": "stream",
     "text": [
      "4**2 = 16\n",
      "4.0**2 = 16.0\n"
     ]
    }
   ],
   "source": [
    "# 정수끼리의 연산은 결과가 정수 (단 / 제외)\n",
    "# 정수와 실수 또는 실수끼리의 연산 결과는 실수\n",
    "print('4**2 =', 4**2)\n",
    "print('4.0**2 =', 4.0**2)"
   ]
  },
  {
   "cell_type": "code",
   "execution_count": 10,
   "id": "7fa6c5c7",
   "metadata": {},
   "outputs": [
    {
     "name": "stdout",
     "output_type": "stream",
     "text": [
      "정수를 입력하시오:8\n",
      "입력하신 수는 8, 2로 나눈 나머지는 0, 그러므로 짝수를 입력하였습니다\n"
     ]
    }
   ],
   "source": [
    "# quiz 1. 정수를 입력받아 짝수인지 홀수인지 여부를 출력 \n",
    "num = int(input('정수를 입력하시오:'))\n",
    "result = num % 2 # -1, 0, 1; 0이면 짝수\n",
    "if result: #True\n",
    "    temp = '홀수' # 임시 변수\n",
    "else:\n",
    "    temp = '짝수'\n",
    "print('입력하신 수는 {}, 2로 나눈 나머지는 {}, 그러므로 {}를 입력하였습니다'.format(num, result, temp))"
   ]
  },
  {
   "cell_type": "code",
   "execution_count": 2,
   "id": "c28100e3",
   "metadata": {},
   "outputs": [
    {
     "name": "stdout",
     "output_type": "stream",
     "text": [
      "정수를 입력하시오:9\n",
      "입력하신 수는 9, 5로 나눈 나머지는 4, 그러므로 5의 배수가 아닙니다\n"
     ]
    }
   ],
   "source": [
    "# quiz 2. 정수를 입력받아 5의 배수인지 여부를 출력\n",
    "num = int(input('정수를 입력하시오:'))\n",
    "result = num % 5\n",
    "if result:\n",
    "    temp = '5의 배수가 아닙니다'\n",
    "else:\n",
    "    temp = '5의 배수입니다'\n",
    "print('입력하신 수는 {}, 5로 나눈 나머지는 {}, 그러므로 {}'.format(num, result, temp))"
   ]
  },
  {
   "cell_type": "code",
   "execution_count": 1,
   "id": "68ea2ae7",
   "metadata": {},
   "outputs": [
    {
     "name": "stdout",
     "output_type": "stream",
     "text": [
      "국어:99\n",
      "영어:100\n",
      "수학:99\n",
      "국어:  99\t영어: 100\t수학:  99\n",
      "총점: 298\t평균: 99.3\n"
     ]
    }
   ],
   "source": [
    "# quiz 3. 국 , 영 , 수 점수를 입력받아 다음셀에서 다음과 같이 출력하도록 구현하시오\n",
    "kor = int(input('국어:'))\n",
    "eng = int(input('영어:'))\n",
    "mat = int(input('수학:'))\n",
    "sum = kor + eng + mat\n",
    "avg = sum / 3\n",
    "print('국어: {:3d}\\t영어: {:3d}\\t수학: {:3d}'.format(kor, eng, mat))\n",
    "print('총점: {:3d}\\t평균:{:5.1f}'.format(sum, avg))"
   ]
  },
  {
   "cell_type": "markdown",
   "id": "fe22f19b",
   "metadata": {},
   "source": [
    "## 5.2.할당 연산자 : =, +=, -=, /=, *=, //=, %="
   ]
  },
  {
   "cell_type": "code",
   "execution_count": 3,
   "id": "3075f364",
   "metadata": {},
   "outputs": [
    {
     "name": "stdout",
     "output_type": "stream",
     "text": [
      "a = 15\n"
     ]
    }
   ],
   "source": [
    "a = 10\n",
    "a += 5 # a = a+5 와 동일\n",
    "print(f\"a = {a}\")"
   ]
  },
  {
   "cell_type": "code",
   "execution_count": 4,
   "id": "0f83fb43",
   "metadata": {},
   "outputs": [
    {
     "name": "stdout",
     "output_type": "stream",
     "text": [
      "5빼기 : 10\n",
      "10배 : 100\n",
      "5나눈 몫 : 20\n"
     ]
    }
   ],
   "source": [
    "a -= 5 # a = a-5\n",
    "print('5빼기 :', a) # 10\n",
    "a *= 10 # a = a*10\n",
    "print('10배 :', a) # 100\n",
    "a //= 5 # a = a//5\n",
    "print('5나눈 몫 :', a)"
   ]
  },
  {
   "cell_type": "markdown",
   "id": "8ec45546",
   "metadata": {},
   "source": [
    "## 5.3.논리 연산자 : &, and, |, or, not"
   ]
  },
  {
   "cell_type": "code",
   "execution_count": 10,
   "id": "933ba618",
   "metadata": {},
   "outputs": [
    {
     "name": "stdout",
     "output_type": "stream",
     "text": [
      "True\n",
      "0\n",
      "1100\n"
     ]
    }
   ],
   "source": [
    "# & : 논리 연산자, 비트 연산자\n",
    "print((10>3) & (10>5)) # 논리 연산 True & True\n",
    "print(12 & 1) # 비트 연산 1 1 0 0 (12) \n",
    "                       # 0 0 0 1 (1)\n",
    "                    # &: 0 0 0 0   \n",
    "print('{:4b}'.format(12))"
   ]
  },
  {
   "cell_type": "code",
   "execution_count": 9,
   "id": "7dc16a73",
   "metadata": {},
   "outputs": [
    {
     "name": "stdout",
     "output_type": "stream",
     "text": [
      "True\n",
      "0\n"
     ]
    }
   ],
   "source": [
    "# and : 논리 연산자 (False로 판별되는 첫번째 항의 결과 반환)\n",
    "        # 모든 항이 True면 마지막 항의 결과를 반환한다\n",
    "print((10>3) and (10>5))\n",
    "print(0 and 1)"
   ]
  },
  {
   "cell_type": "code",
   "execution_count": 13,
   "id": "d1a53ce9",
   "metadata": {},
   "outputs": [
    {
     "name": "stdout",
     "output_type": "stream",
     "text": [
      "논리 연산(연산자 앞뒤가 논리형일 때) : True\n",
      "비트 연산(연산자 앞이나 뒤가 숫자일 때) : 3\n"
     ]
    }
   ],
   "source": [
    "# | : 논리 연산자, 비트 연산자 (문자 입력하면 에러 남)\n",
    "result = True | False\n",
    "print('논리 연산(연산자 앞뒤가 논리형일 때) :', result)\n",
    "result = False | 3 # 무조건 비트 연산: 0000 (0) \n",
    "                                   # 0011 (3)\n",
    "print('비트 연산(연산자 앞이나 뒤가 숫자일 때) :', result)"
   ]
  },
  {
   "cell_type": "code",
   "execution_count": 17,
   "id": "e000421a",
   "metadata": {},
   "outputs": [
    {
     "name": "stdout",
     "output_type": "stream",
     "text": [
      "[]\n",
      "Hong\n"
     ]
    }
   ],
   "source": [
    "# or : 논리 연산자 (True로 판별되는 첫번째 항의 결과 반환)\n",
    "                    # 모든 항이 거짓이면 마지막 항의 결과를 반환한다\n",
    "print(False or 0 or '' or None or [])\n",
    "print(False or 0 or 'Hong' or None or [])"
   ]
  },
  {
   "cell_type": "code",
   "execution_count": 18,
   "id": "9bb07c29",
   "metadata": {},
   "outputs": [
    {
     "data": {
      "text/plain": [
       "False"
      ]
     },
     "execution_count": 18,
     "metadata": {},
     "output_type": "execute_result"
    }
   ],
   "source": [
    "not 10>5"
   ]
  },
  {
   "cell_type": "markdown",
   "id": "ea056a6b",
   "metadata": {},
   "source": [
    "## 5.4.비교 연산자 : >, >=, <, <=, ==, !=(다르다)"
   ]
  },
  {
   "cell_type": "code",
   "execution_count": 22,
   "id": "dfcf2af6",
   "metadata": {},
   "outputs": [
    {
     "name": "stdout",
     "output_type": "stream",
     "text": [
      "True\n",
      "True\n",
      "True\n"
     ]
    }
   ],
   "source": [
    "# 비교 연산자는 이항, 삼항, 사항,... 다항 연산자\n",
    "x = 95\n",
    "print((90<=x) & (x<=100))\n",
    "print(90 <= x <= 100)\n",
    "print(90 <= x <= 100 > 10)"
   ]
  },
  {
   "cell_type": "code",
   "execution_count": 25,
   "id": "09f1ace6",
   "metadata": {},
   "outputs": [
    {
     "name": "stdout",
     "output_type": "stream",
     "text": [
      "True\n",
      "False\n",
      "False\n"
     ]
    }
   ],
   "source": [
    "# 비교 연산자의 우선 순위가 비트 연산자(|, &)의 우선 순위보다 낮다\n",
    "print((10>5) & (10>7))\n",
    "print(10>5 & 10>7) # 괄호가 없으면 우선 순위가 높은 5 & 10 부터 실행됨 \n",
    "# 0101(5) & 1010(10) == 0\n",
    "print(10> 0 >7)"
   ]
  },
  {
   "cell_type": "code",
   "execution_count": 27,
   "id": "b63d8614",
   "metadata": {},
   "outputs": [
    {
     "name": "stdout",
     "output_type": "stream",
     "text": [
      "True\n",
      "True\n"
     ]
    }
   ],
   "source": [
    "address = '목동'\n",
    "age = 29\n",
    "print((address=='목동') & (age<=30))\n",
    "print(address=='목동' and age<=30) # 논리 연산자인 and 가 비교 연산자보다 우선 순위가 낮다"
   ]
  },
  {
   "cell_type": "code",
   "execution_count": 29,
   "id": "1993e0ea",
   "metadata": {},
   "outputs": [
    {
     "data": {
      "text/plain": [
       "True"
      ]
     },
     "execution_count": 29,
     "metadata": {},
     "output_type": "execute_result"
    }
   ],
   "source": [
    "# 문자는 ASCII 코드 순으로 비교 : 특수문자 < 숫자문자 < 대문자 < 소문자(abc순)\n",
    "'scott' < 'tiger'"
   ]
  },
  {
   "cell_type": "code",
   "execution_count": 28,
   "id": "3eed256c",
   "metadata": {},
   "outputs": [
    {
     "data": {
      "text/plain": [
       "True"
      ]
     },
     "execution_count": 28,
     "metadata": {},
     "output_type": "execute_result"
    }
   ],
   "source": [
    "'김길동' < '홍길동'"
   ]
  },
  {
   "cell_type": "markdown",
   "id": "43b6c1e9",
   "metadata": {},
   "source": [
    "## 5.5.비트 연산 : &, |, ^(XOR), ~(반대)"
   ]
  },
  {
   "cell_type": "code",
   "execution_count": null,
   "id": "ed68ec10",
   "metadata": {},
   "outputs": [],
   "source": []
  },
  {
   "cell_type": "code",
   "execution_count": null,
   "id": "ef3c2df5",
   "metadata": {},
   "outputs": [],
   "source": []
  },
  {
   "cell_type": "code",
   "execution_count": null,
   "id": "518b9ab1",
   "metadata": {},
   "outputs": [],
   "source": []
  },
  {
   "cell_type": "code",
   "execution_count": null,
   "id": "b2186163",
   "metadata": {},
   "outputs": [],
   "source": []
  },
  {
   "cell_type": "code",
   "execution_count": null,
   "id": "b5b612e9",
   "metadata": {},
   "outputs": [],
   "source": []
  },
  {
   "cell_type": "code",
   "execution_count": null,
   "id": "5bebb83c",
   "metadata": {},
   "outputs": [],
   "source": []
  }
 ],
 "metadata": {
  "kernelspec": {
   "display_name": "Python 3 (ipykernel)",
   "language": "python",
   "name": "python3"
  },
  "language_info": {
   "codemirror_mode": {
    "name": "ipython",
    "version": 3
   },
   "file_extension": ".py",
   "mimetype": "text/x-python",
   "name": "python",
   "nbconvert_exporter": "python",
   "pygments_lexer": "ipython3",
   "version": "3.10.9"
  },
  "toc": {
   "base_numbering": 1,
   "nav_menu": {},
   "number_sections": false,
   "sideBar": true,
   "skip_h1_title": false,
   "title_cell": "Table of Contents",
   "title_sidebar": "Contents",
   "toc_cell": false,
   "toc_position": {
    "height": "calc(100% - 180px)",
    "left": "10px",
    "top": "150px",
    "width": "290px"
   },
   "toc_section_display": true,
   "toc_window_display": true
  }
 },
 "nbformat": 4,
 "nbformat_minor": 5
}

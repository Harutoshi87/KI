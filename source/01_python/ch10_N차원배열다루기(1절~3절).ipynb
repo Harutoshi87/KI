{
 "cells": [
  {
   "cell_type": "code",
   "execution_count": 1,
   "id": "a6abbcbc",
   "metadata": {},
   "outputs": [
    {
     "data": {
      "text/html": [
       "\n",
       "<style>\n",
       "div.container{width:90% !important;}\n",
       "div.cell.code_cell.rendered{width:100%;}\n",
       "div.input_prompt{padding:0px;}\n",
       "div.CodeMirror {font-family:Consolas; font-size:12pt;}\n",
       "div.text_cell_render.rendered_html{font-size:12pt;}\n",
       "div.output {font-size:12pt; font-weight:bold;}\n",
       "div.input {font-family:Consolas; font-size:12pt;}\n",
       "div.prompt {min-width:70px;}\n",
       "div#toc-wrapper{padding-top:120px;}\n",
       "div.text_cell_render ul li{font-size:12pt;padding:5px;}\n",
       "table.dataframe{font-size:12px;}\n",
       "</style>\n"
      ],
      "text/plain": [
       "<IPython.core.display.HTML object>"
      ]
     },
     "metadata": {},
     "output_type": "display_data"
    }
   ],
   "source": [
    "from IPython.display import display, HTML\n",
    "display(HTML(\"\"\"\n",
    "<style>\n",
    "div.container{width:90% !important;}\n",
    "div.cell.code_cell.rendered{width:100%;}\n",
    "div.input_prompt{padding:0px;}\n",
    "div.CodeMirror {font-family:Consolas; font-size:12pt;}\n",
    "div.text_cell_render.rendered_html{font-size:12pt;}\n",
    "div.output {font-size:12pt; font-weight:bold;}\n",
    "div.input {font-family:Consolas; font-size:12pt;}\n",
    "div.prompt {min-width:70px;}\n",
    "div#toc-wrapper{padding-top:120px;}\n",
    "div.text_cell_render ul li{font-size:12pt;padding:5px;}\n",
    "table.dataframe{font-size:12px;}\n",
    "</style>\n",
    "\"\"\"))"
   ]
  },
  {
   "cell_type": "markdown",
   "id": "5a33db81",
   "metadata": {},
   "source": [
    "<b><font size=\"6\" color=\"red\">ch10. N차원 배열(Numpy 배열) 다루기(1절~3절)</font></b>\n",
    "- [numpy](http://www.numpy.org)\n",
    "- [numpy docs](https://numpy.org/doc/stable)\n",
    "- 2차원 배열은 행렬 개념으로 이해할 수 있음\n",
    "- numpy 패키지를 이용(c언어로 구현된 고성능 수치 계산 패키지)\n",
    "# 1. Numpy Package"
   ]
  },
  {
   "cell_type": "code",
   "execution_count": 2,
   "id": "e9d9ead0",
   "metadata": {},
   "outputs": [
    {
     "data": {
      "text/plain": [
       "'1.23.5'"
      ]
     },
     "execution_count": 2,
     "metadata": {},
     "output_type": "execute_result"
    }
   ],
   "source": [
    "import numpy as np\n",
    "np.__version__"
   ]
  },
  {
   "cell_type": "code",
   "execution_count": 4,
   "id": "580e0630",
   "metadata": {},
   "outputs": [
    {
     "data": {
      "text/plain": [
       "array([ 0,  1,  2,  3,  4,  5,  6,  7,  8,  9, 10, 11, 12, 13, 14])"
      ]
     },
     "execution_count": 4,
     "metadata": {},
     "output_type": "execute_result"
    }
   ],
   "source": [
    "# np.arange(from, stop, by) : from부터 stop 앞까지 by씩 증가하는 1차원 배열 생성\n",
    "a = np.arange(15) # 0부터 15 앞까지 1씩 증가하는 1차원 배열\n",
    "a"
   ]
  },
  {
   "cell_type": "markdown",
   "id": "50302bc1",
   "metadata": {},
   "source": [
    "## 1.1.배열 속성"
   ]
  },
  {
   "cell_type": "code",
   "execution_count": 6,
   "id": "8326ae2d",
   "metadata": {},
   "outputs": [
    {
     "data": {
      "text/plain": [
       "array([[ 0,  1,  2,  3,  4],\n",
       "       [ 5,  6,  7,  8,  9],\n",
       "       [10, 11, 12, 13, 14]])"
      ]
     },
     "execution_count": 6,
     "metadata": {},
     "output_type": "execute_result"
    }
   ],
   "source": [
    "from numpy import arange\n",
    "a = arange(15,\n",
    "          # dtype=np.int32 (default) : 32비트가 4바이트(d.h. 8비트가 1바이트)\n",
    "          ).reshape(3, 5) # 3행 5열짜리 2차원 배열로 변환\n",
    "a"
   ]
  },
  {
   "cell_type": "code",
   "execution_count": 7,
   "id": "435b38b7",
   "metadata": {},
   "outputs": [
    {
     "data": {
      "text/plain": [
       "numpy.ndarray"
      ]
     },
     "execution_count": 7,
     "metadata": {},
     "output_type": "execute_result"
    }
   ],
   "source": [
    "type(a) # a 변수의 타입"
   ]
  },
  {
   "cell_type": "code",
   "execution_count": 8,
   "id": "815ceea1",
   "metadata": {},
   "outputs": [
    {
     "data": {
      "text/plain": [
       "dtype('int32')"
      ]
     },
     "execution_count": 8,
     "metadata": {},
     "output_type": "execute_result"
    }
   ],
   "source": [
    "a.dtype # data type : a 배열의 요소들의 type"
   ]
  },
  {
   "cell_type": "code",
   "execution_count": 9,
   "id": "f780d32a",
   "metadata": {},
   "outputs": [
    {
     "data": {
      "text/plain": [
       "'int32'"
      ]
     },
     "execution_count": 9,
     "metadata": {},
     "output_type": "execute_result"
    }
   ],
   "source": [
    "a.dtype.name"
   ]
  },
  {
   "cell_type": "code",
   "execution_count": 10,
   "id": "abf5e0e0",
   "metadata": {},
   "outputs": [
    {
     "data": {
      "text/plain": [
       "4"
      ]
     },
     "execution_count": 10,
     "metadata": {},
     "output_type": "execute_result"
    }
   ],
   "source": [
    "a.itemsize # a 배열 안의 한 요소의 byte size"
   ]
  },
  {
   "cell_type": "code",
   "execution_count": 11,
   "id": "616d7d50",
   "metadata": {},
   "outputs": [
    {
     "data": {
      "text/plain": [
       "2"
      ]
     },
     "execution_count": 11,
     "metadata": {},
     "output_type": "execute_result"
    }
   ],
   "source": [
    "a.ndim # 축수(차원 수)"
   ]
  },
  {
   "cell_type": "code",
   "execution_count": 12,
   "id": "4af4ef94",
   "metadata": {},
   "outputs": [
    {
     "data": {
      "text/plain": [
       "15"
      ]
     },
     "execution_count": 12,
     "metadata": {},
     "output_type": "execute_result"
    }
   ],
   "source": [
    "a.size # 배열 요소의 개수"
   ]
  },
  {
   "cell_type": "code",
   "execution_count": 13,
   "id": "011407fc",
   "metadata": {},
   "outputs": [
    {
     "data": {
      "text/plain": [
       "(3, 5)"
      ]
     },
     "execution_count": 13,
     "metadata": {},
     "output_type": "execute_result"
    }
   ],
   "source": [
    "a.shape # 배열의 구조(3행 5열)"
   ]
  },
  {
   "cell_type": "code",
   "execution_count": 14,
   "id": "469a70c2",
   "metadata": {},
   "outputs": [
    {
     "name": "stdout",
     "output_type": "stream",
     "text": [
      "shape 조정 전 a\n",
      " [[ 0  1  2  3  4]\n",
      " [ 5  6  7  8  9]\n",
      " [10 11 12 13 14]]\n",
      "shape 조정 후 a\n",
      " [[ 0  1  2]\n",
      " [ 3  4  5]\n",
      " [ 6  7  8]\n",
      " [ 9 10 11]\n",
      " [12 13 14]]\n"
     ]
    }
   ],
   "source": [
    "print('shape 조정 전 a\\n', a)\n",
    "a.shape = (5, 3) # NICHT empfehlenswert!\n",
    "print('shape 조정 후 a\\n', a) # comma 없으면 배열"
   ]
  },
  {
   "cell_type": "markdown",
   "id": "cc815374",
   "metadata": {},
   "source": [
    " ## 1.2.배열 타입 변경\n"
   ]
  },
  {
   "cell_type": "code",
   "execution_count": 15,
   "id": "84a824fb",
   "metadata": {},
   "outputs": [
    {
     "data": {
      "text/plain": [
       "array([[ 0,  1,  2,  3],\n",
       "       [ 4,  5,  6,  7],\n",
       "       [ 8,  9, 10, 11]])"
      ]
     },
     "execution_count": 15,
     "metadata": {},
     "output_type": "execute_result"
    }
   ],
   "source": [
    "a = arange(12).reshape(3, 4)\n",
    "a"
   ]
  },
  {
   "cell_type": "code",
   "execution_count": 16,
   "id": "327141d6",
   "metadata": {},
   "outputs": [
    {
     "data": {
      "text/plain": [
       "12"
      ]
     },
     "execution_count": 16,
     "metadata": {},
     "output_type": "execute_result"
    }
   ],
   "source": [
    "a.size"
   ]
  },
  {
   "cell_type": "code",
   "execution_count": 17,
   "id": "003748d3",
   "metadata": {},
   "outputs": [
    {
     "data": {
      "text/plain": [
       "dtype('int32')"
      ]
     },
     "execution_count": 17,
     "metadata": {},
     "output_type": "execute_result"
    }
   ],
   "source": [
    "a.dtype"
   ]
  },
  {
   "cell_type": "code",
   "execution_count": 18,
   "id": "81946b61",
   "metadata": {},
   "outputs": [
    {
     "data": {
      "text/plain": [
       "4"
      ]
     },
     "execution_count": 18,
     "metadata": {},
     "output_type": "execute_result"
    }
   ],
   "source": [
    "a.itemsize"
   ]
  },
  {
   "cell_type": "code",
   "execution_count": 21,
   "id": "086db1a5",
   "metadata": {},
   "outputs": [
    {
     "data": {
      "text/plain": [
       "array([[ 0,  1,  2,  3],\n",
       "       [ 4,  5,  6,  7],\n",
       "       [ 8,  9, 10, 11]])"
      ]
     },
     "execution_count": 21,
     "metadata": {},
     "output_type": "execute_result"
    }
   ],
   "source": [
    "#  배열 요소의 타입을 수정\n",
    "a = arange(12).reshape(3, 4)\n",
    "a"
   ]
  },
  {
   "cell_type": "code",
   "execution_count": 23,
   "id": "7ae35d64",
   "metadata": {},
   "outputs": [
    {
     "data": {
      "text/plain": [
       "array([[ 0,  1,  2,  3],\n",
       "       [ 4,  5,  6,  7],\n",
       "       [ 8,  9, 10, 11]], dtype=int64)"
      ]
     },
     "execution_count": 23,
     "metadata": {},
     "output_type": "execute_result"
    }
   ],
   "source": [
    "a.astype('int64') # a.astype(np.int64) "
   ]
  },
  {
   "cell_type": "code",
   "execution_count": 24,
   "id": "14507942",
   "metadata": {},
   "outputs": [],
   "source": [
    "a = a.astype('int64') # 할당 필요!"
   ]
  },
  {
   "cell_type": "code",
   "execution_count": 25,
   "id": "83430abd",
   "metadata": {},
   "outputs": [
    {
     "data": {
      "text/plain": [
       "8"
      ]
     },
     "execution_count": 25,
     "metadata": {},
     "output_type": "execute_result"
    }
   ],
   "source": [
    "a.itemsize"
   ]
  },
  {
   "cell_type": "code",
   "execution_count": 26,
   "id": "82a6f736",
   "metadata": {},
   "outputs": [
    {
     "data": {
      "text/plain": [
       "12"
      ]
     },
     "execution_count": 26,
     "metadata": {},
     "output_type": "execute_result"
    }
   ],
   "source": [
    "a.size"
   ]
  },
  {
   "cell_type": "code",
   "execution_count": 27,
   "id": "4424920a",
   "metadata": {},
   "outputs": [
    {
     "data": {
      "text/plain": [
       "array([[ 0,  1,  2,  3],\n",
       "       [ 4,  5,  6,  7],\n",
       "       [ 8,  9, 10, 11]], dtype=int64)"
      ]
     },
     "execution_count": 27,
     "metadata": {},
     "output_type": "execute_result"
    }
   ],
   "source": [
    "a"
   ]
  },
  {
   "cell_type": "code",
   "execution_count": 28,
   "id": "08ce18bb",
   "metadata": {},
   "outputs": [
    {
     "data": {
      "text/plain": [
       "array([ 0,  1,  2,  3,  4,  5,  6,  7,  8,  9, 10, 11], dtype=int64)"
      ]
     },
     "execution_count": 28,
     "metadata": {},
     "output_type": "execute_result"
    }
   ],
   "source": [
    "a.ravel() # flatten된 배열을 return 배열 자체는 수정 안 함"
   ]
  },
  {
   "cell_type": "code",
   "execution_count": 29,
   "id": "b0511a99",
   "metadata": {},
   "outputs": [
    {
     "data": {
      "text/plain": [
       "array([ 0,  1,  2,  3,  4,  5,  6,  7,  8,  9, 10, 11], dtype=int64)"
      ]
     },
     "execution_count": 29,
     "metadata": {},
     "output_type": "execute_result"
    }
   ],
   "source": [
    "a.flatten() # 함수의 결과를 return하고 배열 자체는 수정 안 함"
   ]
  },
  {
   "cell_type": "markdown",
   "id": "00d5eae8",
   "metadata": {},
   "source": [
    "## 1.3.배열 저장\n",
    "- pkl(객체, 배열, ML모델 저장), npy(Numpy 전용 포맷, io속도 개선) "
   ]
  },
  {
   "cell_type": "code",
   "execution_count": 30,
   "id": "b193b4ce",
   "metadata": {},
   "outputs": [
    {
     "data": {
      "text/plain": [
       "array([[ 0,  1,  2,  3],\n",
       "       [ 4,  5,  6,  7],\n",
       "       [ 8,  9, 10, 11]], dtype=int64)"
      ]
     },
     "execution_count": 30,
     "metadata": {},
     "output_type": "execute_result"
    }
   ],
   "source": [
    "a"
   ]
  },
  {
   "cell_type": "code",
   "execution_count": 33,
   "id": "4888e19e",
   "metadata": {},
   "outputs": [
    {
     "name": "stdout",
     "output_type": "stream",
     "text": [
      "CPU times: total: 0 ns\n",
      "Wall time: 0 ns\n"
     ]
    }
   ],
   "source": [
    "# 실행에 소요된 시간을 물어보는 매직 명령어 (셀 가장 위에 놓아야 하고 그 행에는 주석도 달 수 없음)\n",
    "%%time\n",
    "import pickle\n",
    "with open('data/ch10.pkl', 'wb') as f:\n",
    "    pickle.dump(a, f)"
   ]
  },
  {
   "cell_type": "code",
   "execution_count": 34,
   "id": "0a452391",
   "metadata": {},
   "outputs": [
    {
     "name": "stdout",
     "output_type": "stream",
     "text": [
      "CPU times: total: 0 ns\n",
      "Wall time: 1 ms\n"
     ]
    },
    {
     "data": {
      "text/plain": [
       "array([[ 0,  1,  2,  3],\n",
       "       [ 4,  5,  6,  7],\n",
       "       [ 8,  9, 10, 11]], dtype=int64)"
      ]
     },
     "execution_count": 34,
     "metadata": {},
     "output_type": "execute_result"
    }
   ],
   "source": [
    "%%time\n",
    "with open('data/ch10.pkl', 'rb') as f:\n",
    "    loaded_a = pickle.load(f)\n",
    "loaded_a"
   ]
  },
  {
   "cell_type": "code",
   "execution_count": 36,
   "id": "8b8301cc",
   "metadata": {},
   "outputs": [
    {
     "name": "stdout",
     "output_type": "stream",
     "text": [
      "CPU times: total: 0 ns\n",
      "Wall time: 1.26 ms\n"
     ]
    }
   ],
   "source": [
    "%%time\n",
    "np.save('data/ch10.npy', a) # npy 파일은 무조건 save함수를 사용해서 저장!"
   ]
  },
  {
   "cell_type": "code",
   "execution_count": 37,
   "id": "916cb542",
   "metadata": {},
   "outputs": [
    {
     "name": "stdout",
     "output_type": "stream",
     "text": [
      "CPU times: total: 0 ns\n",
      "Wall time: 13 ms\n"
     ]
    }
   ],
   "source": [
    "%%time\n",
    "loaded_a2 = np.load('data/ch10.npy')"
   ]
  },
  {
   "cell_type": "markdown",
   "id": "74899176",
   "metadata": {},
   "source": [
    "# 2. Numpy 배열\n",
    "- array()함수를 사용하여 다른 파이썬 구조(list, tuple)를 배열로 변환\n",
    "- 기타 함수들 : arange (<< array range), ones, zeros, full, empty, linspace, ...\n",
    "- 랜덤 값을 갖는 함수들 : np.random.~\n",
    "## 2.1.array()함수로 Numpy 배열 만들기\n",
    "    - array(obj, [dtype='int16'/np.int16], copy=T/F)"
   ]
  },
  {
   "cell_type": "code",
   "execution_count": 39,
   "id": "faecfcc7",
   "metadata": {},
   "outputs": [
    {
     "data": {
      "text/plain": [
       "array([2, 4, 6], dtype=int16)"
      ]
     },
     "execution_count": 39,
     "metadata": {},
     "output_type": "execute_result"
    }
   ],
   "source": [
    "a = np.array([2, 4, 6], dtype=np.int16) # 정수의 default type은 int32\n",
    "a"
   ]
  },
  {
   "cell_type": "code",
   "execution_count": 40,
   "id": "a76dd7ce",
   "metadata": {},
   "outputs": [
    {
     "data": {
      "text/plain": [
       "(2, 4, 6)"
      ]
     },
     "execution_count": 40,
     "metadata": {},
     "output_type": "execute_result"
    }
   ],
   "source": [
    "a[0], a[1], a[2]"
   ]
  },
  {
   "cell_type": "code",
   "execution_count": 41,
   "id": "9d8ffa9f",
   "metadata": {},
   "outputs": [
    {
     "name": "stdout",
     "output_type": "stream",
     "text": [
      "2\t4\t6\t"
     ]
    }
   ],
   "source": [
    "for i in a:\n",
    "    print(i, end='\\t')"
   ]
  },
  {
   "cell_type": "code",
   "execution_count": 44,
   "id": "758c7ee1",
   "metadata": {},
   "outputs": [
    {
     "data": {
      "text/plain": [
       "array([[1.5, 2.3],\n",
       "       [4. , 5. ]])"
      ]
     },
     "execution_count": 44,
     "metadata": {},
     "output_type": "execute_result"
    }
   ],
   "source": [
    "b = np.array([[1.5, 2.3],\n",
    "              [4, 5]]) # 배열은 동일 자료형의 집합 : 정수->실수->문자\n",
    "b"
   ]
  },
  {
   "cell_type": "code",
   "execution_count": 45,
   "id": "a8f82404",
   "metadata": {},
   "outputs": [
    {
     "data": {
      "text/plain": [
       "(2.3, 2.3)"
      ]
     },
     "execution_count": 45,
     "metadata": {},
     "output_type": "execute_result"
    }
   ],
   "source": [
    "b[0][1], b[0,1] #2차원 인덱싱 [axis0행, axis1열]"
   ]
  },
  {
   "cell_type": "code",
   "execution_count": 47,
   "id": "062b8d74",
   "metadata": {},
   "outputs": [
    {
     "name": "stdout",
     "output_type": "stream",
     "text": [
      "float64\n",
      "8\n"
     ]
    }
   ],
   "source": [
    "print(b.dtype) # 정수 기본 타입은 int32, 실수 기본 타입은 float64\n",
    "print(b.itemsize)"
   ]
  },
  {
   "cell_type": "code",
   "execution_count": 49,
   "id": "f1ef1db5",
   "metadata": {},
   "outputs": [
    {
     "data": {
      "text/plain": [
       "array([[1.5, 2.3],\n",
       "       [4. , 5. ]], dtype=float32)"
      ]
     },
     "execution_count": 49,
     "metadata": {},
     "output_type": "execute_result"
    }
   ],
   "source": [
    "b = b.astype(np.float32) # 함수의 결과를 return하면 b는 그대로\n",
    "b"
   ]
  },
  {
   "cell_type": "code",
   "execution_count": 50,
   "id": "fa9a733f",
   "metadata": {},
   "outputs": [
    {
     "name": "stdout",
     "output_type": "stream",
     "text": [
      "float32\n",
      "4\n"
     ]
    }
   ],
   "source": [
    "print(b.dtype) # 정수 기본 타입은 int32, 실수 기본 타입은 float64\n",
    "print(b.itemsize)"
   ]
  },
  {
   "cell_type": "code",
   "execution_count": 52,
   "id": "5998be88",
   "metadata": {},
   "outputs": [
    {
     "name": "stdout",
     "output_type": "stream",
     "text": [
      "1.5\t2.3\t\n",
      "4.0\t5.0\t\n"
     ]
    }
   ],
   "source": [
    "for row in b:\n",
    "    for item in row:\n",
    "        print(item, end='\\t')\n",
    "    print() # 개행"
   ]
  },
  {
   "cell_type": "code",
   "execution_count": 53,
   "id": "581379e1",
   "metadata": {},
   "outputs": [
    {
     "name": "stdout",
     "output_type": "stream",
     "text": [
      "0행0열 : 1.5(1.5)\t0행1열 : 2.3(2.3)\t\n",
      "1행0열 : 4.0(4.0)\t1행1열 : 5.0(5.0)\t\n"
     ]
    }
   ],
   "source": [
    "for i, row in enumerate(b):\n",
    "    for j, item in enumerate(row):\n",
    "        print('{}행{}열 : {:.1f}({:.1f})'.format(i, j, item, b[i, j]), end='\\t')\n",
    "    print() # i → 행 번호 (0행, 1행, 2행 …)\n",
    "            # row → 그 행에 들어있는 값들의 배열\n",
    "            # j → 열 번호\n",
    "            # item → 그 위치의 값"
   ]
  },
  {
   "cell_type": "code",
   "execution_count": 55,
   "id": "fb7c8c80",
   "metadata": {},
   "outputs": [
    {
     "data": {
      "text/plain": [
       "array([[ 1,  2,  3,  4,  5],\n",
       "       [ 6,  7,  8,  9, 10],\n",
       "       [11, 12, 13, 14, 15]], dtype=int16)"
      ]
     },
     "execution_count": 55,
     "metadata": {},
     "output_type": "execute_result"
    }
   ],
   "source": [
    "# 행렬의 인덱싱, 슬라이싱\n",
    "b = np.array([[1,2,3,4,5], [6,7,8,9,10], [11,12,13,14,15]], dtype=np.int16)\n",
    "b"
   ]
  },
  {
   "cell_type": "code",
   "execution_count": 56,
   "id": "feae0421",
   "metadata": {},
   "outputs": [
    {
     "data": {
      "text/plain": [
       "2"
      ]
     },
     "execution_count": 56,
     "metadata": {},
     "output_type": "execute_result"
    }
   ],
   "source": [
    "b[0,1] # 인덱싱 시 없는 인덱싱 시 에러 발생"
   ]
  },
  {
   "cell_type": "code",
   "execution_count": 62,
   "id": "eb183d39",
   "metadata": {},
   "outputs": [
    {
     "name": "stdout",
     "output_type": "stream",
     "text": [
      "0~1행, 1~2열 :\n",
      " [[2 3]\n",
      " [7 8]]\n",
      "2행 모두(1차원) : [11 12 13 14 15] [11 12 13 14 15]\n",
      "2행 모두(2차원) : [[11 12 13 14 15]] [[11 12 13 14 15]]\n",
      "4열(마지막 열) 모두(1차원) : [ 5 10 15] [ 5 10 15] [ 5 10 15]\n",
      "4열(마지막 열) 모두(2차원) : [[ 5]\n",
      " [10]\n",
      " [15]] [[ 5]\n",
      " [10]\n",
      " [15]] [[ 5]\n",
      " [10]\n",
      " [15]] [[ 5]\n",
      " [10]\n",
      " [15]]\n",
      "2행 0~3열(2차원) : [[11 12 13 14]]\n",
      "마지막 열 제외 :\n",
      " [[ 1  2  3  4]\n",
      " [ 6  7  8  9]\n",
      " [11 12 13 14]]\n"
     ]
    }
   ],
   "source": [
    "print('0~1행, 1~2열 :\\n', b[0:2, 1:3]) # 2,3,7,9\n",
    "print('2행 모두(1차원) :', b[2, :], b[2]) # 11,12,13,14,15 (특정 행의 모든 열을 추출할 경우, 열 생략 가능)\n",
    "print('2행 모두(2차원) :', b[2:3, :], b[2:3]) # 11,12,13,14,15 (특정 행의 모든 열을 추출할 경우, 열 생략 가능)\n",
    "print('4열(마지막 열) 모두(1차원) :', b[:, 4], b[..., 4], b[:, -1]) # 5,10,15 (특정 열, 모든 행을 추출할 경우)\n",
    "print('4열(마지막 열) 모두(2차원) :', b[:, 4:], b[..., 4:], b[:, -1:], b[..., -1:]) # 5,10,15 (특정 열, 모든 행을 추출할 경우)\n",
    "print('2행 0~3열(2차원) :', b[2:3, 0:-1])\n",
    "print('마지막 열 제외 :\\n', b[:, :-1]) # 면, 행, 열의 3차원이면 면이 axis0, 행이 axis1, 열이 axis2"
   ]
  },
  {
   "cell_type": "code",
   "execution_count": 63,
   "id": "2b046268",
   "metadata": {},
   "outputs": [
    {
     "name": "stdout",
     "output_type": "stream",
     "text": [
      "a=10, 복제본10\n",
      "a=10, 복제본-1\n"
     ]
    }
   ],
   "source": [
    "# 스칼라 변수\n",
    "a = 10\n",
    "copy_a = a # 깊은 복사\n",
    "print(f\"a={a}, 복제본{copy_a}\")\n",
    "copy_a = -1\n",
    "print(f\"a={a}, 복제본{copy_a}\")"
   ]
  },
  {
   "cell_type": "code",
   "execution_count": 64,
   "id": "6a031365",
   "metadata": {},
   "outputs": [
    {
     "name": "stdout",
     "output_type": "stream",
     "text": [
      "a=[0, 1], 복제본[0, 1]\n",
      "a=[0, 1], 복제본[-1, 1]\n"
     ]
    }
   ],
   "source": [
    "# 데이터 구조\n",
    "a = [0, 1]\n",
    "copy_a = a.copy() # 깊은 복사\n",
    "print(f\"a={a}, 복제본{copy_a}\")\n",
    "copy_a[0] = -1\n",
    "print(f\"a={a}, 복제본{copy_a}\")"
   ]
  },
  {
   "cell_type": "code",
   "execution_count": 66,
   "id": "7f9985d0",
   "metadata": {},
   "outputs": [
    {
     "name": "stdout",
     "output_type": "stream",
     "text": [
      "c=\n",
      "[[1 2]\n",
      " [3 4]]\n",
      "d=\n",
      "[[1 2]\n",
      " [3 4]]\n",
      "1786899759920 1786899761552\n"
     ]
    }
   ],
   "source": [
    "# numpy 배열\n",
    "import numpy as np\n",
    "c = np.array([ [1,2], [3,4] ])\n",
    "# d = c # assign != copy=False\n",
    "# d = np.array(c, copy=True) # Numpy 배열에서의 깊은 복사\n",
    "d = c.copy() # Numpy 배열에서의 깊은 복사\n",
    "print('c=', c, sep='\\n')\n",
    "print('d=', d, sep='\\n')\n",
    "print(id(c), id(d))"
   ]
  },
  {
   "cell_type": "markdown",
   "id": "14d1251a",
   "metadata": {},
   "source": [
    "## 2.2.기본값이 있는 배열 만들기\n",
    "- np.zeros(tuple) : 요소들이 다 0\n",
    "- np.ones(tuple) : 요소들이 다 1\n",
    "- np.full(tuple, 기본값) : 요소들이 다 두번째 매개변수(==기본값)\n",
    "- np.empty(tuple) : 초기 내용은 임의 값인 배열(메모리 상태에 따라 초기값 달라짐)\n",
    "\n",
    "※ 위의 함수를 이용해서 생성된 배열은 기본 dtype이 float64 (dtype 속성 따로 지정 가능)"
   ]
  },
  {
   "cell_type": "code",
   "execution_count": 68,
   "id": "16d9f3ac",
   "metadata": {},
   "outputs": [
    {
     "data": {
      "text/plain": [
       "array([[0., 0., 0., 0., 0.],\n",
       "       [0., 0., 0., 0., 0.],\n",
       "       [0., 0., 0., 0., 0.]])"
      ]
     },
     "execution_count": 68,
     "metadata": {},
     "output_type": "execute_result"
    }
   ],
   "source": [
    "np.zeros((3, 5)) # np.zeros((3,)) #3열짜리 1차원 float64 배열(요소들은 다 0)"
   ]
  },
  {
   "cell_type": "code",
   "execution_count": 4,
   "id": "4393c3a7",
   "metadata": {},
   "outputs": [
    {
     "data": {
      "text/plain": [
       "array([0., 0., 0.])"
      ]
     },
     "execution_count": 4,
     "metadata": {},
     "output_type": "execute_result"
    }
   ],
   "source": [
    "import numpy as np\n",
    "y = np.zeros((3)) # 1차원 배열\n",
    "y"
   ]
  },
  {
   "cell_type": "code",
   "execution_count": 69,
   "id": "48b9cc79",
   "metadata": {},
   "outputs": [
    {
     "data": {
      "text/plain": [
       "array([0., 0., 0.])"
      ]
     },
     "execution_count": 69,
     "metadata": {},
     "output_type": "execute_result"
    }
   ],
   "source": [
    "x = np.zeros((3,)) # 2차원 배열\n",
    "x"
   ]
  },
  {
   "cell_type": "code",
   "execution_count": 72,
   "id": "d00876c3",
   "metadata": {},
   "outputs": [
    {
     "name": "stdout",
     "output_type": "stream",
     "text": [
      "[[0 0 0 0 0]\n",
      " [0 0 0 0 0]]\n",
      "int16\n",
      "2\n"
     ]
    }
   ],
   "source": [
    "x = np.zeros((2, 5), dtype = np.int16)\n",
    "print(x)\n",
    "print(x.dtype)\n",
    "print(x.itemsize)"
   ]
  },
  {
   "cell_type": "code",
   "execution_count": 74,
   "id": "418571d8",
   "metadata": {},
   "outputs": [
    {
     "data": {
      "text/plain": [
       "array([[1, 1, 1, 1, 1],\n",
       "       [1, 1, 1, 1, 1]], dtype=uint8)"
      ]
     },
     "execution_count": 74,
     "metadata": {},
     "output_type": "execute_result"
    }
   ],
   "source": [
    "np.ones((2, 5), dtype = np.uint8) # uint : 음수가 필요 없는 데이터(예: 이미지 픽셀 값 0~255)를 다룰 때 메모리를 아끼기 위해 사용. \n",
    "# uint8은 특히 이미지 처리(OpenCV, Pillow 등) 에서 매우 흔함."
   ]
  },
  {
   "cell_type": "code",
   "execution_count": 77,
   "id": "504a4ff7",
   "metadata": {},
   "outputs": [
    {
     "data": {
      "text/plain": [
       "array([[-1.2, -1.2, -1.2],\n",
       "       [-1.2, -1.2, -1.2]])"
      ]
     },
     "execution_count": 77,
     "metadata": {},
     "output_type": "execute_result"
    }
   ],
   "source": [
    "np.full((2,3), -1.2)"
   ]
  },
  {
   "cell_type": "code",
   "execution_count": 89,
   "id": "d888f1bb",
   "metadata": {},
   "outputs": [
    {
     "data": {
      "image/png": "[encoded data removed]",
      "text/plain": [
       "<Figure size 200x200 with 1 Axes>"
      ]
     },
     "metadata": {},
     "output_type": "display_data"
    }
   ],
   "source": [
    "import matplotlib.pyplot as plt\n",
    "plt.figure(figsize=(2,2)) # 시각화한 그래프 크기 figsize = (가로, 세로)\n",
    "img = np.full((28,28), 200, dtype=np.uint8) # unsigned integer\n",
    "plt.imshow(img, cmap='gray', vmin=0, vmax=255) # imshow: image show; cmap: colour map; vmin/vamx: value min/max\n",
    "plt.axis('off') #축 없애기\n",
    "plt.show()"
   ]
  },
  {
   "cell_type": "code",
   "execution_count": 91,
   "id": "8d8870f9",
   "metadata": {},
   "outputs": [
    {
     "data": {
      "text/plain": [
       "array([[  0.,   0.],\n",
       "       [  0., 200.],\n",
       "       [200.,   0.]])"
      ]
     },
     "execution_count": 91,
     "metadata": {},
     "output_type": "execute_result"
    }
   ],
   "source": [
    "np.empty((3, 2)) # 초기값이 메모리 상태에 따라 다름"
   ]
  },
  {
   "cell_type": "markdown",
   "id": "42dec9f6",
   "metadata": {},
   "source": [
    "## 2.3.랜덤값을 갖는 배열 만들기\n",
    "- np.random.random(tuple) : 0부터 1미만의 균등분포(같은 확률)를 갖는 n차원 랜덤값 배열 발생\n",
    "- np.random.uniform(low=0.0, high=1.0, size=tuple) : low부터 high미만의 n차원의 균등분포 랜덤값 배열 발생\n",
    "- np.random.normal(loc=0.0, scale=1.0, size=tuple) : 평균loc과 표준편차 scale을 갖는 n차원의 정규분포 랜덤값 배열 발생\n",
    "\n",
    "\n",
    "- np.random.rand(n) : 0부터 1미만의 균등분포를 갖는 1차원 랜덤값 배열 발생(난수 1개)\n",
    "- np.random.randn(n) : 평균0, 표준편차1의 표준정규분포를 갖는 1차원 랜덤값 배열 발생\n",
    " \n",
    "cf) np.random.randint([from], to) : from(기본값=0)부터 to 미만의 정수 난수 1개 발생==random.randint(from, to-1)"
   ]
  },
  {
   "cell_type": "code",
   "execution_count": 92,
   "id": "a956f6ae",
   "metadata": {},
   "outputs": [
    {
     "data": {
      "text/plain": [
       "array([[0.25000941, 0.5629254 , 0.9180612 ],\n",
       "       [0.27911145, 0.92804025, 0.08591715]])"
      ]
     },
     "execution_count": 92,
     "metadata": {},
     "output_type": "execute_result"
    }
   ],
   "source": [
    "np.random.random((2, 3))"
   ]
  },
  {
   "cell_type": "code",
   "execution_count": 105,
   "id": "a774c117",
   "metadata": {},
   "outputs": [
    {
     "data": {
      "image/png": "[encoded data removed]",
      "text/plain": [
       "<Figure size 1500x200 with 1 Axes>"
      ]
     },
     "metadata": {},
     "output_type": "display_data"
    }
   ],
   "source": [
    "x = np.random.rand(10000)\n",
    "plt.figure(figsize=(15,2)) # 그래프의 크기\n",
    "plt.hist(x, bins=50)\n",
    "plt.show()"
   ]
  },
  {
   "cell_type": "code",
   "execution_count": 104,
   "id": "de897bcc",
   "metadata": {},
   "outputs": [
    {
     "data": {
      "image/png": "[encoded data removed]",
      "text/plain": [
       "<Figure size 1500x200 with 1 Axes>"
      ]
     },
     "metadata": {},
     "output_type": "display_data"
    }
   ],
   "source": [
    "x = np.random.randn(10000) # 정규분포(표준정규분포는 평균 0, 표준편차가 1인 정규분포)\n",
    "plt.figure(figsize=(15,2)) # 그래프의 크기\n",
    "plt.hist(x, bins=50)\n",
    "plt.show()"
   ]
  },
  {
   "cell_type": "code",
   "execution_count": 106,
   "id": "01d989aa",
   "metadata": {},
   "outputs": [
    {
     "name": "stdout",
     "output_type": "stream",
     "text": [
      "[0.53800929 0.73994575 0.96875491]\n",
      "[-0.47055384  0.23882706  0.32091201]\n"
     ]
    }
   ],
   "source": [
    "# 1차원 난수 배열\n",
    "print(np.random.rand(3)) #균등분포\n",
    "print(np.random.randn(3)) #정규분포"
   ]
  },
  {
   "cell_type": "code",
   "execution_count": 107,
   "id": "08bb9bdb",
   "metadata": {},
   "outputs": [
    {
     "data": {
      "text/plain": [
       "array([[0.38806949, 0.97045887, 0.27570226, 0.38306247, 0.06209003],\n",
       "       [0.92711977, 0.46659958, 0.38053076, 0.11151242, 0.30647449]])"
      ]
     },
     "execution_count": 107,
     "metadata": {},
     "output_type": "execute_result"
    }
   ],
   "source": [
    "# 2차원 난수 배열\n",
    "np.random.random((2, 5)) # 2행 5열짜리 0~1미만 균등분포 난수 배열"
   ]
  },
  {
   "cell_type": "code",
   "execution_count": 108,
   "id": "9cdd28e4",
   "metadata": {},
   "outputs": [
    {
     "data": {
      "text/plain": [
       "array([[ 0.51955854, -1.50949349, -1.12568295,  1.92034515, -1.48316317],\n",
       "       [-0.64195942, -0.2612091 , -1.13099508, -0.82558208, -0.64004118]])"
      ]
     },
     "execution_count": 108,
     "metadata": {},
     "output_type": "execute_result"
    }
   ],
   "source": [
    "np.random.uniform(low=-2, high=2, size=(2, 5)) # 2행 5열짜리 -2~2미만의 균등분포 난수 배열"
   ]
  },
  {
   "cell_type": "code",
   "execution_count": 109,
   "id": "b2ef3c8c",
   "metadata": {},
   "outputs": [
    {
     "data": {
      "text/plain": [
       "array([[ 0.75715793, -1.01858752, -1.13470653,  0.97482394, -0.22288694],\n",
       "       [ 1.32271163,  0.09547938,  1.05797782,  0.49511889,  0.69650507]])"
      ]
     },
     "execution_count": 109,
     "metadata": {},
     "output_type": "execute_result"
    }
   ],
   "source": [
    "np.random.normal(size=(2, 5)) # 2행 5열짜리 정규분포(평균0, 표준편차1) 난수 배열"
   ]
  },
  {
   "cell_type": "code",
   "execution_count": 110,
   "id": "dd592e1d",
   "metadata": {},
   "outputs": [
    {
     "data": {
      "text/plain": [
       "array([[-2.14991517, -0.90375285, -1.91714843, -0.65648529, -0.43091083],\n",
       "       [-1.30590356,  0.45723171,  0.63742704, -1.31703045,  0.42144524]])"
      ]
     },
     "execution_count": 110,
     "metadata": {},
     "output_type": "execute_result"
    }
   ],
   "source": [
    "np.random.normal(loc=-1, scale=1, size=(2, 5)) # 2행 5열짜리 정규분포(평균-1, 표준편차1) 난수 배열"
   ]
  },
  {
   "cell_type": "markdown",
   "id": "9e39eb9f",
   "metadata": {},
   "source": [
    "## 2.4.연속된 값을 갖는 1차원 배열 만들기\n",
    "- np.arange(from, to, by, dtype) : from부터 to 앞까지 by씩 건너뛴 값을 1차원 배열로 생성\n",
    "- np.linspace(from, to, num) : from부터 to까지(to 포함) num개 숫자들을 1차원 배열로 생성"
   ]
  },
  {
   "cell_type": "code",
   "execution_count": 112,
   "id": "6856fc58",
   "metadata": {},
   "outputs": [
    {
     "data": {
      "text/plain": [
       "array([10., 15., 20., 25.])"
      ]
     },
     "execution_count": 112,
     "metadata": {},
     "output_type": "execute_result"
    }
   ],
   "source": [
    "np.arange(10, 30, 5, dtype=np.float64)"
   ]
  },
  {
   "cell_type": "code",
   "execution_count": 114,
   "id": "78b85064",
   "metadata": {},
   "outputs": [
    {
     "data": {
      "text/plain": [
       "array([0. , 0.3, 0.6, 0.9, 1.2, 1.5, 1.8])"
      ]
     },
     "execution_count": 114,
     "metadata": {},
     "output_type": "execute_result"
    }
   ],
   "source": [
    "np.arange(0, 2.0, 0.3)"
   ]
  },
  {
   "cell_type": "code",
   "execution_count": 116,
   "id": "927f76b4",
   "metadata": {},
   "outputs": [
    {
     "data": {
      "text/plain": [
       "array([0.  , 1.25, 2.5 , 3.75, 5.  ])"
      ]
     },
     "execution_count": 116,
     "metadata": {},
     "output_type": "execute_result"
    }
   ],
   "source": [
    "np.linspace(0, 5, 5) # linear space"
   ]
  },
  {
   "cell_type": "code",
   "execution_count": 127,
   "id": "52388385",
   "metadata": {},
   "outputs": [],
   "source": [
    "# linspace : 특정한 범위의 수들을 많이 생성할 때 사용\n",
    "from numpy import pi, linspace\n",
    "x = linspace(0, 2*pi, 1000)\n",
    "y = np.sin(x)"
   ]
  },
  {
   "cell_type": "code",
   "execution_count": 128,
   "id": "913a0751",
   "metadata": {},
   "outputs": [
    {
     "data": {
      "image/png": "[encoded data removed]",
      "text/plain": [
       "<Figure size 800x300 with 1 Axes>"
      ]
     },
     "metadata": {},
     "output_type": "display_data"
    }
   ],
   "source": [
    "plt.figure(figsize=(8, 3))\n",
    "plt.scatter(x, y) # scatter : 점 그래프\n",
    "plt.show()"
   ]
  },
  {
   "cell_type": "markdown",
   "id": "44cfc7c2",
   "metadata": {},
   "source": [
    "## 2.5.배열의 차원 변경\n",
    "- reshape(행수, 열수) : -1 가능\n",
    "- resize(행수, 열수) : -1 불가!\n",
    "- T : 전치행렬로 변환\n",
    "- transpose() : 전치행렬로 변환\n",
    "\n",
    "※ 실행결과가 출력되면 배열이 수정되지 않고 실행결과가 없으면 배열이 수정됨"
   ]
  },
  {
   "cell_type": "code",
   "execution_count": 129,
   "id": "bac7f93c",
   "metadata": {},
   "outputs": [
    {
     "data": {
      "text/plain": [
       "array([[0.54923628, 0.9945969 , 0.67473955],\n",
       "       [0.11819295, 0.655786  , 0.21748727]])"
      ]
     },
     "execution_count": 129,
     "metadata": {},
     "output_type": "execute_result"
    }
   ],
   "source": [
    "t = np.random.random((2, 3))\n",
    "t"
   ]
  },
  {
   "cell_type": "code",
   "execution_count": 130,
   "id": "09fa846a",
   "metadata": {},
   "outputs": [
    {
     "data": {
      "text/plain": [
       "array([[ 5., 10.,  7.],\n",
       "       [ 1.,  7.,  2.]])"
      ]
     },
     "execution_count": 130,
     "metadata": {},
     "output_type": "execute_result"
    }
   ],
   "source": [
    "a = np.round(t*10) # np.round() : 반올림\n",
    "a"
   ]
  },
  {
   "cell_type": "code",
   "execution_count": 132,
   "id": "158bed54",
   "metadata": {},
   "outputs": [],
   "source": [
    "a = a.astype(np.int16)"
   ]
  },
  {
   "cell_type": "code",
   "execution_count": 133,
   "id": "7a34448c",
   "metadata": {},
   "outputs": [
    {
     "data": {
      "text/plain": [
       "array([[ 5, 10,  7],\n",
       "       [ 1,  7,  2]], dtype=int16)"
      ]
     },
     "execution_count": 133,
     "metadata": {},
     "output_type": "execute_result"
    }
   ],
   "source": [
    "a"
   ]
  },
  {
   "cell_type": "code",
   "execution_count": 134,
   "id": "29030be2",
   "metadata": {},
   "outputs": [
    {
     "data": {
      "text/plain": [
       "array([[ 5, 10],\n",
       "       [ 7,  1],\n",
       "       [ 7,  2]], dtype=int16)"
      ]
     },
     "execution_count": 134,
     "metadata": {},
     "output_type": "execute_result"
    }
   ],
   "source": [
    "a.reshape(3, 2)"
   ]
  },
  {
   "cell_type": "code",
   "execution_count": 137,
   "id": "a5a432df",
   "metadata": {},
   "outputs": [],
   "source": [
    "a = a.reshape(-1, 1) # -1이 주어지면 해당 차원의 크기가 자동 계산됨"
   ]
  },
  {
   "cell_type": "code",
   "execution_count": 138,
   "id": "69175d38",
   "metadata": {},
   "outputs": [
    {
     "data": {
      "text/plain": [
       "array([[ 5],\n",
       "       [10],\n",
       "       [ 7],\n",
       "       [ 1],\n",
       "       [ 7],\n",
       "       [ 2]], dtype=int16)"
      ]
     },
     "execution_count": 138,
     "metadata": {},
     "output_type": "execute_result"
    }
   ],
   "source": [
    "a"
   ]
  },
  {
   "cell_type": "code",
   "execution_count": 139,
   "id": "3deb3d51",
   "metadata": {},
   "outputs": [
    {
     "data": {
      "text/plain": [
       "array([[ 5, 10],\n",
       "       [ 7,  1],\n",
       "       [ 7,  2]], dtype=int16)"
      ]
     },
     "execution_count": 139,
     "metadata": {},
     "output_type": "execute_result"
    }
   ],
   "source": [
    "a.reshape(3, -1)"
   ]
  },
  {
   "cell_type": "code",
   "execution_count": 140,
   "id": "079d47b0",
   "metadata": {},
   "outputs": [],
   "source": [
    "a.resize(2, 3) # 실행 결과가 출력되지 않으면 a가 바뀐 것. 매개변수는 튜플로 넣어도 무방하나 그렇게 별로 안 씀"
   ]
  },
  {
   "cell_type": "code",
   "execution_count": 141,
   "id": "6941cf72",
   "metadata": {},
   "outputs": [
    {
     "data": {
      "text/plain": [
       "array([[ 5, 10,  7],\n",
       "       [ 1,  7,  2]], dtype=int16)"
      ]
     },
     "execution_count": 141,
     "metadata": {},
     "output_type": "execute_result"
    }
   ],
   "source": [
    "a"
   ]
  },
  {
   "cell_type": "code",
   "execution_count": 142,
   "id": "df11caf0",
   "metadata": {},
   "outputs": [
    {
     "data": {
      "text/plain": [
       "array([[ 5,  1],\n",
       "       [10,  7],\n",
       "       [ 7,  2]], dtype=int16)"
      ]
     },
     "execution_count": 142,
     "metadata": {},
     "output_type": "execute_result"
    }
   ],
   "source": [
    "# 전치행렬(transponierte Matrix) : x행 y열 -> y행 x열)\n",
    "a.T # a의 전치행렬"
   ]
  },
  {
   "cell_type": "code",
   "execution_count": 143,
   "id": "b1fd1845",
   "metadata": {},
   "outputs": [
    {
     "data": {
      "text/plain": [
       "array([[ 5,  1],\n",
       "       [10,  7],\n",
       "       [ 7,  2]], dtype=int16)"
      ]
     },
     "execution_count": 143,
     "metadata": {},
     "output_type": "execute_result"
    }
   ],
   "source": [
    "a.transpose() # a의 전치행렬 "
   ]
  },
  {
   "cell_type": "markdown",
   "id": "ac9fcacc",
   "metadata": {},
   "source": [
    "## 2.6.배열 출력"
   ]
  },
  {
   "cell_type": "code",
   "execution_count": 147,
   "id": "c8762925",
   "metadata": {},
   "outputs": [
    {
     "data": {
      "text/plain": [
       "array([   0,    1,    2, ...,  998,  999, 1000])"
      ]
     },
     "execution_count": 147,
     "metadata": {},
     "output_type": "execute_result"
    }
   ],
   "source": [
    "np.arange(1001)"
   ]
  },
  {
   "cell_type": "code",
   "execution_count": 149,
   "id": "52c0a85f",
   "metadata": {},
   "outputs": [
    {
     "data": {
      "text/plain": [
       "1000"
      ]
     },
     "execution_count": 149,
     "metadata": {},
     "output_type": "execute_result"
    }
   ],
   "source": [
    "# 배열 요소가 몇 개까지 다 출력되나 (1000이 넘으면 중간 생략)\n",
    "np.get_printoptions()['threshold']"
   ]
  },
  {
   "cell_type": "code",
   "execution_count": 4,
   "id": "0e090aa4",
   "metadata": {},
   "outputs": [
    {
     "data": {
      "text/plain": [
       "array([[   0,    1,    2,    3,    4,    5,    6,    7,    8,    9,   10,\n",
       "          11,   12,   13,   14,   15,   16,   17,   18,   19,   20,   21,\n",
       "          22,   23,   24,   25,   26,   27,   28,   29,   30,   31,   32,\n",
       "          33,   34,   35,   36,   37,   38,   39,   40,   41,   42,   43,\n",
       "          44,   45,   46,   47,   48,   49,   50,   51,   52,   53,   54,\n",
       "          55,   56,   57,   58,   59],\n",
       "       [  60,   61,   62,   63,   64,   65,   66,   67,   68,   69,   70,\n",
       "          71,   72,   73,   74,   75,   76,   77,   78,   79,   80,   81,\n",
       "          82,   83,   84,   85,   86,   87,   88,   89,   90,   91,   92,\n",
       "          93,   94,   95,   96,   97,   98,   99,  100,  101,  102,  103,\n",
       "         104,  105,  106,  107,  108,  109,  110,  111,  112,  113,  114,\n",
       "         115,  116,  117,  118,  119],\n",
       "       [ 120,  121,  122,  123,  124,  125,  126,  127,  128,  129,  130,\n",
       "         131,  132,  133,  134,  135,  136,  137,  138,  139,  140,  141,\n",
       "         142,  143,  144,  145,  146,  147,  148,  149,  150,  151,  152,\n",
       "         153,  154,  155,  156,  157,  158,  159,  160,  161,  162,  163,\n",
       "         164,  165,  166,  167,  168,  169,  170,  171,  172,  173,  174,\n",
       "         175,  176,  177,  178,  179],\n",
       "       [ 180,  181,  182,  183,  184,  185,  186,  187,  188,  189,  190,\n",
       "         191,  192,  193,  194,  195,  196,  197,  198,  199,  200,  201,\n",
       "         202,  203,  204,  205,  206,  207,  208,  209,  210,  211,  212,\n",
       "         213,  214,  215,  216,  217,  218,  219,  220,  221,  222,  223,\n",
       "         224,  225,  226,  227,  228,  229,  230,  231,  232,  233,  234,\n",
       "         235,  236,  237,  238,  239],\n",
       "       [ 240,  241,  242,  243,  244,  245,  246,  247,  248,  249,  250,\n",
       "         251,  252,  253,  254,  255,  256,  257,  258,  259,  260,  261,\n",
       "         262,  263,  264,  265,  266,  267,  268,  269,  270,  271,  272,\n",
       "         273,  274,  275,  276,  277,  278,  279,  280,  281,  282,  283,\n",
       "         284,  285,  286,  287,  288,  289,  290,  291,  292,  293,  294,\n",
       "         295,  296,  297,  298,  299],\n",
       "       [ 300,  301,  302,  303,  304,  305,  306,  307,  308,  309,  310,\n",
       "         311,  312,  313,  314,  315,  316,  317,  318,  319,  320,  321,\n",
       "         322,  323,  324,  325,  326,  327,  328,  329,  330,  331,  332,\n",
       "         333,  334,  335,  336,  337,  338,  339,  340,  341,  342,  343,\n",
       "         344,  345,  346,  347,  348,  349,  350,  351,  352,  353,  354,\n",
       "         355,  356,  357,  358,  359],\n",
       "       [ 360,  361,  362,  363,  364,  365,  366,  367,  368,  369,  370,\n",
       "         371,  372,  373,  374,  375,  376,  377,  378,  379,  380,  381,\n",
       "         382,  383,  384,  385,  386,  387,  388,  389,  390,  391,  392,\n",
       "         393,  394,  395,  396,  397,  398,  399,  400,  401,  402,  403,\n",
       "         404,  405,  406,  407,  408,  409,  410,  411,  412,  413,  414,\n",
       "         415,  416,  417,  418,  419],\n",
       "       [ 420,  421,  422,  423,  424,  425,  426,  427,  428,  429,  430,\n",
       "         431,  432,  433,  434,  435,  436,  437,  438,  439,  440,  441,\n",
       "         442,  443,  444,  445,  446,  447,  448,  449,  450,  451,  452,\n",
       "         453,  454,  455,  456,  457,  458,  459,  460,  461,  462,  463,\n",
       "         464,  465,  466,  467,  468,  469,  470,  471,  472,  473,  474,\n",
       "         475,  476,  477,  478,  479],\n",
       "       [ 480,  481,  482,  483,  484,  485,  486,  487,  488,  489,  490,\n",
       "         491,  492,  493,  494,  495,  496,  497,  498,  499,  500,  501,\n",
       "         502,  503,  504,  505,  506,  507,  508,  509,  510,  511,  512,\n",
       "         513,  514,  515,  516,  517,  518,  519,  520,  521,  522,  523,\n",
       "         524,  525,  526,  527,  528,  529,  530,  531,  532,  533,  534,\n",
       "         535,  536,  537,  538,  539],\n",
       "       [ 540,  541,  542,  543,  544,  545,  546,  547,  548,  549,  550,\n",
       "         551,  552,  553,  554,  555,  556,  557,  558,  559,  560,  561,\n",
       "         562,  563,  564,  565,  566,  567,  568,  569,  570,  571,  572,\n",
       "         573,  574,  575,  576,  577,  578,  579,  580,  581,  582,  583,\n",
       "         584,  585,  586,  587,  588,  589,  590,  591,  592,  593,  594,\n",
       "         595,  596,  597,  598,  599],\n",
       "       [ 600,  601,  602,  603,  604,  605,  606,  607,  608,  609,  610,\n",
       "         611,  612,  613,  614,  615,  616,  617,  618,  619,  620,  621,\n",
       "         622,  623,  624,  625,  626,  627,  628,  629,  630,  631,  632,\n",
       "         633,  634,  635,  636,  637,  638,  639,  640,  641,  642,  643,\n",
       "         644,  645,  646,  647,  648,  649,  650,  651,  652,  653,  654,\n",
       "         655,  656,  657,  658,  659],\n",
       "       [ 660,  661,  662,  663,  664,  665,  666,  667,  668,  669,  670,\n",
       "         671,  672,  673,  674,  675,  676,  677,  678,  679,  680,  681,\n",
       "         682,  683,  684,  685,  686,  687,  688,  689,  690,  691,  692,\n",
       "         693,  694,  695,  696,  697,  698,  699,  700,  701,  702,  703,\n",
       "         704,  705,  706,  707,  708,  709,  710,  711,  712,  713,  714,\n",
       "         715,  716,  717,  718,  719],\n",
       "       [ 720,  721,  722,  723,  724,  725,  726,  727,  728,  729,  730,\n",
       "         731,  732,  733,  734,  735,  736,  737,  738,  739,  740,  741,\n",
       "         742,  743,  744,  745,  746,  747,  748,  749,  750,  751,  752,\n",
       "         753,  754,  755,  756,  757,  758,  759,  760,  761,  762,  763,\n",
       "         764,  765,  766,  767,  768,  769,  770,  771,  772,  773,  774,\n",
       "         775,  776,  777,  778,  779],\n",
       "       [ 780,  781,  782,  783,  784,  785,  786,  787,  788,  789,  790,\n",
       "         791,  792,  793,  794,  795,  796,  797,  798,  799,  800,  801,\n",
       "         802,  803,  804,  805,  806,  807,  808,  809,  810,  811,  812,\n",
       "         813,  814,  815,  816,  817,  818,  819,  820,  821,  822,  823,\n",
       "         824,  825,  826,  827,  828,  829,  830,  831,  832,  833,  834,\n",
       "         835,  836,  837,  838,  839],\n",
       "       [ 840,  841,  842,  843,  844,  845,  846,  847,  848,  849,  850,\n",
       "         851,  852,  853,  854,  855,  856,  857,  858,  859,  860,  861,\n",
       "         862,  863,  864,  865,  866,  867,  868,  869,  870,  871,  872,\n",
       "         873,  874,  875,  876,  877,  878,  879,  880,  881,  882,  883,\n",
       "         884,  885,  886,  887,  888,  889,  890,  891,  892,  893,  894,\n",
       "         895,  896,  897,  898,  899],\n",
       "       [ 900,  901,  902,  903,  904,  905,  906,  907,  908,  909,  910,\n",
       "         911,  912,  913,  914,  915,  916,  917,  918,  919,  920,  921,\n",
       "         922,  923,  924,  925,  926,  927,  928,  929,  930,  931,  932,\n",
       "         933,  934,  935,  936,  937,  938,  939,  940,  941,  942,  943,\n",
       "         944,  945,  946,  947,  948,  949,  950,  951,  952,  953,  954,\n",
       "         955,  956,  957,  958,  959],\n",
       "       [ 960,  961,  962,  963,  964,  965,  966,  967,  968,  969,  970,\n",
       "         971,  972,  973,  974,  975,  976,  977,  978,  979,  980,  981,\n",
       "         982,  983,  984,  985,  986,  987,  988,  989,  990,  991,  992,\n",
       "         993,  994,  995,  996,  997,  998,  999, 1000, 1001, 1002, 1003,\n",
       "        1004, 1005, 1006, 1007, 1008, 1009, 1010, 1011, 1012, 1013, 1014,\n",
       "        1015, 1016, 1017, 1018, 1019],\n",
       "       [1020, 1021, 1022, 1023, 1024, 1025, 1026, 1027, 1028, 1029, 1030,\n",
       "        1031, 1032, 1033, 1034, 1035, 1036, 1037, 1038, 1039, 1040, 1041,\n",
       "        1042, 1043, 1044, 1045, 1046, 1047, 1048, 1049, 1050, 1051, 1052,\n",
       "        1053, 1054, 1055, 1056, 1057, 1058, 1059, 1060, 1061, 1062, 1063,\n",
       "        1064, 1065, 1066, 1067, 1068, 1069, 1070, 1071, 1072, 1073, 1074,\n",
       "        1075, 1076, 1077, 1078, 1079],\n",
       "       [1080, 1081, 1082, 1083, 1084, 1085, 1086, 1087, 1088, 1089, 1090,\n",
       "        1091, 1092, 1093, 1094, 1095, 1096, 1097, 1098, 1099, 1100, 1101,\n",
       "        1102, 1103, 1104, 1105, 1106, 1107, 1108, 1109, 1110, 1111, 1112,\n",
       "        1113, 1114, 1115, 1116, 1117, 1118, 1119, 1120, 1121, 1122, 1123,\n",
       "        1124, 1125, 1126, 1127, 1128, 1129, 1130, 1131, 1132, 1133, 1134,\n",
       "        1135, 1136, 1137, 1138, 1139],\n",
       "       [1140, 1141, 1142, 1143, 1144, 1145, 1146, 1147, 1148, 1149, 1150,\n",
       "        1151, 1152, 1153, 1154, 1155, 1156, 1157, 1158, 1159, 1160, 1161,\n",
       "        1162, 1163, 1164, 1165, 1166, 1167, 1168, 1169, 1170, 1171, 1172,\n",
       "        1173, 1174, 1175, 1176, 1177, 1178, 1179, 1180, 1181, 1182, 1183,\n",
       "        1184, 1185, 1186, 1187, 1188, 1189, 1190, 1191, 1192, 1193, 1194,\n",
       "        1195, 1196, 1197, 1198, 1199]])"
      ]
     },
     "execution_count": 4,
     "metadata": {},
     "output_type": "execute_result"
    }
   ],
   "source": [
    "# 인쇄 옵션 변경\n",
    "import numpy as np\n",
    "import sys \n",
    "np.set_printoptions(threshold=sys.maxsize) # 정수 최대치까지 출력 가능\n",
    "np.set_printoptions(threshold=np.inf) # 무한대까지 출력 가능 \n",
    "np.arange(1200).reshape(20, -1)"
   ]
  },
  {
   "cell_type": "code",
   "execution_count": 151,
   "id": "0e76fd3b",
   "metadata": {},
   "outputs": [
    {
     "data": {
      "text/plain": [
       "array([[   0,    1,    2, ...,   97,   98,   99],\n",
       "       [ 100,  101,  102, ...,  197,  198,  199],\n",
       "       [ 200,  201,  202, ...,  297,  298,  299],\n",
       "       ...,\n",
       "       [9700, 9701, 9702, ..., 9797, 9798, 9799],\n",
       "       [9800, 9801, 9802, ..., 9897, 9898, 9899],\n",
       "       [9900, 9901, 9902, ..., 9997, 9998, 9999]])"
      ]
     },
     "execution_count": 151,
     "metadata": {},
     "output_type": "execute_result"
    }
   ],
   "source": [
    "# 배열이 커서 인쇄가 안 되는 경우 : 모서리 부분만 출력\n",
    "np.arange(10000).reshape(100,100)"
   ]
  },
  {
   "cell_type": "code",
   "execution_count": null,
   "id": "b9a09a78",
   "metadata": {},
   "outputs": [],
   "source": []
  },
  {
   "cell_type": "code",
   "execution_count": null,
   "id": "c42b59db",
   "metadata": {},
   "outputs": [],
   "source": []
  },
  {
   "cell_type": "code",
   "execution_count": null,
   "id": "cde138dc",
   "metadata": {},
   "outputs": [],
   "source": []
  },
  {
   "cell_type": "code",
   "execution_count": null,
   "id": "f0af661b",
   "metadata": {},
   "outputs": [],
   "source": []
  },
  {
   "cell_type": "code",
   "execution_count": null,
   "id": "17d58971",
   "metadata": {},
   "outputs": [],
   "source": []
  },
  {
   "cell_type": "code",
   "execution_count": null,
   "id": "db2ec9a2",
   "metadata": {},
   "outputs": [],
   "source": []
  },
  {
   "cell_type": "code",
   "execution_count": null,
   "id": "7bf15207",
   "metadata": {},
   "outputs": [],
   "source": []
  },
  {
   "cell_type": "code",
   "execution_count": null,
   "id": "772faa26",
   "metadata": {},
   "outputs": [],
   "source": []
  },
  {
   "cell_type": "code",
   "execution_count": null,
   "id": "0de7f81d",
   "metadata": {},
   "outputs": [],
   "source": []
  },
  {
   "cell_type": "code",
   "execution_count": null,
   "id": "8159b0cd",
   "metadata": {},
   "outputs": [],
   "source": []
  },
  {
   "cell_type": "code",
   "execution_count": null,
   "id": "7756c46f",
   "metadata": {},
   "outputs": [],
   "source": []
  },
  {
   "cell_type": "code",
   "execution_count": null,
   "id": "945ff9a2",
   "metadata": {},
   "outputs": [],
   "source": []
  },
  {
   "cell_type": "code",
   "execution_count": null,
   "id": "7ed59c3e",
   "metadata": {},
   "outputs": [],
   "source": []
  },
  {
   "cell_type": "code",
   "execution_count": null,
   "id": "5d07e701",
   "metadata": {},
   "outputs": [],
   "source": []
  },
  {
   "cell_type": "code",
   "execution_count": null,
   "id": "8e4c120f",
   "metadata": {},
   "outputs": [],
   "source": []
  },
  {
   "cell_type": "code",
   "execution_count": null,
   "id": "2c5e90f9",
   "metadata": {},
   "outputs": [],
   "source": []
  },
  {
   "cell_type": "code",
   "execution_count": null,
   "id": "8193d873",
   "metadata": {},
   "outputs": [],
   "source": []
  },
  {
   "cell_type": "code",
   "execution_count": null,
   "id": "f71fffe1",
   "metadata": {},
   "outputs": [],
   "source": []
  },
  {
   "cell_type": "code",
   "execution_count": null,
   "id": "fc8662b4",
   "metadata": {},
   "outputs": [],
   "source": []
  },
  {
   "cell_type": "code",
   "execution_count": null,
   "id": "17a17694",
   "metadata": {},
   "outputs": [],
   "source": []
  },
  {
   "cell_type": "code",
   "execution_count": null,
   "id": "1ef2b4e3",
   "metadata": {},
   "outputs": [],
   "source": []
  },
  {
   "cell_type": "code",
   "execution_count": null,
   "id": "b7aa76bf",
   "metadata": {},
   "outputs": [],
   "source": []
  },
  {
   "cell_type": "code",
   "execution_count": null,
   "id": "ff138e00",
   "metadata": {},
   "outputs": [],
   "source": []
  },
  {
   "cell_type": "code",
   "execution_count": null,
   "id": "a9a06d28",
   "metadata": {},
   "outputs": [],
   "source": []
  },
  {
   "cell_type": "code",
   "execution_count": null,
   "id": "f78965b3",
   "metadata": {},
   "outputs": [],
   "source": []
  },
  {
   "cell_type": "code",
   "execution_count": null,
   "id": "93526254",
   "metadata": {},
   "outputs": [],
   "source": []
  },
  {
   "cell_type": "code",
   "execution_count": null,
   "id": "d7ec029a",
   "metadata": {},
   "outputs": [],
   "source": []
  },
  {
   "cell_type": "code",
   "execution_count": null,
   "id": "5d0544f6",
   "metadata": {},
   "outputs": [],
   "source": []
  },
  {
   "cell_type": "code",
   "execution_count": null,
   "id": "267bb678",
   "metadata": {},
   "outputs": [],
   "source": []
  }
 ],
 "metadata": {
  "kernelspec": {
   "display_name": "Python 3 (ipykernel)",
   "language": "python",
   "name": "python3"
  },
  "language_info": {
   "codemirror_mode": {
    "name": "ipython",
    "version": 3
   },
   "file_extension": ".py",
   "mimetype": "text/x-python",
   "name": "python",
   "nbconvert_exporter": "python",
   "pygments_lexer": "ipython3",
   "version": "3.10.9"
  },
  "toc": {
   "base_numbering": 1,
   "nav_menu": {},
   "number_sections": false,
   "sideBar": true,
   "skip_h1_title": false,
   "title_cell": "Table of Contents",
   "title_sidebar": "Contents",
   "toc_cell": false,
   "toc_position": {
    "height": "calc(100% - 180px)",
    "left": "10px",
    "top": "150px",
    "width": "261px"
   },
   "toc_section_display": true,
   "toc_window_display": true
  }
 },
 "nbformat": 4,
 "nbformat_minor": 5
}

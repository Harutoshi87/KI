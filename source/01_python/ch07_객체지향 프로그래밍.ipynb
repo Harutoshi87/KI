{
 "cells": [
  {
   "cell_type": "code",
   "execution_count": 2,
   "id": "c6c19218",
   "metadata": {},
   "outputs": [
    {
     "data": {
      "text/html": [
       "\n",
       "<style>\n",
       "div.container{width:90% !important;}\n",
       "div.cell.code_cell.rendered{width:100%;}\n",
       "div.input_prompt{padding:0px;}\n",
       "div.CodeMirror {font-family:Consolas; font-size:12pt;}\n",
       "div.text_cell_render.rendered_html{font-size:12pt;}\n",
       "div.output {font-size:12pt; font-weight:bold;}\n",
       "div.input {font-family:Consolas; font-size:12pt;}\n",
       "div.prompt {min-width:70px;}\n",
       "div#toc-wrapper{padding-top:120px;}\n",
       "div.text_cell_render ul li{font-size:12pt;padding:5px;}\n",
       "table.dataframe{font-size:12px;}\n",
       "</style>\n"
      ],
      "text/plain": [
       "<IPython.core.display.HTML object>"
      ]
     },
     "metadata": {},
     "output_type": "display_data"
    }
   ],
   "source": [
    "from IPython.display import display, HTML\n",
    "display(HTML(\"\"\"\n",
    "<style>\n",
    "div.container{width:90% !important;}\n",
    "div.cell.code_cell.rendered{width:100%;}\n",
    "div.input_prompt{padding:0px;}\n",
    "div.CodeMirror {font-family:Consolas; font-size:12pt;}\n",
    "div.text_cell_render.rendered_html{font-size:12pt;}\n",
    "div.output {font-size:12pt; font-weight:bold;}\n",
    "div.input {font-family:Consolas; font-size:12pt;}\n",
    "div.prompt {min-width:70px;}\n",
    "div#toc-wrapper{padding-top:120px;}\n",
    "div.text_cell_render ul li{font-size:12pt;padding:5px;}\n",
    "table.dataframe{font-size:12px;}\n",
    "</style>\n",
    "\"\"\"))"
   ]
  },
  {
   "cell_type": "markdown",
   "id": "7bb5b5a7",
   "metadata": {},
   "source": [
    "<b><font size=\"6\" color=\"red\">ch07. 객체지향 프로그래밍</font></b>"
   ]
  },
  {
   "cell_type": "code",
   "execution_count": 4,
   "id": "6b342948",
   "metadata": {},
   "outputs": [
    {
     "name": "stdout",
     "output_type": "stream",
     "text": [
      "홍길동 남자\n"
     ]
    }
   ],
   "source": [
    "person1 = {'name':'홍길동', 'sex':'남자', 'academy':'MBC'}\n",
    "person2 = {'name':'김길숙', 'sex':'여자', 'academy':'MBC'}\n",
    "print(person1['name'], person1.get('sex'))"
   ]
  },
  {
   "cell_type": "code",
   "execution_count": 3,
   "id": "ad6965ce",
   "metadata": {},
   "outputs": [
    {
     "name": "stdout",
     "output_type": "stream",
     "text": [
      "{'name': '홍길둥', 'sex': '남자', 'academy': 'MBC'}\n",
      "{'name': '김길숙', 'sex': '여자', 'academy': 'MBC'}\n"
     ]
    }
   ],
   "source": [
    "person1['name'] = '홍길둥'\n",
    "print(person1)\n",
    "print(person2)"
   ]
  },
  {
   "cell_type": "code",
   "execution_count": 11,
   "id": "c493fad6",
   "metadata": {},
   "outputs": [
    {
     "name": "stdout",
     "output_type": "stream",
     "text": [
      "MBC의 김길숙님은 여자입니다\n",
      "MBC의 홍길동님은 남자입니다\n",
      "MBC의 홍홍홍님은 여자입니다\n",
      "MBC의 홍길동님은 남자입니다\n"
     ]
    }
   ],
   "source": [
    "class Person: # '객체를 만들기 위한 설계도'; '클래스 이름은 무조건 대문자로'\n",
    "    academy = 'MBC' # 클래스 변수\n",
    "    def __init__(self, name, sex): # 생성자 함수; self는 객체 자체 (mandatory); 인스턴스 변수 초기화\n",
    "        self.name = name\n",
    "        self.sex = sex\n",
    "    def print_info(self):\n",
    "        print('{}의 {}님은 {}입니다'.format(self.academy, self.name, self.sex))\n",
    "\n",
    "p1 = Person('김길숙', '여자') # 위 설계도에 따라 객체(인스턴스) 변수 생성, 클래스명(Person)을 클래스 타입 변수(p1)에 할당\n",
    "p1.print_info()\n",
    "p2 = Person('홍길동', '남자')\n",
    "p2.print_info()\n",
    "p1.name = '홍홍홍'\n",
    "p1.print_info()\n",
    "p2.print_info()"
   ]
  },
  {
   "cell_type": "code",
   "execution_count": 13,
   "id": "517aa972",
   "metadata": {},
   "outputs": [
    {
     "name": "stdout",
     "output_type": "stream",
     "text": [
      "SBS의 홍길동님은 남자입니다\n",
      "MBC의 홍홍홍님은 여자입니다\n"
     ]
    }
   ],
   "source": [
    "p2.academy = 'SBS'\n",
    "p2.print_info()\n",
    "p1.print_info()"
   ]
  },
  {
   "cell_type": "markdown",
   "id": "bce5e401",
   "metadata": {},
   "source": [
    "# 1. 객체와 클래스\n",
    "```\n",
    "class 클래스명 (상속 받을 클래스명) : \n",
    "    클래스 변수\n",
    "    'docstring'\n",
    "    함수와 인스턴스 변수들을 선언\n",
    "```"
   ]
  },
  {
   "cell_type": "code",
   "execution_count": 14,
   "id": "760d0f3e",
   "metadata": {},
   "outputs": [
    {
     "data": {
      "text/plain": [
       "__main__.Person"
      ]
     },
     "execution_count": 14,
     "metadata": {},
     "output_type": "execute_result"
    }
   ],
   "source": [
    "class Person:\n",
    "    'Person class에 대한 docstring'\n",
    "    pass\n",
    "#     def __init__(self):\n",
    "#         pass\n",
    "p1 = Person()\n",
    "type(p1)"
   ]
  },
  {
   "cell_type": "code",
   "execution_count": 17,
   "id": "ee1e7999",
   "metadata": {},
   "outputs": [
    {
     "name": "stdout",
     "output_type": "stream",
     "text": [
      "<__main__.Person object at 0x000001896E276C50>\n",
      "<__main__.Person object at 0x000001896E276C50>\n"
     ]
    }
   ],
   "source": [
    "print(p1)\n",
    "print(p1.__str__())"
   ]
  },
  {
   "cell_type": "code",
   "execution_count": 18,
   "id": "bc4a3f1f",
   "metadata": {},
   "outputs": [
    {
     "data": {
      "text/plain": [
       "True"
      ]
     },
     "execution_count": 18,
     "metadata": {},
     "output_type": "execute_result"
    }
   ],
   "source": [
    "isinstance(p1, Person)"
   ]
  },
  {
   "cell_type": "code",
   "execution_count": 19,
   "id": "d8044b17",
   "metadata": {},
   "outputs": [
    {
     "data": {
      "text/plain": [
       "'Person class에 대한 docstring'"
      ]
     },
     "execution_count": 19,
     "metadata": {},
     "output_type": "execute_result"
    }
   ],
   "source": [
    "p1.__doc__"
   ]
  },
  {
   "cell_type": "markdown",
   "id": "63f5f987",
   "metadata": {},
   "source": [
    "# 2. 생성자(`__init__()`)와 소멸자(`__del__()`)\n",
    "\n",
    "- 생성자 : __init__(self, [매개변수1, 매개변수2..]) - 객체가 생성될 때 자동 실행)\n",
    "          객체변수 생성 시 필요한 코드(인스턴스 변수 생성과 초기화)를 포함한다\n",
    "- 소멸자 : __del__(self), 매개변수 안 씀) - 객체가 소멸될 때 자동 실행\n",
    "          객체 소멸 시 필요한 코드를 포함\n",
    "          인스턴스(객체)의 reference count가 0일 될 때 실행"
   ]
  },
  {
   "cell_type": "code",
   "execution_count": 5,
   "id": "88a4d41a",
   "metadata": {},
   "outputs": [],
   "source": [
    "class Person:\n",
    "    def __init__(self, name, sex):\n",
    "        self.name = name # 인스턴스 변수를 초기화\n",
    "        self.sex = sex\n",
    "        print('Person형 객체를 생성')\n",
    "    def __del__(self):\n",
    "        print('Person형 객체 소멸')\n",
    "    def print_info(self):\n",
    "        print('{}님은 {}입니다'.format(self.name, self.sex))\n",
    "    def __str__(self): # 클래스가 할당된 클래스 타입 객체 변수를 str으로 변환하는 함수를 더하여 overriding (함수의 재정의)\n",
    "        return '{}님은 {}입니다'.format(self.name, self.sex)"
   ]
  },
  {
   "cell_type": "code",
   "execution_count": 6,
   "id": "2c35eafc",
   "metadata": {},
   "outputs": [
    {
     "name": "stdout",
     "output_type": "stream",
     "text": [
      "Person형 객체를 생성\n",
      "Person형 객체 소멸\n"
     ]
    }
   ],
   "source": [
    "p1 = Person('신사임당', '여자')"
   ]
  },
  {
   "cell_type": "code",
   "execution_count": 7,
   "id": "c7267b62",
   "metadata": {},
   "outputs": [
    {
     "name": "stdout",
     "output_type": "stream",
     "text": [
      "신사임당님은 여자입니다\n"
     ]
    }
   ],
   "source": [
    "p1.print_info()"
   ]
  },
  {
   "cell_type": "code",
   "execution_count": 8,
   "id": "c1310bf2",
   "metadata": {},
   "outputs": [
    {
     "name": "stdout",
     "output_type": "stream",
     "text": [
      "신사임당님은 여자입니다\n",
      "신사임당님은 여자입니다\n"
     ]
    }
   ],
   "source": [
    "print(p1)\n",
    "print(p1.__str__())"
   ]
  },
  {
   "cell_type": "code",
   "execution_count": 10,
   "id": "f8881a02",
   "metadata": {},
   "outputs": [
    {
     "data": {
      "text/plain": [
       "(__main__.Person, True)"
      ]
     },
     "execution_count": 10,
     "metadata": {},
     "output_type": "execute_result"
    }
   ],
   "source": [
    "type(p1), isinstance(p1, Person)"
   ]
  },
  {
   "cell_type": "code",
   "execution_count": 11,
   "id": "d3e9efa8",
   "metadata": {},
   "outputs": [
    {
     "name": "stdout",
     "output_type": "stream",
     "text": [
      "Person형 객체 소멸\n"
     ]
    }
   ],
   "source": [
    "del p1"
   ]
  },
  {
   "cell_type": "code",
   "execution_count": 12,
   "id": "408f8c8e",
   "metadata": {},
   "outputs": [
    {
     "name": "stdout",
     "output_type": "stream",
     "text": [
      "Person형 객체를 생성\n"
     ]
    }
   ],
   "source": [
    "p2 = Person('홍길동', '남자')"
   ]
  },
  {
   "cell_type": "code",
   "execution_count": 13,
   "id": "52febdfc",
   "metadata": {},
   "outputs": [],
   "source": [
    "p3 = p2"
   ]
  },
  {
   "cell_type": "code",
   "execution_count": 14,
   "id": "7bc47163",
   "metadata": {},
   "outputs": [],
   "source": [
    "del p2 # p3 때문에 reference count 소멸 안 됨"
   ]
  },
  {
   "cell_type": "code",
   "execution_count": 15,
   "id": "989eecca",
   "metadata": {},
   "outputs": [
    {
     "name": "stdout",
     "output_type": "stream",
     "text": [
      "Person형 객체 소멸\n"
     ]
    }
   ],
   "source": [
    "del p3 # reference count가 0이 되어 소멸자 호출됨"
   ]
  },
  {
   "cell_type": "markdown",
   "id": "d1d37d96",
   "metadata": {},
   "source": [
    "- **overriding(함수의 재정의)**\n",
    "- 파이썬은 **overloading (함수의 중복 정의)** 불가 \n",
    "- 생성자 함수 **overloading 불가**\n",
    "- 인스턴스 함수는 일반 함수"
   ]
  },
  {
   "cell_type": "code",
   "execution_count": 30,
   "id": "d3ccc081",
   "metadata": {},
   "outputs": [],
   "source": [
    "class Person:\n",
    "    def __init__(self, name='홍길동', sex='남자'):\n",
    "        self.name = name # 인스턴스 변수를 초기화\n",
    "        self.sex = sex\n",
    "#         print('Person형 객체를 생성')\n",
    "#     def __init__(self, name):\n",
    "#         self.name = name # 함수 중복 정의 불가!\n",
    "#         self.sex = '남자'\n",
    "#     def __del__(self):\n",
    "#         print('Person형 객체 소멸')\n",
    "    def print_info(self):\n",
    "        print('{}님은 {}입니다'.format(self.name, self.sex))\n",
    "    def __str__(self): # 클래스가 할당된 클래스 타입 변수를 str으로 변환하는 함수를 더하여 overriding (함수의 재정의)\n",
    "        return '{}님은 {}입니다'.format(self.name, self.sex)"
   ]
  },
  {
   "cell_type": "code",
   "execution_count": 31,
   "id": "18928c79",
   "metadata": {},
   "outputs": [
    {
     "name": "stdout",
     "output_type": "stream",
     "text": [
      "p1 = 김길숙님은 여자입니다\n",
      "p2 = 강감찬님은 남자입니다\n",
      "p3 = 홍길동님은 남자입니다\n",
      "p4 = 홍길동님은 여자입니다\n",
      "p5 = 홍이쁨님은 여자입니다\n"
     ]
    }
   ],
   "source": [
    "p1 = Person('김길숙', '여자')\n",
    "p2 = Person('강감찬')\n",
    "p3 = Person()\n",
    "p4 = Person(sex='여자')\n",
    "p5 = Person(sex='여자', name='홍이쁨')\n",
    "print('p1 =', p1)\n",
    "print('p2 =', p2)\n",
    "print('p3 =', p3)\n",
    "print('p4 =', p4)\n",
    "print('p5 =', p5)"
   ]
  },
  {
   "cell_type": "markdown",
   "id": "7788d69e",
   "metadata": {},
   "source": [
    "# 3. 변수와 메소드(함수)\n",
    "- 인스턴스 변수 vs 클래스 변수 vs static변수(정적 변수)\n",
    "- 인스턴스 함수(self) vs 클래스 함수(cls) vs static 함수()"
   ]
  },
  {
   "cell_type": "code",
   "execution_count": 44,
   "id": "003c1753",
   "metadata": {},
   "outputs": [
    {
     "name": "stdout",
     "output_type": "stream",
     "text": [
      "MBC\n",
      "p1 클래스 타입 객체변수(인스턴스) = MBC의 홍길동님은 남자입니다\n",
      "p2 클래스 타입 객체변수(인스턴스) = MBC의 홍길동님은 남자입니다\n",
      "p1 클래스 타입 객체변수(인스턴스) = SBS의 홍길동님은 남자입니다\n",
      "p2 클래스 타입 객체변수(인스턴스) = 다른 곳의 홍길동님은 남자입니다\n"
     ]
    }
   ],
   "source": [
    "# 클래스 변수는 클래스 내부에 선언되며 생성된 모든 인스턴스(객체==클래스 타입 변수)에 동일한 값을 가진다\n",
    "# 인스턴스(객체==클래스 타입 변수).클래스 변수로 수정하면 해당 인스턴스(객체)만 반영\n",
    "# 클래스명.클래스 변수로 수정하면 모든 인스턴스에 반영\n",
    "\n",
    "class Person: # '객체를 만들기 위한 설계도'; '클래스 이름은 무조건 대문자로'\n",
    "    academy = 'MBC' # 클래스 변수\n",
    "    def __init__(self, name='홍길동', sex='남자'): # 생성자 함수; self는 객체 자체 (mandatory); 인스턴스 변수 초기화\n",
    "        self.name = name\n",
    "        self.sex = sex\n",
    "    def __str__(self): # 클래스가 할당된 클래스 타입 객체 변수를 str으로 변환하는 함수를 더하여 overriding (함수의 재정의)\n",
    "        return '{}의 {}님은 {}입니다'.format(self.academy, self.name, self.sex)\n",
    "        \n",
    "print(Person.academy) # 클래스명.클래스 변수\n",
    "p1 = Person()\n",
    "p2 = Person()\n",
    "print('p1 클래스 타입 객체변수(인스턴스) =', p1)\n",
    "print('p2 클래스 타입 객체변수(인스턴스) =', p2)\n",
    "p1.academy = 'SBS' # 인스턴스(객체==클래스 타입 변수).클래스 변수로 수정하면 해당 인스턴스(객체)만 반영\n",
    "Person.academy = '다른 곳' # 클래스명.클래스 변수로 수정하면 모든 인스턴스에 반영\n",
    "print('p1 클래스 타입 객체변수(인스턴스) =', p1)\n",
    "print('p2 클래스 타입 객체변수(인스턴스) =', p2)"
   ]
  },
  {
   "cell_type": "markdown",
   "id": "4015f2ce",
   "metadata": {},
   "source": [
    "※ 인스턴스 함수 vs 클래스 함수 vs static 함수\n",
    "- 인스턴스 함수 : 첫번째 매개변수에 (self)를 꼭 명시해야 하고 객체의 이름을 통해서만 호출할 수 있음\n",
    "- 클래스 함수 : 함수 위에 @classmethod를 명시해야 하고 첫번째 매개변수에 (clz/cls)를 명시\n",
    "- static 함수 : 함수 위에 @staticmethod를 명시해야 하고 디폴트 매개변수 없음"
   ]
  },
  {
   "cell_type": "code",
   "execution_count": 51,
   "id": "2e915732",
   "metadata": {},
   "outputs": [],
   "source": [
    "class Person:\n",
    "    academy = 'MBC' # 클래스 변수\n",
    "    def __init__(self, name='홍길동', sex='남자'): # name, sex는 기본값을 갖는 매개변수\n",
    "        self.name = name\n",
    "        self.sex = sex\n",
    "    def print_info(self): # 인스턴스 함수 : 클래스 타입 객체 변수.print_info()로 호출\n",
    "        print('일반(인스턴스) 함수 - {}의 {}님은 {}입니다'.format(self.academy, self.name, self.sex))\n",
    "    def change_info(self, name='익명', sex='여자'):\n",
    "        self.name = name\n",
    "        self.sex = sex\n",
    "        print('일반(인스턴스) 함수를 통해 {}로 이름 변경. {}로 성별 변경'.format(self.name, self.sex))\n",
    "    @classmethod # Annotation 바로 아래의 함수에만 적용\n",
    "    def do_(cls): # cls => 클래스명 Person을 의미. 클래스 변수를 이용한 logic\n",
    "        cls.academy = 'ClassAcademy'\n",
    "        print('클래스 함수에서 {}로 클래스 변수 변경'.format(cls.academy))\n",
    "    @classmethod # Annotation 바로 아래의 함수에만 적용\n",
    "    def done_(cls, akademie): # cls => 클래스명 Person을 의미. 클래스 변수를 이용한 logic\n",
    "        cls.academy = akademie\n",
    "        print('클래스 함수에서 {}로 클래스 변수 변경'.format(cls.academy))\n",
    "    @staticmethod\n",
    "    def that_(): # 클래스 변수보다는 logic이 우선인 경우\n",
    "        Person.academy = 'staticAcademy'\n",
    "        print('static 함수에서 {}로 클래스 변수 변경'.format(Person.academy))"
   ]
  },
  {
   "cell_type": "code",
   "execution_count": 52,
   "id": "0187dbcc",
   "metadata": {},
   "outputs": [
    {
     "name": "stdout",
     "output_type": "stream",
     "text": [
      "일반(인스턴스) 함수 - MBC의 홍길동님은 남자입니다\n"
     ]
    }
   ],
   "source": [
    "p1 = Person()\n",
    "p1.print_info()"
   ]
  },
  {
   "cell_type": "code",
   "execution_count": 53,
   "id": "33c69a62",
   "metadata": {},
   "outputs": [
    {
     "name": "stdout",
     "output_type": "stream",
     "text": [
      "static 함수에서 staticAcademy로 클래스 변수 변경\n"
     ]
    }
   ],
   "source": [
    "Person.that_() #클래스 함수나 static 함수 호출 시 클래스 명을 사용"
   ]
  },
  {
   "cell_type": "code",
   "execution_count": 54,
   "id": "30076d6d",
   "metadata": {},
   "outputs": [
    {
     "name": "stdout",
     "output_type": "stream",
     "text": [
      "일반(인스턴스) 함수 - staticAcademy의 홍길동님은 남자입니다\n"
     ]
    }
   ],
   "source": [
    "p1.print_info()"
   ]
  },
  {
   "cell_type": "code",
   "execution_count": 55,
   "id": "3e8546ac",
   "metadata": {},
   "outputs": [
    {
     "name": "stdout",
     "output_type": "stream",
     "text": [
      "일반(인스턴스) 함수를 통해 익명로 이름 변경. 여자로 성별 변경\n",
      "일반(인스턴스) 함수 - staticAcademy의 익명님은 여자입니다\n"
     ]
    }
   ],
   "source": [
    "p1.change_info()\n",
    "p1.print_info()"
   ]
  },
  {
   "cell_type": "code",
   "execution_count": 56,
   "id": "bf50b3d2",
   "metadata": {},
   "outputs": [
    {
     "name": "stdout",
     "output_type": "stream",
     "text": [
      "일반(인스턴스) 함수 - staticAcademy의 홍길동님은 남자입니다\n"
     ]
    }
   ],
   "source": [
    "p2 = Person()\n",
    "p2.print_info()"
   ]
  },
  {
   "cell_type": "code",
   "execution_count": 58,
   "id": "689184d8",
   "metadata": {},
   "outputs": [
    {
     "name": "stdout",
     "output_type": "stream",
     "text": [
      "클래스 함수에서 ClassAcademy로 클래스 변수 변경\n",
      "일반(인스턴스) 함수 - ClassAcademy의 익명님은 여자입니다\n",
      "일반(인스턴스) 함수 - ClassAcademy의 홍길동님은 남자입니다\n"
     ]
    }
   ],
   "source": [
    "Person.do_()\n",
    "p1.print_info()\n",
    "p2.print_info()"
   ]
  },
  {
   "cell_type": "code",
   "execution_count": 59,
   "id": "8ad04472",
   "metadata": {},
   "outputs": [
    {
     "name": "stdout",
     "output_type": "stream",
     "text": [
      "클래스 함수에서 SBS로 클래스 변수 변경\n",
      "일반(인스턴스) 함수 - SBS의 익명님은 여자입니다\n",
      "일반(인스턴스) 함수 - SBS의 홍길동님은 남자입니다\n"
     ]
    }
   ],
   "source": [
    "Person.done_('SBS')\n",
    "p1.print_info()\n",
    "p2.print_info()"
   ]
  },
  {
   "cell_type": "markdown",
   "id": "567e2ee8",
   "metadata": {},
   "source": [
    "# 4. 상속과 재정의(overriding)\n",
    "- 클래스 재사용\n",
    "- 상속을 사용하면 부모 클래스의 모든 속성을 자식 클래스로 물려줄 수 있음\n",
    "```\n",
    "class 자식 클래스명(부모 클래스명):\n",
    " ```"
   ]
  },
  {
   "cell_type": "code",
   "execution_count": 2,
   "id": "d49d744e",
   "metadata": {},
   "outputs": [],
   "source": [
    "class Person():\n",
    "    def __init__(self, name, sex):\n",
    "        self.name = name # 인스턴스 변수를 초기화\n",
    "        self.sex = sex\n",
    "        print('Person 객체 생성(부모 클래스)')\n",
    "    def print_info(self):\n",
    "        print(self)\n",
    "    def __str__(self): # 클래스가 할당된 클래스 타입 객체 변수를 str으로 변환하는 함수를 더하여 overriding (함수의 재정의)\n",
    "        return '{}님은 {}입니다'.format(self.name, self.sex)"
   ]
  },
  {
   "cell_type": "code",
   "execution_count": 3,
   "id": "ddc9a406",
   "metadata": {},
   "outputs": [],
   "source": [
    "class Student(Person):\n",
    "    def __init__(self, name, sex, major):\n",
    "        self.name = name\n",
    "        self.sex = sex\n",
    "        self.major = major\n",
    "        print('Student 객체 생성 (자식 클래스)')\n",
    "    # 재정의(override) : 부모 클래스에서 정의한 함수를 자식 클래스에서 재정의\n",
    "    def __str__(self):\n",
    "        return '{}님은 {}입니다. 전공은 {}입니다'.format(self.name, self.sex, self.major)"
   ]
  },
  {
   "cell_type": "code",
   "execution_count": 4,
   "id": "68e3ca31",
   "metadata": {},
   "outputs": [
    {
     "name": "stdout",
     "output_type": "stream",
     "text": [
      "Person 객체 생성(부모 클래스)\n",
      "홍길동님은 남자입니다\n",
      "True\n"
     ]
    }
   ],
   "source": [
    "p1 = Person('홍길동', '남자')\n",
    "print(p1)\n",
    "print(isinstance(p1, Person))"
   ]
  },
  {
   "cell_type": "code",
   "execution_count": 5,
   "id": "11fd2cb6",
   "metadata": {},
   "outputs": [
    {
     "name": "stdout",
     "output_type": "stream",
     "text": [
      "Student 객체 생성 (자식 클래스)\n",
      "홍길숙님은 여자입니다. 전공은 AI입니다\n"
     ]
    }
   ],
   "source": [
    "s1 = Student('홍길숙', '여자', 'AI')\n",
    "print(s1)"
   ]
  },
  {
   "cell_type": "code",
   "execution_count": 6,
   "id": "a05b2a2b",
   "metadata": {},
   "outputs": [
    {
     "name": "stdout",
     "output_type": "stream",
     "text": [
      "홍길숙님은 여자입니다. 전공은 AI입니다\n"
     ]
    }
   ],
   "source": [
    "s1.print_info()"
   ]
  },
  {
   "cell_type": "code",
   "execution_count": 7,
   "id": "ad6b1839",
   "metadata": {},
   "outputs": [
    {
     "name": "stdout",
     "output_type": "stream",
     "text": [
      "True\n",
      "True\n"
     ]
    }
   ],
   "source": [
    "print(isinstance(s1, Student))\n",
    "print(isinstance(s1, Person))"
   ]
  },
  {
   "cell_type": "markdown",
   "id": "280eef21",
   "metadata": {},
   "source": [
    "### super() 사용\n",
    "- super() : '부모 클래스의'를 의미"
   ]
  },
  {
   "cell_type": "code",
   "execution_count": 8,
   "id": "08ecabcd",
   "metadata": {},
   "outputs": [
    {
     "name": "stdout",
     "output_type": "stream",
     "text": [
      "Student 객체 생성 (자식 클래스)\n"
     ]
    }
   ],
   "source": [
    "class Person():\n",
    "    def __init__(self, name, sex):\n",
    "        self.name = name # 인스턴스 변수를 초기화\n",
    "        self.sex = sex\n",
    "        print('Person 객체 생성(부모 클래스)')\n",
    "    def print_info(self):\n",
    "        print(self)\n",
    "    def __str__(self): # 클래스가 할당된 클래스 타입 객체 변수를 str으로 변환하는 함수를 더하여 overriding (함수의 재정의)\n",
    "        return '{}님은 {}입니다'.format(self.name, self.sex)\n",
    "    \n",
    "    class Student(Person):\n",
    "        def __init__(self, name, sex, major):\n",
    "            super().__init__(name, sex) # 예약어 super 사용 super().__init__(매개변수1, 매개변수2)\n",
    "            self.major = major\n",
    "        print('Student 객체 생성 (자식 클래스)')\n",
    "    # 재정의(override) : 부모 클래스에서 정의한 함수를 자식 클래스에서 재정의\n",
    "        def __str__(self):\n",
    "            return super().__str__() + '. 전공은 {}입니다'.format(self.major) # 예약어 super 사용"
   ]
  },
  {
   "cell_type": "code",
   "execution_count": 9,
   "id": "62d368c5",
   "metadata": {},
   "outputs": [
    {
     "name": "stdout",
     "output_type": "stream",
     "text": [
      "Student 객체 생성 (자식 클래스)\n",
      "아무개님은 여자입니다. 전공은 AI입니다\n",
      "아무개님은 여자입니다. 전공은 AI입니다\n"
     ]
    }
   ],
   "source": [
    "s2 = Student('아무개', '여자', 'AI')\n",
    "print(s2)\n",
    "s2.print_info()"
   ]
  },
  {
   "cell_type": "markdown",
   "id": "2182286b",
   "metadata": {},
   "source": [
    "### static 변수(정적 변수): 여러 객체들 사이에 데이터를 공유하고 싶을 때 사용\n",
    "- static 변수 : 앞에 under score 2개(__) 붙임. **참조** 시에는 클래스명._클래스명__static 변수명 으로 **참조**\n",
    "- static 변수는 클래스 내부에서만 접근하도록 하려는 용도"
   ]
  },
  {
   "cell_type": "code",
   "execution_count": 10,
   "id": "d646de3b",
   "metadata": {},
   "outputs": [],
   "source": [
    "class Student(Person):\n",
    "    'name, sex에 major 변수를 갖는 Student 타입. Student 클래스명 타입 객체가 몇 번 생성됐는지 공유'\n",
    "    __count = 0 # static 변수\n",
    "    def __init__(self, name, sex, major):\n",
    "        super().__init__(name, sex)\n",
    "        self.major = major\n",
    "        Student._Student__count += 1 #객체가 생성될 때마다 __count 1 증가\n",
    "    def __del__(self):\n",
    "        Student._Student__count -= 1 # 객체가 소멸될 때마다 __count 1 감소\n",
    "    def __str__(self):\n",
    "        return super().__str__() + '. 전공은 {} - 클래스명 타입 객체 {}번 생성'.format(self.major, Student._Student__count)\n",
    "    @classmethod\n",
    "    def get_count(cls): # 클래스 변수나 static 변수를 이용하는 logic\n",
    "        return cls.__count\n",
    "        # return Student._Student__count"
   ]
  },
  {
   "cell_type": "code",
   "execution_count": 11,
   "id": "058e0690",
   "metadata": {},
   "outputs": [
    {
     "name": "stdout",
     "output_type": "stream",
     "text": [
      "Person 객체 생성(부모 클래스)\n",
      "홍길동님은 남자입니다. 전공은 컴공 - 클래스명 타입 객체 1번 생성\n",
      "클래스명 타입 객체 생성 횟수 : 1\n"
     ]
    }
   ],
   "source": [
    "s1 = Student('홍길동', '남자', '컴공')\n",
    "print(s1)\n",
    "print('클래스명 타입 객체 생성 횟수 :', Student.get_count()) # 클래스 함수는 클래스명.클래스 함수() empfehlenswert!"
   ]
  },
  {
   "cell_type": "code",
   "execution_count": 12,
   "id": "df9d88ce",
   "metadata": {},
   "outputs": [
    {
     "name": "stdout",
     "output_type": "stream",
     "text": [
      "Person 객체 생성(부모 클래스)\n",
      "홍길숙님은 여자입니다. 전공은 컴공 - 클래스명 타입 객체 2번 생성\n",
      "클래스명 타입 객체 생성 횟수 : 2\n"
     ]
    }
   ],
   "source": [
    "s2 = Student('홍길숙', '여자', '컴공')\n",
    "print(s2)\n",
    "print('클래스명 타입 객체 생성 횟수 :', Student.get_count()) "
   ]
  },
  {
   "cell_type": "code",
   "execution_count": 13,
   "id": "30ced5d2",
   "metadata": {},
   "outputs": [],
   "source": [
    "del s1"
   ]
  },
  {
   "cell_type": "code",
   "execution_count": 14,
   "id": "fcaf26f9",
   "metadata": {},
   "outputs": [
    {
     "name": "stdout",
     "output_type": "stream",
     "text": [
      "클래스명 타입 객체 생성 횟수 : 1\n"
     ]
    }
   ],
   "source": [
    "print('클래스명 타입 객체 생성 횟수 :', Student.get_count()) "
   ]
  },
  {
   "cell_type": "code",
   "execution_count": 15,
   "id": "2c263763",
   "metadata": {},
   "outputs": [],
   "source": [
    "del s2"
   ]
  },
  {
   "cell_type": "code",
   "execution_count": 16,
   "id": "67c1b691",
   "metadata": {},
   "outputs": [
    {
     "name": "stdout",
     "output_type": "stream",
     "text": [
      "클래스명 타입 객체 생성 횟수 : 0\n"
     ]
    }
   ],
   "source": [
    "print('클래스명 타입 객체 생성 횟수 :', Student.get_count()) "
   ]
  },
  {
   "cell_type": "markdown",
   "id": "b210c774",
   "metadata": {},
   "source": [
    "# 5. 연습문제\n",
    "## 실습형"
   ]
  },
  {
   "cell_type": "code",
   "execution_count": 3,
   "id": "d6be87da",
   "metadata": {},
   "outputs": [],
   "source": [
    "# 1.\n",
    "class Shape():\n",
    "    def __init__(self, x=0, y=0):\n",
    "        self.x = x\n",
    "        self.y = y\n",
    "    def move(self, x, y): # x축으로 얼마나 move할지, y축으로 얼마나 move할지를 받아 move\n",
    "        self.x += x\n",
    "        self.y += y\n",
    "    def calc_area(self): # 호출 시 강제로 예외 발생시키기\n",
    "        raise Exception('예외 메시지') # Exception은 class type 객체\n",
    "    def __str__(self):\n",
    "        return 'x좌표값 : {}, y좌표값 : {}'.format(self.x, self.y)\n",
    "    @staticmethod\n",
    "    def staticmethod_():\n",
    "        print('도형 클래스의 staticmethod 호출')"
   ]
  },
  {
   "cell_type": "code",
   "execution_count": 4,
   "id": "fe591c16",
   "metadata": {},
   "outputs": [],
   "source": [
    "class Triangle(Shape):\n",
    "    __count = 0\n",
    "    def __init__(self, w, h, x=0, y=0):\n",
    "        Triangle._Triangle__count += 1\n",
    "        super().__init__(x, y)\n",
    "        self.w = w\n",
    "        self.h = h\n",
    "    def __del__(self):\n",
    "        Triangle._Triangle__count -= 1\n",
    "    def __str__(self):\n",
    "        return super().__str__() + ', width:{}, height:{}, area:{}'.format(self.w, self.h, self.calc_area()) \n",
    "    def calc_area(self):\n",
    "        return (self.w * self.h) / 2\n",
    "    @classmethod\n",
    "    def get_count(cls):\n",
    "        return cls.__count"
   ]
  },
  {
   "cell_type": "code",
   "execution_count": 5,
   "id": "ef95810b",
   "metadata": {},
   "outputs": [
    {
     "name": "stdout",
     "output_type": "stream",
     "text": [
      "x좌표값 : 0, y좌표값 : 0, width:10, height:20, area:100.0\n",
      "x좌표값 : 5, y좌표값 : 5, width:3, height:4, area:6.0\n",
      "클래스명 타입 객체 갯수 : 2\n"
     ]
    }
   ],
   "source": [
    "t1 = Triangle(10, 20)\n",
    "t2 = Triangle(3, 4, 5, 5)\n",
    "print(t1)\n",
    "print(t2)\n",
    "print('클래스명 타입 객체 갯수 :', Triangle.get_count())"
   ]
  },
  {
   "cell_type": "code",
   "execution_count": 6,
   "id": "0a8719ff",
   "metadata": {},
   "outputs": [
    {
     "name": "stdout",
     "output_type": "stream",
     "text": [
      "x좌표값 : 50, y좌표값 : 50, width:10, height:20, area:100.0\n"
     ]
    }
   ],
   "source": [
    "t1.move(50, 50)\n",
    "print(t1)"
   ]
  },
  {
   "cell_type": "code",
   "execution_count": 7,
   "id": "dd185abb",
   "metadata": {},
   "outputs": [
    {
     "name": "stdout",
     "output_type": "stream",
     "text": [
      "클래스명 타입 객체 갯수 : 0\n"
     ]
    }
   ],
   "source": [
    "del t1, t2\n",
    "print('클래스명 타입 객체 갯수 :', Triangle.get_count())"
   ]
  },
  {
   "cell_type": "markdown",
   "id": "71917ba5",
   "metadata": {},
   "source": [
    "## 서술형"
   ]
  },
  {
   "cell_type": "code",
   "execution_count": 17,
   "id": "03de8993",
   "metadata": {},
   "outputs": [],
   "source": [
    "# 1. 1\n",
    "# 2. 2\n",
    "# 3. 4\n",
    "# 4. 1\n",
    "# 5. 2\n",
    "# 6. 3\n",
    "# 7. 3\n",
    "# 8. 3\n",
    "# 9. 2"
   ]
  }
 ],
 "metadata": {
  "kernelspec": {
   "display_name": "Python 3 (ipykernel)",
   "language": "python",
   "name": "python3"
  },
  "language_info": {
   "codemirror_mode": {
    "name": "ipython",
    "version": 3
   },
   "file_extension": ".py",
   "mimetype": "text/x-python",
   "name": "python",
   "nbconvert_exporter": "python",
   "pygments_lexer": "ipython3",
   "version": "3.10.9"
  },
  "toc": {
   "base_numbering": 1,
   "nav_menu": {},
   "number_sections": false,
   "sideBar": true,
   "skip_h1_title": false,
   "title_cell": "Table of Contents",
   "title_sidebar": "Contents",
   "toc_cell": false,
   "toc_position": {
    "height": "calc(100% - 180px)",
    "left": "10px",
    "top": "150px",
    "width": "325px"
   },
   "toc_section_display": true,
   "toc_window_display": true
  }
 },
 "nbformat": 4,
 "nbformat_minor": 5
}

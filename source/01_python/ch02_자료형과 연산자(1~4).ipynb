{
 "cells": [
  {
   "cell_type": "code",
   "execution_count": 34,
   "id": "d73f9daf",
   "metadata": {},
   "outputs": [
    {
     "data": {
      "text/html": [
       "\n",
       "<style>\n",
       "div.container{width:90% !important;}\n",
       "div.cell.code_cell.rendered{width:100%;}\n",
       "div.input_prompt{padding:0px;}\n",
       "div.CodeMirror {font-family:Consolas; font-size:12pt;}\n",
       "div.text_cell_render.rendered_html{font-size:12pt;}\n",
       "div.output {font-size:12pt; font-weight:bold;}\n",
       "div.input {font-family:Consolas; font-size:12pt;}\n",
       "div.prompt {min-width:70px;}\n",
       "div#toc-wrapper{padding-top:120px;}\n",
       "div.text_cell_render ul li{font-size:12pt;padding:5px;}\n",
       "table.dataframe{font-size:12px;}\n",
       "</style>\n"
      ],
      "text/plain": [
       "<IPython.core.display.HTML object>"
      ]
     },
     "metadata": {},
     "output_type": "display_data"
    }
   ],
   "source": [
    "from IPython.display import display, HTML\n",
    "display(HTML(\"\"\"\n",
    "<style>\n",
    "div.container{width:90% !important;}\n",
    "div.cell.code_cell.rendered{width:100%;}\n",
    "div.input_prompt{padding:0px;}\n",
    "div.CodeMirror {font-family:Consolas; font-size:12pt;}\n",
    "div.text_cell_render.rendered_html{font-size:12pt;}\n",
    "div.output {font-size:12pt; font-weight:bold;}\n",
    "div.input {font-family:Consolas; font-size:12pt;}\n",
    "div.prompt {min-width:70px;}\n",
    "div#toc-wrapper{padding-top:120px;}\n",
    "div.text_cell_render ul li{font-size:12pt;padding:5px;}\n",
    "table.dataframe{font-size:12px;}\n",
    "</style>\n",
    "\"\"\"))"
   ]
  },
  {
   "cell_type": "markdown",
   "id": "1bc67227",
   "metadata": {},
   "source": [
    "<b><font size=\"6\" color=\"red\">ch02. 자료형과 연산자<font></b>\n",
    "    \n",
    "# 1. 변수\n",
    "- 변수: 프로그햄 작업 처리를 위해 값을 저장할 수 있는 메모리 공간\n",
    "- 파이썬은 변수 선언을 위한 타입이 없고 별도의 선언 과정도 없음\n",
    "    \n",
    "## 1.1.변수 할당\n",
    "- 할당 연산자 (=)를 이용해서 값을 할당하면 자료형(타입)이 설정됨\n",
    "- **파이썬에서의 모든 변수는 객체로 저장**"
   ]
  },
  {
   "cell_type": "code",
   "execution_count": 2,
   "id": "22895725",
   "metadata": {},
   "outputs": [
    {
     "name": "stdout",
     "output_type": "stream",
     "text": [
      "넓이 : 78.5\n"
     ]
    }
   ],
   "source": [
    "r = 5 # 오른쪽 값을 왼쪽에 할당\n",
    "area = 3.14 * r * r\n",
    "print('넓이 :', area) # 괄호 > ~를 (함수)하라"
   ]
  },
  {
   "cell_type": "code",
   "execution_count": 16,
   "id": "a16b5904",
   "metadata": {},
   "outputs": [
    {
     "name": "stdout",
     "output_type": "stream",
     "text": [
      "넓이 : 78.53981633974483\n"
     ]
    }
   ],
   "source": [
    "import numpy as np #numpy 패키지를 np라는 이름으로 사용\n",
    "area = np.pi * r * r # . > np 안에 있는 pi 값을 불러오기를 실행\n",
    "print ('넓이 :', area)"
   ]
  },
  {
   "cell_type": "code",
   "execution_count": 12,
   "id": "6b93d255",
   "metadata": {},
   "outputs": [
    {
     "name": "stdout",
     "output_type": "stream",
     "text": [
      "area의 주소 : 2768962716464\n",
      "area의 타입 : <class 'str'>\n"
     ]
    }
   ],
   "source": [
    "print('area의 주소 :', id(area))\n",
    "print('area의 타입 :', type(area))"
   ]
  },
  {
   "cell_type": "code",
   "execution_count": 9,
   "id": "2bcc4970",
   "metadata": {},
   "outputs": [
    {
     "data": {
      "text/plain": [
       "False"
      ]
     },
     "execution_count": 9,
     "metadata": {},
     "output_type": "execute_result"
    }
   ],
   "source": [
    "area.is_integer()"
   ]
  },
  {
   "cell_type": "code",
   "execution_count": 13,
   "id": "50c21e4a",
   "metadata": {},
   "outputs": [
    {
     "name": "stdout",
     "output_type": "stream",
     "text": [
      "area의 주소 : 2768846061808\n",
      "area의 타입 : <class 'int'>\n"
     ]
    }
   ],
   "source": [
    "area = 1\n",
    "print('area의 주소 :', id(area))\n",
    "print('area의 타입 :', type(area))"
   ]
  },
  {
   "cell_type": "code",
   "execution_count": 14,
   "id": "687b01ba",
   "metadata": {},
   "outputs": [
    {
     "name": "stdout",
     "output_type": "stream",
     "text": [
      "area의 주소 : 2768962718384\n",
      "area의 타입 : <class 'str'>\n"
     ]
    }
   ],
   "source": [
    "area = \"파이썬\"\n",
    "print('area의 주소 :', id(area))\n",
    "print('area의 타입 :', type(area))"
   ]
  },
  {
   "cell_type": "markdown",
   "id": "9e625b7e",
   "metadata": {},
   "source": [
    "## 1.2.변수(함수) 이름 규칙\n",
    "- 문자로 시작\n",
    "- 문자(특수문자는 _ 외에는 불가), 숫자 혹은 _로 변수명 작성\n",
    "- 함수명은 변수명으로 가능하나 피하고 꼭 써야 한다면 str_ 형태로 사용\n",
    "- 파이썬 예약어(for, if,...)는 변수명으로 사용 불가\n",
    "- 한국어로 된 변수명은 꼭 필요시에만 사용\n",
    "- 두 단어는 _로 연결 혹은 두 번째 단어 첫 문자를 대문자로 #member_name; memberName"
   ]
  },
  {
   "cell_type": "code",
   "execution_count": 18,
   "id": "4744e050",
   "metadata": {},
   "outputs": [
    {
     "name": "stdout",
     "output_type": "stream",
     "text": [
      "<class 'complex'>\n"
     ]
    }
   ],
   "source": [
    "# 숫자 : 정수, 실수, 복소수\n",
    "i = 1 + 3j #복소수\n",
    "print(type(i))"
   ]
  },
  {
   "cell_type": "code",
   "execution_count": 21,
   "id": "761d7e22",
   "metadata": {},
   "outputs": [
    {
     "data": {
      "text/plain": [
       "True"
      ]
     },
     "execution_count": 21,
     "metadata": {},
     "output_type": "execute_result"
    }
   ],
   "source": [
    "isinstance(i, complex) # i 변수가 complex 타입의 객체인지를 판단"
   ]
  },
  {
   "cell_type": "code",
   "execution_count": 22,
   "id": "118b1664",
   "metadata": {},
   "outputs": [
    {
     "data": {
      "text/plain": [
       "False"
      ]
     },
     "execution_count": 22,
     "metadata": {},
     "output_type": "execute_result"
    }
   ],
   "source": [
    "isinstance(i, int) # i 변수가 int 타입의 객체인지를 판단"
   ]
  },
  {
   "cell_type": "markdown",
   "id": "70b14b64",
   "metadata": {},
   "source": [
    "## 1.3.다중 변수 선언"
   ]
  },
  {
   "cell_type": "code",
   "execution_count": 23,
   "id": "ff7ce03d",
   "metadata": {},
   "outputs": [],
   "source": [
    "a = 10\n",
    "b = 20"
   ]
  },
  {
   "cell_type": "code",
   "execution_count": 24,
   "id": "a593a806",
   "metadata": {},
   "outputs": [
    {
     "name": "stdout",
     "output_type": "stream",
     "text": [
      "10 20\n"
     ]
    }
   ],
   "source": [
    "a, b = 10, 20\n",
    "print(a, b)"
   ]
  },
  {
   "cell_type": "code",
   "execution_count": 31,
   "id": "be6cbcee",
   "metadata": {},
   "outputs": [
    {
     "name": "stdout",
     "output_type": "stream",
     "text": [
      "50 80\n"
     ]
    }
   ],
   "source": [
    "a, b = b, a+b # 다중 변수 할당시 순차적 할당이 아니고 일괄 동시 할당 (entsprechende Zuweisungen erfolgen nicht konsekutiv, sondern simultan!)\n",
    "print(a, b) # 3번 실행함 (drei Wiederholungen)"
   ]
  },
  {
   "cell_type": "markdown",
   "id": "82ae9579",
   "metadata": {},
   "source": [
    "## 1.4.도움말"
   ]
  },
  {
   "cell_type": "code",
   "execution_count": 27,
   "id": "aa0e6187",
   "metadata": {},
   "outputs": [
    {
     "name": "stdout",
     "output_type": "stream",
     "text": [
      "Help on built-in function print in module builtins:\n",
      "\n",
      "print(...)\n",
      "    print(value, ..., sep=' ', end='\\n', file=sys.stdout, flush=False)\n",
      "    \n",
      "    Prints the values to a stream, or to sys.stdout by default.\n",
      "    Optional keyword arguments:\n",
      "    file:  a file-like object (stream); defaults to the current sys.stdout.\n",
      "    sep:   string inserted between values, default a space.\n",
      "    end:   string appended after the last value, default a newline.\n",
      "    flush: whether to forcibly flush the stream.\n",
      "\n"
     ]
    }
   ],
   "source": [
    "help(print)"
   ]
  },
  {
   "cell_type": "code",
   "execution_count": 29,
   "id": "f74f367d",
   "metadata": {},
   "outputs": [
    {
     "name": "stdout",
     "output_type": "stream",
     "text": [
      "\n",
      "Welcome to Python 3.10's help utility!\n",
      "\n",
      "If this is your first time using Python, you should definitely check out\n",
      "the tutorial on the internet at https://docs.python.org/3.10/tutorial/.\n",
      "\n",
      "Enter the name of any module, keyword, or topic to get help on writing\n",
      "Python programs and using Python modules.  To quit this help utility and\n",
      "return to the interpreter, just type \"quit\".\n",
      "\n",
      "To get a list of available modules, keywords, symbols, or topics, type\n",
      "\"modules\", \"keywords\", \"symbols\", or \"topics\".  Each module also comes\n",
      "with a one-line summary of what it does; to list the modules whose name\n",
      "or summary contain a given string such as \"spam\", type \"modules spam\".\n",
      "\n",
      "help> ㅂ\n",
      "No Python documentation found for 'ㅂ'.\n",
      "Use help() to get the interactive help utility.\n",
      "Use help(str) for help on the str class.\n",
      "\n",
      "help> q\n",
      "\n",
      "You are now leaving help and returning to the Python interpreter.\n",
      "If you want to ask for help on a particular object directly from the\n",
      "interpreter, you can type \"help(object)\".  Executing \"help('string')\"\n",
      "has the same effect as typing a particular string at the help> prompt.\n"
     ]
    }
   ],
   "source": [
    "help() #help를 빠져 나오려면 q를 입력 & Esc + o로 결과를 보거나 접기 "
   ]
  },
  {
   "cell_type": "code",
   "execution_count": 33,
   "id": "2cceb355",
   "metadata": {},
   "outputs": [
    {
     "name": "stdout",
     "output_type": "stream",
     "text": [
      "\n"
     ]
    }
   ],
   "source": [
    "# 도움말 기능 : shift + tab 키 \n",
    "# print(shift + tab 키 1회 혹은 2회)\n",
    "print()"
   ]
  },
  {
   "cell_type": "code",
   "execution_count": 34,
   "id": "5ab853ac",
   "metadata": {},
   "outputs": [],
   "source": [
    "def add(x, y=0):\n",
    "    '''\n",
    "    매개 변수 (x, y) 2개를 받아 두자리 숫자로 만드는 함수\n",
    "    x = 10의 자릿수가 되고\n",
    "    y = 1의 자릿수가 됨(default값 = 0)\n",
    "    '''\n",
    "    return x*10 + y"
   ]
  },
  {
   "cell_type": "code",
   "execution_count": 35,
   "id": "ab61dce6",
   "metadata": {},
   "outputs": [
    {
     "data": {
      "text/plain": [
       "34"
      ]
     },
     "execution_count": 35,
     "metadata": {},
     "output_type": "execute_result"
    }
   ],
   "source": [
    "add(3, 4)"
   ]
  },
  {
   "cell_type": "code",
   "execution_count": 36,
   "id": "f1af95b9",
   "metadata": {},
   "outputs": [
    {
     "data": {
      "text/plain": [
       "30"
      ]
     },
     "execution_count": 36,
     "metadata": {},
     "output_type": "execute_result"
    }
   ],
   "source": [
    "add(3)"
   ]
  },
  {
   "cell_type": "markdown",
   "id": "118532ce",
   "metadata": {},
   "source": [
    "# 2. 화면i/o"
   ]
  },
  {
   "cell_type": "code",
   "execution_count": 37,
   "id": "c5a7c3ad",
   "metadata": {},
   "outputs": [
    {
     "name": "stdout",
     "output_type": "stream",
     "text": [
      "아무거나\n",
      "아무거나\n"
     ]
    }
   ],
   "source": [
    "# input() : 사용자로부터 값을 입력받기 위한 함수. 입력값은 !문자(str)!로 받음\n",
    "first = input()\n",
    "print(first)"
   ]
  },
  {
   "cell_type": "code",
   "execution_count": 38,
   "id": "9e440e36",
   "metadata": {},
   "outputs": [
    {
     "name": "stdout",
     "output_type": "stream",
     "text": [
      "첫번째 숫자는?7\n",
      "두번째 숫자는?3\n"
     ]
    }
   ],
   "source": [
    "first = input('첫번째 숫자는?')\n",
    "second = input('두번째 숫자는?')"
   ]
  },
  {
   "cell_type": "code",
   "execution_count": 40,
   "id": "2675e90a",
   "metadata": {},
   "outputs": [
    {
     "name": "stdout",
     "output_type": "stream",
     "text": [
      "두 수의 합은 73\n"
     ]
    }
   ],
   "source": [
    "print('두 수의 합은', first+second)"
   ]
  },
  {
   "cell_type": "code",
   "execution_count": 41,
   "id": "c9a077ac",
   "metadata": {},
   "outputs": [
    {
     "name": "stdout",
     "output_type": "stream",
     "text": [
      "첫번째 숫자는?7\n",
      "두번째 숫자는?3\n"
     ]
    }
   ],
   "source": [
    "first = int(input('첫번째 숫자는?'))\n",
    "second = int(input('두번째 숫자는?'))"
   ]
  },
  {
   "cell_type": "code",
   "execution_count": 42,
   "id": "496d9e01",
   "metadata": {},
   "outputs": [
    {
     "name": "stdout",
     "output_type": "stream",
     "text": [
      "두 수의 합은 10\n"
     ]
    }
   ],
   "source": [
    "print('두 수의 합은', first+second)"
   ]
  },
  {
   "cell_type": "code",
   "execution_count": 45,
   "id": "d1262b33",
   "metadata": {},
   "outputs": [
    {
     "name": "stdout",
     "output_type": "stream",
     "text": [
      "first - 7 - second - 3\tHello Python\n"
     ]
    }
   ],
   "source": [
    "print('first', first, 'second', second, sep=' - ', end='\\t')\n",
    "print('Hello', 'Python', sep=' ')"
   ]
  },
  {
   "cell_type": "code",
   "execution_count": 46,
   "id": "d1c8f6f5",
   "metadata": {},
   "outputs": [
    {
     "name": "stdout",
     "output_type": "stream",
     "text": [
      "first - 7 - second - 3\n",
      "Hello Python\n"
     ]
    }
   ],
   "source": [
    "print('first', first, 'second', second, sep=' - ', end='\\n')\n",
    "print('Hello', 'Python', sep=' ')"
   ]
  },
  {
   "cell_type": "markdown",
   "id": "f147faf7",
   "metadata": {},
   "source": [
    "# 3. 기본 자료형\n",
    "- 자료형: 변수가 가져야 할 값의 형식 (자료형에 따라 값의 크기와 저장 방식이 달라짐)\n",
    "- 자료형에 따라 수행할 수 있는 명령어들이 달라짐\n",
    "    - 숫자 : int(4), float(4.0), complex(허수부 j)\n",
    "    - 문자 : str('', \"\")\n",
    "    - 논리 : bool(True/False)\n",
    "\n",
    "## 3.1.숫자형"
   ]
  },
  {
   "cell_type": "code",
   "execution_count": 1,
   "id": "21805c82",
   "metadata": {},
   "outputs": [
    {
     "name": "stdout",
     "output_type": "stream",
     "text": [
      "9223372036854775807\n"
     ]
    }
   ],
   "source": [
    "import sys\n",
    "print(sys.maxsize) # 정수의 최대값 : 2**63 - 1"
   ]
  },
  {
   "cell_type": "code",
   "execution_count": 2,
   "id": "5264baef",
   "metadata": {},
   "outputs": [
    {
     "data": {
      "text/plain": [
       "9223372036854775807"
      ]
     },
     "execution_count": 2,
     "metadata": {},
     "output_type": "execute_result"
    }
   ],
   "source": [
    "2**63 - 1"
   ]
  },
  {
   "cell_type": "code",
   "execution_count": 5,
   "id": "77553a55",
   "metadata": {},
   "outputs": [
    {
     "data": {
      "text/plain": [
       "9223372036854775907"
      ]
     },
     "execution_count": 5,
     "metadata": {},
     "output_type": "execute_result"
    }
   ],
   "source": [
    "i = sys.maxsize + 100\n",
    "i"
   ]
  },
  {
   "cell_type": "code",
   "execution_count": 6,
   "id": "21acb3e3",
   "metadata": {},
   "outputs": [
    {
     "name": "stdout",
     "output_type": "stream",
     "text": [
      "<class 'int'>\n"
     ]
    }
   ],
   "source": [
    "print(type(i))"
   ]
  },
  {
   "cell_type": "code",
   "execution_count": 9,
   "id": "c96c7635",
   "metadata": {},
   "outputs": [
    {
     "name": "stdout",
     "output_type": "stream",
     "text": [
      "1.2e+20\n"
     ]
    }
   ],
   "source": [
    "f = 1.2e-20 # 지수형 1.2*10의 -20승\n",
    "f\n",
    "b = 1.2e20 # 지수형 1.2의 10의 20승\n",
    "print(b)"
   ]
  },
  {
   "cell_type": "code",
   "execution_count": 11,
   "id": "41ecf5b8",
   "metadata": {},
   "outputs": [
    {
     "name": "stdout",
     "output_type": "stream",
     "text": [
      "f = 2.0\n"
     ]
    }
   ],
   "source": [
    "# 파이썬에서는 /의 결과는 무조건 실수 \n",
    "f = 4/2\n",
    "print('f =', f)"
   ]
  },
  {
   "cell_type": "code",
   "execution_count": 16,
   "id": "cf9e6c13",
   "metadata": {},
   "outputs": [
    {
     "name": "stdout",
     "output_type": "stream",
     "text": [
      "f = 1\n"
     ]
    }
   ],
   "source": [
    "#  자바, c, c++처럼 정수/정수 결과를 정수로\n",
    "f = int(3/2) # int() : int로 형 변환 (내림)\n",
    "print('f =', f)"
   ]
  },
  {
   "cell_type": "code",
   "execution_count": 15,
   "id": "f5ff4136",
   "metadata": {},
   "outputs": [
    {
     "name": "stdout",
     "output_type": "stream",
     "text": [
      "f = 1\n"
     ]
    }
   ],
   "source": [
    "f = 3//2 # 몫 연산자\n",
    "print('f =', f)"
   ]
  },
  {
   "cell_type": "markdown",
   "id": "5a0a51eb",
   "metadata": {},
   "source": [
    "## 3.2.문자형\n",
    "겹따옴표나 홑따옴표 사용"
   ]
  },
  {
   "cell_type": "code",
   "execution_count": 17,
   "id": "c259dc0e",
   "metadata": {},
   "outputs": [],
   "source": [
    "name = \"홍길동'짱'\" # 홍길동'짱'"
   ]
  },
  {
   "cell_type": "code",
   "execution_count": 18,
   "id": "01eb7a64",
   "metadata": {},
   "outputs": [
    {
     "name": "stdout",
     "output_type": "stream",
     "text": [
      "홍길동'짱'\n"
     ]
    }
   ],
   "source": [
    "print(name)"
   ]
  },
  {
   "cell_type": "code",
   "execution_count": 19,
   "id": "220fd331",
   "metadata": {},
   "outputs": [
    {
     "name": "stdout",
     "output_type": "stream",
     "text": [
      "홍길동'짱' 서울시 관악구 \"신림\"동\n"
     ]
    }
   ],
   "source": [
    "address = '서울시 관악구 \"신림\"동'\n",
    "print(name, address)"
   ]
  },
  {
   "cell_type": "code",
   "execution_count": 22,
   "id": "0adbb3dc",
   "metadata": {},
   "outputs": [
    {
     "name": "stdout",
     "output_type": "stream",
     "text": [
      "여러 줄\t짜리 내용을 저장\n",
      "줄바꿈 문자를 쓰면 됨\n",
      "줄바꿈\n"
     ]
    }
   ],
   "source": [
    "# escape 문자(탈출문자) : \\n, \\t\n",
    "text = '여러 줄\\t짜리 내용을 저장\\n줄바꿈 문자를 쓰면 됨\\n줄바꿈'\n",
    "print(text)"
   ]
  },
  {
   "cell_type": "code",
   "execution_count": 24,
   "id": "54b9028e",
   "metadata": {},
   "outputs": [
    {
     "name": "stdout",
     "output_type": "stream",
     "text": [
      "여러 줄\t짜리 내용을 저장\n",
      "줄바꿈 문자를 쓰면 됨\n",
      "줄바꿈\n"
     ]
    }
   ],
   "source": [
    "text = '''여러 줄\\t짜리 내용을 저장\n",
    "줄바꿈 문자를 쓰면 됨\n",
    "줄바꿈'''\n",
    "print(text)"
   ]
  },
  {
   "cell_type": "markdown",
   "id": "0466f95b",
   "metadata": {},
   "source": [
    "### ※ 문자열 연산(+, *)"
   ]
  },
  {
   "cell_type": "code",
   "execution_count": 25,
   "id": "b790f98b",
   "metadata": {},
   "outputs": [
    {
     "name": "stdout",
     "output_type": "stream",
     "text": [
      "홍길동동해번쩍\n"
     ]
    }
   ],
   "source": [
    "\"\"\"\n",
    "    여러 줄 주석 용도\n",
    "    2025.09.12 문자열 연산 by 아무개\n",
    "\"\"\"\n",
    "name1 = \"홍길동\"\n",
    "name2 = \"동해번쩍\"\n",
    "print(name1 + name2)"
   ]
  },
  {
   "cell_type": "code",
   "execution_count": 26,
   "id": "d3e5b6a8",
   "metadata": {},
   "outputs": [
    {
     "name": "stdout",
     "output_type": "stream",
     "text": [
      "홍길동홍길동홍길동\n"
     ]
    }
   ],
   "source": [
    "print(name1 * 3)"
   ]
  },
  {
   "cell_type": "code",
   "execution_count": 29,
   "id": "8a12215f",
   "metadata": {},
   "outputs": [
    {
     "name": "stdout",
     "output_type": "stream",
     "text": [
      "동해번쩍동해번쩍동해번쩍\n"
     ]
    }
   ],
   "source": [
    "print(name2 * 3)"
   ]
  },
  {
   "cell_type": "markdown",
   "id": "14f8c964",
   "metadata": {},
   "source": [
    "### ※ raw 데이터\n",
    "- 용도 : 정규 표현식 이용, 디렉토리 경로를 표현 시 사용"
   ]
  },
  {
   "cell_type": "code",
   "execution_count": 33,
   "id": "a6907110",
   "metadata": {},
   "outputs": [
    {
     "name": "stdout",
     "output_type": "stream",
     "text": [
      "Hello\\nWorld\n"
     ]
    }
   ],
   "source": [
    "# raw 데이터 : 데이터 처리 시 탈출문자(\\n, \\t, \\', \\\")를 그대로 저장\n",
    "print(r'Hello\\nWorld')"
   ]
  },
  {
   "cell_type": "markdown",
   "id": "474c1598",
   "metadata": {},
   "source": [
    "정규 표현식(regex)\n",
    "\n",
    "    1. 참조 : https://ko.wikipedia.org/wiki/%EC%A0%95%EA%B7%9C_%ED%91%9C%ED%98%84%EC%8B%9D\n",
    "    2. 간략문법\n",
    "        \\d (숫자와 매치) > [0-9]와 동일\n",
    "        \\D (숫자가 아닌 것)\n",
    "        \\w (영문자와 숫자) [a-zA-Z0-9]와 동일) \n",
    "        \\W (영문자도 숫자도 아닌 문자)\n",
    "         . (문자)\n",
    "        \\. (.)\n",
    "        \\- (-)\n",
    "        {2,} (2번 이상 반복)\n",
    "        {2,4} (2~4회 반복)\n",
    "        ? (0번이나 1번을 의미)\n",
    "        + (1번 이상 반복)\n",
    "        * (0번 이상 반복)\n",
    "    3. 정규 표현식 연습장 : https://regexr.com/\n",
    "        ex1. 전화번호 : 02 888 7777 / 028887777 / 010-9999-9999 / 010.9999.9999 / 02)999-9999\n",
    "        => 0\\d{1,2}[ \\-\\.)]?\\d{3,4}[ \\-\\.]?\\d{4}\n",
    "        => (02|031|010)[ \\-\\.)]?\\d{3,4}[ \\-\\.]?\\d{4}\n",
    "        ex2. 이메일 : abc12@naver.com / abc12@sns.co.kr\n",
    "        => \\w+@\\w+(\\.\\w+){1,2}\n",
    "        ex3. 주민번호 : 981212-1052525\n",
    "        => \\d{2}(0[1-9]|1[0-2])(0[1-9]|[12]\\d|30|31)-[1-4]\\d{6}\n",
    "    4. 소스 구현"
   ]
  },
  {
   "cell_type": "code",
   "execution_count": 37,
   "id": "3ce1b5ba",
   "metadata": {},
   "outputs": [
    {
     "name": "stdout",
     "output_type": "stream",
     "text": [
      "이름:홍길동, 주소:서울, 전화:02-888-8888, 핸드폰:010-9999-9999, 특징:동해번쩍 서해번쩍 혈액형:Bㅋㅋ ㅋㅋzz\n"
     ]
    }
   ],
   "source": [
    "import re\n",
    "data = \"이름:홍길동, 주소:서울, 전화:02-888-8888, \\\n",
    "핸드폰:010-9999-9999, 특징:동해번쩍 서해번쩍 \\\n",
    "혈액형:Bㅋㅋ ㅋㅋzz\"\n",
    "print(data)"
   ]
  },
  {
   "cell_type": "code",
   "execution_count": 40,
   "id": "12cae982",
   "metadata": {},
   "outputs": [
    {
     "data": {
      "text/plain": [
       "['02-888-8888', '010-9999-9999']"
      ]
     },
     "execution_count": 40,
     "metadata": {},
     "output_type": "execute_result"
    }
   ],
   "source": [
    "# 정규 표현식 처리에서는 raw데이터 처리를 하지 않아도 실행은 되나 \n",
    "# 실수를 줄이고 가독성을 높이는 용도로 raw데이터 처리를 사용\n",
    "tel_pattern = r\"0\\d{1,2}[ \\-\\.)]?\\d{3,4}[ \\-\\.]?\\d{4}\"\n",
    "tels = re.findall(tel_pattern, data) # 해당 패턴을 다 찾아줌. 없으면 빈 list를 반환함\n",
    "tels"
   ]
  },
  {
   "cell_type": "code",
   "execution_count": 41,
   "id": "4d146539",
   "metadata": {},
   "outputs": [
    {
     "data": {
      "text/plain": [
       "[]"
      ]
     },
     "execution_count": 41,
     "metadata": {},
     "output_type": "execute_result"
    }
   ],
   "source": [
    "email_pattern = r\"\\w+@\\w+(\\.\\w+){1,2}\"\n",
    "emails = re.findall(email_pattern, data)\n",
    "emails"
   ]
  },
  {
   "cell_type": "code",
   "execution_count": 43,
   "id": "417be79c",
   "metadata": {},
   "outputs": [
    {
     "data": {
      "text/plain": [
       "<re.Match object; span=(18, 29), match='02-888-8888'>"
      ]
     },
     "execution_count": 43,
     "metadata": {},
     "output_type": "execute_result"
    }
   ],
   "source": [
    "# 정규 표현식 패턴과 처음 match되는 것을 찾아줘\n",
    "firstTel = re.search(tel_pattern, data)\n",
    "firstTel"
   ]
  },
  {
   "cell_type": "code",
   "execution_count": 46,
   "id": "51d6792b",
   "metadata": {},
   "outputs": [
    {
     "name": "stdout",
     "output_type": "stream",
     "text": [
      "02-888-8888\n",
      "02-888-8888\n"
     ]
    }
   ],
   "source": [
    "print(data[18:29]) #문자열 슬라이싱\n",
    "print(firstTel.group(0))"
   ]
  },
  {
   "cell_type": "code",
   "execution_count": 47,
   "id": "41f8a787",
   "metadata": {},
   "outputs": [
    {
     "data": {
      "text/plain": [
       "<re.Match object; span=(18, 29), match='02-888-8888'>"
      ]
     },
     "execution_count": 47,
     "metadata": {},
     "output_type": "execute_result"
    }
   ],
   "source": [
    "tel_pattern = r\"(\\d{2,3})-(\\d{3,4})-(\\d{4})\"\n",
    "\n",
    "firstPhone = re.search(tel_pattern, data)\n",
    "firstPhone"
   ]
  },
  {
   "cell_type": "code",
   "execution_count": 48,
   "id": "ce9feaac",
   "metadata": {},
   "outputs": [
    {
     "name": "stdout",
     "output_type": "stream",
     "text": [
      "전체 전화번호 : 02-888-8888\n",
      "국번 : 02\n",
      "중간번호 : 888\n",
      "끝 번호 : 8888\n"
     ]
    }
   ],
   "source": [
    "print('전체 전화번호 :', firstPhone.group(0))\n",
    "print('국번 :', firstPhone.group(1))\n",
    "print('중간번호 :', firstPhone.group(2))\n",
    "print('끝 번호 :', firstPhone.group(3))"
   ]
  },
  {
   "cell_type": "code",
   "execution_count": 51,
   "id": "2b366a60",
   "metadata": {},
   "outputs": [
    {
     "data": {
      "text/plain": [
       "'이름 홍길동  주소 서울  전화 02 888 8888  핸드폰 010 9999 9999  특징 동해번쩍 서해번쩍 혈액형 B       '"
      ]
     },
     "execution_count": 51,
     "metadata": {},
     "output_type": "execute_result"
    }
   ],
   "source": [
    "# data에서 특정한 데이터 없애기\n",
    "re.sub(\"[^가-힣0-9A-Z\\s]\", ' ', data)"
   ]
  },
  {
   "cell_type": "code",
   "execution_count": null,
   "id": "16632eef",
   "metadata": {},
   "outputs": [],
   "source": []
  },
  {
   "cell_type": "code",
   "execution_count": null,
   "id": "240e5622",
   "metadata": {},
   "outputs": [],
   "source": []
  },
  {
   "cell_type": "code",
   "execution_count": null,
   "id": "830159b6",
   "metadata": {},
   "outputs": [],
   "source": []
  },
  {
   "cell_type": "code",
   "execution_count": null,
   "id": "63bf163e",
   "metadata": {},
   "outputs": [],
   "source": []
  },
  {
   "cell_type": "code",
   "execution_count": null,
   "id": "9448a4b6",
   "metadata": {},
   "outputs": [],
   "source": []
  },
  {
   "cell_type": "code",
   "execution_count": null,
   "id": "120ad715",
   "metadata": {},
   "outputs": [],
   "source": []
  }
 ],
 "metadata": {
  "kernelspec": {
   "display_name": "Python 3 (ipykernel)",
   "language": "python",
   "name": "python3"
  },
  "language_info": {
   "codemirror_mode": {
    "name": "ipython",
    "version": 3
   },
   "file_extension": ".py",
   "mimetype": "text/x-python",
   "name": "python",
   "nbconvert_exporter": "python",
   "pygments_lexer": "ipython3",
   "version": "3.10.9"
  },
  "toc": {
   "base_numbering": 1,
   "nav_menu": {},
   "number_sections": false,
   "sideBar": true,
   "skip_h1_title": false,
   "title_cell": "Table of Contents",
   "title_sidebar": "Contents",
   "toc_cell": false,
   "toc_position": {
    "height": "calc(100% - 180px)",
    "left": "10px",
    "top": "150px",
    "width": "260px"
   },
   "toc_section_display": true,
   "toc_window_display": true
  }
 },
 "nbformat": 4,
 "nbformat_minor": 5
}

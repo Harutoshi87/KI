{
 "cells": [
  {
   "cell_type": "code",
   "execution_count": 113,
   "id": "a85cb698",
   "metadata": {},
   "outputs": [
    {
     "data": {
      "text/html": [
       "\n",
       "<style>\n",
       "div.container{width:90% !important;}\n",
       "div.cell.code_cell.rendered{width:100%;}\n",
       "div.input_prompt{padding:0px;}\n",
       "div.CodeMirror {font-family:Consolas; font-size:12pt;}\n",
       "div.text_cell_render.rendered_html{font-size:12pt;}\n",
       "div.output {font-size:12pt; font-weight:bold;}\n",
       "div.input {font-family:Consolas; font-size:12pt;}\n",
       "div.prompt {min-width:70px;}\n",
       "div#toc-wrapper{padding-top:120px;}\n",
       "div.text_cell_render ul li{font-size:12pt;padding:5px;}\n",
       "table.dataframe{font-size:12px;}\n",
       "</style>\n"
      ],
      "text/plain": [
       "<IPython.core.display.HTML object>"
      ]
     },
     "metadata": {},
     "output_type": "display_data"
    }
   ],
   "source": [
    "from IPython.display import display, HTML\n",
    "display(HTML(\"\"\"\n",
    "<style>\n",
    "div.container{width:90% !important;}\n",
    "div.cell.code_cell.rendered{width:100%;}\n",
    "div.input_prompt{padding:0px;}\n",
    "div.CodeMirror {font-family:Consolas; font-size:12pt;}\n",
    "div.text_cell_render.rendered_html{font-size:12pt;}\n",
    "div.output {font-size:12pt; font-weight:bold;}\n",
    "div.input {font-family:Consolas; font-size:12pt;}\n",
    "div.prompt {min-width:70px;}\n",
    "div#toc-wrapper{padding-top:120px;}\n",
    "div.text_cell_render ul li{font-size:12pt;padding:5px;}\n",
    "table.dataframe{font-size:12px;}\n",
    "</style>\n",
    "\"\"\"))"
   ]
  },
  {
   "cell_type": "markdown",
   "id": "905d6623",
   "metadata": {},
   "source": [
    "<b><font size=\"6\" color=\"red\">ch10. N차원 배열(Numpy 배열) 다루기(4절~6절)</font></b>"
   ]
  },
  {
   "cell_type": "markdown",
   "id": "129bc9bc",
   "metadata": {},
   "source": [
    "# 4. copy 및 view\n",
    "## 4.1.할당(assignment)"
   ]
  },
  {
   "cell_type": "code",
   "execution_count": 2,
   "id": "86fe4adb",
   "metadata": {},
   "outputs": [],
   "source": [
    "import numpy as np"
   ]
  },
  {
   "cell_type": "code",
   "execution_count": 3,
   "id": "fbdb13e1",
   "metadata": {},
   "outputs": [
    {
     "data": {
      "text/plain": [
       "array([ 0,  1,  2,  3,  4,  5,  6,  7,  8,  9, 10, 11])"
      ]
     },
     "execution_count": 3,
     "metadata": {},
     "output_type": "execute_result"
    }
   ],
   "source": [
    "a = np.arange(12)\n",
    "a"
   ]
  },
  {
   "cell_type": "code",
   "execution_count": 4,
   "id": "7a5d4d26",
   "metadata": {},
   "outputs": [],
   "source": [
    "b = a"
   ]
  },
  {
   "cell_type": "code",
   "execution_count": 5,
   "id": "49ceabbc",
   "metadata": {},
   "outputs": [
    {
     "data": {
      "text/plain": [
       "((12,), 1, 2414634710384, numpy.ndarray)"
      ]
     },
     "execution_count": 5,
     "metadata": {},
     "output_type": "execute_result"
    }
   ],
   "source": [
    "a.shape, a.ndim, id(a), type(a)"
   ]
  },
  {
   "cell_type": "code",
   "execution_count": 6,
   "id": "1fe28c7f",
   "metadata": {},
   "outputs": [
    {
     "data": {
      "text/plain": [
       "((12,), 1, 2414634710384, numpy.ndarray)"
      ]
     },
     "execution_count": 6,
     "metadata": {},
     "output_type": "execute_result"
    }
   ],
   "source": [
    "b.shape, b.ndim, id(b), type(b)"
   ]
  },
  {
   "cell_type": "code",
   "execution_count": 7,
   "id": "22057910",
   "metadata": {},
   "outputs": [
    {
     "data": {
      "text/plain": [
       "True"
      ]
     },
     "execution_count": 7,
     "metadata": {},
     "output_type": "execute_result"
    }
   ],
   "source": [
    "a is b # 동일 객체"
   ]
  },
  {
   "cell_type": "code",
   "execution_count": 8,
   "id": "48d028d6",
   "metadata": {},
   "outputs": [
    {
     "data": {
      "text/plain": [
       "array([ True,  True,  True,  True,  True,  True,  True,  True,  True,\n",
       "        True,  True,  True])"
      ]
     },
     "execution_count": 8,
     "metadata": {},
     "output_type": "execute_result"
    }
   ],
   "source": [
    "a==b"
   ]
  },
  {
   "cell_type": "code",
   "execution_count": 10,
   "id": "0e4be3f0",
   "metadata": {},
   "outputs": [
    {
     "data": {
      "text/plain": [
       "True"
      ]
     },
     "execution_count": 10,
     "metadata": {},
     "output_type": "execute_result"
    }
   ],
   "source": [
    "np.all(a==b)"
   ]
  },
  {
   "cell_type": "code",
   "execution_count": 11,
   "id": "6b7abd2c",
   "metadata": {},
   "outputs": [],
   "source": [
    "b.shape = (3,4) # 할당받은 b의 shape를 수정"
   ]
  },
  {
   "cell_type": "code",
   "execution_count": 12,
   "id": "bbaaae7b",
   "metadata": {},
   "outputs": [
    {
     "data": {
      "text/plain": [
       "((3, 4), 2, 2414634710384, numpy.ndarray)"
      ]
     },
     "execution_count": 12,
     "metadata": {},
     "output_type": "execute_result"
    }
   ],
   "source": [
    "a.shape, a.ndim, id(a), type(a)"
   ]
  },
  {
   "cell_type": "code",
   "execution_count": 13,
   "id": "e7667e6d",
   "metadata": {},
   "outputs": [
    {
     "data": {
      "text/plain": [
       "((3, 4), 2, 2414634710384, numpy.ndarray)"
      ]
     },
     "execution_count": 13,
     "metadata": {},
     "output_type": "execute_result"
    }
   ],
   "source": [
    "b.shape, b.ndim, id(b), type(b)"
   ]
  },
  {
   "cell_type": "markdown",
   "id": "5120025c",
   "metadata": {},
   "source": [
    "## 4.2.얕은 복사 : 뷰(view : 데이터의 틀) -> copy=False"
   ]
  },
  {
   "cell_type": "code",
   "execution_count": 17,
   "id": "bbb544f8",
   "metadata": {},
   "outputs": [
    {
     "data": {
      "text/plain": [
       "array([[ 0,  1,  2,  3],\n",
       "       [ 4,  5,  6,  7],\n",
       "       [ 8,  9, 10, 11]])"
      ]
     },
     "execution_count": 17,
     "metadata": {},
     "output_type": "execute_result"
    }
   ],
   "source": [
    "a = np.arange(12).reshape(3, 4)\n",
    "a"
   ]
  },
  {
   "cell_type": "code",
   "execution_count": 18,
   "id": "84874f01",
   "metadata": {},
   "outputs": [
    {
     "data": {
      "text/plain": [
       "array([[ 0,  1,  2,  3,  4,  5],\n",
       "       [ 6,  7,  8,  9, 10, 11]])"
      ]
     },
     "execution_count": 18,
     "metadata": {},
     "output_type": "execute_result"
    }
   ],
   "source": [
    "a.reshape(2, 6)"
   ]
  },
  {
   "cell_type": "code",
   "execution_count": 19,
   "id": "97824431",
   "metadata": {},
   "outputs": [],
   "source": [
    "c = a.view() # 얕은 복사(데이터의 틀만 복사하고 데이터 자체는 동일. 데이터를 바꾸면 a와 c 모두 바뀜)"
   ]
  },
  {
   "cell_type": "code",
   "execution_count": 20,
   "id": "6eba230c",
   "metadata": {},
   "outputs": [
    {
     "name": "stdout",
     "output_type": "stream",
     "text": [
      "2414669352080 2414669365136\n"
     ]
    }
   ],
   "source": [
    "print(id(a), id(c))"
   ]
  },
  {
   "cell_type": "code",
   "execution_count": 21,
   "id": "b8f32680",
   "metadata": {},
   "outputs": [
    {
     "data": {
      "text/plain": [
       "array([[ True,  True,  True,  True],\n",
       "       [ True,  True,  True,  True],\n",
       "       [ True,  True,  True,  True]])"
      ]
     },
     "execution_count": 21,
     "metadata": {},
     "output_type": "execute_result"
    }
   ],
   "source": [
    "c==a"
   ]
  },
  {
   "cell_type": "code",
   "execution_count": 23,
   "id": "3fca26f8",
   "metadata": {},
   "outputs": [
    {
     "data": {
      "text/plain": [
       "array([[ 0,  1,  2,  3,  4,  5],\n",
       "       [ 6,  7,  8,  9, 10, 11]])"
      ]
     },
     "execution_count": 23,
     "metadata": {},
     "output_type": "execute_result"
    }
   ],
   "source": [
    "c.shape = (2, 6)\n",
    "c"
   ]
  },
  {
   "cell_type": "code",
   "execution_count": 24,
   "id": "c9ff6164",
   "metadata": {},
   "outputs": [
    {
     "data": {
      "text/plain": [
       "array([[ 0,  1,  2,  3,  4,  5],\n",
       "       [ 9,  7,  9,  9,  9, 11]])"
      ]
     },
     "execution_count": 24,
     "metadata": {},
     "output_type": "execute_result"
    }
   ],
   "source": [
    "c[1, ::2] = [9,9,9] # 9 : 1행의 짝수번째 열 변경 \n",
    "c"
   ]
  },
  {
   "cell_type": "code",
   "execution_count": 25,
   "id": "deeb2113",
   "metadata": {},
   "outputs": [
    {
     "data": {
      "text/plain": [
       "array([[ 0,  1,  2,  3],\n",
       "       [ 4,  5,  9,  7],\n",
       "       [ 9,  9,  9, 11]])"
      ]
     },
     "execution_count": 25,
     "metadata": {},
     "output_type": "execute_result"
    }
   ],
   "source": [
    "a"
   ]
  },
  {
   "cell_type": "markdown",
   "id": "c9dc2883",
   "metadata": {},
   "source": [
    "## 4.3.깊은 복사"
   ]
  },
  {
   "cell_type": "code",
   "execution_count": 36,
   "id": "b841ae29",
   "metadata": {},
   "outputs": [
    {
     "data": {
      "text/plain": [
       "array([[ 5,  4, 13,  0],\n",
       "       [99,  6, 16,  1],\n",
       "       [20,  5, 14,  0]])"
      ]
     },
     "execution_count": 36,
     "metadata": {},
     "output_type": "execute_result"
    }
   ],
   "source": [
    "a = np.array([[5, 4, 13, 0],\n",
    "            [99, 6, 16, 1],\n",
    "            [20, 5, 14, 0]]) # 맨 오른쪽은 타겟변수(종속변수), 왼쪽 3개는 독립변수\n",
    "a"
   ]
  },
  {
   "cell_type": "code",
   "execution_count": 37,
   "id": "a2fc30c8",
   "metadata": {},
   "outputs": [
    {
     "data": {
      "text/plain": [
       "array([[ 5,  4, 13],\n",
       "       [99,  6, 16],\n",
       "       [20,  5, 14]])"
      ]
     },
     "execution_count": 37,
     "metadata": {},
     "output_type": "execute_result"
    }
   ],
   "source": [
    "# X = a[:, :-1] # 슬라이싱이 될 때 뷰가 반환됨(얕은 복사)\n",
    "X # 독립변수가 복수면 대문자로 변수명 씀\n",
    "X = a[:, :-1].copy() # 깊은 복사\n",
    "X = np.array(a[:, :-1], copy=True)\n",
    "X"
   ]
  },
  {
   "cell_type": "code",
   "execution_count": 38,
   "id": "24443fce",
   "metadata": {},
   "outputs": [
    {
     "data": {
      "text/plain": [
       "array([[-9,  4, 13],\n",
       "       [-9,  6, 16],\n",
       "       [-9,  5, 14]])"
      ]
     },
     "execution_count": 38,
     "metadata": {},
     "output_type": "execute_result"
    }
   ],
   "source": [
    "X[:, 0] = -9\n",
    "X"
   ]
  },
  {
   "cell_type": "code",
   "execution_count": 39,
   "id": "782f7e7c",
   "metadata": {},
   "outputs": [
    {
     "data": {
      "text/plain": [
       "array([[ 5,  4, 13,  0],\n",
       "       [99,  6, 16,  1],\n",
       "       [20,  5, 14,  0]])"
      ]
     },
     "execution_count": 39,
     "metadata": {},
     "output_type": "execute_result"
    }
   ],
   "source": [
    "a"
   ]
  },
  {
   "cell_type": "markdown",
   "id": "830a0bdc",
   "metadata": {},
   "source": [
    "# 5. 고급 인덱싱\n",
    "## 5.1.인덱스 배열로 인덱싱"
   ]
  },
  {
   "cell_type": "code",
   "execution_count": 21,
   "id": "72873162",
   "metadata": {},
   "outputs": [
    {
     "data": {
      "text/plain": [
       "array([  0,   1,   4,   9,  16,  25,  36,  49,  64,  81, 100, 121])"
      ]
     },
     "execution_count": 21,
     "metadata": {},
     "output_type": "execute_result"
    }
   ],
   "source": [
    "import numpy as np\n",
    "a = np.arange(12)**2\n",
    "a"
   ]
  },
  {
   "cell_type": "code",
   "execution_count": 23,
   "id": "3cd66d4b",
   "metadata": {},
   "outputs": [
    {
     "data": {
      "text/plain": [
       "array([ 0, 25, 81])"
      ]
     },
     "execution_count": 23,
     "metadata": {},
     "output_type": "execute_result"
    }
   ],
   "source": [
    "a[[0,5,9]] # 인덱스 자리에 리스트 삽입"
   ]
  },
  {
   "cell_type": "code",
   "execution_count": 24,
   "id": "e1ce5c7a",
   "metadata": {},
   "outputs": [
    {
     "data": {
      "text/plain": [
       "array([ 0,  1,  1, 81])"
      ]
     },
     "execution_count": 24,
     "metadata": {},
     "output_type": "execute_result"
    }
   ],
   "source": [
    "# 인덱싱하기 위한 값을 배열로 만들기\n",
    "i = np.array([0,1,1,9])\n",
    "a[i] # 결과는 i(인덱싱 배열)의 형태를 따라간다"
   ]
  },
  {
   "cell_type": "code",
   "execution_count": 25,
   "id": "b463a1d6",
   "metadata": {},
   "outputs": [
    {
     "data": {
      "text/plain": [
       "array([[ 0,  1],\n",
       "       [ 1, 81]])"
      ]
     },
     "execution_count": 25,
     "metadata": {},
     "output_type": "execute_result"
    }
   ],
   "source": [
    "i = np.array([[0,1],\n",
    "              [1,9]])\n",
    "a[i]"
   ]
  },
  {
   "cell_type": "code",
   "execution_count": 26,
   "id": "b1225139",
   "metadata": {},
   "outputs": [
    {
     "data": {
      "text/plain": [
       "array([ 10,  10,   4,   9,  16,  25,  36,  49,  64,  10, 100, 121])"
      ]
     },
     "execution_count": 26,
     "metadata": {},
     "output_type": "execute_result"
    }
   ],
   "source": [
    "a[i] = 10\n",
    "a"
   ]
  },
  {
   "cell_type": "code",
   "execution_count": 27,
   "id": "b3670921",
   "metadata": {},
   "outputs": [],
   "source": [
    "a[i] += 10 #1번 인덱스는 한 번만 10 증가"
   ]
  },
  {
   "cell_type": "code",
   "execution_count": 29,
   "id": "ef5305cf",
   "metadata": {},
   "outputs": [
    {
     "data": {
      "text/plain": [
       "array([ 20,  20,   4,   9,  16,  25,  36,  49,  64,  20, 100, 121])"
      ]
     },
     "execution_count": 29,
     "metadata": {},
     "output_type": "execute_result"
    }
   ],
   "source": [
    "a"
   ]
  },
  {
   "cell_type": "code",
   "execution_count": 32,
   "id": "21110777",
   "metadata": {},
   "outputs": [],
   "source": [
    "# 색상                R G B\n",
    "palette = np.array([[0,0,0], # black\n",
    "                    [255,0,0], # red\n",
    "                    [0,255,0], # green\n",
    "                    [0,0,225], # blue\n",
    "                    [255,255,255]]) # white"
   ]
  },
  {
   "cell_type": "code",
   "execution_count": 34,
   "id": "b8a67e9c",
   "metadata": {},
   "outputs": [
    {
     "data": {
      "text/plain": [
       "array([[[255, 255, 255],\n",
       "        [255, 255, 255],\n",
       "        [255, 255, 255],\n",
       "        [  0,   0,   0],\n",
       "        [  0,   0,   0],\n",
       "        [  0,   0,   0],\n",
       "        [  0,   0,   0],\n",
       "        [255, 255, 255],\n",
       "        [255, 255, 255],\n",
       "        [255, 255, 255]],\n",
       "\n",
       "       [[255, 255, 255],\n",
       "        [  0,   0,   0],\n",
       "        [  0,   0,   0],\n",
       "        [255, 255, 255],\n",
       "        [255, 255, 255],\n",
       "        [255, 255, 255],\n",
       "        [255, 255, 255],\n",
       "        [  0,   0,   0],\n",
       "        [  0,   0,   0],\n",
       "        [255, 255, 255]],\n",
       "\n",
       "       [[  0,   0,   0],\n",
       "        [  0,   0,   0],\n",
       "        [255, 255, 255],\n",
       "        [255, 255, 255],\n",
       "        [255, 255, 255],\n",
       "        [255, 255, 255],\n",
       "        [255, 255, 255],\n",
       "        [255, 255, 255],\n",
       "        [  0,   0,   0],\n",
       "        [  0,   0,   0]],\n",
       "\n",
       "       [[  0,   0,   0],\n",
       "        [255, 255, 255],\n",
       "        [255, 255, 255],\n",
       "        [255,   0,   0],\n",
       "        [255, 255, 255],\n",
       "        [255, 255, 255],\n",
       "        [  0,   0, 225],\n",
       "        [255, 255, 255],\n",
       "        [255, 255, 255],\n",
       "        [  0,   0,   0]],\n",
       "\n",
       "       [[  0,   0,   0],\n",
       "        [255, 255, 255],\n",
       "        [255, 255, 255],\n",
       "        [255,   0,   0],\n",
       "        [255, 255, 255],\n",
       "        [255, 255, 255],\n",
       "        [  0,   0, 225],\n",
       "        [255, 255, 255],\n",
       "        [255, 255, 255],\n",
       "        [  0,   0,   0]],\n",
       "\n",
       "       [[  0,   0,   0],\n",
       "        [255, 255, 255],\n",
       "        [255, 255, 255],\n",
       "        [255, 255, 255],\n",
       "        [255, 255, 255],\n",
       "        [255, 255, 255],\n",
       "        [255, 255, 255],\n",
       "        [255, 255, 255],\n",
       "        [255, 255, 255],\n",
       "        [  0,   0,   0]],\n",
       "\n",
       "       [[  0,   0,   0],\n",
       "        [255, 255, 255],\n",
       "        [255, 255, 255],\n",
       "        [  0, 255,   0],\n",
       "        [255, 255, 255],\n",
       "        [255, 255, 255],\n",
       "        [  0, 255,   0],\n",
       "        [255, 255, 255],\n",
       "        [255, 255, 255],\n",
       "        [  0,   0,   0]],\n",
       "\n",
       "       [[255, 255, 255],\n",
       "        [  0,   0,   0],\n",
       "        [255, 255, 255],\n",
       "        [255, 255, 255],\n",
       "        [  0, 255,   0],\n",
       "        [  0, 255,   0],\n",
       "        [255, 255, 255],\n",
       "        [255, 255, 255],\n",
       "        [  0,   0,   0],\n",
       "        [255, 255, 255]],\n",
       "\n",
       "       [[255, 255, 255],\n",
       "        [255, 255, 255],\n",
       "        [  0,   0,   0],\n",
       "        [255, 255, 255],\n",
       "        [255, 255, 255],\n",
       "        [255, 255, 255],\n",
       "        [255, 255, 255],\n",
       "        [  0,   0,   0],\n",
       "        [255, 255, 255],\n",
       "        [255, 255, 255]],\n",
       "\n",
       "       [[255, 255, 255],\n",
       "        [255, 255, 255],\n",
       "        [255, 255, 255],\n",
       "        [  0,   0,   0],\n",
       "        [  0,   0,   0],\n",
       "        [  0,   0,   0],\n",
       "        [  0,   0,   0],\n",
       "        [255, 255, 255],\n",
       "        [255, 255, 255],\n",
       "        [255, 255, 255]]])"
      ]
     },
     "execution_count": 34,
     "metadata": {},
     "output_type": "execute_result"
    }
   ],
   "source": [
    "image_index = np.array([[4,4,4,0,0,0,0,4,4,4],\n",
    "                        [4,0,0,4,4,4,4,0,0,4],\n",
    "                        [0,0,4,4,4,4,4,4,0,0],\n",
    "                        [0,4,4,1,4,4,3,4,4,0],\n",
    "                        [0,4,4,1,4,4,3,4,4,0],\n",
    "                        [0,4,4,4,4,4,4,4,4,0],\n",
    "                        [0,4,4,2,4,4,2,4,4,0],\n",
    "                        [4,0,4,4,2,2,4,4,0,4],\n",
    "                        [4,4,0,4,4,4,4,0,4,4],\n",
    "                        [4,4,4,0,0,0,0,4,4,4]])\n",
    "image_data = palette[image_index]\n",
    "image_data"
   ]
  },
  {
   "cell_type": "code",
   "execution_count": 35,
   "id": "ca989dfe",
   "metadata": {},
   "outputs": [
    {
     "data": {
      "text/plain": [
       "(10, 10, 3)"
      ]
     },
     "execution_count": 35,
     "metadata": {},
     "output_type": "execute_result"
    }
   ],
   "source": [
    "image_data.shape"
   ]
  },
  {
   "cell_type": "code",
   "execution_count": 39,
   "id": "3ba818fd",
   "metadata": {},
   "outputs": [
    {
     "data": {
      "image/png": "[encoded data removed]",
      "text/plain": [
       "<Figure size 200x200 with 1 Axes>"
      ]
     },
     "metadata": {},
     "output_type": "display_data"
    }
   ],
   "source": [
    "from matplotlib import pyplot as plt\n",
    "# import matplotlib.pyplot as plt\n",
    "plt.figure(figsize=(2,2))\n",
    "plt.imshow(image_data)\n",
    "plt.axis('off')\n",
    "plt.show()"
   ]
  },
  {
   "cell_type": "markdown",
   "id": "67c98a7e",
   "metadata": {},
   "source": [
    "## 5.2.논리 배열을 이용한 인덱싱"
   ]
  },
  {
   "cell_type": "code",
   "execution_count": 48,
   "id": "b0c56313",
   "metadata": {},
   "outputs": [
    {
     "data": {
      "text/plain": [
       "array([ 0,  1,  2,  3,  4,  5,  6,  7,  8,  9, 10, 11, 12, 13, 14, 15, 16,\n",
       "       17, 18, 19])"
      ]
     },
     "execution_count": 48,
     "metadata": {},
     "output_type": "execute_result"
    }
   ],
   "source": [
    "a = np.arange(20)\n",
    "a"
   ]
  },
  {
   "cell_type": "code",
   "execution_count": 49,
   "id": "2bc1a2ed",
   "metadata": {},
   "outputs": [
    {
     "data": {
      "text/plain": [
       "array([ True, False,  True, False,  True, False,  True, False,  True,\n",
       "       False,  True, False,  True, False,  True, False,  True, False,\n",
       "        True, False])"
      ]
     },
     "execution_count": 49,
     "metadata": {},
     "output_type": "execute_result"
    }
   ],
   "source": [
    "a%2==0 # 논리 배열"
   ]
  },
  {
   "cell_type": "code",
   "execution_count": 51,
   "id": "475a37fe",
   "metadata": {},
   "outputs": [
    {
     "data": {
      "text/plain": [
       "array([ 0,  2,  4,  6,  8, 10, 12, 14, 16, 18])"
      ]
     },
     "execution_count": 51,
     "metadata": {},
     "output_type": "execute_result"
    }
   ],
   "source": [
    "a[a%2==0] # boolean indexing : 논리 배열을 이용한 인덱싱 시 True인 요소만 추출"
   ]
  },
  {
   "cell_type": "code",
   "execution_count": 52,
   "id": "a890cc20",
   "metadata": {},
   "outputs": [
    {
     "data": {
      "text/plain": [
       "array([16, 17, 18, 19])"
      ]
     },
     "execution_count": 52,
     "metadata": {},
     "output_type": "execute_result"
    }
   ],
   "source": [
    "a[a>15]"
   ]
  },
  {
   "cell_type": "markdown",
   "id": "8211488b",
   "metadata": {},
   "source": [
    "# 6. 선형대수\n",
    "- 2차원 numpy 배열은 행렬\n",
    "    * 행렬의 곱 : @\n",
    "    * 단위행렬 : np.eye(n) : n행 n열의 단위행렬이 만들어짐\n",
    "    * a의 역행렬 @ a = 단위행렬\n",
    "    * 전치행렬 : X.T, X.transpose() x행 y열 ->> y행 x열\n",
    "    * 역행렬 : np.linalg.inv(X)"
   ]
  },
  {
   "cell_type": "code",
   "execution_count": 53,
   "id": "62efe527",
   "metadata": {},
   "outputs": [
    {
     "data": {
      "text/plain": [
       "array([[1, 2],\n",
       "       [3, 4]])"
      ]
     },
     "execution_count": 53,
     "metadata": {},
     "output_type": "execute_result"
    }
   ],
   "source": [
    "a = np.array([[1,2],\n",
    "              [3,4]])\n",
    "a"
   ]
  },
  {
   "cell_type": "code",
   "execution_count": 54,
   "id": "b96ee959",
   "metadata": {},
   "outputs": [
    {
     "data": {
      "text/plain": [
       "array([[-2. ,  1. ],\n",
       "       [ 1.5, -0.5]])"
      ]
     },
     "execution_count": 54,
     "metadata": {},
     "output_type": "execute_result"
    }
   ],
   "source": [
    "# a의 역행렬 : a의 역행렬 @ a = 단위행렬\n",
    "np.linalg.inv(a)"
   ]
  },
  {
   "cell_type": "code",
   "execution_count": 55,
   "id": "db768d12",
   "metadata": {},
   "outputs": [
    {
     "data": {
      "text/plain": [
       "array([[ 1.00000000e+00,  4.44089210e-16],\n",
       "       [-5.55111512e-17,  1.00000000e+00]])"
      ]
     },
     "execution_count": 55,
     "metadata": {},
     "output_type": "execute_result"
    }
   ],
   "source": [
    "np.linalg.inv(a) @ a"
   ]
  },
  {
   "cell_type": "code",
   "execution_count": 56,
   "id": "ee47a00b",
   "metadata": {},
   "outputs": [
    {
     "data": {
      "text/plain": [
       "array([[10, 14,  4],\n",
       "       [14, 20,  6],\n",
       "       [ 4,  6,  2]])"
      ]
     },
     "execution_count": 56,
     "metadata": {},
     "output_type": "execute_result"
    }
   ],
   "source": [
    "# 정방행렬이 아니면 역행렬을 구할 수 없음\n",
    "a = np.array([[1,2,1],\n",
    "              [3,4,1]])\n",
    "# np.linalg.inv(a) Error\n",
    "a.T @ a "
   ]
  },
  {
   "cell_type": "code",
   "execution_count": 57,
   "id": "fc7b4447",
   "metadata": {},
   "outputs": [
    {
     "data": {
      "text/plain": [
       "array([[ 6, 12],\n",
       "       [12, 26]])"
      ]
     },
     "execution_count": 57,
     "metadata": {},
     "output_type": "execute_result"
    }
   ],
   "source": [
    "# 전치행렬을 곱하면 정방형렬이 아니었던 것이 정방행렬이 된다\n",
    "a @ a.T"
   ]
  },
  {
   "cell_type": "markdown",
   "id": "ec13c965",
   "metadata": {},
   "source": [
    "## 6.1.선형 연립 방정식 풀기(단변량 회귀분석) : 독립변수1, 데이터2"
   ]
  },
  {
   "cell_type": "code",
   "execution_count": 33,
   "id": "6a970cb8",
   "metadata": {},
   "outputs": [
    {
     "data": {
      "text/plain": [
       "(array([[2., 1.],\n",
       "        [4., 1.]]),\n",
       " array([[40],\n",
       "        [60]]))"
      ]
     },
     "execution_count": 33,
     "metadata": {},
     "output_type": "execute_result"
    }
   ],
   "source": [
    "import numpy as np\n",
    "x = np.array([2,4]) # 공부량 : 독립변수\n",
    "y = np.array([40,60]) # 점수 : 종속변수(타겟변수)\n",
    "X = np.c_[x, np.ones(len(x))]\n",
    "X = np.column_stack((x, np.ones(len(x))))\n",
    "X = np.dstack((x, np.ones(len(x)))).reshape(-1,2) # dstack은 3차원이 되기 때문에 2차원으로 변환\n",
    "Y = y.reshape(-1, 1)\n",
    "X, Y"
   ]
  },
  {
   "cell_type": "code",
   "execution_count": 34,
   "id": "dbcae66e",
   "metadata": {},
   "outputs": [
    {
     "data": {
      "text/plain": [
       "array([[10.],\n",
       "       [20.]])"
      ]
     },
     "execution_count": 34,
     "metadata": {},
     "output_type": "execute_result"
    }
   ],
   "source": [
    "# X @ wb = Y\n",
    "# (X의 역행렬 @ X ==> 단위행렬) @ wb = X의 역행렬 @ Y\n",
    "# wb = X의 역행렬 @ Y\n",
    "wb = np.linalg.inv(X) @ Y\n",
    "wb"
   ]
  },
  {
   "cell_type": "code",
   "execution_count": 35,
   "id": "6d668912",
   "metadata": {},
   "outputs": [
    {
     "data": {
      "text/plain": [
       "array([[10.],\n",
       "       [20.]])"
      ]
     },
     "execution_count": 35,
     "metadata": {},
     "output_type": "execute_result"
    }
   ],
   "source": [
    "np.linalg.solve(X, Y)"
   ]
  },
  {
   "cell_type": "code",
   "execution_count": 36,
   "id": "3a888e10",
   "metadata": {},
   "outputs": [],
   "source": [
    "x_ = np.linspace(0, 10, 100) # 0부터 10까지 100개 데이터\n",
    "h = wb[0]*x_ + wb[1]\n",
    "h = np.add(np.multiply(wb[0], x_), wb[1])"
   ]
  },
  {
   "cell_type": "code",
   "execution_count": 37,
   "id": "c44cf488",
   "metadata": {},
   "outputs": [
    {
     "data": {
      "image/png": "[encoded data removed]",
      "text/plain": [
       "<Figure size 640x480 with 1 Axes>"
      ]
     },
     "metadata": {},
     "output_type": "display_data"
    }
   ],
   "source": [
    "import matplotlib.pyplot as plt\n",
    "plt.scatter(x_, h, c='r', s=1)\n",
    "plt.scatter(x, y)\n",
    "plt.show()"
   ]
  },
  {
   "cell_type": "markdown",
   "id": "edb49167",
   "metadata": {},
   "source": [
    "## 6.2.선형연립 방정식 풀기(단변량 회귀분석) : 독립변수1, 데이터n개"
   ]
  },
  {
   "cell_type": "code",
   "execution_count": 38,
   "id": "2b4d0139",
   "metadata": {},
   "outputs": [],
   "source": [
    "x = np.array([32,64,96,118,126,144,152.5,158]) # x에는 주로 독립변수를 넣음\n",
    "y = np.array([18,24,61.5,49,52,105,130.3,125]) # y에는 주로 타겟변수를 넣음"
   ]
  },
  {
   "cell_type": "code",
   "execution_count": 39,
   "id": "a6b74e75",
   "metadata": {},
   "outputs": [
    {
     "data": {
      "text/plain": [
       "(array([[ 32. ,   1. ],\n",
       "        [ 64. ,   1. ],\n",
       "        [ 96. ,   1. ],\n",
       "        [118. ,   1. ],\n",
       "        [126. ,   1. ],\n",
       "        [144. ,   1. ],\n",
       "        [152.5,   1. ],\n",
       "        [158. ,   1. ]]),\n",
       " array([[ 18. ],\n",
       "        [ 24. ],\n",
       "        [ 61.5],\n",
       "        [ 49. ],\n",
       "        [ 52. ],\n",
       "        [105. ],\n",
       "        [130.3],\n",
       "        [125. ]]))"
      ]
     },
     "execution_count": 39,
     "metadata": {},
     "output_type": "execute_result"
    }
   ],
   "source": [
    "X = np.c_[x, np.ones(len(x))]\n",
    "Y = y.reshape(-1,1)\n",
    "X, Y"
   ]
  },
  {
   "cell_type": "code",
   "execution_count": 40,
   "id": "b1909424",
   "metadata": {},
   "outputs": [
    {
     "data": {
      "text/plain": [
       "array([[  0.87493126],\n",
       "       [-26.79078617]])"
      ]
     },
     "execution_count": 40,
     "metadata": {},
     "output_type": "execute_result"
    }
   ],
   "source": [
    "# X @ wb = Y\n",
    "# X.T @ X @ wb = X.T @ Y\n",
    "# X.T @ X : 전치행렬을 이용하여 X를 정방행렬로 만들기\n",
    "# # ((X.T @ X)의 역행렬 @ X.T @ X ==> 단위행렬) @ wb = (X.T @ X)의 역행렬 @ X.T @ Y\n",
    "# wb = (X.T @ X)의 역행렬 @ X.T @ Y\n",
    "wb = np.linalg.inv(X.T @ X) @ X.T @ Y\n",
    "wb"
   ]
  },
  {
   "cell_type": "code",
   "execution_count": 41,
   "id": "f2d90e4c",
   "metadata": {},
   "outputs": [
    {
     "data": {
      "text/plain": [
       "array([[  0.87493126],\n",
       "       [-26.79078617]])"
      ]
     },
     "execution_count": 41,
     "metadata": {},
     "output_type": "execute_result"
    }
   ],
   "source": [
    "np.linalg.solve(X.T @ X, X.T @ Y)"
   ]
  },
  {
   "cell_type": "code",
   "execution_count": 42,
   "id": "805eaba2",
   "metadata": {},
   "outputs": [
    {
     "name": "stdout",
     "output_type": "stream",
     "text": [
      "독립변수 x : [ 32.   64.   96.  118.  126.  144.  152.5 158. ]\n",
      "실제값 y : [ 18.   24.   61.5  49.   52.  105.  130.3 125. ]\n",
      "예측값 h : [  1.20701424  29.20481464  57.20261504  76.45110282  83.45055292\n",
      "  99.19931565 106.63623138 111.44835332]\n"
     ]
    }
   ],
   "source": [
    "print('독립변수 x :', x)\n",
    "print('실제값 y :', y)\n",
    "h = wb[0]*x + wb[1]\n",
    "print('예측값 h :', h)"
   ]
  },
  {
   "cell_type": "code",
   "execution_count": 43,
   "id": "3c619966",
   "metadata": {},
   "outputs": [
    {
     "data": {
      "image/png": "[encoded data removed]",
      "text/plain": [
       "<Figure size 640x480 with 1 Axes>"
      ]
     },
     "metadata": {},
     "output_type": "display_data"
    }
   ],
   "source": [
    "plt.plot(x, h, c='r') # 선 그래프\n",
    "plt.scatter(x, y)\n",
    "plt.show()"
   ]
  },
  {
   "cell_type": "markdown",
   "id": "4ae19390",
   "metadata": {},
   "source": [
    "# 7. 연습문제 (실습형)"
   ]
  },
  {
   "cell_type": "code",
   "execution_count": 44,
   "id": "f9fe6790",
   "metadata": {},
   "outputs": [
    {
     "data": {
      "text/plain": [
       "array([[5.1, 3.5, 1.4, 0.2],\n",
       "       [4.9, 3. , 1.4, 0.2],\n",
       "       [4.7, 3.2, 1.3, 0.2],\n",
       "       [4.6, 3.1, 1.5, 0.2],\n",
       "       [5. , 3.6, 1.4, 0.2],\n",
       "       [5.4, 3.9, 1.7, 0.4],\n",
       "       [4.6, 3.4, 1.4, 0.3],\n",
       "       [5. , 3.4, 1.5, 0.2],\n",
       "       [4.4, 2.9, 1.4, 0.2],\n",
       "       [4.9, 3.1, 1.5, 0.1],\n",
       "       [5.4, 3.7, 1.5, 0.2],\n",
       "       [4.8, 3.4, 1.6, 0.2],\n",
       "       [4.8, 3. , 1.4, 0.1],\n",
       "       [4.3, 3. , 1.1, 0.1],\n",
       "       [5.8, 4. , 1.2, 0.2],\n",
       "       [5.7, 4.4, 1.5, 0.4],\n",
       "       [5.4, 3.9, 1.3, 0.4],\n",
       "       [5.1, 3.5, 1.4, 0.3],\n",
       "       [5.7, 3.8, 1.7, 0.3],\n",
       "       [5.1, 3.8, 1.5, 0.3],\n",
       "       [5.4, 3.4, 1.7, 0.2],\n",
       "       [5.1, 3.7, 1.5, 0.4],\n",
       "       [4.6, 3.6, 1. , 0.2],\n",
       "       [5.1, 3.3, 1.7, 0.5],\n",
       "       [4.8, 3.4, 1.9, 0.2],\n",
       "       [5. , 3. , 1.6, 0.2],\n",
       "       [5. , 3.4, 1.6, 0.4],\n",
       "       [5.2, 3.5, 1.5, 0.2],\n",
       "       [5.2, 3.4, 1.4, 0.2],\n",
       "       [4.7, 3.2, 1.6, 0.2],\n",
       "       [4.8, 3.1, 1.6, 0.2],\n",
       "       [5.4, 3.4, 1.5, 0.4],\n",
       "       [5.2, 4.1, 1.5, 0.1],\n",
       "       [5.5, 4.2, 1.4, 0.2],\n",
       "       [4.9, 3.1, 1.5, 0.2],\n",
       "       [5. , 3.2, 1.2, 0.2],\n",
       "       [5.5, 3.5, 1.3, 0.2],\n",
       "       [4.9, 3.6, 1.4, 0.1],\n",
       "       [4.4, 3. , 1.3, 0.2],\n",
       "       [5.1, 3.4, 1.5, 0.2],\n",
       "       [5. , 3.5, 1.3, 0.3],\n",
       "       [4.5, 2.3, 1.3, 0.3],\n",
       "       [4.4, 3.2, 1.3, 0.2],\n",
       "       [5. , 3.5, 1.6, 0.6],\n",
       "       [5.1, 3.8, 1.9, 0.4],\n",
       "       [4.8, 3. , 1.4, 0.3],\n",
       "       [5.1, 3.8, 1.6, 0.2],\n",
       "       [4.6, 3.2, 1.4, 0.2],\n",
       "       [5.3, 3.7, 1.5, 0.2],\n",
       "       [5. , 3.3, 1.4, 0.2],\n",
       "       [7. , 3.2, 4.7, 1.4],\n",
       "       [6.4, 3.2, 4.5, 1.5],\n",
       "       [6.9, 3.1, 4.9, 1.5],\n",
       "       [5.5, 2.3, 4. , 1.3],\n",
       "       [6.5, 2.8, 4.6, 1.5],\n",
       "       [5.7, 2.8, 4.5, 1.3],\n",
       "       [6.3, 3.3, 4.7, 1.6],\n",
       "       [4.9, 2.4, 3.3, 1. ],\n",
       "       [6.6, 2.9, 4.6, 1.3],\n",
       "       [5.2, 2.7, 3.9, 1.4],\n",
       "       [5. , 2. , 3.5, 1. ],\n",
       "       [5.9, 3. , 4.2, 1.5],\n",
       "       [6. , 2.2, 4. , 1. ],\n",
       "       [6.1, 2.9, 4.7, 1.4],\n",
       "       [5.6, 2.9, 3.6, 1.3],\n",
       "       [6.7, 3.1, 4.4, 1.4],\n",
       "       [5.6, 3. , 4.5, 1.5],\n",
       "       [5.8, 2.7, 4.1, 1. ],\n",
       "       [6.2, 2.2, 4.5, 1.5],\n",
       "       [5.6, 2.5, 3.9, 1.1],\n",
       "       [5.9, 3.2, 4.8, 1.8],\n",
       "       [6.1, 2.8, 4. , 1.3],\n",
       "       [6.3, 2.5, 4.9, 1.5],\n",
       "       [6.1, 2.8, 4.7, 1.2],\n",
       "       [6.4, 2.9, 4.3, 1.3],\n",
       "       [6.6, 3. , 4.4, 1.4],\n",
       "       [6.8, 2.8, 4.8, 1.4],\n",
       "       [6.7, 3. , 5. , 1.7],\n",
       "       [6. , 2.9, 4.5, 1.5],\n",
       "       [5.7, 2.6, 3.5, 1. ],\n",
       "       [5.5, 2.4, 3.8, 1.1],\n",
       "       [5.5, 2.4, 3.7, 1. ],\n",
       "       [5.8, 2.7, 3.9, 1.2],\n",
       "       [6. , 2.7, 5.1, 1.6],\n",
       "       [5.4, 3. , 4.5, 1.5],\n",
       "       [6. , 3.4, 4.5, 1.6],\n",
       "       [6.7, 3.1, 4.7, 1.5],\n",
       "       [6.3, 2.3, 4.4, 1.3],\n",
       "       [5.6, 3. , 4.1, 1.3],\n",
       "       [5.5, 2.5, 4. , 1.3],\n",
       "       [5.5, 2.6, 4.4, 1.2],\n",
       "       [6.1, 3. , 4.6, 1.4],\n",
       "       [5.8, 2.6, 4. , 1.2],\n",
       "       [5. , 2.3, 3.3, 1. ],\n",
       "       [5.6, 2.7, 4.2, 1.3],\n",
       "       [5.7, 3. , 4.2, 1.2],\n",
       "       [5.7, 2.9, 4.2, 1.3],\n",
       "       [6.2, 2.9, 4.3, 1.3],\n",
       "       [5.1, 2.5, 3. , 1.1],\n",
       "       [5.7, 2.8, 4.1, 1.3],\n",
       "       [6.3, 3.3, 6. , 2.5],\n",
       "       [5.8, 2.7, 5.1, 1.9],\n",
       "       [7.1, 3. , 5.9, 2.1],\n",
       "       [6.3, 2.9, 5.6, 1.8],\n",
       "       [6.5, 3. , 5.8, 2.2],\n",
       "       [7.6, 3. , 6.6, 2.1],\n",
       "       [4.9, 2.5, 4.5, 1.7],\n",
       "       [7.3, 2.9, 6.3, 1.8],\n",
       "       [6.7, 2.5, 5.8, 1.8],\n",
       "       [7.2, 3.6, 6.1, 2.5],\n",
       "       [6.5, 3.2, 5.1, 2. ],\n",
       "       [6.4, 2.7, 5.3, 1.9],\n",
       "       [6.8, 3. , 5.5, 2.1],\n",
       "       [5.7, 2.5, 5. , 2. ],\n",
       "       [5.8, 2.8, 5.1, 2.4],\n",
       "       [6.4, 3.2, 5.3, 2.3],\n",
       "       [6.5, 3. , 5.5, 1.8],\n",
       "       [7.7, 3.8, 6.7, 2.2],\n",
       "       [7.7, 2.6, 6.9, 2.3],\n",
       "       [6. , 2.2, 5. , 1.5],\n",
       "       [6.9, 3.2, 5.7, 2.3],\n",
       "       [5.6, 2.8, 4.9, 2. ],\n",
       "       [7.7, 2.8, 6.7, 2. ],\n",
       "       [6.3, 2.7, 4.9, 1.8],\n",
       "       [6.7, 3.3, 5.7, 2.1],\n",
       "       [7.2, 3.2, 6. , 1.8],\n",
       "       [6.2, 2.8, 4.8, 1.8],\n",
       "       [6.1, 3. , 4.9, 1.8],\n",
       "       [6.4, 2.8, 5.6, 2.1],\n",
       "       [7.2, 3. , 5.8, 1.6],\n",
       "       [7.4, 2.8, 6.1, 1.9],\n",
       "       [7.9, 3.8, 6.4, 2. ],\n",
       "       [6.4, 2.8, 5.6, 2.2],\n",
       "       [6.3, 2.8, 5.1, 1.5],\n",
       "       [6.1, 2.6, 5.6, 1.4],\n",
       "       [7.7, 3. , 6.1, 2.3],\n",
       "       [6.3, 3.4, 5.6, 2.4],\n",
       "       [6.4, 3.1, 5.5, 1.8],\n",
       "       [6. , 3. , 4.8, 1.8],\n",
       "       [6.9, 3.1, 5.4, 2.1],\n",
       "       [6.7, 3.1, 5.6, 2.4],\n",
       "       [6.9, 3.1, 5.1, 2.3],\n",
       "       [5.8, 2.7, 5.1, 1.9],\n",
       "       [6.8, 3.2, 5.9, 2.3],\n",
       "       [6.7, 3.3, 5.7, 2.5],\n",
       "       [6.7, 3. , 5.2, 2.3],\n",
       "       [6.3, 2.5, 5. , 1.9],\n",
       "       [6.5, 3. , 5.2, 2. ],\n",
       "       [6.2, 3.4, 5.4, 2.3],\n",
       "       [5.9, 3. , 5.1, 1.8]])"
      ]
     },
     "execution_count": 44,
     "metadata": {},
     "output_type": "execute_result"
    }
   ],
   "source": [
    "from sklearn import datasets\n",
    "iris=datasets.load_iris()\n",
    "iris_data=iris.data # 독립변수 4개, 데이터 개수는 150개\n",
    "iris_data"
   ]
  },
  {
   "cell_type": "code",
   "execution_count": 60,
   "id": "f747fa62",
   "metadata": {},
   "outputs": [
    {
     "data": {
      "text/plain": [
       "array([5.84333333, 3.05733333, 3.758     , 1.19933333])"
      ]
     },
     "execution_count": 60,
     "metadata": {},
     "output_type": "execute_result"
    }
   ],
   "source": [
    "np.mean(iris_data, axis=0)\n",
    "iris_data.mean(axis=0)"
   ]
  },
  {
   "cell_type": "code",
   "execution_count": 61,
   "id": "46493fcb",
   "metadata": {},
   "outputs": [
    {
     "data": {
      "text/plain": [
       "array([[5.1, 3.5, 1.4, 0.2],\n",
       "       [4.9, 3. , 1.4, 0.2],\n",
       "       [4.7, 3.2, 1.3, 0.2],\n",
       "       [4.6, 3.1, 1.5, 0.2],\n",
       "       [5. , 3.6, 1.4, 0.2]])"
      ]
     },
     "execution_count": 61,
     "metadata": {},
     "output_type": "execute_result"
    }
   ],
   "source": [
    "# 2. 처음 다섯 개 행을 출력하세요\n",
    "iris_data[:5]"
   ]
  },
  {
   "cell_type": "code",
   "execution_count": 84,
   "id": "7c049e05",
   "metadata": {},
   "outputs": [
    {
     "data": {
      "text/plain": [
       "array([[5.1, 3.5, 1.4],\n",
       "       [4.9, 3. , 1.4],\n",
       "       [4.7, 3.2, 1.3],\n",
       "       [4.6, 3.1, 1.5],\n",
       "       [5. , 3.6, 1.4]])"
      ]
     },
     "execution_count": 84,
     "metadata": {},
     "output_type": "execute_result"
    }
   ],
   "source": [
    "# 3. 처음 다섯 개 행에서 마지막 열을 제외한 나머지 열을 출력하세요  \n",
    "iris_data[0:5,0:-1]"
   ]
  },
  {
   "cell_type": "code",
   "execution_count": 85,
   "id": "be39ef30",
   "metadata": {},
   "outputs": [
    {
     "data": {
      "text/plain": [
       "array([0.2, 0.2, 0.2, 0.2, 0.2])"
      ]
     },
     "execution_count": 85,
     "metadata": {},
     "output_type": "execute_result"
    }
   ],
   "source": [
    "# 4. 처음 다섯 개 행에서 마지막 열만 출력하세요\n",
    "iris_data[0:5, -1]"
   ]
  },
  {
   "cell_type": "code",
   "execution_count": 89,
   "id": "b8b25bbe",
   "metadata": {},
   "outputs": [
    {
     "data": {
      "text/plain": [
       "array([[5.1, 3.5, 1.4, 0.2],\n",
       "       [4.9, 3. , 1.4, 0.2],\n",
       "       [4.7, 3.2, 1.3, 0.2],\n",
       "       [4.6, 3.1, 1.5, 0.2],\n",
       "       [5. , 3.6, 1.4, 0.2]])"
      ]
     },
     "execution_count": 89,
     "metadata": {},
     "output_type": "execute_result"
    }
   ],
   "source": [
    "# 5. 3번 배열과 4번 배열을 원래 모양이 되도록 합치세요. 실행 결과는 2번의 결과와 같아야 합니다.\n",
    "ar1 = iris_data[0:5,0:-1]\n",
    "ar2 = iris_data[0:5, -1]\n",
    "answer1 = np.c_[ar1, ar2]\n",
    "answer2 = np.column_stack((ar1, ar2))\n",
    "answer3 = np.hstack((ar1, ar2[:, np.newaxis]))\n",
    "answer4 = np.hstack( (ar1, ar2.reshape(-1,1)))\n",
    "answer5 = np.hstack( (ar1, np.expand_dims(ar2, axis=1)))\n",
    "answer6 = np.concatenate( (ar1, ar2.reshape(-1, 1)), axis=1)\n",
    "answer1"
   ]
  },
  {
   "cell_type": "code",
   "execution_count": 91,
   "id": "b8dee8df",
   "metadata": {},
   "outputs": [
    {
     "data": {
      "text/plain": [
       "True"
      ]
     },
     "execution_count": 91,
     "metadata": {},
     "output_type": "execute_result"
    }
   ],
   "source": [
    "answers = [answer1, answer2, answer3, answer4, answer5, answer6]\n",
    "all([np.all(answer1==answer) for answer in answers]) # all 함수는 리스트, np.all은 배열을 받음"
   ]
  },
  {
   "cell_type": "code",
   "execution_count": 92,
   "id": "b03b3421",
   "metadata": {},
   "outputs": [
    {
     "data": {
      "text/plain": [
       "True"
      ]
     },
     "execution_count": 92,
     "metadata": {},
     "output_type": "execute_result"
    }
   ],
   "source": [
    "def same_all(*answers):\n",
    "    if len(answers)>0:\n",
    "        first = answers[0]\n",
    "        return all([np.all(first==answer) for answer in answers])\n",
    "    else:\n",
    "        return False\n",
    "same_all(answer1, answer2, answer3, answer4, answer5, answer6)    "
   ]
  },
  {
   "cell_type": "code",
   "execution_count": 93,
   "id": "3c61ba47",
   "metadata": {},
   "outputs": [
    {
     "data": {
      "text/plain": [
       "True"
      ]
     },
     "execution_count": 93,
     "metadata": {},
     "output_type": "execute_result"
    }
   ],
   "source": [
    "same_all(*answers)"
   ]
  },
  {
   "cell_type": "code",
   "execution_count": 79,
   "id": "2aed05f8",
   "metadata": {},
   "outputs": [
    {
     "name": "stdout",
     "output_type": "stream",
     "text": [
      "데이터 :\n",
      " [[5.1 3.5 1.4 0.2]\n",
      " [4.9 3.  1.4 0.2]\n",
      " [4.7 3.2 1.3 0.2]\n",
      " [4.6 3.1 1.5 0.2]\n",
      " [5.  3.6 1.4 0.2]]\n",
      "iris_sample의 열별 평균 : [4.86 3.28 1.4  0.2 ]\n"
     ]
    }
   ],
   "source": [
    "# 6. 처음 다섯 개 행을 이용해서 각 열 별로 평균보다 큰 값들만 출력하세요\n",
    "iris_sample = iris_data[:5]\n",
    "print('데이터 :\\n',iris_sample)\n",
    "col_avg = np.mean(iris_sample, axis=0)\n",
    "col_avg = iris_sample.mean(axis=0)\n",
    "print('iris_sample의 열별 평균 :', col_avg)"
   ]
  },
  {
   "cell_type": "code",
   "execution_count": 67,
   "id": "886a238e",
   "metadata": {},
   "outputs": [
    {
     "data": {
      "text/plain": [
       "array([[ True,  True, False, False],\n",
       "       [ True, False, False, False],\n",
       "       [False, False, False, False],\n",
       "       [False, False,  True, False],\n",
       "       [ True,  True, False, False]])"
      ]
     },
     "execution_count": 67,
     "metadata": {},
     "output_type": "execute_result"
    }
   ],
   "source": [
    "iris_sample > col_avg"
   ]
  },
  {
   "cell_type": "code",
   "execution_count": 68,
   "id": "446a86a0",
   "metadata": {},
   "outputs": [
    {
     "data": {
      "text/plain": [
       "array([5.1, 3.5, 4.9, 1.5, 5. , 3.6])"
      ]
     },
     "execution_count": 68,
     "metadata": {},
     "output_type": "execute_result"
    }
   ],
   "source": [
    "iris_sample[iris_sample>col_avg]"
   ]
  },
  {
   "cell_type": "code",
   "execution_count": 94,
   "id": "7def312b",
   "metadata": {},
   "outputs": [
    {
     "data": {
      "text/plain": [
       "array([[5.1, 3.5, nan, nan],\n",
       "       [4.9, nan, nan, nan],\n",
       "       [nan, nan, nan, nan],\n",
       "       [nan, nan, 1.5, nan],\n",
       "       [5. , 3.6, nan, nan]])"
      ]
     },
     "execution_count": 94,
     "metadata": {},
     "output_type": "execute_result"
    }
   ],
   "source": [
    "x = iris_sample.copy() # 깊은 복사\n",
    "x[x<=col_avg] = np.nan # 출력을 안 했으면 하는 부분에 결측치\n",
    "x"
   ]
  },
  {
   "cell_type": "code",
   "execution_count": 98,
   "id": "4f76b966",
   "metadata": {},
   "outputs": [
    {
     "data": {
      "text/plain": [
       "array([[5.1, 3.5, nan, nan],\n",
       "       [4.9, nan, nan, nan],\n",
       "       [nan, nan, nan, nan],\n",
       "       [nan, nan, 1.5, nan],\n",
       "       [5. , 3.6, nan, nan]])"
      ]
     },
     "execution_count": 98,
     "metadata": {},
     "output_type": "execute_result"
    }
   ],
   "source": [
    "np.where(iris_sample>col_avg, iris_sample, np.nan)"
   ]
  },
  {
   "cell_type": "markdown",
   "id": "7621f24e",
   "metadata": {},
   "source": [
    "# 8. 연습문제 (문제풀이형)"
   ]
  },
  {
   "cell_type": "code",
   "execution_count": 99,
   "id": "e3295834",
   "metadata": {},
   "outputs": [
    {
     "data": {
      "text/plain": [
       "array([[ 0,  1,  2,  3],\n",
       "       [ 4,  5,  6,  7],\n",
       "       [ 8,  9, 10, 11]])"
      ]
     },
     "execution_count": 99,
     "metadata": {},
     "output_type": "execute_result"
    }
   ],
   "source": [
    "# 1. 다음 보기의 데이터가 있을 경우 print(a.sum(0)) -> 3번\n",
    "import numpy as np\n",
    "a = np.arange(12).reshape(3,4)\n",
    "a"
   ]
  },
  {
   "cell_type": "code",
   "execution_count": 100,
   "id": "a12b2c5d",
   "metadata": {},
   "outputs": [
    {
     "name": "stdout",
     "output_type": "stream",
     "text": [
      "[12 15 18 21] [12 15 18 21]\n"
     ]
    }
   ],
   "source": [
    "print(a.sum(0), a.sum(axis=0)) # 열을 고정하고, 행들끼리 합 (열별합)"
   ]
  },
  {
   "cell_type": "code",
   "execution_count": 101,
   "id": "bc561045",
   "metadata": {},
   "outputs": [
    {
     "data": {
      "text/plain": [
       "array([[3., 6., 2., 5.],\n",
       "       [2., 8., 9., 4.],\n",
       "       [9., 6., 4., 0.]])"
      ]
     },
     "execution_count": 101,
     "metadata": {},
     "output_type": "execute_result"
    }
   ],
   "source": [
    "# 2. a 데이터가 다음과 같을 때 다음 중 차원을 바꿀 수 있는 방법을 모두 고르세요. -> 3번\n",
    "#       나머지는 차원이 바뀐 값을 return하여 출력될 뿐 a가 바뀌지 않는다\n",
    "import numpy as np\n",
    "a = np.floor(10*np.random.random((3,4)))\n",
    "a"
   ]
  },
  {
   "cell_type": "code",
   "execution_count": 102,
   "id": "4b3184df",
   "metadata": {},
   "outputs": [
    {
     "data": {
      "text/plain": [
       "(3, 4)"
      ]
     },
     "execution_count": 102,
     "metadata": {},
     "output_type": "execute_result"
    }
   ],
   "source": [
    "a.shape"
   ]
  },
  {
   "cell_type": "code",
   "execution_count": 103,
   "id": "c1504d83",
   "metadata": {},
   "outputs": [
    {
     "name": "stdout",
     "output_type": "stream",
     "text": [
      "[3. 6. 2. 5. 2. 8. 9. 4. 9. 6. 4. 0.]\n"
     ]
    },
    {
     "data": {
      "text/plain": [
       "array([[3., 6., 2., 5.],\n",
       "       [2., 8., 9., 4.],\n",
       "       [9., 6., 4., 0.]])"
      ]
     },
     "execution_count": 103,
     "metadata": {},
     "output_type": "execute_result"
    }
   ],
   "source": [
    "print(a.ravel()) # (1) 차원 배열로 평평하게 펴주는 ravel() flatten() a가 바뀌지 않음\n",
    "a"
   ]
  },
  {
   "cell_type": "code",
   "execution_count": 104,
   "id": "677db9cd",
   "metadata": {},
   "outputs": [
    {
     "name": "stdout",
     "output_type": "stream",
     "text": [
      "[[3. 6.]\n",
      " [2. 5.]\n",
      " [2. 8.]\n",
      " [9. 4.]\n",
      " [9. 6.]\n",
      " [4. 0.]]\n"
     ]
    },
    {
     "data": {
      "text/plain": [
       "array([[3., 6., 2., 5.],\n",
       "       [2., 8., 9., 4.],\n",
       "       [9., 6., 4., 0.]])"
      ]
     },
     "execution_count": 104,
     "metadata": {},
     "output_type": "execute_result"
    }
   ],
   "source": [
    "print(a.reshape(6,2))\n",
    "a # (2) 바뀐차원을 return할 뿐 a가 바뀌지 않음"
   ]
  },
  {
   "cell_type": "code",
   "execution_count": 105,
   "id": "8423dfb8",
   "metadata": {},
   "outputs": [
    {
     "data": {
      "text/plain": [
       "array([[3., 6., 2., 5., 2., 8.],\n",
       "       [9., 4., 9., 6., 4., 0.]])"
      ]
     },
     "execution_count": 105,
     "metadata": {},
     "output_type": "execute_result"
    }
   ],
   "source": [
    "a.resize((2,6))\n",
    "a"
   ]
  },
  {
   "cell_type": "code",
   "execution_count": 106,
   "id": "dd0b9ee7",
   "metadata": {},
   "outputs": [
    {
     "name": "stdout",
     "output_type": "stream",
     "text": [
      "[[3. 9.]\n",
      " [6. 4.]\n",
      " [2. 9.]\n",
      " [5. 6.]\n",
      " [2. 4.]\n",
      " [8. 0.]]\n"
     ]
    },
    {
     "data": {
      "text/plain": [
       "array([[3., 6., 2., 5., 2., 8.],\n",
       "       [9., 4., 9., 6., 4., 0.]])"
      ]
     },
     "execution_count": 106,
     "metadata": {},
     "output_type": "execute_result"
    }
   ],
   "source": [
    "print(a.T)\n",
    "a"
   ]
  },
  {
   "cell_type": "code",
   "execution_count": 107,
   "id": "b60bc3c8",
   "metadata": {},
   "outputs": [
    {
     "name": "stdout",
     "output_type": "stream",
     "text": [
      "[[ 0  1  2  3]\n",
      " [ 4  5  6  7]\n",
      " [ 8  9 10 11]]\n"
     ]
    },
    {
     "data": {
      "text/plain": [
       "array([[0, 1, 2, 3],\n",
       "       [4, 5, 6, 7]])"
      ]
     },
     "execution_count": 107,
     "metadata": {},
     "output_type": "execute_result"
    }
   ],
   "source": [
    "# 3. 다음 데이터에서 첫번째 행과 두번째 행만 뽑아내고 싶습니다. 빈칸에 들어갈 내용으로 옳은 것을 고르세요. -> 1번\n",
    "import numpy as np\n",
    "a = np.arange(12).reshape(3,4)\n",
    "print(a)\n",
    "a[:2]"
   ]
  },
  {
   "cell_type": "code",
   "execution_count": 108,
   "id": "00db303c",
   "metadata": {},
   "outputs": [
    {
     "data": {
      "text/plain": [
       "array([1, 0, 3, 0, 0])"
      ]
     },
     "execution_count": 108,
     "metadata": {},
     "output_type": "execute_result"
    }
   ],
   "source": [
    "# 4. 다음 코드의 실행 결과는? -> 2번\n",
    "import numpy as np\n",
    "a = np.array([1,2,3,4,5])\n",
    "a[[1,3,4]] = 0\n",
    "a"
   ]
  },
  {
   "cell_type": "code",
   "execution_count": 112,
   "id": "24c3d783",
   "metadata": {},
   "outputs": [],
   "source": [
    "# 5. 다음 두 배열 a, b를 출력의 예시처럼 만들고 싶을 때 빈 칸에 입력해야 할 내용으로 바른 것은? -> 2번\n",
    "a = np.array([1,2,3,4,5])\n",
    "b = np.array([6,7,8,9,10])\n",
    "answer1 = np.c_[a,b]\n",
    "answer2 = np.column_stack((a,b))\n",
    "answer3 = np.hstack((a[:, np.newaxis], b[:, np.newaxis]))\n",
    "answer4 = np.stack((a,b), axis=1)\n",
    "answer5 = np.stack((a,b), axis=-1)"
   ]
  },
  {
   "cell_type": "code",
   "execution_count": 111,
   "id": "a60730ed",
   "metadata": {},
   "outputs": [
    {
     "name": "stdout",
     "output_type": "stream",
     "text": [
      "[[ 1  6]\n",
      " [ 2  7]\n",
      " [ 3  8]\n",
      " [ 4  9]\n",
      " [ 5 10]]\n"
     ]
    }
   ],
   "source": [
    "print(answer1)"
   ]
  },
  {
   "cell_type": "code",
   "execution_count": 115,
   "id": "0646b9df",
   "metadata": {},
   "outputs": [
    {
     "data": {
      "text/plain": [
       "True"
      ]
     },
     "execution_count": 115,
     "metadata": {},
     "output_type": "execute_result"
    }
   ],
   "source": [
    "same_all(answer1, answer2, answer3, answer4, answer5)"
   ]
  }
 ],
 "metadata": {
  "kernelspec": {
   "display_name": "Python 3 (ipykernel)",
   "language": "python",
   "name": "python3"
  },
  "language_info": {
   "codemirror_mode": {
    "name": "ipython",
    "version": 3
   },
   "file_extension": ".py",
   "mimetype": "text/x-python",
   "name": "python",
   "nbconvert_exporter": "python",
   "pygments_lexer": "ipython3",
   "version": "3.10.9"
  },
  "toc": {
   "base_numbering": 1,
   "nav_menu": {},
   "number_sections": false,
   "sideBar": true,
   "skip_h1_title": false,
   "title_cell": "Table of Contents",
   "title_sidebar": "Contents",
   "toc_cell": false,
   "toc_position": {
    "height": "calc(100% - 180px)",
    "left": "10px",
    "top": "150px",
    "width": "296px"
   },
   "toc_section_display": true,
   "toc_window_display": true
  }
 },
 "nbformat": 4,
 "nbformat_minor": 5
}

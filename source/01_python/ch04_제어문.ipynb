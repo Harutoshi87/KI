{
 "cells": [
  {
   "cell_type": "code",
   "execution_count": 1,
   "id": "2280f123",
   "metadata": {},
   "outputs": [
    {
     "data": {
      "text/html": [
       "\n",
       "<style>\n",
       "div.container{width:90% !important;}\n",
       "div.cell.code_cell.rendered{width:100%;}\n",
       "div.input_prompt{padding:0px;}\n",
       "div.CodeMirror {font-family:Consolas; font-size:12pt;}\n",
       "div.text_cell_render.rendered_html{font-size:12pt;}\n",
       "div.output {font-size:12pt; font-weight:bold;}\n",
       "div.input {font-family:Consolas; font-size:12pt;}\n",
       "div.prompt {min-width:70px;}\n",
       "div#toc-wrapper{padding-top:120px;}\n",
       "div.text_cell_render ul li{font-size:12pt;padding:5px;}\n",
       "table.dataframe{font-size:12px;}\n",
       "</style>\n"
      ],
      "text/plain": [
       "<IPython.core.display.HTML object>"
      ]
     },
     "metadata": {},
     "output_type": "display_data"
    }
   ],
   "source": [
    "from IPython.display import display, HTML\n",
    "display(HTML(\"\"\"\n",
    "<style>\n",
    "div.container{width:90% !important;}\n",
    "div.cell.code_cell.rendered{width:100%;}\n",
    "div.input_prompt{padding:0px;}\n",
    "div.CodeMirror {font-family:Consolas; font-size:12pt;}\n",
    "div.text_cell_render.rendered_html{font-size:12pt;}\n",
    "div.output {font-size:12pt; font-weight:bold;}\n",
    "div.input {font-family:Consolas; font-size:12pt;}\n",
    "div.prompt {min-width:70px;}\n",
    "div#toc-wrapper{padding-top:120px;}\n",
    "div.text_cell_render ul li{font-size:12pt;padding:5px;}\n",
    "table.dataframe{font-size:12px;}\n",
    "</style>\n",
    "\"\"\"))"
   ]
  },
  {
   "cell_type": "markdown",
   "id": "98960968",
   "metadata": {},
   "source": [
    "<b><font size=\"6\" color=\"red\">ch04. 제어문</font></b>\n",
    "- 조건문 : if문\n",
    "- 반복문 : for문(반복 횟수 지정), while(조건)\n",
    "- 중첩 루프\n",
    "\n",
    "**모두 중첩 가능**\n",
    "    \n",
    "# 1. 조건문(if)\n",
    "```\n",
    "if 조건1: \n",
    "    조건1이 True일 경우 수행할 명령어들(들여쓰기 중요. if절 단독 사용 가능)\n",
    "elif 조건2:\n",
    "    조건1이 False이고 조건2가 True일 경우 수행할 명령어들\n",
    "else:\n",
    "    모든 조건이 False일 경우 수행할 명령어들(elif나 else는 단독 사용 불가)\n",
    "```    "
   ]
  },
  {
   "cell_type": "code",
   "execution_count": 8,
   "id": "da975af2",
   "metadata": {},
   "outputs": [
    {
     "name": "stdout",
     "output_type": "stream",
     "text": [
      "Enter your score > 55\n",
      "재시험 응시하세요\n",
      "화이팅\n"
     ]
    }
   ],
   "source": [
    "score = int(input('Enter your score > '))\n",
    "if score >= 80:\n",
    "    print('참 잘했어요')\n",
    "    print('다음에도 기대할게요')\n",
    "elif score >= 60:\n",
    "    print('분발하세요')\n",
    "    print('수고하셨습니다')\n",
    "else:\n",
    "    print('재시험 응시하세요')\n",
    "    print('화이팅')"
   ]
  },
  {
   "cell_type": "code",
   "execution_count": 2,
   "id": "4d00ecc2",
   "metadata": {},
   "outputs": [
    {
     "name": "stdout",
     "output_type": "stream",
     "text": [
      "학점을 입력하세요 : 100\n",
      "입력하신 점수 100점은 A학점입니다\n"
     ]
    }
   ],
   "source": [
    "# ex. 점수를 입력받아 학점 출력(A, B, C, D, F, 유효하지 않은 점수)\n",
    "score = int(input('학점을 입력하세요 : '))\n",
    "if 90 <= score <= 100:\n",
    "    grade = 'A학점'\n",
    "elif 80 <= score < 90:\n",
    "    grade = 'B학점'\n",
    "elif 70 <= score < 80:\n",
    "    grade = 'C학점'\n",
    "elif 60 <= score < 70:\n",
    "    grade = 'D학점'\n",
    "elif 0 <= score < 60:\n",
    "    grade = 'F학점'\n",
    "else:\n",
    "    grade = '유효하지 않은 점수'\n",
    "print('입력하신 점수 {}점은 {}입니다'.format(score, grade))    "
   ]
  },
  {
   "cell_type": "markdown",
   "id": "f6be352d",
   "metadata": {},
   "source": [
    "# 2. 반복문\n",
    "## 2.1.for문/for-in문\n",
    "```\n",
    "for 임시변수 in 나열 가능한 자료:\n",
    "    반복할 문장1\n",
    "    반복할 문장2\n",
    "else:\n",
    "    나열 가능한 자료를 다 소모하여 for블록을 다 수행한 후 최종 한 번 실행할 문장(들)\n",
    "    for문 안의 break를 수행할 경우 else블록을 수행하지 않음(else블록은 optional)\n",
    "```"
   ]
  },
  {
   "cell_type": "code",
   "execution_count": 6,
   "id": "bf247cae",
   "metadata": {},
   "outputs": [
    {
     "name": "stdout",
     "output_type": "stream",
     "text": [
      "5\t4\t3\t2\t1\t\n",
      "DONE\n",
      "END\n"
     ]
    }
   ],
   "source": [
    "for i in range(5, 0, -1):\n",
    "    print(i, end='\\t')\n",
    "print('\\nDONE')\n",
    "print('END')"
   ]
  },
  {
   "cell_type": "code",
   "execution_count": 7,
   "id": "d4f4e776",
   "metadata": {},
   "outputs": [
    {
     "name": "stdout",
     "output_type": "stream",
     "text": [
      "0\t1\t2\t3\t4\tEND\n"
     ]
    }
   ],
   "source": [
    "for i in range(10):\n",
    "    if i==5:\n",
    "        break #반복문을 빠져 나가라는 지시\n",
    "    print(i, end='\\t')\n",
    "else:\n",
    "    print('\\nDONE')\n",
    "print('END')"
   ]
  },
  {
   "cell_type": "code",
   "execution_count": 10,
   "id": "f1d891ff",
   "metadata": {},
   "outputs": [
    {
     "name": "stdout",
     "output_type": "stream",
     "text": [
      "1~100까지의 합은 5050\n"
     ]
    }
   ],
   "source": [
    "# 1~100까지 합을 계산하고 출력하시오(for문)\n",
    "sum = 0 # 누적변수\n",
    "for i in range(1, 101):\n",
    "    sum += i # sum = sum + i\n",
    "print('1~100까지의 합은', sum)"
   ]
  },
  {
   "cell_type": "code",
   "execution_count": 14,
   "id": "884b15f7",
   "metadata": {},
   "outputs": [
    {
     "name": "stdout",
     "output_type": "stream",
     "text": [
      "1~100까지 짝수들의 합은 2550\n"
     ]
    }
   ],
   "source": [
    "# 1~100까지 짝수들의 합을 계산하고 출력하시오(for문)\n",
    "sum = 0 # 누적변수\n",
    "for i in range(1, 101):\n",
    "    if i % 2 == 0:\n",
    "        sum += i\n",
    "print('1~100까지 짝수들의 합은', sum)"
   ]
  },
  {
   "cell_type": "markdown",
   "id": "197a61e4",
   "metadata": {},
   "source": [
    "## 2.2.while문\n",
    "```\n",
    "while 조건:\n",
    "    조건이 True일 경우 반복할 문장(들)\n",
    "else:\n",
    "    조건이 False일 경우 한 번 실행할 문장(들) (else블록은 optional)\n",
    "    while문 안의 break를 수행할 경우 else블록은 실행되지 않음\n",
    "```"
   ]
  },
  {
   "cell_type": "code",
   "execution_count": 2,
   "id": "ca2840e3",
   "metadata": {},
   "outputs": [
    {
     "name": "stdout",
     "output_type": "stream",
     "text": [
      "1~100까지 짝수의 합은 2550\n"
     ]
    }
   ],
   "source": [
    "# 1~100까지 짝수들의 합을 계산하고 출력하시오(while문)\n",
    "sum = 0 # 누적변수\n",
    "i = 1 # 초기화 작업 \n",
    "while i <= 100:\n",
    "    if i % 2 == 0:\n",
    "        sum += i # sum = sum + i\n",
    "    i += 1\n",
    "else:\n",
    "    print('1~100까지 짝수의 합은', sum)"
   ]
  },
  {
   "cell_type": "code",
   "execution_count": 8,
   "id": "44c80356",
   "metadata": {},
   "outputs": [
    {
     "name": "stdout",
     "output_type": "stream",
     "text": [
      "첫번째 정수를 입력하시오 :8\n",
      "두번째 정수를 입력하시오 :1\n",
      "1~8까지 홀수들의 합은 16\n"
     ]
    }
   ],
   "source": [
    "# ex 1. 사용자에게 두 정수를 입력받아 작은 수부터 큰 수까지 홀수의 합을 누적해서 출력하시오\n",
    "# 두 정수를 입력\n",
    "int1 = int(input('첫번째 정수를 입력하시오 :'))\n",
    "int2 = int(input('두번째 정수를 입력하시오 :'))\n",
    "# int1에 작은 값, int2에 큰 값\n",
    "    # 바꿔\n",
    "# temp  = first \n",
    "# first = second\n",
    "# second = first\n",
    "if int1 > int2:\n",
    "    int1, int2 = int2, int1\n",
    "# 누적\n",
    "sum = 0\n",
    "for i in range(int1, int2+1):\n",
    "    if i%2: # (i%2==1) | (i%2==-1):\n",
    "        sum += i\n",
    "print('{}~{}까지 홀수들의 합은 {}'.format(int1, int2, sum))      "
   ]
  },
  {
   "cell_type": "code",
   "execution_count": 29,
   "id": "cc52aeb9",
   "metadata": {},
   "outputs": [
    {
     "name": "stdout",
     "output_type": "stream",
     "text": [
      "6 [8, 14, 21, 31, 32, 40]\n",
      "6번 추출함 : [32, 40, 14, 21, 8, 31]\n",
      "정렬 후 : [8, 14, 21, 31, 32, 40]\n"
     ]
    }
   ],
   "source": [
    "# ex 2. 로또번호 6개(중복X)를 추출 후 정렬하여 출력하시오\n",
    "import random\n",
    "# random.seed(3)\n",
    "# random.random() # 0이상 1미만의 실수 난수\n",
    "# random.randint(1, 45) 1~45의 정수 난수\n",
    "# random.choice(['남자', '여자']) # 남자나 여자를 선택(확률 일치)\n",
    "# random.choices(['사기꾼', '비사기꾼'], weights=[0.1, 0.9])\n",
    "lotto_lst = [] #추출된 로또번호를 담을 변수\n",
    "count = 0 #임의의 수 발생 횟수(생략 가능)\n",
    "while len(lotto_lst) < 6:\n",
    "    temp = random.randint(1, 45) # 임의의 수를 temp 변수에 넣음\n",
    "    count += 1\n",
    "    if temp not in lotto_lst: # not의 위치는 관계 없음\n",
    "        lotto_lst.append(temp)\n",
    "print(count, sorted(lotto_lst))\n",
    "print('{}번 추출함 : {}'.format(count, lotto_lst))\n",
    "# 정렬 알고리즘\n",
    "for i in range(len(lotto_lst)-1):\n",
    "    for j in range(i+1, len(lotto_lst)):\n",
    "        if lotto_lst[i] > lotto_lst[j]:\n",
    "            lotto_lst[i], lotto_lst[j] = lotto_lst[j], lotto_lst[i]\n",
    "print('정렬 후 :', lotto_lst)"
   ]
  },
  {
   "cell_type": "code",
   "execution_count": 30,
   "id": "b9d87f97",
   "metadata": {},
   "outputs": [
    {
     "data": {
      "text/plain": [
       "{2, 11, 16, 26, 36, 45}"
      ]
     },
     "execution_count": 30,
     "metadata": {},
     "output_type": "execute_result"
    }
   ],
   "source": [
    "# 위의 ex 2를 set 사용하여 추출 및 출력\n",
    "lotto_set = set() #빈 셋\n",
    "while len(lotto_set) < 6:\n",
    "    lotto_set.add(random.randint(1, 45))\n",
    "lotto_set\n",
    "# sorted(lotto_set) 알아서 자동 정렬되기에 필요 없음!"
   ]
  },
  {
   "cell_type": "code",
   "execution_count": 33,
   "id": "6607862f",
   "metadata": {},
   "outputs": [
    {
     "name": "stdout",
     "output_type": "stream",
     "text": [
      "[1, 2, 4, 11, 20, 28]\n"
     ]
    }
   ],
   "source": [
    "# 1~45 중 6개 뽑아 정렬\n",
    "random.sample(range(1, 46), 6)\n",
    "print(sorted(random.sample(range(1, 46), 6)))"
   ]
  },
  {
   "cell_type": "markdown",
   "id": "080f85f9",
   "metadata": {},
   "source": [
    "## 2.3.break, continue\n",
    "- break : 현재 반복문 탈출\n",
    "- continue : 수행 중인 반복문을 멈추고 조건절로 "
   ]
  },
  {
   "cell_type": "code",
   "execution_count": 36,
   "id": "e7a72e67",
   "metadata": {},
   "outputs": [
    {
     "name": "stdout",
     "output_type": "stream",
     "text": [
      "1 2 3 4 5 6 7 8 9 10 END\n"
     ]
    }
   ],
   "source": [
    "num = 0\n",
    "while num < 10:\n",
    "    num += 1\n",
    "    print(num, end=' ')\n",
    "print('END')"
   ]
  },
  {
   "cell_type": "code",
   "execution_count": 37,
   "id": "85512166",
   "metadata": {},
   "outputs": [
    {
     "name": "stdout",
     "output_type": "stream",
     "text": [
      "1 2 3 4 END\n"
     ]
    }
   ],
   "source": [
    "num = 0\n",
    "while num < 10:\n",
    "    num += 1\n",
    "    if num == 5:\n",
    "        break\n",
    "    print(num, end=' ')\n",
    "print('END')"
   ]
  },
  {
   "cell_type": "code",
   "execution_count": 38,
   "id": "037224d6",
   "metadata": {},
   "outputs": [
    {
     "name": "stdout",
     "output_type": "stream",
     "text": [
      "1 2 3 4 6 7 8 9 10 END\n"
     ]
    }
   ],
   "source": [
    "num = 0\n",
    "while num < 10:\n",
    "    num += 1\n",
    "    if num == 5:\n",
    "        continue\n",
    "    print(num, end=' ')\n",
    "print('END')"
   ]
  },
  {
   "cell_type": "markdown",
   "id": "fe018c93",
   "metadata": {},
   "source": [
    " # 3. 중첩 루프\n",
    " (반복문 안의 반복문)"
   ]
  },
  {
   "cell_type": "code",
   "execution_count": 4,
   "id": "e4bbc994",
   "metadata": {},
   "outputs": [
    {
     "name": "stdout",
     "output_type": "stream",
     "text": [
      "  2단  \t  3단  \t  4단  \t  5단  \t  6단  \t  7단  \t  8단  \t  9단  \t\n",
      "2x1= 2\t3x1= 3\t4x1= 4\t5x1= 5\t6x1= 6\t7x1= 7\t8x1= 8\t9x1= 9\t\n",
      "2x2= 4\t3x2= 6\t4x2= 8\t5x2=10\t6x2=12\t7x2=14\t8x2=16\t9x2=18\t\n",
      "2x3= 6\t3x3= 9\t4x3=12\t5x3=15\t6x3=18\t7x3=21\t8x3=24\t9x3=27\t\n",
      "2x4= 8\t3x4=12\t4x4=16\t5x4=20\t6x4=24\t7x4=28\t8x4=32\t9x4=36\t\n",
      "2x5=10\t3x5=15\t4x5=20\t5x5=25\t6x5=30\t7x5=35\t8x5=40\t9x5=45\t\n",
      "2x6=12\t3x6=18\t4x6=24\t5x6=30\t6x6=36\t7x6=42\t8x6=48\t9x6=54\t\n",
      "2x7=14\t3x7=21\t4x7=28\t5x7=35\t6x7=42\t7x7=49\t8x7=56\t9x7=63\t\n",
      "2x8=16\t3x8=24\t4x8=32\t5x8=40\t6x8=48\t7x8=56\t8x8=64\t9x8=72\t\n",
      "2x9=18\t3x9=27\t4x9=36\t5x9=45\t6x9=54\t7x9=63\t8x9=72\t9x9=81\t\n"
     ]
    }
   ],
   "source": [
    "#2~9단 구구단 출력\n",
    "for j in range(2, 10): # j > 열\n",
    "    print('{:^6}'.format(str(j)+'단'), end='\\t')\n",
    "print() # 개행\n",
    "for i in range(1, 10): # i > 행\n",
    "    for j in range(2, 10): # j > 열\n",
    "        print('{}x{}={:2}'.format(j, i, i*j), end='\\t')\n",
    "    print()"
   ]
  },
  {
   "cell_type": "markdown",
   "id": "663b8e02",
   "metadata": {},
   "source": [
    "# 4. 중첩 루프 탈출"
   ]
  },
  {
   "cell_type": "code",
   "execution_count": 18,
   "id": "0724271a",
   "metadata": {},
   "outputs": [
    {
     "name": "stdout",
     "output_type": "stream",
     "text": [
      "0 1\n",
      "0 2\n",
      "a=1, b=1일 때 break함\n",
      "2 1\n",
      "a=2, b=2일 때 break함\n",
      "DONE\n"
     ]
    }
   ],
   "source": [
    "# 현 루프 탈출\n",
    "for a in range(0, 3): # a = 0일 때, 1일 때, 2일 때\n",
    "    for b in range(1, 3): # b = 1일 때, 2일 때\n",
    "        if a==b:\n",
    "            print('a={}, b={}일 때 break함'.format(a, b))\n",
    "            break\n",
    "        print(a, b)\n",
    "        # break를 만나면 오는 곳\n",
    "print('DONE')"
   ]
  },
  {
   "cell_type": "code",
   "execution_count": 22,
   "id": "e6afc46f",
   "metadata": {},
   "outputs": [
    {
     "name": "stdout",
     "output_type": "stream",
     "text": [
      "0 1\n",
      "0 2\n",
      "DONE\n"
     ]
    }
   ],
   "source": [
    "# 중첩 루프 탈출 방법 1. flag 변수 사용\n",
    "flag = False # break를 만나면 True\n",
    "for a in range(0, 3): # a = 0일 때, 1일 때, 2일 때\n",
    "    for b in range(1, 3): # b = 1일 때, 2일 때\n",
    "        if a==b:\n",
    "            flag = True\n",
    "            break\n",
    "        print(a, b)\n",
    "        # break를 만나면 오는 곳\n",
    "    if flag:\n",
    "        break\n",
    "print('DONE')"
   ]
  },
  {
   "cell_type": "code",
   "execution_count": 1,
   "id": "c90999b3",
   "metadata": {},
   "outputs": [],
   "source": [
    "# 중첩 루프 탈출 방법 2. 예외(Exception) 처리 사용 - 9/30일쯤\n",
    "# Exception을 상속받은 class\n",
    "class BreakOutLoopException(Exception):\n",
    "    pass"
   ]
  },
  {
   "cell_type": "code",
   "execution_count": 3,
   "id": "a2a68fad",
   "metadata": {},
   "outputs": [
    {
     "name": "stdout",
     "output_type": "stream",
     "text": [
      "0 1\n",
      "0 2\n",
      "a=1, b=1일 때 raise로 탈출\n",
      "DONE\n"
     ]
    }
   ],
   "source": [
    "try:\n",
    "    for a in range(0, 3): # a = 0일 때, 1일 때, 2일 때\n",
    "        for b in range(1, 3): # b = 1일 때, 2일 때\n",
    "            if a==b:\n",
    "                print('a={}, b={}일 때 raise로 탈출'.format(a, b))\n",
    "                # 중첩반복문 탈출(강제로 예외 발생시킴)\n",
    "                raise BreakOutLoopException('중첩 반복문 탈출')\n",
    "            print(a, b)\n",
    "except:\n",
    "    print('DONE')"
   ]
  },
  {
   "cell_type": "markdown",
   "id": "d85d74e9",
   "metadata": {},
   "source": [
    "# 5. 연습문제"
   ]
  },
  {
   "cell_type": "code",
   "execution_count": 1,
   "id": "c0ac1a0c",
   "metadata": {},
   "outputs": [
    {
     "name": "stdout",
     "output_type": "stream",
     "text": [
      "양의 정수를 입력하세요 : \n",
      "양의 정수를 입력하세요 : \n",
      "양의 정수를 입력하세요 : d\n",
      "양의 정수를 입력하세요 : 1\n",
      "입력하신 양의 정수는 1이고 홀수입니다\n"
     ]
    }
   ],
   "source": [
    "# 1. 양의 정수를 입력 받아 홀수인지 짝수인지를 판별하는 프로그램을 작성하세요 . 양의 정수가 아니면 숫자를 다시 입력 받아야 합니다\n",
    "inputStr = ''\n",
    "while (inputStr.isdigit()==False) | (inputStr=='0'): # isdigit자체가 0 이상의 양의 정수만 받음\n",
    "    inputStr = input('양의 정수를 입력하세요 : ')\n",
    "inputNum = int(inputStr)\n",
    "even_odd = '홀수' if inputNum%2 else '짝수'\n",
    "print('입력하신 양의 정수는 {}이고 {}입니다'.format(inputNum, even_odd))"
   ]
  },
  {
   "cell_type": "code",
   "execution_count": 8,
   "id": "0931c5e9",
   "metadata": {},
   "outputs": [
    {
     "name": "stdout",
     "output_type": "stream",
     "text": [
      " (1) \t (2) \n",
      "*****\t*\n",
      "*****\t**\n",
      "*****\t***\n",
      "*****\t****\n",
      "*****\t*****\n"
     ]
    }
   ],
   "source": [
    "# 2.중첩 for 문을 이용하여 아래 패턴의 별을 출력하는 프로그램을 작성하세요\n",
    "'''\n",
    "(1)  (2)\n",
    "*****  *\n",
    "*****  **\n",
    "*****  ***\n",
    "*****  ****\n",
    "*****  *****\n",
    "'''\n",
    "print('{:^5}\\t{:^5}'.format('(1)', '(2)'))\n",
    "for i in range(5): # i -> 행\n",
    "    print('*'*5, end='\\t')\n",
    "    for j in range(i+1): # j -> 반복 제어 변수\n",
    "        print('*', end='')\n",
    "    print()"
   ]
  },
  {
   "cell_type": "code",
   "execution_count": 37,
   "id": "71b123fe",
   "metadata": {},
   "outputs": [
    {
     "name": "stdout",
     "output_type": "stream",
     "text": [
      "165\n"
     ]
    }
   ],
   "source": [
    "# 3. 다음 코드는 1 부터 30 까지 (30 포함 ) 자연수 중에서 3의 배수의 총 합을 출력하는 프로그램입니다 . 빈칸의 코드를 완성하시오\n",
    "sum = 0\n",
    "for i in range(1, 31):\n",
    "    if i%3==0:\n",
    "        sum = sum + i\n",
    "    else:\n",
    "        pass\n",
    "print(sum)"
   ]
  },
  {
   "cell_type": "code",
   "execution_count": 36,
   "id": "dfad3fbe",
   "metadata": {},
   "outputs": [
    {
     "name": "stdout",
     "output_type": "stream",
     "text": [
      "1 3 5 7 9 "
     ]
    }
   ],
   "source": [
    "# 4. 다음 코드의 실행결과가 “1 3 5 7 가 되도록 빈칸을 완성하시오\n",
    "num = 0\n",
    "while num <= 10:\n",
    "    if num%2:\n",
    "        print(num, end=' ')\n",
    "    num += 1"
   ]
  },
  {
   "cell_type": "code",
   "execution_count": 13,
   "id": "acbbce6d",
   "metadata": {},
   "outputs": [
    {
     "name": "stdout",
     "output_type": "stream",
     "text": [
      "1 2 3 \n",
      "4 5 6 7 \n",
      "8 9 \n"
     ]
    }
   ],
   "source": [
    "# 5.\n",
    "# 다음 2 차원 리스트의 모든 값을 출력하는 코드입니다 . 빈칸을 완성하시오\n",
    "list2d = [ [1,2,3],[4,5,6,7],[8,9]]\n",
    "for row in list2d:\n",
    "    for data in row:\n",
    "        print(data, end=' ')\n",
    "    print()\n",
    "# 결과 : \n",
    "# 1 2 3 \n",
    "# 4 5 6 7\n",
    "# 8 9"
   ]
  },
  {
   "cell_type": "code",
   "execution_count": 53,
   "id": "418db2f6",
   "metadata": {},
   "outputs": [
    {
     "name": "stdout",
     "output_type": "stream",
     "text": [
      "0 apple\n",
      "1 banana\n"
     ]
    }
   ],
   "source": [
    "# 6. 다음 빈칸에 들어갈 함수 이름은\n",
    "colors = {'red':'apple', 'yellow':'banana'}\n",
    "enumerate(colors.values())\n",
    "for i, v in enumerate(colors.values()):\n",
    "    print(i, v)"
   ]
  },
  {
   "cell_type": "code",
   "execution_count": 7,
   "id": "22646ab1",
   "metadata": {},
   "outputs": [
    {
     "name": "stdout",
     "output_type": "stream",
     "text": [
      "1 0\n"
     ]
    }
   ],
   "source": [
    "# 7. 다음 코드의 실행결과는\n",
    "for i in range(0, 2): # i : 0, 1\n",
    "    for j in range(0, 2): # j : 0, 1\n",
    "        if i == j:\n",
    "            break\n",
    "        print(i, j)"
   ]
  },
  {
   "cell_type": "code",
   "execution_count": 9,
   "id": "a8ba230d",
   "metadata": {},
   "outputs": [
    {
     "name": "stdout",
     "output_type": "stream",
     "text": [
      "0 0\n",
      "1 0\n",
      "1 1\n"
     ]
    }
   ],
   "source": [
    "# 8.다음 코드의 실행 결과로 출력될 수 없는 것은\n",
    "for i in range(0, 2): # i : 0, 1\n",
    "    for j in range(0, 2): # j : 0, 1\n",
    "        print(i, j)\n",
    "        if i == j:\n",
    "            break\n",
    "# ①\n",
    "# 0 0 ② 0 1 ③ 1 0 ④ 1 1\n",
    "# 답: 2번"
   ]
  },
  {
   "cell_type": "code",
   "execution_count": 7,
   "id": "f8e4632a",
   "metadata": {},
   "outputs": [
    {
     "name": "stdout",
     "output_type": "stream",
     "text": [
      "3 5 7 9 \n",
      "3 5 7 9 "
     ]
    }
   ],
   "source": [
    "# 9.다음 코드의 실행결과는\n",
    "L = [3, 4, 5, 6, 7, 8, 9, 10]\n",
    "for i , data in enumerate(L):\n",
    "    if i%2 == 0:\n",
    "        print(data, end=' ')\n",
    "# 참고\n",
    "print() # 개행\n",
    "for data in L[0::2]:\n",
    "    print(data, end=' ')"
   ]
  },
  {
   "cell_type": "code",
   "execution_count": 54,
   "id": "6f536fbd",
   "metadata": {},
   "outputs": [
    {
     "name": "stdout",
     "output_type": "stream",
     "text": [
      "컴퓨터가 발생한 random 수 : 45\n",
      "1~100 사이의 수를 맞혀 보세요 :99\n",
      "DOWN ↓\n",
      "1~100 사이의 수를 맞혀 보세요 :50\n",
      "DOWN ↓\n",
      "1~100 사이의 수를 맞혀 보세요 :40\n",
      "UP ↑\n",
      "1~100 사이의 수를 맞혀 보세요 :45\n",
      "축하합니다. 맞혔습니다!\n",
      "BYE\n"
     ]
    }
   ],
   "source": [
    "# 10. 숫자 찾기 게임\n",
    "'''\n",
    "1~100 사이의 정수를 맞추는 프로그램을 구현하시오\n",
    "(프로그램안에 임의의 숫자가 만들어지고 그 숫자를 맞추도록 합니다)\n",
    "1단계 : 입력된 숫자가 틀리면 UP/DOWN 메시지를 출력하고 숫자를 맞추면 축하 메세지를 출력하고 종료합니다\n",
    "'''\n",
    "import random\n",
    "randomNum = random.randint(1, 100)\n",
    "print('컴퓨터가 발생한 random 수 :', randomNum)\n",
    "while True:\n",
    "    inputNum = int(input('1~100 사이의 수를 맞혀 보세요 :'))\n",
    "    if (inputNum < 1) | (inputNum >100):\n",
    "        print('수의 범위를 벗어났습니다')\n",
    "    elif randomNum < inputNum:\n",
    "        print('DOWN ↓')\n",
    "    elif randomNum > inputNum:\n",
    "        print('UP ↑')\n",
    "    else:\n",
    "        print('축하합니다. 맞혔습니다!')\n",
    "        break\n",
    "print('BYE')"
   ]
  },
  {
   "cell_type": "code",
   "execution_count": 55,
   "id": "8b50fe87",
   "metadata": {},
   "outputs": [
    {
     "name": "stdout",
     "output_type": "stream",
     "text": [
      "컴퓨터가 발생한 random 수 : 45\n",
      "1~100 사이의 수를 맞혀 보세요 :90\n",
      "DOWN ↓\n",
      "1~100 사이의 수를 맞혀 보세요 :40\n",
      "UP ↑\n",
      "1~100 사이의 수를 맞혀 보세요 :45\n",
      "축하합니다. 맞혔습니다\n",
      "BYE\n"
     ]
    }
   ],
   "source": [
    "# break 사용하지 않고 하는 방법\n",
    "print('컴퓨터가 발생한 random 수 :', randomNum)\n",
    "inputNum = -1\n",
    "while randomNum != inputNum:\n",
    "    inputNum = int(input('1~100 사이의 수를 맞혀 보세요 :'))\n",
    "    if (inputNum < 1) | (inputNum >100):\n",
    "        print('수의 범위를 벗어났습니다')\n",
    "    elif randomNum < inputNum:\n",
    "        print('DOWN ↓')\n",
    "    elif randomNum > inputNum:\n",
    "        print('UP ↑')\n",
    "else:\n",
    "    print('축하합니다. 맞혔습니다')\n",
    "print('BYE')"
   ]
  },
  {
   "cell_type": "code",
   "execution_count": 5,
   "id": "d0cb5612",
   "metadata": {},
   "outputs": [
    {
     "name": "stdout",
     "output_type": "stream",
     "text": [
      "컴퓨터가 발생한 random 수 : 16\n",
      "1~100 사이의 수를 맞혀 보세요 :99\n",
      "DOWN ↓\n",
      "1~98 사이의 수를 맞혀 보세요 :50\n",
      "DOWN ↓\n",
      "1~49 사이의 수를 맞혀 보세요 :2\n",
      "UP ↑\n",
      "3~49 사이의 수를 맞혀 보세요 :16\n",
      "축하합니다. 맞혔습니다!\n",
      "BYE\n"
     ]
    }
   ],
   "source": [
    "'''\n",
    "2단계 : 입력된 숫자가 틀리면 min(0)~max(100) 사이의 수라고 알려주고 숫자를 맞추면 축하 메시지와 출력하고 종료합니다\n",
    "'''\n",
    "import random\n",
    "randomNum = random.randint(1, 100)\n",
    "print('컴퓨터가 발생한 random 수 :', randomNum)\n",
    "min_ = 1\n",
    "max_ = 100\n",
    "while True:\n",
    "    inputNum = int(input(f'{min_}~{max_} 사이의 수를 맞혀 보세요 :'))\n",
    "    if (inputNum < min_) | (inputNum > max_):\n",
    "        print('수의 범위를 벗어났습니다')\n",
    "    elif randomNum < inputNum:\n",
    "        print('DOWN ↓')\n",
    "        max_ = inputNum - 1\n",
    "    elif randomNum > inputNum:\n",
    "        print('UP ↑')\n",
    "        min_ = inputNum + 1\n",
    "    else:\n",
    "        print('축하합니다. 맞혔습니다!')\n",
    "        break\n",
    "print('BYE')"
   ]
  },
  {
   "cell_type": "code",
   "execution_count": 4,
   "id": "5fe4e216",
   "metadata": {},
   "outputs": [
    {
     "name": "stdout",
     "output_type": "stream",
     "text": [
      "컴퓨터가 발생한 random 수 : 32\n",
      "1~100 사이의 수를 맞혀 보세요 (남은 기회 5회): 99\n",
      "DOWN ↓\n",
      "1~98 사이의 수를 맞혀 보세요 (남은 기회 4회): 88\n",
      "DOWN ↓\n",
      "1~87 사이의 수를 맞혀 보세요 (남은 기회 3회): 33\n",
      "DOWN ↓\n",
      "1~32 사이의 수를 맞혀 보세요 (남은 기회 2회): 32\n",
      "축하합니다. 맞혔습니다!\n",
      "BYE\n"
     ]
    }
   ],
   "source": [
    "'''\n",
    "3단계 : 숫자를 맞출 수 있는 기회를 5회로 제한하고 5회 이내에 맞추지 않으면 실패 메세지를 출력합니다\n",
    "'''\n",
    "import random\n",
    "randomNum = random.randint(1, 100)\n",
    "print('컴퓨터가 발생한 random 수 :', randomNum)\n",
    "min_ = 1\n",
    "max_ = 100\n",
    "for cnt in range(5, 0, -1):\n",
    "    inputNum = int(input(f'{min_}~{max_} 사이의 수를 맞혀 보세요 (남은 기회 {cnt}회): '))\n",
    "    if (inputNum < min_) | (inputNum > max_):\n",
    "        print('수의 범위를 벗어났습니다')\n",
    "    elif randomNum < inputNum:\n",
    "        print('DOWN ↓')\n",
    "        max_ = inputNum - 1\n",
    "    elif randomNum > inputNum:\n",
    "        print('UP ↑')\n",
    "        min_ = inputNum + 1\n",
    "    else:\n",
    "        print('축하합니다. 맞혔습니다!')\n",
    "        break\n",
    "else:\n",
    "    print('기회를 모두 소진하였습니다. 실패하였습니다')\n",
    "print('BYE')"
   ]
  }
 ],
 "metadata": {
  "kernelspec": {
   "display_name": "Python 3 (ipykernel)",
   "language": "python",
   "name": "python3"
  },
  "language_info": {
   "codemirror_mode": {
    "name": "ipython",
    "version": 3
   },
   "file_extension": ".py",
   "mimetype": "text/x-python",
   "name": "python",
   "nbconvert_exporter": "python",
   "pygments_lexer": "ipython3",
   "version": "3.10.9"
  },
  "toc": {
   "base_numbering": 1,
   "nav_menu": {},
   "number_sections": false,
   "sideBar": true,
   "skip_h1_title": false,
   "title_cell": "Table of Contents",
   "title_sidebar": "Contents",
   "toc_cell": false,
   "toc_position": {
    "height": "calc(100% - 180px)",
    "left": "10px",
    "top": "150px",
    "width": "223px"
   },
   "toc_section_display": true,
   "toc_window_display": true
  }
 },
 "nbformat": 4,
 "nbformat_minor": 5
}

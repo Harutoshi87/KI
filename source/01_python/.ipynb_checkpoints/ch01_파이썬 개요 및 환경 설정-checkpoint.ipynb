{
 "cells": [
  {
   "cell_type": "code",
   "execution_count": 1,
   "id": "61859c4c",
   "metadata": {},
   "outputs": [
    {
     "data": {
      "text/html": [
       "\n",
       "<style>\n",
       "div.container{width:90% !important;}\n",
       "div.cell.code_cell.rendered{width:100%;}\n",
       "div.input_prompt{padding:0px;}\n",
       "div.CodeMirror {font-family:Consolas; font-size:12pt;}\n",
       "div.text_cell_render.rendered_html{font-size:12pt;}\n",
       "div.output {font-size:12pt; font-weight:bold;}\n",
       "div.input {font-family:Consolas; font-size:12pt;}\n",
       "div.prompt {min-width:70px;}\n",
       "div#toc-wrapper{padding-top:120px;}\n",
       "div.text_cell_render ul li{font-size:12pt;padding:5px;}\n",
       "table.dataframe{font-size:12px;}\n",
       "</style>\n"
      ],
      "text/plain": [
       "<IPython.core.display.HTML object>"
      ]
     },
     "metadata": {},
     "output_type": "display_data"
    }
   ],
   "source": [
    "from IPython.display import display, HTML\n",
    "display(HTML(\"\"\"\n",
    "<style>\n",
    "div.container{width:90% !important;}\n",
    "div.cell.code_cell.rendered{width:100%;}\n",
    "div.input_prompt{padding:0px;}\n",
    "div.CodeMirror {font-family:Consolas; font-size:12pt;}\n",
    "div.text_cell_render.rendered_html{font-size:12pt;}\n",
    "div.output {font-size:12pt; font-weight:bold;}\n",
    "div.input {font-family:Consolas; font-size:12pt;}\n",
    "div.prompt {min-width:70px;}\n",
    "div#toc-wrapper{padding-top:120px;}\n",
    "div.text_cell_render ul li{font-size:12pt;padding:5px;}\n",
    "table.dataframe{font-size:12px;}\n",
    "</style>\n",
    "\"\"\"))"
   ]
  },
  {
   "cell_type": "markdown",
   "id": "2e583be0",
   "metadata": {},
   "source": [
    "<b><font size=\"6\" color=\"red\">ch01. 파이썬 개요 및 환경 설정<font></b>\n",
    "\n",
    "# 1. 마크다운이란? \n",
    "- 코드와 함께 문서화를 할 수 있음\n",
    "- 다양한 문서화 문법 ex. README.md\n",
    "\n",
    "# 2. 주피터 노트북 사용법(큰 제목)\n",
    "- shift + Enter: 포커스 된 셀이 실행되고 커서가 다음 셀로 이동\n",
    "- alt + Enter: 포커스 된 셀이 실행되고 다음 셀이 생성된 후 다음 셀로 이동\n",
    "- ctrl + Enter: 포커스 된 셀이 실행되고 포커스 이동은 없음\n",
    "- Enter: 다시 편집 상태로 돌아감"
   ]
  },
  {
   "cell_type": "code",
   "execution_count": 24,
   "id": "d63ce873",
   "metadata": {},
   "outputs": [],
   "source": [
    "# 셀 하나하나에 파이썬 소스를 입력 -> 실행(shift + Enter); esc + a = 위에 셀 생성; esc + b = 아래에 셀 생성; 블럭을 잡아놓고 ctrl + / > 코드를 주석 처리 (블럭 주석 토글)"
   ]
  },
  {
   "cell_type": "code",
   "execution_count": 25,
   "id": "c349d97c",
   "metadata": {},
   "outputs": [
    {
     "name": "stdout",
     "output_type": "stream",
     "text": [
      "Hello, Python\n",
      "홍길동\n"
     ]
    }
   ],
   "source": [
    "# print()함수를 이용해서 풀력\n",
    "# print('Hello, Python')\n",
    "# print('홍길동')\n",
    "print(\"Hello, Python\\n홍길동\")"
   ]
  },
  {
   "cell_type": "code",
   "execution_count": 26,
   "id": "e4913184",
   "metadata": {},
   "outputs": [
    {
     "name": "stdout",
     "output_type": "stream",
     "text": [
      "27\n",
      "252\n"
     ]
    }
   ],
   "source": [
    "age = 25 # \"age\"에 할당되는 숫자;\n",
    "duration = \"2\" #\"duration\"에 할당되는 문자 (숫자와 문자의 덧셈은 불가능);\n",
    "print(age + int(duration))\n",
    "print(str(age) + duration)# 문자의 덧셈은 불가능\n",
    "# view 메뉴 -> toggle line number 선택"
   ]
  },
  {
   "cell_type": "code",
   "execution_count": 27,
   "id": "60a069a1",
   "metadata": {},
   "outputs": [],
   "source": [
    "#for i in range(10):\n",
    "#   print(i)\n",
    "    #stop 기능\n",
    "    #kernel 메뉴의 restart"
   ]
  },
  {
   "cell_type": "code",
   "execution_count": 28,
   "id": "c0eb19d5",
   "metadata": {},
   "outputs": [
    {
     "data": {
      "text/plain": [
       "5"
      ]
     },
     "execution_count": 28,
     "metadata": {},
     "output_type": "execute_result"
    }
   ],
   "source": [
    "print = 5\n",
    "print"
   ]
  },
  {
   "cell_type": "code",
   "execution_count": 29,
   "id": "fe98d423",
   "metadata": {},
   "outputs": [
    {
     "ename": "TypeError",
     "evalue": "'int' object is not callable",
     "output_type": "error",
     "traceback": [
      "\u001b[1;31m---------------------------------------------------------------------------\u001b[0m",
      "\u001b[1;31mTypeError\u001b[0m                                 Traceback (most recent call last)",
      "Cell \u001b[1;32mIn[29], line 1\u001b[0m\n\u001b[1;32m----> 1\u001b[0m \u001b[38;5;28;43mprint\u001b[39;49m\u001b[43m(\u001b[49m\u001b[38;5;124;43m'\u001b[39;49m\u001b[38;5;124;43mHello\u001b[39;49m\u001b[38;5;124;43m'\u001b[39;49m\u001b[43m)\u001b[49m\n",
      "\u001b[1;31mTypeError\u001b[0m: 'int' object is not callable"
     ]
    }
   ],
   "source": [
    "print('Hello')"
   ]
  },
  {
   "cell_type": "code",
   "execution_count": 33,
   "id": "ce0c04e1",
   "metadata": {},
   "outputs": [],
   "source": [
    "#실수로 할당된 print 변수를 삭제 방법 1\n",
    "del print\n",
    "#실수로 할당된 print 변수를 삭제 방법 2: kernel restart"
   ]
  },
  {
   "cell_type": "code",
   "execution_count": 34,
   "id": "23114dad",
   "metadata": {},
   "outputs": [
    {
     "name": "stdout",
     "output_type": "stream",
     "text": [
      "Hello\n"
     ]
    }
   ],
   "source": [
    "print('Hello')"
   ]
  },
  {
   "cell_type": "markdown",
   "id": "15b1d5aa",
   "metadata": {},
   "source": [
    "#3. ESC키 누르고 \n",
    "- dd : 셀 삭제\n",
    "- a : 위에 셀 추가\n",
    "- b : 아래에 셀 추가\n",
    "- m : markdown cell로 변경\n",
    "- y : Code cell로 변경\n",
    "- h : 단축키 안내 표시\n",
    "- o : 해당 셀의 실행 결과 접기/펴기"
   ]
  },
  {
   "cell_type": "code",
   "execution_count": 35,
   "id": "8bca8ea1",
   "metadata": {},
   "outputs": [
    {
     "name": "stdout",
     "output_type": "stream",
     "text": [
      " C 드라이브의 볼륨에는 이름이 없습니다.\n",
      " 볼륨 일련 번호: A014-DCD6\n",
      "\n",
      " C:\\KI\\source\\01_python 디렉터리\n",
      "\n",
      "2025-09-12  오후 12:28    <DIR>          .\n",
      "2025-09-12  오후 12:28    <DIR>          ..\n",
      "2025-09-12  오전 10:58    <DIR>          .ipynb_checkpoints\n",
      "2025-09-12  오전 11:40             9,019 ch01_파이썬 개요 및 환경 설정.ipynb\n",
      "2025-09-12  오후 12:28            11,469 ch02_자료형과 연산자.ipynb\n",
      "               2개 파일              20,488 바이트\n",
      "               3개 디렉터리  161,624,670,208 바이트 남음\n"
     ]
    }
   ],
   "source": [
    "#Jupyter 노트북에서 cmd 명령어 수행: ! + 터미널 명령어\n",
    "!dir"
   ]
  },
  {
   "cell_type": "code",
   "execution_count": 36,
   "id": "1cc0ac1e",
   "metadata": {},
   "outputs": [
    {
     "name": "stdout",
     "output_type": "stream",
     "text": [
      " C 드라이브의 볼륨에는 이름이 없습니다.\n",
      " 볼륨 일련 번호: A014-DCD6\n",
      "\n",
      " C:\\KI\\source\\01_python 디렉터리\n",
      "\n",
      "2025-09-12  오후 12:28    <DIR>          .\n",
      "2025-09-12  오후 12:28    <DIR>          ..\n",
      "2025-09-12  오전 10:58    <DIR>          .ipynb_checkpoints\n",
      "2025-09-12  오전 11:40             9,019 ch01_파이썬 개요 및 환경 설정.ipynb\n",
      "2025-09-12  오후 12:28            11,469 ch02_자료형과 연산자.ipynb\n",
      "               2개 파일              20,488 바이트\n",
      "               3개 디렉터리  161,624,670,208 바이트 남음\n"
     ]
    }
   ],
   "source": [
    "# 매직 명령어(Jupyter노트북 자체 명령어)\n",
    "%ls"
   ]
  },
  {
   "cell_type": "code",
   "execution_count": null,
   "id": "6e83b78b",
   "metadata": {},
   "outputs": [],
   "source": []
  }
 ],
 "metadata": {
  "kernelspec": {
   "display_name": "Python 3 (ipykernel)",
   "language": "python",
   "name": "python3"
  },
  "language_info": {
   "codemirror_mode": {
    "name": "ipython",
    "version": 3
   },
   "file_extension": ".py",
   "mimetype": "text/x-python",
   "name": "python",
   "nbconvert_exporter": "python",
   "pygments_lexer": "ipython3",
   "version": "3.10.9"
  },
  "toc": {
   "base_numbering": 1,
   "nav_menu": {},
   "number_sections": false,
   "sideBar": true,
   "skip_h1_title": false,
   "title_cell": "Table of Contents",
   "title_sidebar": "Contents",
   "toc_cell": false,
   "toc_position": {
    "height": "calc(100% - 180px)",
    "left": "10px",
    "top": "150px",
    "width": "245px"
   },
   "toc_section_display": true,
   "toc_window_display": true
  }
 },
 "nbformat": 4,
 "nbformat_minor": 5
}

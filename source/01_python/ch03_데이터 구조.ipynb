{
 "cells": [
  {
   "cell_type": "code",
   "execution_count": 1,
   "id": "1e25327b",
   "metadata": {},
   "outputs": [
    {
     "data": {
      "text/html": [
       "\n",
       "<style>\n",
       "div.container{width:90% !important;}\n",
       "div.cell.code_cell.rendered{width:100%;}\n",
       "div.input_prompt{padding:0px;}\n",
       "div.CodeMirror {font-family:Consolas; font-size:12pt;}\n",
       "div.text_cell_render.rendered_html{font-size:12pt;}\n",
       "div.output {font-size:12pt; font-weight:bold;}\n",
       "div.input {font-family:Consolas; font-size:12pt;}\n",
       "div.prompt {min-width:70px;}\n",
       "div#toc-wrapper{padding-top:120px;}\n",
       "div.text_cell_render ul li{font-size:12pt;padding:5px;}\n",
       "table.dataframe{font-size:12px;}\n",
       "</style>\n"
      ],
      "text/plain": [
       "<IPython.core.display.HTML object>"
      ]
     },
     "metadata": {},
     "output_type": "display_data"
    }
   ],
   "source": [
    "from IPython.display import display, HTML\n",
    "display(HTML(\"\"\"\n",
    "<style>\n",
    "div.container{width:90% !important;}\n",
    "div.cell.code_cell.rendered{width:100%;}\n",
    "div.input_prompt{padding:0px;}\n",
    "div.CodeMirror {font-family:Consolas; font-size:12pt;}\n",
    "div.text_cell_render.rendered_html{font-size:12pt;}\n",
    "div.output {font-size:12pt; font-weight:bold;}\n",
    "div.input {font-family:Consolas; font-size:12pt;}\n",
    "div.prompt {min-width:70px;}\n",
    "div#toc-wrapper{padding-top:120px;}\n",
    "div.text_cell_render ul li{font-size:12pt;padding:5px;}\n",
    "table.dataframe{font-size:12px;}\n",
    "</style>\n",
    "\"\"\"))"
   ]
  },
  {
   "cell_type": "markdown",
   "id": "c38728c2",
   "metadata": {},
   "source": [
    "<b><font size=\"6\" color=\"red\">ch03. 데이터 구조<font></b>\n",
    "- 리스트[80,20], 튜플(90,20), 딕셔너리{'name':'홍', 'score':99}, 셋{10, 20}\n",
    "\n",
    "# 1. 리스트\n",
    "## 1.1.리스트 만들기\n",
    "- []를 사용하여 만들며 여러 개의 값(여러 타입)을 하나의 변수에 저장/관리할 수 있음\n",
    "- list()함수 사용도 가능\n",
    "- 인덱스 : 각 요소의 위치. 인덱스는 0부터 시작. 맨 마지막 인덱스는 -1 (리스트에서 인덱싱 가능)\n",
    "- 슬라이싱([from:to:step]) : 부분 데이터셋 추출\n",
    "-인덱스와 슬라이싱을 이용해서 쓰기와 읽기 지원"
   ]
  },
  {
   "cell_type": "code",
   "execution_count": 8,
   "id": "ed92b74f",
   "metadata": {},
   "outputs": [
    {
     "data": {
      "text/plain": [
       "['banana', 'apple', 'orange', 'grape']"
      ]
     },
     "execution_count": 8,
     "metadata": {},
     "output_type": "execute_result"
    }
   ],
   "source": [
    "fruits = 'banana' # 스칼라 데이터\n",
    "fruits = ['banana', 'apple', 'orange', 'grape'] # 리스트\n",
    "fruits[0] = 'pineapple' \n",
    "fruits[0] = 'banana'\n",
    "fruits # 리스트는 수정 가능하나 튜플은 에러 나서 불가능"
   ]
  },
  {
   "cell_type": "code",
   "execution_count": 9,
   "id": "95854340",
   "metadata": {},
   "outputs": [
    {
     "name": "stdout",
     "output_type": "stream",
     "text": [
      "['banana', 'apple', 'orange', 'grape']\n"
     ]
    }
   ],
   "source": [
    "print(fruits)"
   ]
  },
  {
   "cell_type": "code",
   "execution_count": 10,
   "id": "9f76e8a0",
   "metadata": {},
   "outputs": [
    {
     "data": {
      "text/plain": [
       "list"
      ]
     },
     "execution_count": 10,
     "metadata": {},
     "output_type": "execute_result"
    }
   ],
   "source": [
    "type(fruits)"
   ]
  },
  {
   "cell_type": "code",
   "execution_count": 11,
   "id": "cd4e09de",
   "metadata": {},
   "outputs": [
    {
     "name": "stdout",
     "output_type": "stream",
     "text": [
      "banana\n"
     ]
    }
   ],
   "source": [
    "print(fruits[0]) # 인덱싱을 이용한 읽기 가능. 없는 인덱싱 시 에러 발생"
   ]
  },
  {
   "cell_type": "code",
   "execution_count": 12,
   "id": "b1335210",
   "metadata": {},
   "outputs": [
    {
     "name": "stdout",
     "output_type": "stream",
     "text": [
      "['mango', 'apple', 'orange', 'grape']\n"
     ]
    }
   ],
   "source": [
    "fruits[0] = 'mango' # 인덱싱을 이용한 쓰기(수정) 가능\n",
    "print(fruits)"
   ]
  },
  {
   "cell_type": "code",
   "execution_count": 15,
   "id": "775d9564",
   "metadata": {},
   "outputs": [
    {
     "name": "stdout",
     "output_type": "stream",
     "text": [
      "x=mango\n",
      "y=apple\n",
      "z=orange\n"
     ]
    }
   ],
   "source": [
    "fruits = ['mango', 'apple', 'orange']\n",
    "x, y, z = ['mango', 'apple', 'orange']\n",
    "print('x={}'.format(x))\n",
    "print(f'y={y}')\n",
    "print(f'z={z}')"
   ]
  },
  {
   "cell_type": "code",
   "execution_count": 17,
   "id": "0ddf4c66",
   "metadata": {},
   "outputs": [
    {
     "data": {
      "text/plain": [
       "range(0, 10)"
      ]
     },
     "execution_count": 17,
     "metadata": {},
     "output_type": "execute_result"
    }
   ],
   "source": [
    "# range(from, to, by) : from부터 to 앞까지 by씩 증가하는 나열 가능한 자료\n",
    "        # 숫자를 순차적으로 사용할 수 있게 함\n",
    "        # from 생략시 0, by 생략 시 1\n",
    "range(0, 10, 1)\n",
    "range(10) # [0,1,2,3,4,5,6,7,8,9]"
   ]
  },
  {
   "cell_type": "code",
   "execution_count": 18,
   "id": "e12d4abc",
   "metadata": {},
   "outputs": [
    {
     "data": {
      "text/plain": [
       "[0, 1, 2, 3, 4, 5, 6, 7, 8, 9]"
      ]
     },
     "execution_count": 18,
     "metadata": {},
     "output_type": "execute_result"
    }
   ],
   "source": [
    "list(range(10))"
   ]
  },
  {
   "cell_type": "code",
   "execution_count": 20,
   "id": "aaf8d3b0",
   "metadata": {},
   "outputs": [
    {
     "data": {
      "text/plain": [
       "[10, 8, 6, 4, 2, 0]"
      ]
     },
     "execution_count": 20,
     "metadata": {},
     "output_type": "execute_result"
    }
   ],
   "source": [
    "list(range(10, -1, -2))"
   ]
  },
  {
   "cell_type": "code",
   "execution_count": 24,
   "id": "bb167f13",
   "metadata": {},
   "outputs": [
    {
     "name": "stdout",
     "output_type": "stream",
     "text": [
      "0\n",
      "1\n",
      "2\n"
     ]
    }
   ],
   "source": [
    "for i  in [0, 1, 2]:\n",
    "    print(i)"
   ]
  },
  {
   "cell_type": "code",
   "execution_count": 25,
   "id": "f407b165",
   "metadata": {},
   "outputs": [
    {
     "name": "stdout",
     "output_type": "stream",
     "text": [
      "0\n",
      "1\n",
      "2\n"
     ]
    }
   ],
   "source": [
    "for i  in range(3):\n",
    "    print(i)"
   ]
  },
  {
   "cell_type": "code",
   "execution_count": 30,
   "id": "bacae225",
   "metadata": {},
   "outputs": [
    {
     "name": "stdout",
     "output_type": "stream",
     "text": [
      "0번째 과일은 mango\n",
      "1번째 과일은 apple\n",
      "2번째 과일은 orange\n"
     ]
    }
   ],
   "source": [
    "fruits = ['mango', 'apple', 'orange']\n",
    "# print('{}번째 과일은 {}'.format(0, fruits[0]))\n",
    "# print('{}번째 과일은 {}'.format(1, fruits[1]))\n",
    "# print('{}번째 과일은 {}'.format(2, fruits[2]))\n",
    "for idx in range(len(fruits)):\n",
    "    print('{}번째 과일은 {}'.format(idx, fruits[idx]))"
   ]
  },
  {
   "cell_type": "code",
   "execution_count": 32,
   "id": "b36d53db",
   "metadata": {},
   "outputs": [
    {
     "data": {
      "text/plain": [
       "[(0, 'mango'), (1, 'apple'), (2, 'orange')]"
      ]
     },
     "execution_count": 32,
     "metadata": {},
     "output_type": "execute_result"
    }
   ],
   "source": [
    "list(enumerate(fruits)) # enumerate: \"auflisten\""
   ]
  },
  {
   "cell_type": "code",
   "execution_count": 36,
   "id": "c58e5107",
   "metadata": {},
   "outputs": [
    {
     "name": "stdout",
     "output_type": "stream",
     "text": [
      "0번째 과일은 mango\n",
      "1번째 과일은 apple\n",
      "2번째 과일은 orange\n"
     ]
    }
   ],
   "source": [
    "for i, fruit in enumerate(fruits): # [(0, 'mango'), (1, 'apple'), (2, 'orange')]:\n",
    "    print(f'{i}번째 과일은 {fruit}')"
   ]
  },
  {
   "cell_type": "code",
   "execution_count": 39,
   "id": "08eadf89",
   "metadata": {},
   "outputs": [
    {
     "name": "stdout",
     "output_type": "stream",
     "text": [
      "mango입니다\n",
      "apple입니다\n",
      "orange입니다\n"
     ]
    }
   ],
   "source": [
    "for fruit in fruits:\n",
    "    print(f'{fruit}입니다')"
   ]
  },
  {
   "cell_type": "code",
   "execution_count": 46,
   "id": "4f05713b",
   "metadata": {},
   "outputs": [
    {
     "data": {
      "text/plain": [
       "('2', 5)"
      ]
     },
     "execution_count": 46,
     "metadata": {},
     "output_type": "execute_result"
    }
   ],
   "source": [
    "# 리스트는 여러 타입의 데이터를 담을 수 있음\n",
    "numbers = [0, True, '2', [2,3], [4,5,6]]\n",
    "numbers[2], numbers[4][1] # 추출 방식 merken!"
   ]
  },
  {
   "cell_type": "code",
   "execution_count": 96,
   "id": "bf9215ea",
   "metadata": {},
   "outputs": [
    {
     "name": "stdout",
     "output_type": "stream",
     "text": [
      "[[1, 2, 3, 4, 5], [10, 20, 30, 40, 50], [1, 3, 5, 7, 9], [2, 4, 6, 8, 10]]\n"
     ]
    }
   ],
   "source": [
    "# 2차원 리스트\n",
    "numbers = [1,2,3,4,5]\n",
    "            # 0열 1열 2열 3열 4열\n",
    "numbers_2d = [[1,2,3,4,5], # 0행\n",
    "              [10,20,30,40,50], # 1행\n",
    "              [1,3,5,7,9], # 2행\n",
    "              [2,4,6,8,10]] # 3행\n",
    "print(numbers_2d)"
   ]
  },
  {
   "cell_type": "code",
   "execution_count": 97,
   "id": "ee0ef0d2",
   "metadata": {},
   "outputs": [
    {
     "name": "stdout",
     "output_type": "stream",
     "text": [
      "50\n"
     ]
    }
   ],
   "source": [
    "# 특정 행, 특정 열 데이터 인덱싱\n",
    "print(numbers_2d[1][4])"
   ]
  },
  {
   "cell_type": "code",
   "execution_count": 98,
   "id": "40337144",
   "metadata": {},
   "outputs": [
    {
     "name": "stdout",
     "output_type": "stream",
     "text": [
      "4 5\n"
     ]
    }
   ],
   "source": [
    "print(len(numbers_2d), len(numbers_2d[0]))"
   ]
  },
  {
   "cell_type": "code",
   "execution_count": 99,
   "id": "7f3ff38e",
   "metadata": {},
   "outputs": [
    {
     "name": "stdout",
     "output_type": "stream",
     "text": [
      "1\t2\t3\t4\t5\t\n",
      "10\t20\t30\t40\t50\t\n",
      "1\t3\t5\t7\t9\t\n",
      "2\t4\t6\t8\t10\t\n"
     ]
    }
   ],
   "source": [
    "for row in numbers_2d:\n",
    "    for item in row:\n",
    "        print(item, end='\\t')\n",
    "    print()"
   ]
  },
  {
   "cell_type": "code",
   "execution_count": 100,
   "id": "1e9973fc",
   "metadata": {},
   "outputs": [
    {
     "name": "stdout",
     "output_type": "stream",
     "text": [
      "0행0열 : 1\t0행1열 : 2\t0행2열 : 3\t0행3열 : 4\t0행4열 : 5\t\n",
      "1행0열 : 10\t1행1열 : 20\t1행2열 : 30\t1행3열 : 40\t1행4열 : 50\t\n",
      "2행0열 : 1\t2행1열 : 3\t2행2열 : 5\t2행3열 : 7\t2행4열 : 9\t\n",
      "3행0열 : 2\t3행1열 : 4\t3행2열 : 6\t3행3열 : 8\t3행4열 : 10\t\n"
     ]
    }
   ],
   "source": [
    "for i in range(len(numbers_2d)): # i : 행\n",
    "    for j in range(len(numbers_2d[i])): # j : 열\n",
    "        print(f'{i}행{j}열 : {numbers_2d[i][j]}', end='\\t')\n",
    "    print() #개행"
   ]
  },
  {
   "cell_type": "code",
   "execution_count": 101,
   "id": "7f3ee8e5",
   "metadata": {},
   "outputs": [
    {
     "data": {
      "text/plain": [
       "(4, 5, 5, 5)"
      ]
     },
     "execution_count": 101,
     "metadata": {},
     "output_type": "execute_result"
    }
   ],
   "source": [
    "len(numbers_2d), len(numbers_2d[0]), len(numbers_2d[1]), len(numbers_2d[2])"
   ]
  },
  {
   "cell_type": "code",
   "execution_count": 102,
   "id": "bd25106a",
   "metadata": {},
   "outputs": [
    {
     "data": {
      "text/plain": [
       "([(0, [1, 2, 3, 4, 5]),\n",
       "  (1, [10, 20, 30, 40, 50]),\n",
       "  (2, [1, 3, 5, 7, 9]),\n",
       "  (3, [2, 4, 6, 8, 10])],\n",
       " [(0, 1), (1, 2), (2, 3), (3, 4), (4, 5)])"
      ]
     },
     "execution_count": 102,
     "metadata": {},
     "output_type": "execute_result"
    }
   ],
   "source": [
    "# 위와 같은 결과를 enumerate를 사용하여 다른 방식으로 도출\n",
    "list(enumerate(numbers_2d)), list(enumerate(numbers_2d[0]))"
   ]
  },
  {
   "cell_type": "code",
   "execution_count": 105,
   "id": "2a4be9cb",
   "metadata": {},
   "outputs": [
    {
     "name": "stdout",
     "output_type": "stream",
     "text": [
      "0행0열 : 1\t0행1열 : 2\t0행2열 : 3\t0행3열 : 4\t0행4열 : 5\t\n",
      "1행0열 : 10\t1행1열 : 20\t1행2열 : 30\t1행3열 : 40\t1행4열 : 50\t\n",
      "2행0열 : 1\t2행1열 : 3\t2행2열 : 5\t2행3열 : 7\t2행4열 : 9\t\n",
      "3행0열 : 2\t3행1열 : 4\t3행2열 : 6\t3행3열 : 8\t3행4열 : 10\t\n"
     ]
    }
   ],
   "source": [
    "for i, row in enumerate(numbers_2d):\n",
    "    for j, item in enumerate(numbers_2d[i]):\n",
    "        print('{}행{}열 : {}'.format(i, j, numbers_2d[i][j]), end='\\t')\n",
    "    print() #개행"
   ]
  },
  {
   "cell_type": "markdown",
   "id": "2482f47c",
   "metadata": {},
   "source": [
    "## 1.2.기본 정보 조회"
   ]
  },
  {
   "cell_type": "code",
   "execution_count": 64,
   "id": "a80c968a",
   "metadata": {},
   "outputs": [],
   "source": [
    "numbers = [1,12,3,4,5]\n",
    "numbers_2d = [[100,0,1],\n",
    "              [9,100,100],\n",
    "              [59,100,130]]"
   ]
  },
  {
   "cell_type": "code",
   "execution_count": 65,
   "id": "51fff1c5",
   "metadata": {},
   "outputs": [
    {
     "data": {
      "text/plain": [
       "(5, 3)"
      ]
     },
     "execution_count": 65,
     "metadata": {},
     "output_type": "execute_result"
    }
   ],
   "source": [
    "# item 수\n",
    "len(numbers), len(numbers_2d)"
   ]
  },
  {
   "cell_type": "code",
   "execution_count": 67,
   "id": "b0fa7bb8",
   "metadata": {},
   "outputs": [
    {
     "data": {
      "text/plain": [
       "(1, [9, 100, 100], 12, [100, 0, 1])"
      ]
     },
     "execution_count": 67,
     "metadata": {},
     "output_type": "execute_result"
    }
   ],
   "source": [
    "# 최솟값, 최대값\n",
    "# 2차원 list의 최소/최댓값 : 부분 리스트 중 첫 항목이 가장 작은 값/ 가장 큰 값\n",
    "min(numbers), min(numbers_2d), max(numbers), max(numbers_2d)"
   ]
  },
  {
   "cell_type": "code",
   "execution_count": 69,
   "id": "0983583c",
   "metadata": {},
   "outputs": [
    {
     "data": {
      "text/plain": [
       "('apple', 'orange')"
      ]
     },
     "execution_count": 69,
     "metadata": {},
     "output_type": "execute_result"
    }
   ],
   "source": [
    "# list의 데이터가 문자일 경우 ASCII 코드 값으로 min과 max가 적용됨\n",
    "fruits = ['mango', 'apple', 'orange']\n",
    "min(fruits), max(fruits)"
   ]
  },
  {
   "cell_type": "code",
   "execution_count": 75,
   "id": "7bb55d76",
   "metadata": {},
   "outputs": [
    {
     "name": "stdout",
     "output_type": "stream",
     "text": [
      "오름차순 정렬 : [1, 3, 4, 5, 12]\n",
      "내림차순 정렬 : [12, 5, 4, 3, 1]\n",
      "합 : 25\n",
      "평균 : 5.0\n",
      "sorted 함수 사용 시 리스트의 내용은 바뀌지 않음 : [1, 12, 3, 4, 5]\n"
     ]
    }
   ],
   "source": [
    "# 정렬하기 (동일 자료형)\n",
    "numbers = [1,12,3,4,5]\n",
    "print('오름차순 정렬 :', sorted(numbers))\n",
    "print('내림차순 정렬 :', sorted(numbers, reverse=True))\n",
    "print('합 :', sum(numbers))\n",
    "print('평균 :', sum(numbers)/len(numbers))\n",
    "print('sorted 함수 사용 시 리스트의 내용은 바뀌지 않음 :', numbers)"
   ]
  },
  {
   "cell_type": "markdown",
   "id": "27e4e3de",
   "metadata": {},
   "source": [
    "## 1.3. 요소 추가\n",
    "\n",
    "- `+` : 두 리스트 연결\n",
    "- `*` : 리스트를 곱한 수만큼 반복\n",
    "- `append()` : 요소 맨 뒤에 추가\n",
    "- `extend(리스트)` : 리스트를 요소별로 맨 뒤에 추가\n",
    "- `insert(idx, insert할 값)` : idx번째 인덱스 위치에 값을 추가"
   ]
  },
  {
   "cell_type": "code",
   "execution_count": 76,
   "id": "928fcdcc",
   "metadata": {},
   "outputs": [
    {
     "data": {
      "text/plain": [
       "[1, 2, 3, 1, 2, 3]"
      ]
     },
     "execution_count": 76,
     "metadata": {},
     "output_type": "execute_result"
    }
   ],
   "source": [
    "numbers = [1, 2, 3]\n",
    "numbers = numbers + numbers # 리스트 연결\n",
    "numbers"
   ]
  },
  {
   "cell_type": "code",
   "execution_count": 77,
   "id": "ca8dc12e",
   "metadata": {},
   "outputs": [
    {
     "name": "stdout",
     "output_type": "stream",
     "text": [
      "[1, 2, 3, 1, 2, 3, 1, 2, 3]\n",
      "[1, 2, 3, 1, 2, 3, 1, 2, 3]\n"
     ]
    }
   ],
   "source": [
    "numbers = [1, 2, 3]\n",
    "print(numbers*3) # 곱한 수만큼 반복\n",
    "print(3*numbers)"
   ]
  },
  {
   "cell_type": "code",
   "execution_count": 78,
   "id": "d0ebb5e0",
   "metadata": {},
   "outputs": [
    {
     "data": {
      "text/plain": [
       "[1, 2, 3, 4]"
      ]
     },
     "execution_count": 78,
     "metadata": {},
     "output_type": "execute_result"
    }
   ],
   "source": [
    "numbers.append(4) # 맨 뒤 인덱스에 4를 추가\n",
    "numbers"
   ]
  },
  {
   "cell_type": "code",
   "execution_count": 79,
   "id": "c6ac10ff",
   "metadata": {},
   "outputs": [
    {
     "data": {
      "text/plain": [
       "[1, 2, 3, 4, [5, 6, 7]]"
      ]
     },
     "execution_count": 79,
     "metadata": {},
     "output_type": "execute_result"
    }
   ],
   "source": [
    "numbers.append([5,6,7])\n",
    "numbers"
   ]
  },
  {
   "cell_type": "code",
   "execution_count": 80,
   "id": "7a556cc7",
   "metadata": {},
   "outputs": [
    {
     "data": {
      "text/plain": [
       "[1, 2, 3, 4, 5, 6]"
      ]
     },
     "execution_count": 80,
     "metadata": {},
     "output_type": "execute_result"
    }
   ],
   "source": [
    "numbers = [1, 2, 3]\n",
    "numbers.extend([4,5,6]) # 맨 뒤에 요소별로 4, 5, 6 각각 추가\n",
    "numbers"
   ]
  },
  {
   "cell_type": "code",
   "execution_count": 81,
   "id": "3baa4da8",
   "metadata": {},
   "outputs": [
    {
     "data": {
      "text/plain": [
       "['a', 'b', 'c', 'd']"
      ]
     },
     "execution_count": 81,
     "metadata": {},
     "output_type": "execute_result"
    }
   ],
   "source": [
    "lst = ['a', 'b', 'c']\n",
    "lst.append('d')\n",
    "lst"
   ]
  },
  {
   "cell_type": "code",
   "execution_count": 82,
   "id": "8a4fbeb6",
   "metadata": {},
   "outputs": [
    {
     "data": {
      "text/plain": [
       "['a', 'b', 'c', 'd', 'hello']"
      ]
     },
     "execution_count": 82,
     "metadata": {},
     "output_type": "execute_result"
    }
   ],
   "source": [
    "lst.append('hello')\n",
    "lst"
   ]
  },
  {
   "cell_type": "code",
   "execution_count": 84,
   "id": "ca01769d",
   "metadata": {},
   "outputs": [
    {
     "data": {
      "text/plain": [
       "['a', 'b', 'c', 'd', 'hello', 'h', 'e', 'l', 'l', 'o']"
      ]
     },
     "execution_count": 84,
     "metadata": {},
     "output_type": "execute_result"
    }
   ],
   "source": [
    "lst.extend('hello')\n",
    "lst"
   ]
  },
  {
   "cell_type": "code",
   "execution_count": 88,
   "id": "87e41c1d",
   "metadata": {},
   "outputs": [
    {
     "data": {
      "text/plain": [
       "[1, 'xx', 2, 3, 4, 5]"
      ]
     },
     "execution_count": 88,
     "metadata": {},
     "output_type": "execute_result"
    }
   ],
   "source": [
    "numbers = [1, 2, 3, 4, 5]\n",
    "numbers.insert(1, 'xx') # 1번째 인덱스에 추가됨\n",
    "numbers"
   ]
  },
  {
   "cell_type": "markdown",
   "id": "842be40d",
   "metadata": {},
   "source": [
    "## 1.4.(리스트에서의) 인덱싱과 요소 개수\n",
    "- 변수[index] : index를 이용한 접근\n",
    "- index(찾을 데이터) : 해당 데이터가 있는 요소의 index를 반환\n",
    "- 찾을 데이터 in list 변수 : 찾을 데이터가 리스트 변수의 요소인지 여부를 알아냄\n",
    "- count(찾을 데이터) : 리스트에서 해당 데이터의 개수 반환"
   ]
  },
  {
   "cell_type": "code",
   "execution_count": 121,
   "id": "9efb8f15",
   "metadata": {},
   "outputs": [
    {
     "data": {
      "text/plain": [
       "(2, 1)"
      ]
     },
     "execution_count": 121,
     "metadata": {},
     "output_type": "execute_result"
    }
   ],
   "source": [
    "numbers = [1, 2, 3, [1, 2, 3], 1, 2, 3]\n",
    "numbers.count(2), numbers.count([1, 2, 3])"
   ]
  },
  {
   "cell_type": "code",
   "execution_count": 122,
   "id": "88af3e36",
   "metadata": {},
   "outputs": [
    {
     "data": {
      "text/plain": [
       "0"
      ]
     },
     "execution_count": 122,
     "metadata": {},
     "output_type": "execute_result"
    }
   ],
   "source": [
    "numbers.count(5)"
   ]
  },
  {
   "cell_type": "code",
   "execution_count": 123,
   "id": "9fe91a2e",
   "metadata": {},
   "outputs": [
    {
     "name": "stdout",
     "output_type": "stream",
     "text": [
      "True\n",
      "False\n"
     ]
    }
   ],
   "source": [
    "print(2 in numbers) # 찾을 데이터 in list 변수 : 찾을 데이터가 리스트 변수의 요소인지 여부를 알아냄\n",
    "print(5 in numbers)"
   ]
  },
  {
   "cell_type": "code",
   "execution_count": 124,
   "id": "5b8b1767",
   "metadata": {
    "collapsed": true
   },
   "outputs": [
    {
     "ename": "ValueError",
     "evalue": "5 is not in list",
     "output_type": "error",
     "traceback": [
      "\u001b[1;31m---------------------------------------------------------------------------\u001b[0m",
      "\u001b[1;31mValueError\u001b[0m                                Traceback (most recent call last)",
      "Cell \u001b[1;32mIn[124], line 1\u001b[0m\n\u001b[1;32m----> 1\u001b[0m \u001b[43mnumbers\u001b[49m\u001b[38;5;241;43m.\u001b[39;49m\u001b[43mindex\u001b[49m\u001b[43m(\u001b[49m\u001b[38;5;241;43m5\u001b[39;49m\u001b[43m)\u001b[49m\n",
      "\u001b[1;31mValueError\u001b[0m: 5 is not in list"
     ]
    }
   ],
   "source": [
    "numbers.index(5)"
   ]
  },
  {
   "cell_type": "code",
   "execution_count": 125,
   "id": "9d35573f",
   "metadata": {},
   "outputs": [
    {
     "name": "stdout",
     "output_type": "stream",
     "text": [
      "5가 요소에 포함되어 있지 않습니다\n"
     ]
    }
   ],
   "source": [
    "if 5 in numbers:\n",
    "    print(numbers.index(5))\n",
    "else:\n",
    "    print('5가 요소에 포함되어 있지 않습니다')"
   ]
  },
  {
   "cell_type": "code",
   "execution_count": 126,
   "id": "f02f6414",
   "metadata": {},
   "outputs": [
    {
     "name": "stdout",
     "output_type": "stream",
     "text": [
      "5가 요소에 포함되어 있지 않습니다\n"
     ]
    }
   ],
   "source": [
    "if numbers.count(5):\n",
    "    print(numbers.index(5))\n",
    "else:\n",
    "    print('5가 요소에 포함되어 있지 않습니다')"
   ]
  },
  {
   "cell_type": "code",
   "execution_count": 132,
   "id": "91f52c43",
   "metadata": {},
   "outputs": [],
   "source": [
    "def safe_index(lst, item):\n",
    "    '''첫번째 매개변수 list에서 item요소가 있는 index를 반환.\n",
    "    item 요소가 없으면 -1 반환'''\n",
    "    if item in lst:\n",
    "        return lst.index(item)\n",
    "    return -1"
   ]
  },
  {
   "cell_type": "code",
   "execution_count": 5,
   "id": "b3f7f939",
   "metadata": {},
   "outputs": [
    {
     "data": {
      "text/plain": [
       "(-1, 1)"
      ]
     },
     "execution_count": 5,
     "metadata": {},
     "output_type": "execute_result"
    }
   ],
   "source": [
    "from lst import safe_index # lst.py 모듈 안의 safe_index를 메모리에 load \n",
    "numbers = [1, 2, 3]\n",
    "safe_index(numbers, 5), safe_index(numbers, 2)"
   ]
  },
  {
   "cell_type": "code",
   "execution_count": null,
   "id": "4cbb48c3",
   "metadata": {},
   "outputs": [],
   "source": [
    "# numbers[5] 벗어난 인덱스로 인덱싱 시 에러 발생"
   ]
  },
  {
   "cell_type": "code",
   "execution_count": 6,
   "id": "f3160dd8",
   "metadata": {},
   "outputs": [
    {
     "data": {
      "text/plain": [
       "[3]"
      ]
     },
     "execution_count": 6,
     "metadata": {},
     "output_type": "execute_result"
    }
   ],
   "source": [
    "numbers[2:5] # 벗어난 인덱스로 슬라이싱 시에는 에러가 안 남"
   ]
  },
  {
   "cell_type": "markdown",
   "id": "485652a1",
   "metadata": {},
   "source": [
    "## 1.5.원하는 요소 추출하기\n",
    "1. 리스트 슬라이싱\n",
    "    - [from:to:step] from번째부터 to 앞까지 step 씩 증가하는 index 값을 추출\n",
    " \n",
    "        *from 생략 시 처음부터, to 생략 시 끝까지, step 생략 시 1*\n",
    "        \n",
    "    - 인덱스의 범위를 벗어난 값도 에러는 나지 않음\n",
    "    - 인덱스는 음수도 가능\n",
    "    \n",
    "2. **list comprehension** : 원하는 조건의 데이터를 추출"
   ]
  },
  {
   "cell_type": "code",
   "execution_count": 9,
   "id": "6a57c5b4",
   "metadata": {},
   "outputs": [
    {
     "name": "stdout",
     "output_type": "stream",
     "text": [
      "[20, 19, 18, 13, 12, 10, 9, 5, 3, 1]\n",
      "[1, 5, 10, 13, 19]\n",
      "[5, 9, 10, 12, 13, 18, 19, 20]\n"
     ]
    }
   ],
   "source": [
    "numbers = [1, 3, 5, 9, 10, 12, 13, 18, 19, 20]\n",
    "print(numbers[::-1]) # 거꾸로 출력\n",
    "print(numbers[0::2]) # 짝수 index 값 출력\n",
    "print(numbers[2:100]) # 인덱스를 벗어난 슬라이싱 가능"
   ]
  },
  {
   "cell_type": "code",
   "execution_count": 3,
   "id": "be996398",
   "metadata": {},
   "outputs": [
    {
     "data": {
      "text/plain": [
       "[1, 3, 5, 9, 10, 12, 13, 18, 19, 20]"
      ]
     },
     "execution_count": 3,
     "metadata": {},
     "output_type": "execute_result"
    }
   ],
   "source": [
    "# 모든 데이터 추출\n",
    "numbers = [1, 3, 5, 9, 10, 12, 13, 18, 19, 20]\n",
    "# for data in numbers:\n",
    "#    print(data, end='\\t')\n",
    "[data for data in numbers] # list comprehension"
   ]
  },
  {
   "cell_type": "code",
   "execution_count": 4,
   "id": "bdef0755",
   "metadata": {},
   "outputs": [
    {
     "data": {
      "text/plain": [
       "[10, 12, 18, 20]"
      ]
     },
     "execution_count": 4,
     "metadata": {},
     "output_type": "execute_result"
    }
   ],
   "source": [
    "# 짝수 데이터만 추출\n",
    "# for data in numbers:\n",
    "#     if data%2==0:\n",
    "#         print(data, end=' ')\n",
    "[data for data in numbers if data%2==0]"
   ]
  },
  {
   "cell_type": "code",
   "execution_count": 5,
   "id": "80fa00bb",
   "metadata": {},
   "outputs": [
    {
     "data": {
      "text/plain": [
       "[10, 12, 13, 18, 19, 20]"
      ]
     },
     "execution_count": 5,
     "metadata": {},
     "output_type": "execute_result"
    }
   ],
   "source": [
    "# 1. numbers에서 10 이상의 요소만 추출\n",
    "[data for data in numbers if data>=10]"
   ]
  },
  {
   "cell_type": "code",
   "execution_count": 2,
   "id": "5058d62a",
   "metadata": {},
   "outputs": [
    {
     "data": {
      "text/plain": [
       "['orange', 'apple', 'mango']"
      ]
     },
     "execution_count": 2,
     "metadata": {},
     "output_type": "execute_result"
    }
   ],
   "source": [
    "# 2. fruits에서 과일의 글자가 5글자 이상인 과일만 추출\n",
    "fruits = ['orange', 'apple', 'mango', 'kiwi']\n",
    "[fruit for fruit in fruits if len(fruit)>=5]"
   ]
  },
  {
   "cell_type": "code",
   "execution_count": 4,
   "id": "4e88e711",
   "metadata": {},
   "outputs": [
    {
     "data": {
      "text/plain": [
       "[6, 5, 5, 4]"
      ]
     },
     "execution_count": 4,
     "metadata": {},
     "output_type": "execute_result"
    }
   ],
   "source": [
    "# 2-1. fruits 리스트의 과일 글자 수\n",
    "[len(fruit) for fruit in fruits]"
   ]
  },
  {
   "cell_type": "code",
   "execution_count": 7,
   "id": "fed86d8b",
   "metadata": {},
   "outputs": [
    {
     "data": {
      "text/plain": [
       "[9, 16, 25]"
      ]
     },
     "execution_count": 7,
     "metadata": {},
     "output_type": "execute_result"
    }
   ],
   "source": [
    "# 3. 3이상인 요소들의 제곱을 추출하시오\n",
    "L = [1,2,3,4,5]\n",
    "[l**2 for l in L if l>=3]"
   ]
  },
  {
   "cell_type": "code",
   "execution_count": 8,
   "id": "2a21596c",
   "metadata": {},
   "outputs": [
    {
     "data": {
      "text/plain": [
       "[2, 4, 6, 8, 10]"
      ]
     },
     "execution_count": 8,
     "metadata": {},
     "output_type": "execute_result"
    }
   ],
   "source": [
    "# 4. 리스트 요소의 값의 2배를 추출\n",
    "[l*2 for l in L]"
   ]
  },
  {
   "cell_type": "markdown",
   "id": "084c9cde",
   "metadata": {},
   "source": [
    "## 1.6.요소 수정하기\n",
    "- 인덱스 혹은 슬라이싱을 사용하여 수정"
   ]
  },
  {
   "cell_type": "code",
   "execution_count": 9,
   "id": "738a0e40",
   "metadata": {},
   "outputs": [
    {
     "data": {
      "text/plain": [
       "[0, 1, 222, 3, 4, 5, 6, 7, 8, 9]"
      ]
     },
     "execution_count": 9,
     "metadata": {},
     "output_type": "execute_result"
    }
   ],
   "source": [
    "numbers = [0,1,2,3,4,5,6,7,8,9] \n",
    "numbers[2] = 222 # 인덱스를 사용한 수정\n",
    "numbers"
   ]
  },
  {
   "cell_type": "code",
   "execution_count": 14,
   "id": "6e0309c1",
   "metadata": {},
   "outputs": [
    {
     "data": {
      "text/plain": [
       "['xx', 'xx', 'xx', 'xx', 'xx', 'xx', 'xx', 9, 0, 9, 0, 9, 0, 9, 0]"
      ]
     },
     "execution_count": 14,
     "metadata": {},
     "output_type": "execute_result"
    }
   ],
   "source": [
    "# 슬라이싱(step 부분 미포함)을 사용하여 부분 리스트를 통째로 수정\n",
    "numbers[0:2] = ['xx','xx','xx','xx','xx','xx','xx'] \n",
    "numbers"
   ]
  },
  {
   "cell_type": "code",
   "execution_count": 13,
   "id": "99824f65",
   "metadata": {},
   "outputs": [
    {
     "name": "stdout",
     "output_type": "stream",
     "text": [
      "수정 전 : [0, 0, 0, 0, 0, 0, 0, 0, 0, 0]\n",
      "수정 후 : [9, 0, 9, 0, 9, 0, 9, 0, 9, 0]\n"
     ]
    }
   ],
   "source": [
    "# 슬라이싱(step 부분 포함)을 사용하여 부분 수정 시 요소 개수가 맞아야 함\n",
    "numbers = [0,1,2,3,4,5,6,7,8,9] \n",
    "numbers = [0]*10\n",
    "print('수정 전 :', numbers)\n",
    "numbers[0::2] = [9,9,9,9,9]\n",
    "print('수정 후 :', numbers)"
   ]
  },
  {
   "cell_type": "code",
   "execution_count": 15,
   "id": "794babd2",
   "metadata": {
    "collapsed": true
   },
   "outputs": [
    {
     "ename": "ValueError",
     "evalue": "attempt to assign sequence of size 2 to extended slice of size 8",
     "output_type": "error",
     "traceback": [
      "\u001b[1;31m---------------------------------------------------------------------------\u001b[0m",
      "\u001b[1;31mValueError\u001b[0m                                Traceback (most recent call last)",
      "Cell \u001b[1;32mIn[15], line 1\u001b[0m\n\u001b[1;32m----> 1\u001b[0m numbers[::\u001b[38;5;241m2\u001b[39m] \u001b[38;5;241m=\u001b[39m [\u001b[38;5;241m1\u001b[39m, \u001b[38;5;241m1\u001b[39m]\n",
      "\u001b[1;31mValueError\u001b[0m: attempt to assign sequence of size 2 to extended slice of size 8"
     ]
    }
   ],
   "source": [
    "numbers[::2] = [1, 1] # 요소 개수 불일치!"
   ]
  },
  {
   "cell_type": "markdown",
   "id": "d643904f",
   "metadata": {},
   "source": [
    "## 1.7.요소 삭제하기\n",
    "- pop() : 가장 마지막 인덱스의 요소가 반환되고 삭제됨\n",
    "- pop(idx) : idx번째 요소가 반환되고 삭제됨\n",
    "- remove(data) : list 안의 특정 data 삭제됨 (반환은 안 함). 없는 데이터를 삭제 시 에러 발생!\n",
    "- del 리스트 변수[idx]: idx번째 요소가 삭제됨 (반환은 안 함)\n",
    "- clear() : 모든 데이터를 삭제"
   ]
  },
  {
   "cell_type": "code",
   "execution_count": 21,
   "id": "e22a50f4",
   "metadata": {},
   "outputs": [
    {
     "name": "stdout",
     "output_type": "stream",
     "text": [
      "삭제한 데이터 : 5\n",
      "삭제 후 numbers : [1, 2, 3, 4]\n",
      "1번째 삭제한 데이터 : 2\n",
      "1번째 삭제 후 numbers : [1, 3, 4]\n",
      "데이터 1 삭제 None\n",
      "데이터 1 삭제 후 numbers : [3, 4]\n",
      "del numbers[1]\n",
      "[3]\n"
     ]
    }
   ],
   "source": [
    "numbers = [1,2,3,4,5]\n",
    "print('삭제한 데이터 :', numbers.pop())\n",
    "print('삭제 후 numbers :', numbers)\n",
    "print('1번째 삭제한 데이터 :', numbers.pop(1))\n",
    "print('1번째 삭제 후 numbers :', numbers)\n",
    "print('데이터 1 삭제', numbers.remove(1))\n",
    "print('데이터 1 삭제 후 numbers :', numbers)\n",
    "print('del numbers[1]')\n",
    "del numbers[1]\n",
    "print(numbers)"
   ]
  },
  {
   "cell_type": "code",
   "execution_count": 23,
   "id": "4b5fc48c",
   "metadata": {},
   "outputs": [
    {
     "name": "stdout",
     "output_type": "stream",
     "text": [
      "해당 데이터는 없는 item입니다\n"
     ]
    }
   ],
   "source": [
    "# numbers.remove(9)\n",
    "if 9 in numbers:\n",
    "    numbers.remove(9)\n",
    "else:\n",
    "    print('해당 데이터는 없는 item입니다')"
   ]
  },
  {
   "cell_type": "code",
   "execution_count": 24,
   "id": "4317ee1c",
   "metadata": {},
   "outputs": [
    {
     "data": {
      "text/plain": [
       "[]"
      ]
     },
     "execution_count": 24,
     "metadata": {},
     "output_type": "execute_result"
    }
   ],
   "source": [
    "numbers.clear() # 모든 요소를 삭제\n",
    "numbers"
   ]
  },
  {
   "cell_type": "markdown",
   "id": "e031e5ae",
   "metadata": {},
   "source": [
    "## 1.8.(리스트)정렬하기"
   ]
  },
  {
   "cell_type": "code",
   "execution_count": 25,
   "id": "de38017a",
   "metadata": {},
   "outputs": [
    {
     "name": "stdout",
     "output_type": "stream",
     "text": [
      "numbers는 변경하지 않고 정렬 결과만 : [0, 5, 6, 8, 9]\n",
      "numbers : [9, 5, 0, 8, 6]\n"
     ]
    }
   ],
   "source": [
    "numbers = [9, 5, 0, 8, 6]\n",
    "print('numbers는 변경하지 않고 정렬 결과만 :', sorted(numbers))\n",
    "print('numbers :', numbers)"
   ]
  },
  {
   "cell_type": "code",
   "execution_count": 27,
   "id": "096eb31d",
   "metadata": {},
   "outputs": [
    {
     "name": "stdout",
     "output_type": "stream",
     "text": [
      "[0, 5, 6, 8, 9]\n"
     ]
    }
   ],
   "source": [
    "numbers.sort() # numbers 자체가 기본 오름차순 정렬한 결과로 바뀜\n",
    "print(numbers)"
   ]
  },
  {
   "cell_type": "code",
   "execution_count": 28,
   "id": "dddc66c9",
   "metadata": {},
   "outputs": [
    {
     "name": "stdout",
     "output_type": "stream",
     "text": [
      "[9, 8, 6, 5, 0]\n"
     ]
    }
   ],
   "source": [
    "numbers.sort(reverse = True) # 내림차순 정렬한 결과로 바뀜\n",
    "print(numbers)"
   ]
  },
  {
   "cell_type": "code",
   "execution_count": 30,
   "id": "8127cc97",
   "metadata": {},
   "outputs": [
    {
     "data": {
      "text/plain": [
       "[9, 8, 6, 5, 0]"
      ]
     },
     "execution_count": 30,
     "metadata": {},
     "output_type": "execute_result"
    }
   ],
   "source": [
    "numbers.reverse() # 리스트를 역순으로 변경\n",
    "# numbers = numbers[::-1]\n",
    "numbers"
   ]
  },
  {
   "cell_type": "markdown",
   "id": "40602aad",
   "metadata": {},
   "source": [
    "## 1.9.리스트 복제"
   ]
  },
  {
   "cell_type": "code",
   "execution_count": 32,
   "id": "e2578461",
   "metadata": {},
   "outputs": [
    {
     "name": "stdout",
     "output_type": "stream",
     "text": [
      "원본i = 10,. 복사본cp_i=10 / 원본 주소=2603268309520, 복사본 주소=2603268309520\n",
      "원본i = 10,. 복사본cp_i=99 / 원본 주소=2603268309520, 복사본 주소=2603268312368\n"
     ]
    }
   ],
   "source": [
    "# 스칼라 데이터의 복제\n",
    "i = 10\n",
    "cp_i = i\n",
    "print(f'원본i = {i},. 복사본cp_i={cp_i} / 원본 주소={id(i)}, 복사본 주소={id(cp_i)}')\n",
    "cp_i = 99\n",
    "print(f'원본i = {i},. 복사본cp_i={cp_i} / 원본 주소={id(i)}, 복사본 주소={id(cp_i)}')"
   ]
  },
  {
   "cell_type": "code",
   "execution_count": 34,
   "id": "2940c149",
   "metadata": {},
   "outputs": [
    {
     "name": "stdout",
     "output_type": "stream",
     "text": [
      "원본 주소 : 2603376668288\n",
      "복사본 주소 : 2603376668288\n",
      "원본 내용 : [99, 6, 1, 9]\n",
      "복제본 내용 : [99, 6, 1, 9]\n",
      "원본 주소 : 2603376668288\n",
      "복제본 주소 : 2603376668288\n"
     ]
    }
   ],
   "source": [
    "# 데이터 구조의 할당\n",
    "numbers = [5, 6, 1, 9]\n",
    "new_numbers = numbers\n",
    "print('원본 주소 :', id(numbers))\n",
    "print('복사본 주소 :', id(numbers))\n",
    "new_numbers[0] = 99\n",
    "print('원본 내용 :', numbers)\n",
    "print('복제본 내용 :', new_numbers)\n",
    "print('원본 주소 :', id(numbers))\n",
    "print('복제본 주소 :', id(new_numbers))"
   ]
  },
  {
   "cell_type": "code",
   "execution_count": 36,
   "id": "a5cad479",
   "metadata": {},
   "outputs": [
    {
     "name": "stdout",
     "output_type": "stream",
     "text": [
      "원본 : [1, 5, 6, 9]\n",
      "복제본 : [1, 5, 6, 9]\n",
      "원본 주소 : 2603376747072\n",
      "원본 주소 : 2603376747072\n"
     ]
    }
   ],
   "source": [
    "# 할당\n",
    "numbers = [5, 6, 1, 9]\n",
    "new_numbers = numbers\n",
    "new_numbers.sort()\n",
    "print('원본 :', numbers)\n",
    "print('복제본 :', new_numbers)\n",
    "print('원본 주소 :', id(numbers))\n",
    "print('원본 주소 :', id(new_numbers))"
   ]
  },
  {
   "cell_type": "code",
   "execution_count": 38,
   "id": "b94202a6",
   "metadata": {},
   "outputs": [
    {
     "name": "stdout",
     "output_type": "stream",
     "text": [
      "원본 : [5, 6, 1, 9]\n",
      "복제본 : [9, 6, 5, 1]\n",
      "원본 주소 : 2603376761344\n",
      "복제본 주소 : 2603376669440\n"
     ]
    }
   ],
   "source": [
    "# 리스트 복제(깊은 복사)\n",
    "numbers = [5, 6, 1, 9]\n",
    "new_numbers = numbers.copy() # numbers를 복제 (깊은 복사)\n",
    "new_numbers.sort(reverse=True) # 내림차순 정렬\n",
    "print('원본 :', numbers)\n",
    "print('복제본 :', new_numbers)\n",
    "print('원본 주소 :', id(numbers))\n",
    "print('복제본 주소 :', id(new_numbers))"
   ]
  },
  {
   "cell_type": "code",
   "execution_count": 39,
   "id": "ec9bf0c4",
   "metadata": {},
   "outputs": [
    {
     "name": "stdout",
     "output_type": "stream",
     "text": [
      "정렬 전 : ['서울', '대전', '대구', '부산', '하남', '수원', '제주']\n",
      "정렬 후 : ['대구', '대전', '부산', '서울', '수원', '제주', '하남']\n"
     ]
    }
   ],
   "source": [
    "city = ['서울', '대전', '대구', '부산', '하남', '수원', '제주']\n",
    "temp = city.copy()\n",
    "temp.sort()\n",
    "print('정렬 전 :', city)\n",
    "print('정렬 후 :', temp)"
   ]
  },
  {
   "cell_type": "code",
   "execution_count": 40,
   "id": "5b7e1094",
   "metadata": {},
   "outputs": [
    {
     "data": {
      "text/plain": [
       "[]"
      ]
     },
     "execution_count": 40,
     "metadata": {},
     "output_type": "execute_result"
    }
   ],
   "source": [
    "temp.clear()\n",
    "temp"
   ]
  },
  {
   "cell_type": "code",
   "execution_count": 41,
   "id": "2de6e585",
   "metadata": {},
   "outputs": [
    {
     "name": "stdout",
     "output_type": "stream",
     "text": [
      "['서울', '대전', '대구', '부산', '하남', '수원', '제주']\n"
     ]
    }
   ],
   "source": [
    "print(city)"
   ]
  },
  {
   "cell_type": "markdown",
   "id": "e55506d7",
   "metadata": {},
   "source": [
    "# 2. 튜플(tuple)\n",
    "- 리스트([])와 유사하지만 소괄호()를 사용하여 생성하며 읽기 전용이므로 수정이 필요 없는 데이터에서 사용\n",
    "- 튜플에서는 데이터 수정, 추가, 삭제 불가 (따라서 복제도 의미 없음)\n",
    "- 그러므로 제공되는 함수도 많지 않음"
   ]
  },
  {
   "cell_type": "code",
   "execution_count": 43,
   "id": "98a00f45",
   "metadata": {},
   "outputs": [
    {
     "name": "stdout",
     "output_type": "stream",
     "text": [
      "<class 'tuple'>\n",
      "('서울', '대전', '대구', '부산', '하남')\n"
     ]
    }
   ],
   "source": [
    "# city = ('서울', '대전', '대구', '부산', '하남')\n",
    "# 파이썬은 여러개의 값이 전달될 때 튜플 타입으로 전달\n",
    "city = '서울', '대전', '대구', '부산', '하남'\n",
    "print(type(city))\n",
    "print(city)"
   ]
  },
  {
   "cell_type": "code",
   "execution_count": 44,
   "id": "ed9617d8",
   "metadata": {},
   "outputs": [
    {
     "data": {
      "text/plain": [
       "'서울, 대전, 대구, 부산, 하남'"
      ]
     },
     "execution_count": 44,
     "metadata": {},
     "output_type": "execute_result"
    }
   ],
   "source": [
    "# 매개변수로 list가 오는 함수는 tuple 매개변수로 함수 사용 가능\n",
    "', '.join(city)"
   ]
  },
  {
   "cell_type": "code",
   "execution_count": 46,
   "id": "4d2a18fa",
   "metadata": {},
   "outputs": [
    {
     "data": {
      "text/plain": [
       "3"
      ]
     },
     "execution_count": 46,
     "metadata": {},
     "output_type": "execute_result"
    }
   ],
   "source": [
    "from lst import safe_index\n",
    "safe_index(city, '부산')"
   ]
  },
  {
   "cell_type": "code",
   "execution_count": 50,
   "id": "35e7f68d",
   "metadata": {},
   "outputs": [
    {
     "name": "stdout",
     "output_type": "stream",
     "text": [
      "<class 'list'>\n",
      "['서울']\n",
      "1\n"
     ]
    }
   ],
   "source": [
    "l = ['서울'] # 요소가 하나 있는 리스트\n",
    "print(type(l))\n",
    "print(l)\n",
    "print(len(l))"
   ]
  },
  {
   "cell_type": "code",
   "execution_count": 52,
   "id": "532a9346",
   "metadata": {},
   "outputs": [
    {
     "name": "stdout",
     "output_type": "stream",
     "text": [
      "<class 'str'>\n",
      "서울\n",
      "2\n"
     ]
    }
   ],
   "source": [
    "city = ('서울') # 요소가 하나 있는 튜플(X) ->> 스트링으로 인식\n",
    "print(type(city))\n",
    "print(city)\n",
    "print(len(city))"
   ]
  },
  {
   "cell_type": "code",
   "execution_count": 53,
   "id": "c66e6cc1",
   "metadata": {},
   "outputs": [
    {
     "name": "stdout",
     "output_type": "stream",
     "text": [
      "<class 'tuple'>\n",
      "('서울', '하남')\n",
      "2\n"
     ]
    }
   ],
   "source": [
    "city = ('서울', '하남')\n",
    "print(type(city))\n",
    "print(city)\n",
    "print(len(city))"
   ]
  },
  {
   "cell_type": "code",
   "execution_count": 55,
   "id": "93b05cd1",
   "metadata": {},
   "outputs": [
    {
     "name": "stdout",
     "output_type": "stream",
     "text": [
      "<class 'tuple'>\n",
      "('서울',)\n",
      "1\n"
     ]
    }
   ],
   "source": [
    "city = ('서울',) # 콤마 찍으면 요소가 하나 있는 튜플(O)로 변환\n",
    "print(type(city))\n",
    "print(city)\n",
    "print(len(city))"
   ]
  },
  {
   "cell_type": "code",
   "execution_count": 2,
   "id": "f52e142b",
   "metadata": {},
   "outputs": [],
   "source": [
    "numbers = (1, 2, 3)\n",
    "# number.append(4), etc. 수정, 추가 및 삭제하기 위한 함수는 제공되지 않음"
   ]
  },
  {
   "cell_type": "code",
   "execution_count": 3,
   "id": "55172a83",
   "metadata": {},
   "outputs": [
    {
     "data": {
      "text/plain": [
       "(1, 3, 6)"
      ]
     },
     "execution_count": 3,
     "metadata": {},
     "output_type": "execute_result"
    }
   ],
   "source": [
    "min(numbers), max(numbers), sum(numbers)"
   ]
  },
  {
   "cell_type": "code",
   "execution_count": 4,
   "id": "16fd08b6",
   "metadata": {},
   "outputs": [
    {
     "data": {
      "text/plain": [
       "1"
      ]
     },
     "execution_count": 4,
     "metadata": {},
     "output_type": "execute_result"
    }
   ],
   "source": [
    "numbers.count(2)"
   ]
  },
  {
   "cell_type": "code",
   "execution_count": 5,
   "id": "439a9112",
   "metadata": {},
   "outputs": [
    {
     "data": {
      "text/plain": [
       "2"
      ]
     },
     "execution_count": 5,
     "metadata": {},
     "output_type": "execute_result"
    }
   ],
   "source": [
    "numbers.index(3)"
   ]
  },
  {
   "cell_type": "code",
   "execution_count": 6,
   "id": "5f52634e",
   "metadata": {},
   "outputs": [
    {
     "name": "stdout",
     "output_type": "stream",
     "text": [
      "해당 데이터 없음\n"
     ]
    }
   ],
   "source": [
    "# numbers.index(4)\n",
    "if 4 in numbers:\n",
    "    numbers.index(4)\n",
    "else:\n",
    "    print('해당 데이터 없음')"
   ]
  },
  {
   "cell_type": "code",
   "execution_count": 8,
   "id": "8f3674a1",
   "metadata": {},
   "outputs": [
    {
     "data": {
      "text/plain": [
       "-1"
      ]
     },
     "execution_count": 8,
     "metadata": {},
     "output_type": "execute_result"
    }
   ],
   "source": [
    "from lst import safe_index\n",
    "safe_index(numbers, 4)"
   ]
  },
  {
   "cell_type": "code",
   "execution_count": null,
   "id": "9bc6c9f4",
   "metadata": {},
   "outputs": [],
   "source": []
  },
  {
   "cell_type": "code",
   "execution_count": null,
   "id": "59edd1f8",
   "metadata": {},
   "outputs": [],
   "source": [
    "# 연습문제(실습형)"
   ]
  },
  {
   "cell_type": "code",
   "execution_count": 14,
   "id": "efce3b61",
   "metadata": {},
   "outputs": [
    {
     "name": "stdout",
     "output_type": "stream",
     "text": [
      "[1, 2, 3, 4, 5, 6, 7, 8, 9, 10, 100]\n"
     ]
    }
   ],
   "source": [
    "#  다음 리스트가 주어졌을 경우 요구사항대로 코드를 작성하시오\n",
    "numbers = [1,2,3,4,5,6,7,8,9,10]\n",
    "\n",
    "# 1. 숫자 100을 맨 뒤에 추가하세요\n",
    "numbers.append(100)\n",
    "print(numbers)"
   ]
  },
  {
   "cell_type": "code",
   "execution_count": 15,
   "id": "aa2f8b7d",
   "metadata": {},
   "outputs": [
    {
     "name": "stdout",
     "output_type": "stream",
     "text": [
      "[1, 2, 3, 4, 5, 6, 7, 8, 9, 10, 100, 200, 300, 400, 500]\n"
     ]
    }
   ],
   "source": [
    "# 2. 다음 리스트를 numbers리스트 맨 뒤에 추가하세요\n",
    "data = [200, 300, 400, 500]\n",
    "numbers.extend(data)\n",
    "print(numbers)"
   ]
  },
  {
   "cell_type": "code",
   "execution_count": 16,
   "id": "b163833e",
   "metadata": {},
   "outputs": [
    {
     "name": "stdout",
     "output_type": "stream",
     "text": [
      "[1, 2, 3, 4, 5]\n"
     ]
    }
   ],
   "source": [
    "# 3. 처음 다섯 개 숫자만 출력하세요\n",
    "print(numbers[:5:])"
   ]
  },
  {
   "cell_type": "code",
   "execution_count": 17,
   "id": "f0cbfbb4",
   "metadata": {},
   "outputs": [
    {
     "name": "stdout",
     "output_type": "stream",
     "text": [
      "[1, 3, 5, 7, 9, 100, 300, 500]\n"
     ]
    }
   ],
   "source": [
    "# 4. 리스트에서 짝수 번째 데이터만 출력하세요\n",
    "print(numbers[::2])"
   ]
  },
  {
   "cell_type": "code",
   "execution_count": 18,
   "id": "0d520728",
   "metadata": {},
   "outputs": [
    {
     "name": "stdout",
     "output_type": "stream",
     "text": [
      "[0, 2, 0, 4, 0, 6, 0, 8, 0, 10, 0, 200, 0, 400, 0]\n"
     ]
    }
   ],
   "source": [
    "# 5. 짝수번째 데이터를 모두 0으로 바꾸세요\n",
    "numbers[::2] = [0]*len(numbers[::2])\n",
    "print(numbers)"
   ]
  },
  {
   "cell_type": "code",
   "execution_count": 21,
   "id": "a5ce0582",
   "metadata": {},
   "outputs": [
    {
     "name": "stdout",
     "output_type": "stream",
     "text": [
      "[0, 0, 0, 0, 0, 0, 0, 0, 2, 4, 6, 8, 10, 200, 400]\n"
     ]
    }
   ],
   "source": [
    "# 6. 데이터를 역순으로 나열하세요(내림차순 정렬이 아닙니다)\n",
    "print(sorted(numbers))"
   ]
  },
  {
   "cell_type": "code",
   "execution_count": null,
   "id": "6f7c4a44",
   "metadata": {},
   "outputs": [],
   "source": [
    "# 다음 딕셔너리 데이터가 주어졌을 경우 요구사항대로 코드를 작성하세\n",
    "요.\n",
    "member_info = {“name”:”홍길동”, “age”:20, “address”:”서울시 마포구“, “score”:90}\n",
    "# 7. address값을 출력하세요"
   ]
  },
  {
   "cell_type": "code",
   "execution_count": null,
   "id": "4a42c632",
   "metadata": {},
   "outputs": [],
   "source": [
    "# 8. score 를 출력하고 member_info 딕셔너리에서 삭제하세요."
   ]
  },
  {
   "cell_type": "code",
   "execution_count": null,
   "id": "ae150554",
   "metadata": {},
   "outputs": [],
   "source": [
    "# 9. address를 “서울시 서대문구”로 변경하세요."
   ]
  },
  {
   "cell_type": "code",
   "execution_count": null,
   "id": "1a0b6453",
   "metadata": {},
   "outputs": [],
   "source": [
    "# 10. member_info 딕셔너리 데이터의 값을 리스트로 출력하세요."
   ]
  },
  {
   "cell_type": "code",
   "execution_count": null,
   "id": "69ee29ab",
   "metadata": {},
   "outputs": [],
   "source": []
  },
  {
   "cell_type": "code",
   "execution_count": null,
   "id": "88caddc1",
   "metadata": {},
   "outputs": [],
   "source": []
  },
  {
   "cell_type": "code",
   "execution_count": null,
   "id": "c19dd33c",
   "metadata": {},
   "outputs": [],
   "source": [
    "# 연습문제(서술형)"
   ]
  },
  {
   "cell_type": "code",
   "execution_count": 6,
   "id": "0522aaff",
   "metadata": {},
   "outputs": [],
   "source": [
    "# 1. 다음 코드를 실행했을 때 출력되는 것은?\n",
    "# L1 = (“orange”,”apple”,”banana”,”kiwi”)\n",
    "# new_list = [i for i in L1 if len(i)>5]\n",
    "# print(new_list)\n",
    "\n",
    "# [\"orange\", \"banana\"]"
   ]
  },
  {
   "cell_type": "code",
   "execution_count": null,
   "id": "916a7820",
   "metadata": {},
   "outputs": [],
   "source": [
    "# 2. 다음 코드와 실행결과가 잘못 짝지어진 것은?\n",
    "# ① print(list(range(10))) - [0,1,2,3,4,5,6,7,8,9]\n",
    "# ② print(list(range(5,10))) - [5,6,7,8,9]\n",
    "# ③ print(list(range(10,0,-1))) - [9,8,7,6,5,4,3,2,1,0]\n",
    "# ④ print(list(range(10,20,2))) – [10,12,14,16,18]\n",
    "\n",
    "# 3번"
   ]
  },
  {
   "cell_type": "code",
   "execution_count": null,
   "id": "197a0c13",
   "metadata": {},
   "outputs": [],
   "source": [
    "# 3. 다음 구문에 의해 출력되는 것은?\n",
    "# numbers_2d = [ [1,2,3,4,5], [10,20,30,40],[1,3,5],[2,] ]\n",
    "# len(numbers_2d[3])\n",
    "\n",
    "# 3"
   ]
  },
  {
   "cell_type": "code",
   "execution_count": 7,
   "id": "4847727c",
   "metadata": {},
   "outputs": [],
   "source": [
    "# 4. 다음 코드의 실행결과가 나올 수 있는 빈칸에 들어갈 함수 이름은?\n",
    "# numbers = [1,2,3,4,5]\n",
    "# numbers.__________([10,20,30,40,50])\n",
    "# numbers\n",
    "# 결과 : [1,2,3,4,5,10,20,30,40,50]\n",
    "\n",
    "# extend"
   ]
  },
  {
   "cell_type": "code",
   "execution_count": 9,
   "id": "d6571822",
   "metadata": {},
   "outputs": [
    {
     "name": "stdout",
     "output_type": "stream",
     "text": [
      "[0, 1, 0, 3, 0, 5, 0, 7, 0, 9]\n"
     ]
    }
   ],
   "source": [
    "# 5. 다음 구문을 실행할 때 결과는 ?\n",
    "# numbers = list(range(10))\n",
    "# numbers[ : : 2]= [0] * len(numbers[ : : 2])\n",
    "# print(numbers)\n",
    "# numbers = [0, 1, 0, 3, 0, 5, 0, 7, 0, 9]"
   ]
  },
  {
   "cell_type": "code",
   "execution_count": 10,
   "id": "4e8815e4",
   "metadata": {},
   "outputs": [
    {
     "name": "stdout",
     "output_type": "stream",
     "text": [
      "[5, 1, 6, 3, 7, 5, 8, 7, 9, 9]\n"
     ]
    }
   ],
   "source": [
    "# 6. 다음 구문을 실행할 때 결과는 ?\n",
    "# numbers = [0,1,2,3,4,5,6,7,8,9]\n",
    "# numbers[ : : 2]= numbers[5:]\n",
    "# print(numbers)\n",
    "\n",
    "# [5, 1, 6, 3, 7, 5, 8, 7, 9, 9]"
   ]
  },
  {
   "cell_type": "code",
   "execution_count": 11,
   "id": "1d1c3847",
   "metadata": {},
   "outputs": [
    {
     "name": "stdout",
     "output_type": "stream",
     "text": [
      "[0, 1, 1, 3, 2, 5, 3, 7, 4, 9]\n"
     ]
    }
   ],
   "source": [
    "# 7. 다음 구문을 실행할 때 결과는 ?\n",
    "numbers = [0, 1, 2, 3, 4, 5, 6, 7, 8, 9]\n",
    "numbers[ : : 2]= numbers[:5]\n",
    "print(numbers)\n",
    "\n",
    "# [0, 1, 1, 3, 2, 5, 3, 7, 4, 9]"
   ]
  },
  {
   "cell_type": "code",
   "execution_count": null,
   "id": "b5627370",
   "metadata": {},
   "outputs": [],
   "source": [
    "# 8. 다음 데이터에서 10을 출력할 수 없는 구문은?\n",
    "# my_dic = {“a”:10, “b”:20, “c”:30}\n",
    "# ① my_dic[0]\n",
    "# ② my_dic[‘a’]\n",
    "# ③ list(my_dic.items())[0][1]\n",
    "# ④ list(my_dic.values())[0]\n",
    "# ⑤ my_dic.get(‘a’)"
   ]
  },
  {
   "cell_type": "code",
   "execution_count": null,
   "id": "8163d08e",
   "metadata": {},
   "outputs": [],
   "source": [
    "# 9. 다음 프로그램의 결과를 출력하시오\n",
    "# fruits = [ ‘apple’, ‘banana’, ‘orange’]\n",
    "# x, y, z = fruits\n",
    "# print(x)\n",
    "# print(y)\n",
    "# print(z)\n",
    "\n",
    "# apple, banana, orange"
   ]
  },
  {
   "cell_type": "code",
   "execution_count": 8,
   "id": "ab684326",
   "metadata": {},
   "outputs": [],
   "source": [
    "# 10. 다음 프로그램의 결과를 출력하시오\n",
    "# fruits = [ ‘apple’, ‘banana’, ‘orange’]\n",
    "# print(len(fruits))\n",
    "\n",
    "# 5, 6, 6"
   ]
  },
  {
   "cell_type": "code",
   "execution_count": null,
   "id": "1f426649",
   "metadata": {},
   "outputs": [],
   "source": [
    "# 11. 파이썬에서 함수를 만들기 위해 선언하는 단어는?\n",
    "# def"
   ]
  },
  {
   "cell_type": "code",
   "execution_count": null,
   "id": "ce112cb7",
   "metadata": {},
   "outputs": [],
   "source": []
  }
 ],
 "metadata": {
  "kernelspec": {
   "display_name": "Python 3 (ipykernel)",
   "language": "python",
   "name": "python3"
  },
  "language_info": {
   "codemirror_mode": {
    "name": "ipython",
    "version": 3
   },
   "file_extension": ".py",
   "mimetype": "text/x-python",
   "name": "python",
   "nbconvert_exporter": "python",
   "pygments_lexer": "ipython3",
   "version": "3.10.9"
  },
  "toc": {
   "base_numbering": 1,
   "nav_menu": {},
   "number_sections": false,
   "sideBar": true,
   "skip_h1_title": false,
   "title_cell": "Table of Contents",
   "title_sidebar": "Contents",
   "toc_cell": false,
   "toc_position": {
    "height": "calc(100% - 180px)",
    "left": "10px",
    "top": "150px",
    "width": "233px"
   },
   "toc_section_display": true,
   "toc_window_display": true
  }
 },
 "nbformat": 4,
 "nbformat_minor": 5
}

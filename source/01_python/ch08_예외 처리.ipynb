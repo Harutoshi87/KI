{
 "cells": [
  {
   "cell_type": "code",
   "execution_count": 3,
   "id": "e13a8e9d",
   "metadata": {},
   "outputs": [
    {
     "data": {
      "text/html": [
       "\n",
       "<style>\n",
       "div.container{width:90% !important;}\n",
       "div.cell.code_cell.rendered{width:100%;}\n",
       "div.input_prompt{padding:0px;}\n",
       "div.CodeMirror {font-family:Consolas; font-size:12pt;}\n",
       "div.text_cell_render.rendered_html{font-size:12pt;}\n",
       "div.output {font-size:12pt; font-weight:bold;}\n",
       "div.input {font-family:Consolas; font-size:12pt;}\n",
       "div.prompt {min-width:70px;}\n",
       "div#toc-wrapper{padding-top:120px;}\n",
       "div.text_cell_render ul li{font-size:12pt;padding:5px;}\n",
       "table.dataframe{font-size:12px;}\n",
       "</style>\n"
      ],
      "text/plain": [
       "<IPython.core.display.HTML object>"
      ]
     },
     "metadata": {},
     "output_type": "display_data"
    }
   ],
   "source": [
    "from IPython.display import display, HTML\n",
    "display(HTML(\"\"\"\n",
    "<style>\n",
    "div.container{width:90% !important;}\n",
    "div.cell.code_cell.rendered{width:100%;}\n",
    "div.input_prompt{padding:0px;}\n",
    "div.CodeMirror {font-family:Consolas; font-size:12pt;}\n",
    "div.text_cell_render.rendered_html{font-size:12pt;}\n",
    "div.output {font-size:12pt; font-weight:bold;}\n",
    "div.input {font-family:Consolas; font-size:12pt;}\n",
    "div.prompt {min-width:70px;}\n",
    "div#toc-wrapper{padding-top:120px;}\n",
    "div.text_cell_render ul li{font-size:12pt;padding:5px;}\n",
    "table.dataframe{font-size:12px;}\n",
    "</style>\n",
    "\"\"\"))"
   ]
  },
  {
   "cell_type": "markdown",
   "id": "91edc9e3",
   "metadata": {},
   "source": [
    "<b><font size=\"6\" color=\"red\">ch08. 예외 처리</font></b>\n",
    "```\n",
    "- 에러\n",
    "    (1) 문법 에러 : 문법적으로 나타나는 에러(프로그램을 수정할 수 밖에 없음)\n",
    "    (2) 실행 에러(실행 시 나는 에러)\n",
    "        * 시스템 에러 : 프로그래머의 의지와 상관 없이 나타나는 에러\n",
    "        * 예외 : 정상적으로 동작하는 프로그램에서 나타나는 에러(MILD한 에러)\n",
    "```\n",
    "# 1. 예외 처리의 필요성\n",
    "- 예외가 날 가능성이 있는 부분에 대해서 미리 예상하고 그에 대한 처리를 프로그래밍 하는 것\n",
    "    (필요한 이유 : 좀 더 안정적인 시스템 구축)    \n",
    "```\n",
    "    ex1. 파일을 다룰 때 파일이 없거나 쓰기 금지거나 파일 인코딩 방법으로 인한 오류\n",
    "    ex2. 데이터베이스(DB) 프로그래밍 시 제약 조건등에 의한 CRUD(Create, Read, Update, Delete) 명령 수행 오류. DBMS 서버 오류\n",
    "    ex3. 네트워크 프로그래밍 시 네트워크 연결 오류\n",
    "    ex4. 리스트나 튜플의 인덱스를 벗어난 참조에 의한 오류\n",
    "```"
   ]
  },
  {
   "cell_type": "code",
   "execution_count": 4,
   "id": "8546acf8",
   "metadata": {},
   "outputs": [
    {
     "name": "stdout",
     "output_type": "stream",
     "text": [
      "파일명은 ?ch08.txt\n"
     ]
    },
    {
     "data": {
      "text/plain": [
       "'Hello\\nPython\\n'"
      ]
     },
     "execution_count": 4,
     "metadata": {},
     "output_type": "execute_result"
    }
   ],
   "source": [
    "# 파일명(ch08.txt, ch02.txt)은 사용자에게 입력받아 해당 파일 내용을 출력\n",
    "filename = input('파일명은 ?')\n",
    "f = open('data/' + filename, 'r') # 파일을 연다(스트림 객체 생성)\n",
    "f.read()"
   ]
  },
  {
   "cell_type": "code",
   "execution_count": 5,
   "id": "05f1a7ff",
   "metadata": {},
   "outputs": [],
   "source": [
    "f.close()"
   ]
  },
  {
   "cell_type": "code",
   "execution_count": 6,
   "id": "e274ac6d",
   "metadata": {},
   "outputs": [
    {
     "name": "stdout",
     "output_type": "stream",
     "text": [
      "파일명은 ?a.txt\n"
     ]
    },
    {
     "ename": "FileNotFoundError",
     "evalue": "[Errno 2] No such file or directory: 'data/a.txt'",
     "output_type": "error",
     "traceback": [
      "\u001b[1;31m---------------------------------------------------------------------------\u001b[0m",
      "\u001b[1;31mFileNotFoundError\u001b[0m                         Traceback (most recent call last)",
      "Cell \u001b[1;32mIn[6], line 3\u001b[0m\n\u001b[0;32m      1\u001b[0m \u001b[38;5;66;03m# 예외 발생 : 파일이 잘못 되었거나 혹은 인코딩 방식이 다르거나 \u001b[39;00m\n\u001b[0;32m      2\u001b[0m filename \u001b[38;5;241m=\u001b[39m \u001b[38;5;28minput\u001b[39m(\u001b[38;5;124m'\u001b[39m\u001b[38;5;124m파일명은 ?\u001b[39m\u001b[38;5;124m'\u001b[39m)\n\u001b[1;32m----> 3\u001b[0m f \u001b[38;5;241m=\u001b[39m \u001b[38;5;28;43mopen\u001b[39;49m\u001b[43m(\u001b[49m\u001b[38;5;124;43m'\u001b[39;49m\u001b[38;5;124;43mdata/\u001b[39;49m\u001b[38;5;124;43m'\u001b[39;49m\u001b[43m \u001b[49m\u001b[38;5;241;43m+\u001b[39;49m\u001b[43m \u001b[49m\u001b[43mfilename\u001b[49m\u001b[43m,\u001b[49m\u001b[43m \u001b[49m\u001b[38;5;124;43m'\u001b[39;49m\u001b[38;5;124;43mr\u001b[39;49m\u001b[38;5;124;43m'\u001b[39;49m\u001b[43m)\u001b[49m \u001b[38;5;66;03m# 파일을 연다(스트림 객체 생성)\u001b[39;00m\n\u001b[0;32m      4\u001b[0m \u001b[38;5;28mprint\u001b[39m(f\u001b[38;5;241m.\u001b[39mread())\n\u001b[0;32m      5\u001b[0m f\u001b[38;5;241m.\u001b[39mclose()\n",
      "File \u001b[1;32m~\\anaconda3\\lib\\site-packages\\IPython\\core\\interactiveshell.py:282\u001b[0m, in \u001b[0;36m_modified_open\u001b[1;34m(file, *args, **kwargs)\u001b[0m\n\u001b[0;32m    275\u001b[0m \u001b[38;5;28;01mif\u001b[39;00m file \u001b[38;5;129;01min\u001b[39;00m {\u001b[38;5;241m0\u001b[39m, \u001b[38;5;241m1\u001b[39m, \u001b[38;5;241m2\u001b[39m}:\n\u001b[0;32m    276\u001b[0m     \u001b[38;5;28;01mraise\u001b[39;00m \u001b[38;5;167;01mValueError\u001b[39;00m(\n\u001b[0;32m    277\u001b[0m         \u001b[38;5;124mf\u001b[39m\u001b[38;5;124m\"\u001b[39m\u001b[38;5;124mIPython won\u001b[39m\u001b[38;5;124m'\u001b[39m\u001b[38;5;124mt let you open fd=\u001b[39m\u001b[38;5;132;01m{\u001b[39;00mfile\u001b[38;5;132;01m}\u001b[39;00m\u001b[38;5;124m by default \u001b[39m\u001b[38;5;124m\"\u001b[39m\n\u001b[0;32m    278\u001b[0m         \u001b[38;5;124m\"\u001b[39m\u001b[38;5;124mas it is likely to crash IPython. If you know what you are doing, \u001b[39m\u001b[38;5;124m\"\u001b[39m\n\u001b[0;32m    279\u001b[0m         \u001b[38;5;124m\"\u001b[39m\u001b[38;5;124myou can use builtins\u001b[39m\u001b[38;5;124m'\u001b[39m\u001b[38;5;124m open.\u001b[39m\u001b[38;5;124m\"\u001b[39m\n\u001b[0;32m    280\u001b[0m     )\n\u001b[1;32m--> 282\u001b[0m \u001b[38;5;28;01mreturn\u001b[39;00m io_open(file, \u001b[38;5;241m*\u001b[39margs, \u001b[38;5;241m*\u001b[39m\u001b[38;5;241m*\u001b[39mkwargs)\n",
      "\u001b[1;31mFileNotFoundError\u001b[0m: [Errno 2] No such file or directory: 'data/a.txt'"
     ]
    }
   ],
   "source": [
    "# 예외 발생 : 파일이 잘못된 경우\n",
    "filename = input('파일명은 ?')\n",
    "f = open('data/' + filename, 'r') # 파일을 연다(스트림 객체 생성)\n",
    "print(f.read())\n",
    "f.close()"
   ]
  },
  {
   "cell_type": "code",
   "execution_count": 11,
   "id": "948050f4",
   "metadata": {},
   "outputs": [
    {
     "name": "stdout",
     "output_type": "stream",
     "text": [
      "파일명은 ?ch08.txt\n",
      "Hello\n",
      "Python\n",
      "주피터 노트북의 txt파일 저장은 기본이 utf-8로 저장\n",
      "김설믜\n"
     ]
    }
   ],
   "source": [
    "# 예외 발생 : 인코딩 방식 에러\n",
    "# 한글 인코딩 방법 : \n",
    "# 한글 완성형(euc-kr < cp949) : 한글 11,172자 중 2,850자만 코드로 표현\n",
    "# 한글 조합형(utf-8) : 초, 중, 종성을 따로 코드 값을 받음\n",
    "# ch08.txt는 조합형으로 저장됨\n",
    "filename = input('파일명은 ?')\n",
    "f = open('data/' + filename, 'r', encoding = 'utf-8') # 파일을 연다(스트림 객체 생성) cp949 code가 default encoding 방식\n",
    "print(f.read())\n",
    "f.close()"
   ]
  },
  {
   "cell_type": "code",
   "execution_count": 12,
   "id": "01764be9",
   "metadata": {},
   "outputs": [
    {
     "ename": "ZeroDivisionError",
     "evalue": "division by zero",
     "output_type": "error",
     "traceback": [
      "\u001b[1;31m---------------------------------------------------------------------------\u001b[0m",
      "\u001b[1;31mZeroDivisionError\u001b[0m                         Traceback (most recent call last)",
      "Cell \u001b[1;32mIn[12], line 1\u001b[0m\n\u001b[1;32m----> 1\u001b[0m \u001b[38;5;241;43m4\u001b[39;49m\u001b[38;5;241;43m/\u001b[39;49m\u001b[38;5;241;43m0\u001b[39;49m\n",
      "\u001b[1;31mZeroDivisionError\u001b[0m: division by zero"
     ]
    }
   ],
   "source": [
    "4/0"
   ]
  },
  {
   "cell_type": "code",
   "execution_count": 13,
   "id": "1316b995",
   "metadata": {},
   "outputs": [
    {
     "ename": "IndexError",
     "evalue": "list index out of range",
     "output_type": "error",
     "traceback": [
      "\u001b[1;31m---------------------------------------------------------------------------\u001b[0m",
      "\u001b[1;31mIndexError\u001b[0m                                Traceback (most recent call last)",
      "Cell \u001b[1;32mIn[13], line 2\u001b[0m\n\u001b[0;32m      1\u001b[0m a \u001b[38;5;241m=\u001b[39m [\u001b[38;5;241m1\u001b[39m,\u001b[38;5;241m2\u001b[39m,\u001b[38;5;241m3\u001b[39m]\n\u001b[1;32m----> 2\u001b[0m \u001b[43ma\u001b[49m\u001b[43m[\u001b[49m\u001b[38;5;241;43m3\u001b[39;49m\u001b[43m]\u001b[49m\n",
      "\u001b[1;31mIndexError\u001b[0m: list index out of range"
     ]
    }
   ],
   "source": [
    "a = [1,2,3]\n",
    "a[3]"
   ]
  },
  {
   "cell_type": "markdown",
   "id": "1b30cc03",
   "metadata": {},
   "source": [
    "# 2. try~except로 예외 처리\n",
    "## 2.1.try~except\n",
    "```\n",
    "try:\n",
    "    예외가 발생할 가능성이 있는 명령어들\n",
    "except:\n",
    "    예외가 발생할 경우 실행할 명령어들\n",
    "```"
   ]
  },
  {
   "cell_type": "code",
   "execution_count": 15,
   "id": "2888019f",
   "metadata": {},
   "outputs": [
    {
     "name": "stdout",
     "output_type": "stream",
     "text": [
      "100을 나눌 정수를 입력하세요 :3\n",
      "100을 입력한 정수로 나누면 33.333\n"
     ]
    }
   ],
   "source": [
    "# 100을 입력받은 정수값으로 나눠 출력\n",
    "x = int(input('100을 나눌 정수를 입력하세요 :'))\n",
    "100 / x\n",
    "print('100을 입력한 정수로 나누면 {:.3f}'.format(100/x))"
   ]
  },
  {
   "cell_type": "code",
   "execution_count": 19,
   "id": "2cae0c05",
   "metadata": {},
   "outputs": [
    {
     "name": "stdout",
     "output_type": "stream",
     "text": [
      "100을 나눌 정수를 입력하세요 :0\n",
      "유효한 정수가 아닙니다\n"
     ]
    }
   ],
   "source": [
    "# 100을 입력받은 정수값으로 나눠 출력\n",
    "# ValueError: invalid literal for int() with base 10 : '삼'(정수를 입력하지 않은 경우)\n",
    "# ZeroDivisionError: division by zero (0을 입력한 경우의 예외 객체의 타입과 메세지)\n",
    "# try정에 예외가 발생되지 않으면 except절은 수행되지 않음\n",
    "# try절에 예외가 발생되면 try절 수행을 멈추고 except절을 수행\n",
    "try:\n",
    "    x = int(input('100을 나눌 정수를 입력하세요 :'))\n",
    "    print('100을 입력한 정수로 나누면 {:.3f}'.format(100/x))\n",
    "except:\n",
    "    print('유효한 정수가 아닙니다')"
   ]
  },
  {
   "cell_type": "code",
   "execution_count": 30,
   "id": "8bbe6c94",
   "metadata": {},
   "outputs": [
    {
     "name": "stdout",
     "output_type": "stream",
     "text": [
      "100을 나눌 정수를 입력하세요 :0\n",
      "유효한 정수가 아닙니다\n",
      "100을 나눌 정수를 입력하세요 :1.1\n",
      "유효한 정수가 아닙니다\n",
      "100을 나눌 정수를 입력하세요 :8\n",
      "100을 입력한 정수로 나누면 12.500\n"
     ]
    }
   ],
   "source": [
    "# 100을 나눌 유효한 정수를 입력할 때까지 입력받아 100을 나눈 결과를 출력\n",
    "while True:\n",
    "    try:\n",
    "        x = int(input('100을 나눌 정수를 입력하세요 :'))\n",
    "        print('100을 입력한 정수로 나누면 {:.3f}'.format(100/x))\n",
    "        break\n",
    "    except:\n",
    "        print('유효한 정수가 아닙니다')"
   ]
  },
  {
   "cell_type": "markdown",
   "id": "1bfb355e",
   "metadata": {},
   "source": [
    "## 2.2.지정된 예외 처리\n",
    "```\n",
    "try:\n",
    "    예외가 발생할 수도 있는 명령어\n",
    "except (예외 타입1, 예외 타입3):\n",
    "    해당 예외가 발생할 경우 실행할 명령어\n",
    "except 예외 타입2:\n",
    "    해당 예외가 발생할 경우 실행할 명령어\n",
    "    \n",
    "예외 타입이 상이한 경우 에러 발생\n",
    "```"
   ]
  },
  {
   "cell_type": "code",
   "execution_count": 33,
   "id": "cdf79e7f",
   "metadata": {},
   "outputs": [
    {
     "name": "stdout",
     "output_type": "stream",
     "text": [
      "100을 나눌 정수를 입력하세요 :0\n",
      "0으로는 나눌 수 없습니다\n"
     ]
    }
   ],
   "source": [
    "# 수를 입력받아 100을 나눈 결과를 출력\n",
    "# ValueError: invalid literal for int() with base 10 : '삼'(정수를 입력하지 않은 경우)\n",
    "# ZeroDivisionError: division by zero (0을 입력한 경우의 예외 객체의 타입과 메세지)\n",
    "\n",
    "try:\n",
    "    x = int(input('100을 나눌 정수를 입력하세요 :'))\n",
    "    print('100을 입력한 정수로 나누면 {:.3f}'.format(100/x))\n",
    "except ValueError:\n",
    "    print('정수를 입력하지 않았습니다')\n",
    "except ZeroDivisionError:\n",
    "    print('0으로는 나눌 수 없습니다')"
   ]
  },
  {
   "cell_type": "code",
   "execution_count": 39,
   "id": "81c51727",
   "metadata": {},
   "outputs": [
    {
     "name": "stdout",
     "output_type": "stream",
     "text": [
      "100을 나눌 정수를 입력하세요 :0\n",
      "0으로는 나눌 수 없습니다\n"
     ]
    }
   ],
   "source": [
    "try:\n",
    "    x = int(input('100을 나눌 정수를 입력하세요 :'))\n",
    "    print('100을 입력한 정수로 나누면 {:.3f}'.format(100/x))\n",
    "except ValueError:\n",
    "    print('정수를 입력하지 않았습니다')\n",
    "except ZeroDivisionError:\n",
    "    print('0으로는 나눌 수 없습니다')\n",
    "except Exception: # 상위 클래스일수록 밑에다가 배치해야\n",
    "    print('기타 다른 예외입니다')"
   ]
  },
  {
   "cell_type": "code",
   "execution_count": 40,
   "id": "3d7c7f8c",
   "metadata": {},
   "outputs": [
    {
     "name": "stdout",
     "output_type": "stream",
     "text": [
      "100을 나눌 정수를 입력하세요 :1.9\n",
      "나눌 수 있는 유효한 수가 아닙니다\n"
     ]
    }
   ],
   "source": [
    "try:\n",
    "    x = int(input('100을 나눌 정수를 입력하세요 :'))\n",
    "    print('100을 입력한 정수로 나누면 {:.3f}'.format(100/x))\n",
    "except (ValueError, ZeroDivisionError): # 괄호 무조건 해야 함\n",
    "    print('나눌 수 있는 유효한 수가 아닙니다')\n",
    "except Exception: # 상위 클래스일수록 밑에다가 배치해야\n",
    "    print('기타 다른 예외입니다')"
   ]
  },
  {
   "cell_type": "markdown",
   "id": "b424aa8e",
   "metadata": {},
   "source": [
    "## 2.3.예외 인수(e)\n",
    "```\n",
    "try:\n",
    "    예외가 발생할 수도 있는 명령어\n",
    "except 예외타입 as e:\n",
    "    print(e) # print(e.__str__())\n",
    "  # print(e.args[0]) # 예외 메세지 출력\n",
    "```"
   ]
  },
  {
   "cell_type": "code",
   "execution_count": 42,
   "id": "ef0bc33a",
   "metadata": {},
   "outputs": [],
   "source": [
    "e = Exception('에러 메세지')"
   ]
  },
  {
   "cell_type": "code",
   "execution_count": 43,
   "id": "55e1393f",
   "metadata": {},
   "outputs": [
    {
     "data": {
      "text/plain": [
       "('에러 메세지',)"
      ]
     },
     "execution_count": 43,
     "metadata": {},
     "output_type": "execute_result"
    }
   ],
   "source": [
    "e.args[0]"
   ]
  },
  {
   "cell_type": "code",
   "execution_count": 46,
   "id": "d645ebcc",
   "metadata": {},
   "outputs": [
    {
     "name": "stdout",
     "output_type": "stream",
     "text": [
      "에러 메세지\n",
      "에러 메세지\n"
     ]
    }
   ],
   "source": [
    "print(e.__str__())\n",
    "print(e)"
   ]
  },
  {
   "cell_type": "code",
   "execution_count": 48,
   "id": "545089c4",
   "metadata": {},
   "outputs": [
    {
     "name": "stdout",
     "output_type": "stream",
     "text": [
      "100을 나눌 정수를 입력하세요 :0\n",
      "예외 유형 : <class 'ZeroDivisionError'>\n",
      "예외 메세지 : division by zero\n",
      "예외 메세지 : division by zero\n",
      "예외 메세지 : division by zero\n"
     ]
    }
   ],
   "source": [
    "try:\n",
    "    x = int(input('100을 나눌 정수를 입력하세요 :'))\n",
    "    print('100을 입력한 정수로 나누면 {:.3f}'.format(100/x))\n",
    "except (ValueError, ZeroDivisionError) as e: # 괄호 무조건 해야 함\n",
    "    print('예외 유형 :', type(e))\n",
    "    print('예외 메세지 :', e)\n",
    "    print('예외 메세지 :', e.__str__())\n",
    "    print('예외 메세지 :', e.args[0])\n",
    "except Exception: # 상위 클래스일수록 밑에다가 배치해야\n",
    "    print('기타 다른 예외입니다')"
   ]
  },
  {
   "cell_type": "markdown",
   "id": "d0c339bd",
   "metadata": {},
   "source": [
    "```\n",
    "try:\n",
    "    예외가 발생할 수도 있는 명령어\n",
    "except [예외 타입 [as e]]:\n",
    "    예외 타입 발생 시 수행할 명령어\n",
    "[else:\n",
    "    try절을 수행하다가 예외가 발생하지 않으면 else절 수행\n",
    "    try절을 수행하다가 예외가 발생하면 except절 수행(else절 수행 하지 않음)\n",
    "]\n",
    "[finally:\n",
    "    try절에서 예외 발생 여부와 관계 없이 마지막에 수행\n",
    "]\n",
    "```"
   ]
  },
  {
   "cell_type": "code",
   "execution_count": 49,
   "id": "a55502ef",
   "metadata": {},
   "outputs": [
    {
     "name": "stdout",
     "output_type": "stream",
     "text": [
      "Hello\n",
      "Python\n",
      "주피터 노트북의 txt파일 저장은 기본이 utf-8로 저장\n",
      "김설믜\n"
     ]
    }
   ],
   "source": [
    "try:    \n",
    "    file = open('data/ch08.txt', 'r', encoding = 'utf-8')\n",
    "except FileNotFoundError as e:\n",
    "    print('해당 폴더나 파일이 없습니다')\n",
    "    print(e)\n",
    "else:\n",
    "    print(file.read())\n",
    "finally:\n",
    "    file.close()"
   ]
  },
  {
   "cell_type": "code",
   "execution_count": 50,
   "id": "63406764",
   "metadata": {},
   "outputs": [
    {
     "name": "stdout",
     "output_type": "stream",
     "text": [
      "Hello\n",
      "Python\n",
      "주피터 노트북의 txt파일 저장은 기본이 utf-8로 저장\n",
      "김설믜\n"
     ]
    }
   ],
   "source": [
    "try:    \n",
    "    file = open('data/ch08.txt', 'r', encoding = 'utf-8')\n",
    "    print(file.read())\n",
    "except FileNotFoundError as e:\n",
    "    print('해당 폴더나 파일이 없습니다')\n",
    "    print(e)\n",
    "finally: # try절의 후처리는 finally에 넣어줌\n",
    "    file.close()"
   ]
  },
  {
   "cell_type": "markdown",
   "id": "28eafb37",
   "metadata": {},
   "source": [
    "# 3. raise\n",
    "- 강제로 예외를 발생시킴 (강제로 탈출 혹은 추상 클래스로 자식 클래스에 상속 시)"
   ]
  },
  {
   "cell_type": "code",
   "execution_count": 51,
   "id": "83677274",
   "metadata": {},
   "outputs": [
    {
     "ename": "Exception",
     "evalue": "예외",
     "output_type": "error",
     "traceback": [
      "\u001b[1;31m---------------------------------------------------------------------------\u001b[0m",
      "\u001b[1;31mException\u001b[0m                                 Traceback (most recent call last)",
      "Cell \u001b[1;32mIn[51], line 1\u001b[0m\n\u001b[1;32m----> 1\u001b[0m \u001b[38;5;28;01mraise\u001b[39;00m \u001b[38;5;167;01mException\u001b[39;00m(\u001b[38;5;124m'\u001b[39m\u001b[38;5;124m예외\u001b[39m\u001b[38;5;124m'\u001b[39m)\n",
      "\u001b[1;31mException\u001b[0m: 예외"
     ]
    }
   ],
   "source": [
    "raise Exception('예외')"
   ]
  },
  {
   "cell_type": "code",
   "execution_count": 52,
   "id": "c38774c9",
   "metadata": {},
   "outputs": [
    {
     "ename": "ZeroDivisionError",
     "evalue": "0으로 나누려고 하였습니다",
     "output_type": "error",
     "traceback": [
      "\u001b[1;31m---------------------------------------------------------------------------\u001b[0m",
      "\u001b[1;31mZeroDivisionError\u001b[0m                         Traceback (most recent call last)",
      "Cell \u001b[1;32mIn[52], line 1\u001b[0m\n\u001b[1;32m----> 1\u001b[0m \u001b[38;5;28;01mraise\u001b[39;00m \u001b[38;5;167;01mZeroDivisionError\u001b[39;00m (\u001b[38;5;124m'\u001b[39m\u001b[38;5;124m0으로 나누려고 하였습니다\u001b[39m\u001b[38;5;124m'\u001b[39m)\n",
      "\u001b[1;31mZeroDivisionError\u001b[0m: 0으로 나누려고 하였습니다"
     ]
    }
   ],
   "source": [
    "raise ZeroDivisionError ('0으로 나누려고 하였습니다')"
   ]
  },
  {
   "cell_type": "code",
   "execution_count": 54,
   "id": "0273b597",
   "metadata": {},
   "outputs": [],
   "source": [
    "# 사용자 정의 예외 : Exception클래스로부터 상속받아 구현\n",
    "class LengthZeroError(Exception):\n",
    "    '길이가 0일 때 발생하는 예외'\n",
    "    def __init__(self, message):\n",
    "        super().__init__(message)"
   ]
  },
  {
   "cell_type": "code",
   "execution_count": 58,
   "id": "c94efe4f",
   "metadata": {},
   "outputs": [],
   "source": [
    "def insert(*data): # 튜플 매개변수\n",
    "    print('data =', data)\n",
    "    if len(data)==0:\n",
    "        raise LengthZeroError('매개변수의 개수가 0이면 예외입니다(사용자 정의 예외)')\n",
    "    for item in data:\n",
    "        print(item, end=' ')\n",
    "    print('등을 입력하였습니다')"
   ]
  },
  {
   "cell_type": "code",
   "execution_count": 60,
   "id": "ce8fbe6f",
   "metadata": {},
   "outputs": [
    {
     "name": "stdout",
     "output_type": "stream",
     "text": [
      "data = (1, 2, 3)\n",
      "1 2 3 등을 입력하였습니다\n"
     ]
    }
   ],
   "source": [
    "insert(1, 2, 3)"
   ]
  },
  {
   "cell_type": "code",
   "execution_count": 62,
   "id": "7aa95854",
   "metadata": {},
   "outputs": [
    {
     "name": "stdout",
     "output_type": "stream",
     "text": [
      "data = ()\n"
     ]
    },
    {
     "ename": "LengthZeroError",
     "evalue": "매개변수의 개수가 0이면 예외입니다(사용자 정의 예외)",
     "output_type": "error",
     "traceback": [
      "\u001b[1;31m---------------------------------------------------------------------------\u001b[0m",
      "\u001b[1;31mLengthZeroError\u001b[0m                           Traceback (most recent call last)",
      "Cell \u001b[1;32mIn[62], line 2\u001b[0m\n\u001b[0;32m      1\u001b[0m data \u001b[38;5;241m=\u001b[39m ()\n\u001b[1;32m----> 2\u001b[0m \u001b[43minsert\u001b[49m\u001b[43m(\u001b[49m\u001b[38;5;241;43m*\u001b[39;49m\u001b[43mdata\u001b[49m\u001b[43m)\u001b[49m\n",
      "Cell \u001b[1;32mIn[58], line 4\u001b[0m, in \u001b[0;36minsert\u001b[1;34m(*data)\u001b[0m\n\u001b[0;32m      2\u001b[0m \u001b[38;5;28mprint\u001b[39m(\u001b[38;5;124m'\u001b[39m\u001b[38;5;124mdata =\u001b[39m\u001b[38;5;124m'\u001b[39m, data)\n\u001b[0;32m      3\u001b[0m \u001b[38;5;28;01mif\u001b[39;00m \u001b[38;5;28mlen\u001b[39m(data)\u001b[38;5;241m==\u001b[39m\u001b[38;5;241m0\u001b[39m:\n\u001b[1;32m----> 4\u001b[0m     \u001b[38;5;28;01mraise\u001b[39;00m LengthZeroError(\u001b[38;5;124m'\u001b[39m\u001b[38;5;124m매개변수의 개수가 0이면 예외입니다(사용자 정의 예외)\u001b[39m\u001b[38;5;124m'\u001b[39m)\n\u001b[0;32m      5\u001b[0m \u001b[38;5;28;01mfor\u001b[39;00m item \u001b[38;5;129;01min\u001b[39;00m data:\n\u001b[0;32m      6\u001b[0m     \u001b[38;5;28mprint\u001b[39m(item, end\u001b[38;5;241m=\u001b[39m\u001b[38;5;124m'\u001b[39m\u001b[38;5;124m \u001b[39m\u001b[38;5;124m'\u001b[39m)\n",
      "\u001b[1;31mLengthZeroError\u001b[0m: 매개변수의 개수가 0이면 예외입니다(사용자 정의 예외)"
     ]
    }
   ],
   "source": [
    "data = ()\n",
    "insert(*data)"
   ]
  },
  {
   "cell_type": "code",
   "execution_count": 63,
   "id": "3cc1845c",
   "metadata": {},
   "outputs": [
    {
     "name": "stdout",
     "output_type": "stream",
     "text": [
      "data = ()\n",
      "매개변수의 개수가 0이면 예외입니다(사용자 정의 예외)\n",
      "예외 발생 여부와 관계 없이 무조건 실행\n"
     ]
    }
   ],
   "source": [
    "data = ()\n",
    "try:\n",
    "    insert(*data)\n",
    "except Exception as e:\n",
    "    print(e)\n",
    "else:\n",
    "    print('예외가 발생 안 할 때만 실행')\n",
    "finally:\n",
    "    print('예외 발생 여부와 관계 없이 무조건 실행')"
   ]
  },
  {
   "cell_type": "markdown",
   "id": "4fbf9093",
   "metadata": {},
   "source": [
    "# 4. 추상 클래스\n",
    "- 추상 클래스 : 추상 메소드가 1개 이상 포함된 클래스\n",
    "- 추상 메소드 : 호출할 수 없는 메소드. 상속받은 클래스에서 재정의를 강요\n",
    "- Python에서 추상 메소드 @abstractmethod 혹은 raise를 사용"
   ]
  },
  {
   "cell_type": "code",
   "execution_count": 82,
   "id": "ae45df02",
   "metadata": {},
   "outputs": [],
   "source": [
    "class Shape:\n",
    "    def __init__(self):\n",
    "        print('생성자')\n",
    "        raise NotImplementedError('추상 클래스 역할')\n",
    "    def calc_area(self):\n",
    "        raise NotImplementedError('추상 메소드 역할')"
   ]
  },
  {
   "cell_type": "code",
   "execution_count": 86,
   "id": "696611ac",
   "metadata": {},
   "outputs": [],
   "source": [
    "from abc import ABC, abstractmethod\n",
    "class Shape(ABC):\n",
    "    @abstractmethod\n",
    "    def __init__(self):\n",
    "        pass\n",
    "    @abstractmethod\n",
    "    def calc_area(self):\n",
    "        pass"
   ]
  },
  {
   "cell_type": "code",
   "execution_count": 83,
   "id": "216c1518",
   "metadata": {},
   "outputs": [],
   "source": [
    "import numpy as np\n",
    "class Circle(Shape):\n",
    "    def __init__(self, radius=3):\n",
    "        self.radius = radius\n",
    "    def calc_area(self):\n",
    "        '원의 넓이를 return'\n",
    "        return np.pi * (self.radius**2)"
   ]
  },
  {
   "cell_type": "code",
   "execution_count": 84,
   "id": "bff696fa",
   "metadata": {},
   "outputs": [
    {
     "data": {
      "text/plain": [
       "78.53981633974483"
      ]
     },
     "execution_count": 84,
     "metadata": {},
     "output_type": "execute_result"
    }
   ],
   "source": [
    "myCircle = Circle(5)\n",
    "myCircle.calc_area()"
   ]
  },
  {
   "cell_type": "markdown",
   "id": "03ca8bd6",
   "metadata": {},
   "source": [
    "# 5. 파일 정리 작업(with절 사용)"
   ]
  },
  {
   "cell_type": "code",
   "execution_count": 91,
   "id": "23ee8f31",
   "metadata": {},
   "outputs": [
    {
     "name": "stdout",
     "output_type": "stream",
     "text": [
      "['Hello\\n', 'Python\\n', '주피터 노트북의 txt파일 저장은 기본이 utf-8로 저장\\n', '김설믜']\n"
     ]
    }
   ],
   "source": [
    "try:\n",
    "    f = open('data/ch08.txt', 'r', encoding = 'utf-8')\n",
    "    lines = f.readlines() # 한 줄 한 줄 모든 줄을 한꺼번에 list로 읽어오기\n",
    "    print(lines)\n",
    "except FileNotFoundError as e:\n",
    "    print(e)\n",
    "finally:\n",
    "    f.close()"
   ]
  },
  {
   "cell_type": "code",
   "execution_count": 92,
   "id": "c1e6ba1f",
   "metadata": {},
   "outputs": [
    {
     "name": "stdout",
     "output_type": "stream",
     "text": [
      "['Hello\\n', 'Python\\n', '주피터 노트북의 txt파일 저장은 기본이 utf-8로 저장\\n', '김설믜']\n"
     ]
    }
   ],
   "source": [
    "f = open('data/ch08.txt', 'r', encoding = 'utf-8')\n",
    "lines = f.readlines() # 한 줄 한 줄 모든 줄을 한꺼번에 list로 읽어오기\n",
    "print(lines)\n",
    "f.close()"
   ]
  },
  {
   "cell_type": "code",
   "execution_count": 94,
   "id": "34bd30d2",
   "metadata": {},
   "outputs": [
    {
     "name": "stdout",
     "output_type": "stream",
     "text": [
      "['Hello\\n', 'Python\\n', '주피터 노트북의 txt파일 저장은 기본이 utf-8로 저장\\n', '김설믜']\n"
     ]
    }
   ],
   "source": [
    "# with절 이후에는 자동적으로 close() 실행!\n",
    "with open('data/ch08.txt', 'r', encoding = 'utf-8') as f:\n",
    "    lines = f.readlines()\n",
    "print(lines)"
   ]
  },
  {
   "cell_type": "code",
   "execution_count": 95,
   "id": "d2d94c66",
   "metadata": {},
   "outputs": [
    {
     "name": "stdout",
     "output_type": "stream",
     "text": [
      "['Hello\\n', 'Python\\n', '주피터 노트북의 txt파일 저장은 기본이 utf-8로 저장\\n', '김설믜']\n"
     ]
    }
   ],
   "source": [
    "try:\n",
    "    with open('data/ch08.txt', 'r', encoding = 'utf-8') as f:\n",
    "        lines = f.readlines()\n",
    "    print(lines)\n",
    "except (FileNotFoundError, UnicodeDecodeError) as e:\n",
    "    print(e)"
   ]
  },
  {
   "cell_type": "markdown",
   "id": "fd6b0992",
   "metadata": {},
   "source": [
    "# 6. 연습문제\n",
    "## 실습형"
   ]
  },
  {
   "cell_type": "code",
   "execution_count": 1,
   "id": "3e0659ca",
   "metadata": {},
   "outputs": [
    {
     "name": "stdout",
     "output_type": "stream",
     "text": [
      "첫번째 숫자를 입력하세요 :38\n",
      "두번째 숫자를 입력하세요 :19\n",
      "x / y = 2.00\n"
     ]
    }
   ],
   "source": [
    "# 1. \n",
    "while True:\n",
    "    try:\n",
    "        x = float(input('첫번째 숫자를 입력하세요 :'))\n",
    "        y = float(input('두번째 숫자를 입력하세요 :'))\n",
    "        print('x / y = {:.2f}'.format(x / y))\n",
    "        break\n",
    "    except:\n",
    "        print('유효한 숫자가 아닙니다. 다시 시도하세요.')"
   ]
  },
  {
   "cell_type": "code",
   "execution_count": 2,
   "id": "75432ab3",
   "metadata": {},
   "outputs": [
    {
     "name": "stdout",
     "output_type": "stream",
     "text": [
      "첫번째 숫자를 입력하세요 :15\n",
      "두번째 숫자를 입력하세요 :5\n",
      "x / y = 3.00\n"
     ]
    }
   ],
   "source": [
    "# 2.\n",
    "while True:\n",
    "    try:\n",
    "        x = float(input('첫번째 숫자를 입력하세요 :'))\n",
    "        y = float(input('두번째 숫자를 입력하세요 :'))\n",
    "        print('x / y = {:.2f}'.format(x / y))\n",
    "        break\n",
    "    except ZeroDivisionError:\n",
    "        print('0으로 나눌 수 없습니다. 다시 시도하세요.')\n",
    "    except ValueError:\n",
    "        print('유효한 숫자가 아닙니다. 다시 시도하세요.')"
   ]
  },
  {
   "cell_type": "markdown",
   "id": "6f4ebb32",
   "metadata": {},
   "source": [
    "## 문제풀이형"
   ]
  },
  {
   "cell_type": "code",
   "execution_count": 3,
   "id": "7ff85e87",
   "metadata": {},
   "outputs": [],
   "source": [
    "# 1. 3번\n",
    "# 2. 2번\n",
    "# 3. 4번\n",
    "# 4. 3번"
   ]
  }
 ],
 "metadata": {
  "kernelspec": {
   "display_name": "Python 3 (ipykernel)",
   "language": "python",
   "name": "python3"
  },
  "language_info": {
   "codemirror_mode": {
    "name": "ipython",
    "version": 3
   },
   "file_extension": ".py",
   "mimetype": "text/x-python",
   "name": "python",
   "nbconvert_exporter": "python",
   "pygments_lexer": "ipython3",
   "version": "3.10.9"
  },
  "toc": {
   "base_numbering": 1,
   "nav_menu": {},
   "number_sections": false,
   "sideBar": true,
   "skip_h1_title": false,
   "title_cell": "Table of Contents",
   "title_sidebar": "Contents",
   "toc_cell": false,
   "toc_position": {
    "height": "calc(100% - 180px)",
    "left": "10px",
    "top": "150px",
    "width": "280px"
   },
   "toc_section_display": true,
   "toc_window_display": true
  }
 },
 "nbformat": 4,
 "nbformat_minor": 5
}

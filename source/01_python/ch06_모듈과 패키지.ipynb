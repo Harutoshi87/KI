{
 "cells": [
  {
   "cell_type": "code",
   "execution_count": 11,
   "id": "894ace40",
   "metadata": {},
   "outputs": [
    {
     "data": {
      "text/html": [
       "\n",
       "<style>\n",
       "div.container{width:90% !important;}\n",
       "div.cell.code_cell.rendered{width:100%;}\n",
       "div.input_prompt{padding:0px;}\n",
       "div.CodeMirror {font-family:Consolas; font-size:12pt;}\n",
       "div.text_cell_render.rendered_html{font-size:12pt;}\n",
       "div.output {font-size:12pt; font-weight:bold;}\n",
       "div.input {font-family:Consolas; font-size:12pt;}\n",
       "div.prompt {min-width:70px;}\n",
       "div#toc-wrapper{padding-top:120px;}\n",
       "div.text_cell_render ul li{font-size:12pt;padding:5px;}\n",
       "table.dataframe{font-size:12px;}\n",
       "</style>\n"
      ],
      "text/plain": [
       "<IPython.core.display.HTML object>"
      ]
     },
     "metadata": {},
     "output_type": "display_data"
    }
   ],
   "source": [
    "from IPython.display import display, HTML\n",
    "display(HTML(\"\"\"\n",
    "<style>\n",
    "div.container{width:90% !important;}\n",
    "div.cell.code_cell.rendered{width:100%;}\n",
    "div.input_prompt{padding:0px;}\n",
    "div.CodeMirror {font-family:Consolas; font-size:12pt;}\n",
    "div.text_cell_render.rendered_html{font-size:12pt;}\n",
    "div.output {font-size:12pt; font-weight:bold;}\n",
    "div.input {font-family:Consolas; font-size:12pt;}\n",
    "div.prompt {min-width:70px;}\n",
    "div#toc-wrapper{padding-top:120px;}\n",
    "div.text_cell_render ul li{font-size:12pt;padding:5px;}\n",
    "table.dataframe{font-size:12px;}\n",
    "</style>\n",
    "\"\"\"))"
   ]
  },
  {
   "cell_type": "markdown",
   "id": "eb8ef7fd",
   "metadata": {},
   "source": [
    "<b><font size=\"6\" color=\"red\">ch06. 모듈과 패키지</font></b>\n",
    "# 1. 파이썬 표준 모듈 사용\n",
    "- 모듈 : 함수, 변수, 클래스 등을 담고 있는 확장자명이 .py인 파이썬 코드 파일\n",
    "- python.org : 파이썬 표준 모듈 200여개는 파이썬 인터프리터와 함께 install됨(예: sys, re, datetime, time, ...)\n",
    "- miniconda는 python.org보다 조금 더 많은 모듈을 install\n",
    "- anaconda는 1500개 이상의 패키지 install(정확한 개수는 버전마다 상이)"
   ]
  },
  {
   "cell_type": "code",
   "execution_count": 10,
   "id": "e2bffdcb",
   "metadata": {},
   "outputs": [
    {
     "data": {
      "text/plain": [
       "'Thu Sep 25 14:27:00 2025'"
      ]
     },
     "execution_count": 10,
     "metadata": {},
     "output_type": "execute_result"
    }
   ],
   "source": [
    "# 1. import + 모듈명 : 모듈 안의 함수, 클래스, 변수를 모듈명.함수명() 으로 사용\n",
    "import time\n",
    "time.ctime() # 모듈명.함수명"
   ]
  },
  {
   "cell_type": "code",
   "execution_count": 13,
   "id": "3229dc16",
   "metadata": {},
   "outputs": [
    {
     "data": {
      "text/plain": [
       "1758778860.3337061"
      ]
     },
     "execution_count": 13,
     "metadata": {},
     "output_type": "execute_result"
    }
   ],
   "source": [
    "starttime = time.time() # 1970.01.01부터 지금 현재 2025.09.25까지의 초수(유닉스 타임)\n",
    "starttime"
   ]
  },
  {
   "cell_type": "code",
   "execution_count": 14,
   "id": "d762e8d2",
   "metadata": {},
   "outputs": [],
   "source": [
    "del time # time 모듈을 메모리에서 unload"
   ]
  },
  {
   "cell_type": "code",
   "execution_count": 16,
   "id": "60538d77",
   "metadata": {},
   "outputs": [
    {
     "data": {
      "text/plain": [
       "'Thu Sep 25 14:49:43 2025'"
      ]
     },
     "execution_count": 16,
     "metadata": {},
     "output_type": "execute_result"
    }
   ],
   "source": [
    "# 2. from 모듈 이름(A) import 함수/클래스/변수(B) : A 모듈 안의 B만 load\n",
    "#    from 패키지(A) import 모듈(B) : A패키지 안의 B 모듈을 load\n",
    "#    from 패키지(A).모듈명(B) import 함수명(C) : A(패키지) 안의 B모듈 안의 C함수만 load\n",
    "from time import ctime, time\n",
    "ctime()"
   ]
  },
  {
   "cell_type": "code",
   "execution_count": 17,
   "id": "a0a4969e",
   "metadata": {},
   "outputs": [
    {
     "data": {
      "text/plain": [
       "1758779416.0775383"
      ]
     },
     "execution_count": 17,
     "metadata": {},
     "output_type": "execute_result"
    }
   ],
   "source": [
    "time()"
   ]
  },
  {
   "cell_type": "code",
   "execution_count": 18,
   "id": "09feda58",
   "metadata": {},
   "outputs": [],
   "source": [
    "del ctime, time"
   ]
  },
  {
   "cell_type": "code",
   "execution_count": 19,
   "id": "705f019a",
   "metadata": {},
   "outputs": [
    {
     "data": {
      "text/plain": [
       "'Thu Sep 25 14:53:32 2025'"
      ]
     },
     "execution_count": 19,
     "metadata": {},
     "output_type": "execute_result"
    }
   ],
   "source": [
    "# 3. import A as B : A모듈을 B이름으로 메모리 load\n",
    "import time as t\n",
    "t.ctime()"
   ]
  },
  {
   "cell_type": "code",
   "execution_count": 20,
   "id": "1add2ae4",
   "metadata": {},
   "outputs": [
    {
     "data": {
      "text/plain": [
       "1758779617.3510847"
      ]
     },
     "execution_count": 20,
     "metadata": {},
     "output_type": "execute_result"
    }
   ],
   "source": [
    "t. time()"
   ]
  },
  {
   "cell_type": "code",
   "execution_count": 21,
   "id": "a008f644",
   "metadata": {},
   "outputs": [],
   "source": [
    "del t"
   ]
  },
  {
   "cell_type": "code",
   "execution_count": 22,
   "id": "a9ef1487",
   "metadata": {},
   "outputs": [
    {
     "data": {
      "text/plain": [
       "'Thu Sep 25 15:01:57 2025'"
      ]
     },
     "execution_count": 22,
     "metadata": {},
     "output_type": "execute_result"
    }
   ],
   "source": [
    "# 4. from A import B as C\t- A패키지 안의 B모듈을 C 이름(별칭)으로 가져옴\n",
    "#    from A.B import C as D\t- A패키지 안의 B모듈 안의 C함수를 D이름(별칭)으로 가져옴\n",
    "#    from B import C as D   - B모듈 안의 C함수를 D이름(별칭)으로 가져옴\n",
    "from time import ctime as ct, time as ti\n",
    "ct()"
   ]
  },
  {
   "cell_type": "code",
   "execution_count": 23,
   "id": "1015fa44",
   "metadata": {},
   "outputs": [],
   "source": [
    "import time "
   ]
  },
  {
   "cell_type": "code",
   "execution_count": 25,
   "id": "b48cc937",
   "metadata": {},
   "outputs": [
    {
     "name": "stdout",
     "output_type": "stream",
     "text": [
      "['_STRUCT_TM_ITEMS', '__doc__', '__loader__', '__name__', '__package__', '__spec__', 'altzone', 'asctime', 'ctime', 'daylight', 'get_clock_info', 'gmtime', 'localtime', 'mktime', 'monotonic', 'monotonic_ns', 'perf_counter', 'perf_counter_ns', 'process_time', 'process_time_ns', 'sleep', 'strftime', 'strptime', 'struct_time', 'thread_time', 'thread_time_ns', 'time', 'time_ns', 'timezone', 'tzname']\n"
     ]
    }
   ],
   "source": [
    "print(dir(time)) # time 내의 함수, 변수, 클래스 등이 list로 출력"
   ]
  },
  {
   "cell_type": "markdown",
   "id": "5aee76a0",
   "metadata": {},
   "source": [
    "# 2. 사용자 정의 모듈\n",
    "- 함수나 클래스 등을 파이썬 파일에 저장하여 모듈을 만들고 재사용할 수 있음\n",
    "- 모듈을 가져오는 순서: (1)표준모듈 (2)sys.path변수에 저장된 경로 "
   ]
  },
  {
   "cell_type": "code",
   "execution_count": 31,
   "id": "61a8a60e",
   "metadata": {},
   "outputs": [
    {
     "data": {
      "text/plain": [
       "'C:\\\\KI\\\\source\\\\pyBib'"
      ]
     },
     "execution_count": 31,
     "metadata": {},
     "output_type": "execute_result"
    }
   ],
   "source": [
    "import sys\n",
    "sys.path.append(r'C:\\KI\\source\\pyBib')\n",
    "sys.path.pop()"
   ]
  },
  {
   "cell_type": "code",
   "execution_count": 33,
   "id": "a475e79f",
   "metadata": {},
   "outputs": [
    {
     "data": {
      "text/plain": [
       "'C:\\\\KI\\\\source\\\\pyBib'"
      ]
     },
     "execution_count": 33,
     "metadata": {},
     "output_type": "execute_result"
    }
   ],
   "source": [
    "sys.path.pop()"
   ]
  },
  {
   "cell_type": "code",
   "execution_count": 34,
   "id": "97a46f15",
   "metadata": {},
   "outputs": [
    {
     "data": {
      "text/plain": [
       "['C:\\\\KI\\\\source\\\\01_python',\n",
       " 'C:\\\\Users\\\\Admin\\\\anaconda3\\\\python310.zip',\n",
       " 'C:\\\\Users\\\\Admin\\\\anaconda3\\\\DLLs',\n",
       " 'C:\\\\Users\\\\Admin\\\\anaconda3\\\\lib',\n",
       " 'C:\\\\Users\\\\Admin\\\\anaconda3',\n",
       " '',\n",
       " 'C:\\\\Users\\\\Admin\\\\anaconda3\\\\lib\\\\site-packages',\n",
       " 'C:\\\\Users\\\\Admin\\\\anaconda3\\\\lib\\\\site-packages\\\\win32',\n",
       " 'C:\\\\Users\\\\Admin\\\\anaconda3\\\\lib\\\\site-packages\\\\win32\\\\lib',\n",
       " 'C:\\\\Users\\\\Admin\\\\anaconda3\\\\lib\\\\site-packages\\\\Pythonwin',\n",
       " 'C:\\\\KI\\\\source\\\\pyBib']"
      ]
     },
     "execution_count": 34,
     "metadata": {},
     "output_type": "execute_result"
    }
   ],
   "source": [
    "sys.path"
   ]
  },
  {
   "cell_type": "code",
   "execution_count": 35,
   "id": "2a31f4aa",
   "metadata": {},
   "outputs": [],
   "source": [
    "# 방법1. \n",
    "import fibonacci"
   ]
  },
  {
   "cell_type": "code",
   "execution_count": 36,
   "id": "c24c443e",
   "metadata": {},
   "outputs": [
    {
     "data": {
      "text/plain": [
       "[0, 1, 1, 2, 3, 5, 8]"
      ]
     },
     "execution_count": 36,
     "metadata": {},
     "output_type": "execute_result"
    }
   ],
   "source": [
    "fibonacci.fibonacci(10)"
   ]
  },
  {
   "cell_type": "code",
   "execution_count": 38,
   "id": "00a08ce6",
   "metadata": {},
   "outputs": [
    {
     "name": "stdout",
     "output_type": "stream",
     "text": [
      "0 1 1 2 3 5 8 13 21 34 55 89 \n"
     ]
    }
   ],
   "source": [
    "fibonacci.fibonacci_print(100)"
   ]
  },
  {
   "cell_type": "code",
   "execution_count": 42,
   "id": "c87ef228",
   "metadata": {},
   "outputs": [],
   "source": [
    "# 방법2.\n",
    "from fibonacci import fibonacci_print"
   ]
  },
  {
   "cell_type": "code",
   "execution_count": 43,
   "id": "73cde80d",
   "metadata": {},
   "outputs": [
    {
     "name": "stdout",
     "output_type": "stream",
     "text": [
      "0 1 1 2 3 5 8 13 21 34 55 89 144 233 377 610 987 \n"
     ]
    }
   ],
   "source": [
    "fibonacci_print(1000)"
   ]
  },
  {
   "cell_type": "code",
   "execution_count": 44,
   "id": "3a2e90d5",
   "metadata": {},
   "outputs": [],
   "source": [
    "del fibonacci, fibonacci_print"
   ]
  },
  {
   "cell_type": "code",
   "execution_count": 45,
   "id": "8f5ff438",
   "metadata": {},
   "outputs": [],
   "source": [
    "# 방법3.\n",
    "import fibonacci as fi"
   ]
  },
  {
   "cell_type": "code",
   "execution_count": 48,
   "id": "46eb6f13",
   "metadata": {},
   "outputs": [
    {
     "name": "stdout",
     "output_type": "stream",
     "text": [
      "0 1 1 2 3 5 8 13 21 34 55 89 144 233 377 610 987 1597 \n"
     ]
    }
   ],
   "source": [
    "fi.fibonacci_print(2500)"
   ]
  },
  {
   "cell_type": "code",
   "execution_count": 49,
   "id": "83bc9d1f",
   "metadata": {},
   "outputs": [],
   "source": [
    "# 방법4.\n",
    "from fibonacci import fibonacci as fibo, fibonacci as fibo_p"
   ]
  },
  {
   "cell_type": "code",
   "execution_count": 50,
   "id": "8eddf3b5",
   "metadata": {},
   "outputs": [
    {
     "name": "stdout",
     "output_type": "stream",
     "text": [
      "[0, 1, 1, 2, 3, 5, 8, 13, 21, 34, 55, 89, 144, 233, 377, 610, 987, 1597, 2584, 4181]\n",
      "[0, 1, 1, 2, 3, 5, 8, 13, 21, 34, 55, 89, 144, 233, 377, 610, 987, 1597, 2584, 4181, 6765]\n"
     ]
    }
   ],
   "source": [
    "print(fibo(5000))\n",
    "print(fibo_p(7500))"
   ]
  },
  {
   "cell_type": "markdown",
   "id": "773b6786",
   "metadata": {},
   "source": [
    "# 3. 패키지\n",
    "- 모듈이 들어 있는 폴더(`__init__.py`)\n"
   ]
  },
  {
   "cell_type": "code",
   "execution_count": 51,
   "id": "c39d3186",
   "metadata": {},
   "outputs": [
    {
     "data": {
      "text/plain": [
       "['C:\\\\KI\\\\source\\\\01_python',\n",
       " 'C:\\\\Users\\\\Admin\\\\anaconda3\\\\python310.zip',\n",
       " 'C:\\\\Users\\\\Admin\\\\anaconda3\\\\DLLs',\n",
       " 'C:\\\\Users\\\\Admin\\\\anaconda3\\\\lib',\n",
       " 'C:\\\\Users\\\\Admin\\\\anaconda3',\n",
       " '',\n",
       " 'C:\\\\Users\\\\Admin\\\\anaconda3\\\\lib\\\\site-packages',\n",
       " 'C:\\\\Users\\\\Admin\\\\anaconda3\\\\lib\\\\site-packages\\\\win32',\n",
       " 'C:\\\\Users\\\\Admin\\\\anaconda3\\\\lib\\\\site-packages\\\\win32\\\\lib',\n",
       " 'C:\\\\Users\\\\Admin\\\\anaconda3\\\\lib\\\\site-packages\\\\Pythonwin',\n",
       " 'C:\\\\KI\\\\source\\\\pyBib']"
      ]
     },
     "execution_count": 51,
     "metadata": {},
     "output_type": "execute_result"
    }
   ],
   "source": [
    "import sys\n",
    "sys.path"
   ]
  },
  {
   "cell_type": "code",
   "execution_count": 52,
   "id": "4fe725b8",
   "metadata": {},
   "outputs": [
    {
     "name": "stdout",
     "output_type": "stream",
     "text": [
      "sample_pac 패키지를 로드했어요\n"
     ]
    }
   ],
   "source": [
    "# 상위 패키지를 import해도 하위 패키지가 import되지 않음\n",
    "import sample_pac"
   ]
  },
  {
   "cell_type": "code",
   "execution_count": 53,
   "id": "2a58fdbd",
   "metadata": {},
   "outputs": [
    {
     "name": "stdout",
     "output_type": "stream",
     "text": [
      "sample_pac 안의 test()입니다\n"
     ]
    }
   ],
   "source": [
    "sample_pac.test()"
   ]
  },
  {
   "cell_type": "code",
   "execution_count": 54,
   "id": "1359445d",
   "metadata": {},
   "outputs": [
    {
     "name": "stdout",
     "output_type": "stream",
     "text": [
      "sample_pac.ab 패키지 로드\n"
     ]
    }
   ],
   "source": [
    "import sample_pac.ab # ab/__init__.py"
   ]
  },
  {
   "cell_type": "code",
   "execution_count": 55,
   "id": "63cb2b1c",
   "metadata": {},
   "outputs": [
    {
     "name": "stdout",
     "output_type": "stream",
     "text": [
      "sample_pac.ab.a모듈의 hello\n"
     ]
    }
   ],
   "source": [
    "from sample_pac.ab import * # __init__.py의 __all__ 속성만 load\n",
    "a.hello()"
   ]
  },
  {
   "cell_type": "code",
   "execution_count": 57,
   "id": "118be09b",
   "metadata": {},
   "outputs": [
    {
     "name": "stdout",
     "output_type": "stream",
     "text": [
      "sample_pac.ab.b모듈의 world\n"
     ]
    }
   ],
   "source": [
    "from sample_pac.ab.b import world\n",
    "world()"
   ]
  },
  {
   "cell_type": "code",
   "execution_count": 59,
   "id": "ec0397d4",
   "metadata": {},
   "outputs": [
    {
     "name": "stdout",
     "output_type": "stream",
     "text": [
      "sample_pac/cd/패키지 안의 c모듈 안의 nice\n",
      "sample_pac.ab.a모듈의 hello\n"
     ]
    }
   ],
   "source": [
    "from sample_pac.cd.c import nice\n",
    "nice()"
   ]
  },
  {
   "cell_type": "code",
   "execution_count": 63,
   "id": "242fef68",
   "metadata": {},
   "outputs": [
    {
     "name": "stdout",
     "output_type": "stream",
     "text": [
      "sample_pac.ab.a모듈의 hello\n"
     ]
    }
   ],
   "source": [
    "from sample_pac.cd import c\n",
    "c.a.hello()"
   ]
  },
  {
   "cell_type": "markdown",
   "id": "87034a57",
   "metadata": {},
   "source": [
    "# 4. 패키지 설치 및 삭제\n",
    "- 패키지 설치 : 아나콘다 프롬프트에서 pip install 패키지명[==버전] / conda install 패키지명[==버전]\n",
    "- 패키지 확인 : pip show 패키지명                              / conda list 패키지명\n",
    "- 패키지 삭제 : pip uninstall 패키지명                         / conda remove 패키지명"
   ]
  },
  {
   "cell_type": "code",
   "execution_count": 4,
   "id": "2809a330",
   "metadata": {},
   "outputs": [],
   "source": [
    "import objgraph # 메모리 사용량 출력하는 함수"
   ]
  },
  {
   "cell_type": "code",
   "execution_count": 5,
   "id": "aa5d8628",
   "metadata": {},
   "outputs": [
    {
     "name": "stdout",
     "output_type": "stream",
     "text": [
      "dict                       20783\n",
      "function                   18531\n",
      "Token                      16774\n",
      "list                       13412\n",
      "tuple                      12450\n",
      "ReferenceType              5455\n",
      "builtin_function_or_method 3275\n",
      "cell                       2561\n",
      "type                       2537\n",
      "Name                       2504\n"
     ]
    }
   ],
   "source": [
    "objgraph.show_most_common_types()"
   ]
  },
  {
   "cell_type": "markdown",
   "id": "8ce66512",
   "metadata": {},
   "source": [
    "# 5. 연습문제"
   ]
  },
  {
   "cell_type": "code",
   "execution_count": 6,
   "id": "ef84f820",
   "metadata": {},
   "outputs": [],
   "source": [
    "# 1. 답 3번 : 파이썬의 표준 라이브러리는 import를 해야만 사용할 수 있다"
   ]
  },
  {
   "cell_type": "code",
   "execution_count": 7,
   "id": "e636c8fe",
   "metadata": {},
   "outputs": [],
   "source": [
    "# 2. 답 4번 : from time import ctime as ct \n",
    "# ctime() >> ct()"
   ]
  },
  {
   "cell_type": "code",
   "execution_count": 8,
   "id": "f58c1a4c",
   "metadata": {},
   "outputs": [],
   "source": [
    "# 3. __init__.py 파일 필요"
   ]
  },
  {
   "cell_type": "code",
   "execution_count": 9,
   "id": "4d72c115",
   "metadata": {},
   "outputs": [],
   "source": [
    "# 4. __all__ = ['']"
   ]
  },
  {
   "cell_type": "code",
   "execution_count": 10,
   "id": "40c944fe",
   "metadata": {},
   "outputs": [],
   "source": [
    "# 5. 답 1번 : pip를 최신버전으로 upgrade 할 때 쓰는 명령어"
   ]
  }
 ],
 "metadata": {
  "kernelspec": {
   "display_name": "Python 3 (ipykernel)",
   "language": "python",
   "name": "python3"
  },
  "language_info": {
   "codemirror_mode": {
    "name": "ipython",
    "version": 3
   },
   "file_extension": ".py",
   "mimetype": "text/x-python",
   "name": "python",
   "nbconvert_exporter": "python",
   "pygments_lexer": "ipython3",
   "version": "3.10.9"
  },
  "toc": {
   "base_numbering": 1,
   "nav_menu": {},
   "number_sections": false,
   "sideBar": true,
   "skip_h1_title": false,
   "title_cell": "Table of Contents",
   "title_sidebar": "Contents",
   "toc_cell": false,
   "toc_position": {
    "height": "calc(100% - 180px)",
    "left": "10px",
    "top": "150px",
    "width": "279px"
   },
   "toc_section_display": true,
   "toc_window_display": true
  }
 },
 "nbformat": 4,
 "nbformat_minor": 5
}

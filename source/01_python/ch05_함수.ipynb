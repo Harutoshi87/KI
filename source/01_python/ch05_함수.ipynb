{
 "cells": [
  {
   "cell_type": "code",
   "execution_count": 1,
   "id": "95201de5",
   "metadata": {},
   "outputs": [
    {
     "data": {
      "text/html": [
       "\n",
       "<style>\n",
       "div.container{width:90% !important;}\n",
       "div.cell.code_cell.rendered{width:100%;}\n",
       "div.input_prompt{padding:0px;}\n",
       "div.CodeMirror {font-family:Consolas; font-size:12pt;}\n",
       "div.text_cell_render.rendered_html{font-size:12pt;}\n",
       "div.output {font-size:12pt; font-weight:bold;}\n",
       "div.input {font-family:Consolas; font-size:12pt;}\n",
       "div.prompt {min-width:70px;}\n",
       "div#toc-wrapper{padding-top:120px;}\n",
       "div.text_cell_render ul li{font-size:12pt;padding:5px;}\n",
       "table.dataframe{font-size:12px;}\n",
       "</style>\n"
      ],
      "text/plain": [
       "<IPython.core.display.HTML object>"
      ]
     },
     "metadata": {},
     "output_type": "display_data"
    }
   ],
   "source": [
    "from IPython.display import display, HTML\n",
    "display(HTML(\"\"\"\n",
    "<style>\n",
    "div.container{width:90% !important;}\n",
    "div.cell.code_cell.rendered{width:100%;}\n",
    "div.input_prompt{padding:0px;}\n",
    "div.CodeMirror {font-family:Consolas; font-size:12pt;}\n",
    "div.text_cell_render.rendered_html{font-size:12pt;}\n",
    "div.output {font-size:12pt; font-weight:bold;}\n",
    "div.input {font-family:Consolas; font-size:12pt;}\n",
    "div.prompt {min-width:70px;}\n",
    "div#toc-wrapper{padding-top:120px;}\n",
    "div.text_cell_render ul li{font-size:12pt;padding:5px;}\n",
    "table.dataframe{font-size:12px;}\n",
    "</style>\n",
    "\"\"\"))"
   ]
  },
  {
   "cell_type": "markdown",
   "id": "0246c223",
   "metadata": {},
   "source": [
    "<b><font size=\"6\" color=\"red\">ch05. 함수</font></b>\n",
    "- 반복해서 사용할 코드를 묶어 놓고 그것에 이름을 붙인 것\n",
    "- 같은 이름의 함수는 없음(overloading 불가)\n",
    "- 함수 정의\n",
    "```\n",
    "def 함수명([매개변수1, 매개변수2, ...]): # []는 생략 가능하다는 표시임\n",
    "    명령어1\n",
    "    명령어2\n",
    "```\n",
    "# 1. 함수의 정의 및 사용\n",
    "## 1.1.함수 정의"
   ]
  },
  {
   "cell_type": "code",
   "execution_count": 2,
   "id": "0ac9c427",
   "metadata": {},
   "outputs": [],
   "source": [
    "def my_message(x, msg): # msg를 x번 출력하는 함수 정의\n",
    "    for i in range(x):\n",
    "        print(i, msg)"
   ]
  },
  {
   "cell_type": "code",
   "execution_count": 3,
   "id": "251a9cb3",
   "metadata": {},
   "outputs": [
    {
     "name": "stdout",
     "output_type": "stream",
     "text": [
      "0 Hello\n",
      "1 Hello\n",
      "2 Hello\n"
     ]
    }
   ],
   "source": [
    "# 함수 사용 == 함수 호출\n",
    "my_message(3, 'Hello')"
   ]
  },
  {
   "cell_type": "code",
   "execution_count": 4,
   "id": "935f5b6d",
   "metadata": {},
   "outputs": [
    {
     "name": "stdout",
     "output_type": "stream",
     "text": [
      "0 Hello\n",
      "1 Hello\n",
      "0 Python\n",
      "1 Python\n",
      "2 Python\n"
     ]
    }
   ],
   "source": [
    "# 함수 이름 변경\n",
    "my_msg = my_message\n",
    "my_message(2, 'Hello')\n",
    "my_msg (3, 'Python')"
   ]
  },
  {
   "cell_type": "code",
   "execution_count": 5,
   "id": "74268d33",
   "metadata": {},
   "outputs": [
    {
     "data": {
      "text/plain": [
       "(function, function)"
      ]
     },
     "execution_count": 5,
     "metadata": {},
     "output_type": "execute_result"
    }
   ],
   "source": [
    "type(my_msg), type(my_message)"
   ]
  },
  {
   "cell_type": "code",
   "execution_count": 8,
   "id": "11386902",
   "metadata": {},
   "outputs": [
    {
     "name": "stdout",
     "output_type": "stream",
     "text": [
      "Hello\n",
      "Hello\n"
     ]
    }
   ],
   "source": [
    "print('Hello') # 파이썬 내장 함수(import하지 않고 사용할 수 있는 함수)\n",
    "print = 5\n",
    "# print('Hello')\n",
    "del print\n",
    "print('Hello')"
   ]
  },
  {
   "cell_type": "code",
   "execution_count": 9,
   "id": "d390f4c2",
   "metadata": {},
   "outputs": [
    {
     "name": "stdout",
     "output_type": "stream",
     "text": [
      "0 Hello\n",
      "1 Hello\n"
     ]
    }
   ],
   "source": [
    "my_message(2, 'Hello')"
   ]
  },
  {
   "cell_type": "code",
   "execution_count": 10,
   "id": "43cbbb4a",
   "metadata": {},
   "outputs": [
    {
     "name": "stdout",
     "output_type": "stream",
     "text": [
      "0 Hello\n",
      "1 Hello\n"
     ]
    }
   ],
   "source": [
    "my_message = 5\n",
    "my_msg(2, 'Hello')"
   ]
  },
  {
   "cell_type": "code",
   "execution_count": 11,
   "id": "bdce00a5",
   "metadata": {
    "collapsed": true
   },
   "outputs": [
    {
     "ename": "TypeError",
     "evalue": "'int' object is not callable",
     "output_type": "error",
     "traceback": [
      "\u001b[1;31m---------------------------------------------------------------------------\u001b[0m",
      "\u001b[1;31mTypeError\u001b[0m                                 Traceback (most recent call last)",
      "Cell \u001b[1;32mIn[11], line 1\u001b[0m\n\u001b[1;32m----> 1\u001b[0m \u001b[43mmy_message\u001b[49m\u001b[43m(\u001b[49m\u001b[38;5;241;43m2\u001b[39;49m\u001b[43m,\u001b[49m\u001b[43m \u001b[49m\u001b[38;5;124;43m'\u001b[39;49m\u001b[38;5;124;43mHello\u001b[39;49m\u001b[38;5;124;43m'\u001b[39;49m\u001b[43m)\u001b[49m\n",
      "\u001b[1;31mTypeError\u001b[0m: 'int' object is not callable"
     ]
    }
   ],
   "source": [
    "my_message(2, 'Hello')"
   ]
  },
  {
   "cell_type": "code",
   "execution_count": 12,
   "id": "0802c7ab",
   "metadata": {},
   "outputs": [],
   "source": [
    "del my_message # 사용자 정의 함수, 라이브러리 함수는 del(변수 및 함수 제거)하면 사용 불가"
   ]
  },
  {
   "cell_type": "code",
   "execution_count": 14,
   "id": "aba06922",
   "metadata": {},
   "outputs": [],
   "source": [
    "# 함수의 overloading 불가 (함수의 중복 정의 불가!)\n",
    "def my_hello():\n",
    "    print('Hello Python')\n",
    "    print('Hello World')\n",
    "def my_hello(cnt): # cnt번 출력\n",
    "    for i in range(cnt):\n",
    "        print('Hello Python', end='\\t')\n",
    "        print('Hello World')"
   ]
  },
  {
   "cell_type": "code",
   "execution_count": 16,
   "id": "cdeca402",
   "metadata": {},
   "outputs": [
    {
     "name": "stdout",
     "output_type": "stream",
     "text": [
      "Hello Python\tHello World\n",
      "Hello Python\tHello World\n"
     ]
    }
   ],
   "source": [
    "my_hello(2)"
   ]
  },
  {
   "cell_type": "code",
   "execution_count": 17,
   "id": "1785da3b",
   "metadata": {},
   "outputs": [
    {
     "data": {
      "text/plain": [
       "<function __main__.my_hello(cnt)>"
      ]
     },
     "execution_count": 17,
     "metadata": {},
     "output_type": "execute_result"
    }
   ],
   "source": [
    "my_hello"
   ]
  },
  {
   "cell_type": "code",
   "execution_count": 18,
   "id": "0bdf1d07",
   "metadata": {},
   "outputs": [
    {
     "data": {
      "text/plain": [
       "'__main__'"
      ]
     },
     "execution_count": 18,
     "metadata": {},
     "output_type": "execute_result"
    }
   ],
   "source": [
    "__name__"
   ]
  },
  {
   "cell_type": "code",
   "execution_count": 19,
   "id": "279f4663",
   "metadata": {},
   "outputs": [
    {
     "name": "stdout",
     "output_type": "stream",
     "text": [
      "Hello Python\tHello World\n",
      "Hello Python\tHello World\n"
     ]
    }
   ],
   "source": [
    "if __name__ == '__main__':\n",
    "    my_hello(2)"
   ]
  },
  {
   "cell_type": "code",
   "execution_count": 20,
   "id": "28e48134",
   "metadata": {},
   "outputs": [],
   "source": [
    "import ch05"
   ]
  },
  {
   "cell_type": "code",
   "execution_count": 25,
   "id": "8bc9407e",
   "metadata": {},
   "outputs": [
    {
     "name": "stdout",
     "output_type": "stream",
     "text": [
      "ch05\n",
      "Hello, Python\tHello, World\n",
      "Hello, Python\tHello, World\n",
      "Hello, Python\tHello, World\n"
     ]
    }
   ],
   "source": [
    "ch05.my_hello(3)"
   ]
  },
  {
   "cell_type": "code",
   "execution_count": 27,
   "id": "de3576b5",
   "metadata": {},
   "outputs": [],
   "source": [
    "from ch05 import my_hello # ch05 모듈 안의 my_hello만 메모리 로드"
   ]
  },
  {
   "cell_type": "code",
   "execution_count": 28,
   "id": "77897e5f",
   "metadata": {},
   "outputs": [
    {
     "data": {
      "text/plain": [
       "<function ch05.my_hello(cnt)>"
      ]
     },
     "execution_count": 28,
     "metadata": {},
     "output_type": "execute_result"
    }
   ],
   "source": [
    "my_hello"
   ]
  },
  {
   "cell_type": "markdown",
   "id": "09c4dfe1",
   "metadata": {},
   "source": [
    "## 1.2.docstring"
   ]
  },
  {
   "cell_type": "code",
   "execution_count": 32,
   "id": "74f4822a",
   "metadata": {},
   "outputs": [],
   "source": [
    "def my_function():\n",
    "    '''\n",
    "    함수의 첫 라인에 독스트링을 포함할 수 있음\n",
    "    독스트링은 함수의 설명서를 달아주는 역할\n",
    "    주석보다 많은 기능(함수 호출 시 shift+tab으로 독스트링을 볼 수 있음)\n",
    "    '''\n",
    "    pass"
   ]
  },
  {
   "cell_type": "code",
   "execution_count": 33,
   "id": "1f0025ea",
   "metadata": {},
   "outputs": [
    {
     "name": "stdout",
     "output_type": "stream",
     "text": [
      "\n",
      "    함수의 첫 라인에 독스트링을 포함할 수 있음\n",
      "    독스트링은 함수의 설명서를 달아주는 역할\n",
      "    주석보다 많은 기능(함수 호출 시 shift+tab으로 독스트링을 볼 수 있음)\n",
      "    \n"
     ]
    }
   ],
   "source": [
    "print(my_function.__doc__)"
   ]
  },
  {
   "cell_type": "code",
   "execution_count": 34,
   "id": "eb9117ea",
   "metadata": {},
   "outputs": [],
   "source": [
    "def fibonacci(n):\n",
    "    '''\n",
    "    매개변수로 들어온 n값 미만의 피보나치 수열을 출력하는 함수\n",
    "    ex. n=10 : 0 1 1 2 3 5 8\n",
    "        n=100 : 0 1 1 2 3 5 8 13 21 34 55 89\n",
    "    '''\n",
    "    a, b = 0, 1 # 함수 내에 선언한 변수 : 지역변수 (반댓말 : 전역변수); 지역변수는 함수 안에서만 사용 가능\n",
    "    while a < n:\n",
    "        print(a, end=' ')\n",
    "        a, b = b, a+b\n",
    "    print() # 개행"
   ]
  },
  {
   "cell_type": "code",
   "execution_count": 45,
   "id": "ad4f290c",
   "metadata": {},
   "outputs": [
    {
     "name": "stdout",
     "output_type": "stream",
     "text": [
      "0 1 1 2 3 5 8 13 21 34 55 89 144 233 377 610 987 1597 2584 4181 6765 \n"
     ]
    }
   ],
   "source": [
    "fibonacci(10000)"
   ]
  },
  {
   "cell_type": "markdown",
   "id": "4f3b2e6e",
   "metadata": {},
   "source": [
    "## 1.3.지역변수(local variable)와 전역변수(global variable)"
   ]
  },
  {
   "cell_type": "code",
   "execution_count": 50,
   "id": "222ee57e",
   "metadata": {},
   "outputs": [
    {
     "name": "stdout",
     "output_type": "stream",
     "text": [
      "함수 안 : 100\n",
      "함수 밖 : 100\n"
     ]
    }
   ],
   "source": [
    "global_var = 100\n",
    "def func1():\n",
    "    print('함수 안 :', global_var)\n",
    "func1()\n",
    "print('함수 밖 :', global_var)"
   ]
  },
  {
   "cell_type": "code",
   "execution_count": 53,
   "id": "4ce4d714",
   "metadata": {},
   "outputs": [
    {
     "name": "stdout",
     "output_type": "stream",
     "text": [
      "함수 안 : 200\n"
     ]
    }
   ],
   "source": [
    "def func2():\n",
    "    local_var = 200 # 지역변수(함수 내에서 할당)\n",
    "    print('함수 안 :', local_var )\n",
    "func2()"
   ]
  },
  {
   "cell_type": "code",
   "execution_count": 54,
   "id": "d7dc3629",
   "metadata": {},
   "outputs": [],
   "source": [
    "#print('함수 밖에서 지역변수 :', local_var) #에러 발생"
   ]
  },
  {
   "cell_type": "code",
   "execution_count": 57,
   "id": "c665484e",
   "metadata": {},
   "outputs": [
    {
     "name": "stdout",
     "output_type": "stream",
     "text": [
      "지역변수 g_var : 200\n",
      "전역변수 g_var : 100\n"
     ]
    }
   ],
   "source": [
    "g_var = 100 #전역변수\n",
    "def func3():\n",
    "    g_var = 200 # 지역변수(함수 내에서 할당)\n",
    "    print('지역변수 g_var :', g_var)\n",
    "func3()\n",
    "print('전역변수 g_var :', g_var)"
   ]
  },
  {
   "cell_type": "code",
   "execution_count": 58,
   "id": "8dd2696d",
   "metadata": {},
   "outputs": [],
   "source": [
    "# lexical 특성 : 변수가 어디서 선언되었는지 그 위치에 따라 변수의 범위(local vs global)가 정해짐\n",
    "# g_var = 100 #전역변수\n",
    "# def func3():\n",
    "#     print('지역변수 g_var :', g_var)\n",
    "#     g_var = 200 # 지역변수(함수 내에서 할당) \n",
    "# func3()\n",
    "# print('전역변수 g_var :', g_var)\n",
    "#에러 발생함"
   ]
  },
  {
   "cell_type": "code",
   "execution_count": 59,
   "id": "1425ce17",
   "metadata": {},
   "outputs": [
    {
     "name": "stdout",
     "output_type": "stream",
     "text": [
      "전역변수 g_var : 100\n",
      "전역변수 g_var : 200\n"
     ]
    }
   ],
   "source": [
    "# lexical 특성\n",
    "g_var = 100 #전역변수\n",
    "def func3():\n",
    "    global g_var # '함수 안에서 g_var는 전역변수를 쓰겠다'\n",
    "    print('전역변수 g_var :', g_var)\n",
    "    g_var = 200 # 전역변수 g_var에 200 할당\n",
    "func3()\n",
    "print('전역변수 g_var :', g_var)"
   ]
  },
  {
   "cell_type": "markdown",
   "id": "d6b56ab7",
   "metadata": {},
   "source": [
    "## 1.4.값에 의한 호출\n",
    "- 함수에 인수로 전달되는 변수가 스칼라 변수(문자, 숫자, 논리형)일 때"
   ]
  },
  {
   "cell_type": "code",
   "execution_count": 60,
   "id": "8eedb80f",
   "metadata": {},
   "outputs": [
    {
     "data": {
      "text/plain": [
       "2137310521136"
      ]
     },
     "execution_count": 60,
     "metadata": {},
     "output_type": "execute_result"
    }
   ],
   "source": [
    "foo = 'a' #전역변수\n",
    "id(foo)"
   ]
  },
  {
   "cell_type": "code",
   "execution_count": 64,
   "id": "b9494c28",
   "metadata": {},
   "outputs": [
    {
     "name": "stdout",
     "output_type": "stream",
     "text": [
      "Before : a 의 주소는  2137310521136\n",
      "After : aaa 의 주소는  2137382322864\n"
     ]
    }
   ],
   "source": [
    "def func1(f): #매개변수는 지역변수\n",
    "    print('Before :', f, '의 주소는 ', id(f))\n",
    "    f = f*3\n",
    "    print('After :', f, '의 주소는 ', id(f))\n",
    "func1(foo)"
   ]
  },
  {
   "cell_type": "code",
   "execution_count": 62,
   "id": "b732e520",
   "metadata": {},
   "outputs": [
    {
     "name": "stdout",
     "output_type": "stream",
     "text": [
      "foo = a 의 주소는 2137310521136\n"
     ]
    }
   ],
   "source": [
    "print('foo =', foo, '의 주소는', id(foo))"
   ]
  },
  {
   "cell_type": "markdown",
   "id": "820c30e9",
   "metadata": {},
   "source": [
    "## 1.5.참조에 의한 호출\n",
    "- 함수에 인수로 전달되는 변수가 리스트, 튜플, 셋, 딕셔너리, 기타 객체(데이터 프레임, 배열 등)일 경우"
   ]
  },
  {
   "cell_type": "code",
   "execution_count": 65,
   "id": "dbc27fb3",
   "metadata": {},
   "outputs": [
    {
     "data": {
      "text/plain": [
       "2137420516480"
      ]
     },
     "execution_count": 65,
     "metadata": {},
     "output_type": "execute_result"
    }
   ],
   "source": [
    "L = [1, 2, 3, 4, 5]\n",
    "id(L)"
   ]
  },
  {
   "cell_type": "code",
   "execution_count": 67,
   "id": "12ebbd7c",
   "metadata": {},
   "outputs": [
    {
     "name": "stdout",
     "output_type": "stream",
     "text": [
      "Before : [1, 2, 3, 4, 5, 6] 의 주소는  2137420516480\n",
      "After : [1, 2, 3, 4, 5, 6, 6] 의 주소는  2137420516480\n"
     ]
    }
   ],
   "source": [
    "def func2(l): # 매개변수는 지역변수\n",
    "    print('Before :', l, '의 주소는 ', id(l))\n",
    "    l.append(6)\n",
    "    print('After :', l, '의 주소는 ', id(l))\n",
    "func2(L)"
   ]
  },
  {
   "cell_type": "code",
   "execution_count": 68,
   "id": "b082ab27",
   "metadata": {},
   "outputs": [
    {
     "name": "stdout",
     "output_type": "stream",
     "text": [
      "L = [1, 2, 3, 4, 5, 6, 6] 의 주소는 2137420516480\n"
     ]
    }
   ],
   "source": [
    "print('L =', L, '의 주소는', id(L)) # 리스트 등을 값에 의한 호출을 하고 원본은 그대로 두고 싶은 경우 복제를 실행"
   ]
  },
  {
   "cell_type": "markdown",
   "id": "d543c1c9",
   "metadata": {},
   "source": [
    "# 2. 함수의 실행 결과를 반환하는 return"
   ]
  },
  {
   "cell_type": "code",
   "execution_count": 69,
   "id": "aada4ee6",
   "metadata": {},
   "outputs": [],
   "source": [
    "def fibonacci_print(n):\n",
    "    '''\n",
    "    매개변수로 들어온 n값 미만의 피보나치 수열을 출력하는 함수\n",
    "    ex. n=10 : 0 1 1 2 3 5 8\n",
    "        n=100 : 0 1 1 2 3 5 8 13 21 34 55 89\n",
    "    '''\n",
    "    a, b = 0, 1 # 함수 내에 선언한 변수 : 지역변수 (반댓말 : 전역변수); 지역변수는 함수 안에서만 사용 가능\n",
    "    while a < n:\n",
    "        print(a, end=' ') # 출력\n",
    "        a, b = b, a+b\n",
    "    print() # 개행\n",
    "    \n",
    "def fibonacci(n):\n",
    "    '''\n",
    "    n미만의 피보나치 수열을 리스트로 return\n",
    "    '''\n",
    "    result = [] # 피보나치 수열을 append할 리스트\n",
    "    a, b = 0, 1\n",
    "    while a < n:\n",
    "        result.append(a) # 리스트에 append\n",
    "        a, b = b, a+b\n",
    "    return result"
   ]
  },
  {
   "cell_type": "code",
   "execution_count": 71,
   "id": "e93af857",
   "metadata": {},
   "outputs": [
    {
     "name": "stdout",
     "output_type": "stream",
     "text": [
      "[0, 1, 1, 2, 3, 5, 8]\n",
      "<class 'list'>\n"
     ]
    }
   ],
   "source": [
    "x = fibonacci(10)\n",
    "print(x)\n",
    "print(type(x))"
   ]
  },
  {
   "cell_type": "code",
   "execution_count": 73,
   "id": "363c586a",
   "metadata": {},
   "outputs": [
    {
     "name": "stdout",
     "output_type": "stream",
     "text": [
      "0 1 1 2 3 5 8 \n",
      "x = None\n",
      "<class 'NoneType'>\n"
     ]
    }
   ],
   "source": [
    "x = fibonacci_print(10)\n",
    "print('x =', x)\n",
    "print(type(x))"
   ]
  },
  {
   "cell_type": "markdown",
   "id": "83e6cd95",
   "metadata": {},
   "source": [
    "### 여러 개의 값을 return\n",
    "- 여러 개의 값을 갖는 튜플로 return"
   ]
  },
  {
   "cell_type": "code",
   "execution_count": 74,
   "id": "3a83f136",
   "metadata": {},
   "outputs": [],
   "source": [
    "def swap(a, b):\n",
    "    '매개변수의 순서를 바꿔서 return'\n",
    "    return b, a # return (b, a)"
   ]
  },
  {
   "cell_type": "code",
   "execution_count": 78,
   "id": "092fe1e4",
   "metadata": {},
   "outputs": [
    {
     "name": "stdout",
     "output_type": "stream",
     "text": [
      "함수 실행 전 x, y = 5 10\n",
      "함수 실행 후 x, y = 10 5\n"
     ]
    }
   ],
   "source": [
    "x = 5; y = 10\n",
    "print('함수 실행 전 x, y =', x, y)\n",
    "x, y = swap(x, y)\n",
    "print('함수 실행 후 x, y =', x, y)"
   ]
  },
  {
   "cell_type": "markdown",
   "id": "fcafe7ae",
   "metadata": {},
   "source": [
    "# 3. 함수의 매개변수 ★\n",
    "## 3.1.기본값을 갖는 매개변수"
   ]
  },
  {
   "cell_type": "code",
   "execution_count": 79,
   "id": "e2a9a868",
   "metadata": {},
   "outputs": [],
   "source": [
    "def make_url(ip, port=80): # 순서인수 > 기본값을 갖는 매개변수 순으로 배치\n",
    "    return 'http://{}:{}'.format(ip, port)"
   ]
  },
  {
   "cell_type": "code",
   "execution_count": 82,
   "id": "b49b0e71",
   "metadata": {},
   "outputs": [
    {
     "name": "stdout",
     "output_type": "stream",
     "text": [
      "http://localhost:8090\n",
      "http://www.naver.com:80\n",
      "http://localhost:9090\n"
     ]
    }
   ],
   "source": [
    "print(make_url('localhost', 8090))\n",
    "print(make_url('www.naver.com'))\n",
    "print(make_url(port=9090, ip='localhost'))"
   ]
  },
  {
   "cell_type": "markdown",
   "id": "45882a9f",
   "metadata": {},
   "source": [
    "## 3.2.기본변수를 기본값으로 갖는 매개변수\n",
    "- 기본변수가 스칼라 변수(문자, 숫자, 논리형)일 때\n",
    "- 기본변수가 리스트, 셋, 딕셔너리, 기타 객체일 때"
   ]
  },
  {
   "cell_type": "code",
   "execution_count": 3,
   "id": "c41b8951",
   "metadata": {},
   "outputs": [],
   "source": [
    "i = 80\n",
    "# 기본변수가 스칼라 변수일 때 : 함수가 정의되는 시점으로 기본값 셋팅\n",
    "def make_url(ip, port=i):\n",
    "    return 'http://{}:{}'.format(ip, port)"
   ]
  },
  {
   "cell_type": "code",
   "execution_count": 85,
   "id": "2008241a",
   "metadata": {},
   "outputs": [
    {
     "data": {
      "text/plain": [
       "'http://localhost:80'"
      ]
     },
     "execution_count": 85,
     "metadata": {},
     "output_type": "execute_result"
    }
   ],
   "source": [
    "i = 90\n",
    "make_url('localhost')"
   ]
  },
  {
   "cell_type": "code",
   "execution_count": 1,
   "id": "b77d730a",
   "metadata": {},
   "outputs": [
    {
     "name": "stdout",
     "output_type": "stream",
     "text": [
      "[10]\n"
     ]
    }
   ],
   "source": [
    "list_ = []\n",
    "# 기본변수가 리스트, 셋, 딕셔너리, 객체일 때 : 함수가 실행되는 시점으로 기본값 셋팅\n",
    "def func3(a, L=list_):\n",
    "    L.append(a)\n",
    "    return L\n",
    "print(func3(10))"
   ]
  },
  {
   "cell_type": "code",
   "execution_count": 2,
   "id": "0e258e94",
   "metadata": {},
   "outputs": [
    {
     "name": "stdout",
     "output_type": "stream",
     "text": [
      "[10, 20]\n"
     ]
    }
   ],
   "source": [
    "print(func3(20))"
   ]
  },
  {
   "cell_type": "code",
   "execution_count": 4,
   "id": "a93f4411",
   "metadata": {},
   "outputs": [
    {
     "name": "stdout",
     "output_type": "stream",
     "text": [
      "[10, 20, 30]\n"
     ]
    }
   ],
   "source": [
    "print(func3(30))"
   ]
  },
  {
   "cell_type": "code",
   "execution_count": 7,
   "id": "1b969b16",
   "metadata": {},
   "outputs": [
    {
     "name": "stdout",
     "output_type": "stream",
     "text": [
      "[10]\n",
      "[20]\n"
     ]
    }
   ],
   "source": [
    "# 실행할 때마다 L을 공유하는 게 싫으면 기본값을 상수로 가져올 것\n",
    "def func3(a, L=None):\n",
    "    if L is None: # None은 is로 비교\n",
    "        L = []\n",
    "    L.append(a)\n",
    "    return L\n",
    "print(func3(10))\n",
    "print(func3(20))"
   ]
  },
  {
   "cell_type": "markdown",
   "id": "0bd6a920",
   "metadata": {},
   "source": [
    "## 3.3.순서인수, 키워드인수\n",
    "- 순서인수 : 함수에 정의된 순서대로 전달하는 방식\n",
    "- 키워드인수 : 인수의 이름을 명시하여 전달하는 방식\n",
    "- 함수 정의 시 순서인수와 키워드인수가 같이 올 때는 순서인수 > 키워드인수 순으로"
   ]
  },
  {
   "cell_type": "code",
   "execution_count": 8,
   "id": "421d736c",
   "metadata": {},
   "outputs": [],
   "source": [
    "def func3(a, L=None):\n",
    "    if L is None:\n",
    "        L = []\n",
    "    L.append(a)\n",
    "    return L"
   ]
  },
  {
   "cell_type": "code",
   "execution_count": 12,
   "id": "484687e6",
   "metadata": {},
   "outputs": [
    {
     "name": "stdout",
     "output_type": "stream",
     "text": [
      "[10]\n",
      "[10, 20]\n"
     ]
    }
   ],
   "source": [
    "lst = []\n",
    "print(func3(10, lst)) # 순서인수 : 함수 정의된 순서대로 전달하는 방식(s. o.)\n",
    "print(func3(L=lst, a=20)) # 키워드인수 : 인수의 이름을 명시하여 전달하는 방식"
   ]
  },
  {
   "cell_type": "markdown",
   "id": "5f169261",
   "metadata": {},
   "source": [
    "## 3.4.튜플 매개변수를 이용한 가변인수 설정 ★\n",
    "- 가변인수 : 매개변수의 개수가 가변"
   ]
  },
  {
   "cell_type": "code",
   "execution_count": 16,
   "id": "3a55d405",
   "metadata": {},
   "outputs": [],
   "source": [
    "# 파이썬은 함수의 중복 정의(overloading)을 지원하지 않음\n",
    "def add(a, b):\n",
    "    return a+b\n",
    "def add(a, b, c):\n",
    "    return a+b+c"
   ]
  },
  {
   "cell_type": "code",
   "execution_count": 17,
   "id": "12590ff7",
   "metadata": {},
   "outputs": [
    {
     "data": {
      "text/plain": [
       "10"
      ]
     },
     "execution_count": 17,
     "metadata": {},
     "output_type": "execute_result"
    }
   ],
   "source": [
    "add(3, 5, 2)"
   ]
  },
  {
   "cell_type": "code",
   "execution_count": 25,
   "id": "c34817f8",
   "metadata": {},
   "outputs": [],
   "source": [
    "# args 앞에 * : args가 튜플로 전달된다\n",
    "def add(*args):\n",
    "    # print('args =', args)\n",
    "    '전달받은 매개변수들의 합을 return. 매개변수가 없는 경우 0을 return'\n",
    "    sum = 0 # 누적변수\n",
    "    for num in args:\n",
    "        sum += num # sum = sum + num\n",
    "    return sum"
   ]
  },
  {
   "cell_type": "code",
   "execution_count": 31,
   "id": "e02a3b92",
   "metadata": {},
   "outputs": [
    {
     "name": "stdout",
     "output_type": "stream",
     "text": [
      "0\n",
      "1\n",
      "4\n"
     ]
    },
    {
     "data": {
      "text/plain": [
       "55"
      ]
     },
     "execution_count": 31,
     "metadata": {},
     "output_type": "execute_result"
    }
   ],
   "source": [
    "print(add())\n",
    "print(add(1))\n",
    "print(add(1, 3))\n",
    "add(1, 2, 3, 4, 5, 6, 7, 8, 9, 10)"
   ]
  },
  {
   "cell_type": "code",
   "execution_count": 33,
   "id": "5b93ba23",
   "metadata": {},
   "outputs": [
    {
     "data": {
      "text/plain": [
       "'Python-HTML/CSS-JavaScript-DBMS'"
      ]
     },
     "execution_count": 33,
     "metadata": {},
     "output_type": "execute_result"
    }
   ],
   "source": [
    "subject = ('Python', 'HTML/CSS', 'JavaScript', 'DBMS')\n",
    "'-'.join(subject)"
   ]
  },
  {
   "cell_type": "code",
   "execution_count": 34,
   "id": "03b52d6c",
   "metadata": {},
   "outputs": [],
   "source": [
    "# 튜플 매개변수와 일반 매개변수가 같이 있을 때 \n",
    "def concat(*subject, sep): # concat << concatenate\n",
    "    return sep.join(subject)"
   ]
  },
  {
   "cell_type": "code",
   "execution_count": null,
   "id": "d96a8a92",
   "metadata": {},
   "outputs": [],
   "source": [
    "concat('Python', 'HTML/CSS', 'JavaScript', 'DBMS', '-')"
   ]
  },
  {
   "cell_type": "code",
   "execution_count": 35,
   "id": "c5b65443",
   "metadata": {},
   "outputs": [
    {
     "data": {
      "text/plain": [
       "'Python-HTML/CSS-JavaScript-DBMS'"
      ]
     },
     "execution_count": 35,
     "metadata": {},
     "output_type": "execute_result"
    }
   ],
   "source": [
    "# 해결책1 : 파라미터 매개변수 이름을 지정해서 호출하는 방법\n",
    "concat('Python', 'HTML/CSS', 'JavaScript', 'DBMS', sep='-')"
   ]
  },
  {
   "cell_type": "code",
   "execution_count": 39,
   "id": "0b400526",
   "metadata": {},
   "outputs": [
    {
     "name": "stdout",
     "output_type": "stream",
     "text": [
      "Python ~ HTML/CSS ~ JavaScript ~ DBMS\n",
      "Python-HTML/CSS-JavaScript-DBMS\n"
     ]
    }
   ],
   "source": [
    "# 해결책2 : 기본값을 갖는 키워드인수를 사용하는 방법 \n",
    "def concat(*subject, sep=' ~ '): # 튜플 매개변수 > 키워드인수 순으로 \n",
    "    return sep.join(subject)\n",
    "print(concat('Python', 'HTML/CSS', 'JavaScript', 'DBMS'))\n",
    "print(concat('Python', 'HTML/CSS', 'JavaScript', 'DBMS', sep='-'))"
   ]
  },
  {
   "cell_type": "code",
   "execution_count": 40,
   "id": "123d29a2",
   "metadata": {},
   "outputs": [],
   "source": [
    "# 해결책3 ★(강추!) : sep을 순서인수로 앞으로 선언하는 방법! 순서인수 > 튜플 매개변수 > 키워드인수\n",
    "def concat(sep, *subject):\n",
    "    return sep.join(subject)"
   ]
  },
  {
   "cell_type": "code",
   "execution_count": 41,
   "id": "9dd6832f",
   "metadata": {},
   "outputs": [
    {
     "data": {
      "text/plain": [
       "'Python~Web~DB~MLDL'"
      ]
     },
     "execution_count": 41,
     "metadata": {},
     "output_type": "execute_result"
    }
   ],
   "source": [
    "concat('~', 'Python', 'Web', 'DB', 'MLDL')"
   ]
  },
  {
   "cell_type": "markdown",
   "id": "5bd3d3f2",
   "metadata": {},
   "source": [
    "## 3.5.딕셔너리 매개변수★\n",
    "- 딕셔너리 인수 : 여러 개의 키워드인수를 딕셔너리 형태로 받아서 가변인수로 처리"
   ]
  },
  {
   "cell_type": "code",
   "execution_count": 77,
   "id": "728bc688",
   "metadata": {
    "collapsed": true
   },
   "outputs": [],
   "source": [
    "def func5(**kwargs): # **args : 딕셔너리 매개변수(딕셔너리로 전달받음)\n",
    "    print('이름 :', args.get('name', '몰라'))\n",
    "    print('나이 :', args.get('age', 30))\n",
    "    print('전화 :', args.get('tel', '없음'))\n",
    "    print('주소 :', args.get('address', '서울 관악')) # 데이터 시각화 등을 위해 나중에 필요!"
   ]
  },
  {
   "cell_type": "code",
   "execution_count": 82,
   "id": "2d544db6",
   "metadata": {},
   "outputs": [],
   "source": [
    "def func5(**kwargs):\n",
    "    print(kwargs)\n",
    "    print(type(kwargs))\n",
    "    if 'address' not in kwargs: # args에 address키가 없으면 if문 True\n",
    "        kwargs['address'] = '서울시 관악구' # args.update({'address' : '서울시 관악구'}) | args.update(address='서울시 관악구')\n",
    "    for key, value in kwargs.items():\n",
    "        print('{} : {}'.format(key, value))"
   ]
  },
  {
   "cell_type": "code",
   "execution_count": 83,
   "id": "28ebcaa7",
   "metadata": {},
   "outputs": [
    {
     "name": "stdout",
     "output_type": "stream",
     "text": [
      "{'name': '홍길동', 'age': 30, 'tel': '010-9999-9999'}\n",
      "<class 'dict'>\n",
      "name : 홍길동\n",
      "age : 30\n",
      "tel : 010-9999-9999\n",
      "address : 서울시 관악구\n"
     ]
    }
   ],
   "source": [
    "func5(name='홍길동', age=30, tel='010-9999-9999')"
   ]
  },
  {
   "cell_type": "markdown",
   "id": "4c2d01ae",
   "metadata": {},
   "source": [
    "## 3.6.함수 정의 시 매개변수의 순서★\n",
    "- 순서인수 > 튜플인수(*) > 키워드인수(기본값) > 딕셔너리인수(**)"
   ]
  },
  {
   "cell_type": "code",
   "execution_count": 84,
   "id": "d14ab9ef",
   "metadata": {},
   "outputs": [],
   "source": [
    "# 순서인수 > 튜플인수 > 딕셔너리인수\n",
    "def func6(a, b, *c, **d):\n",
    "    print('순서인수 a = ', a)\n",
    "    print('순서인수 b = ', b)\n",
    "    print('튜플인수 c = ', c)\n",
    "    print('딕셔너리인수 d = ', d)"
   ]
  },
  {
   "cell_type": "code",
   "execution_count": 86,
   "id": "33f1e20d",
   "metadata": {},
   "outputs": [
    {
     "name": "stdout",
     "output_type": "stream",
     "text": [
      "순서인수 a =  10\n",
      "순서인수 b =  20\n",
      "튜플인수 c =  (1, 2, 3, 4, 5, 6, 7, 8, 9, 'a', 'b', True)\n",
      "딕셔너리인수 d =  {'name': '홍', 'age': 30, 'address': '신림'}\n"
     ]
    }
   ],
   "source": [
    "func6(10, 20, 1,2,3,4,5,6,7,8,9,'a','b',True, name='홍', age=30, address='신림')"
   ]
  },
  {
   "cell_type": "code",
   "execution_count": 87,
   "id": "a57b6efe",
   "metadata": {},
   "outputs": [],
   "source": [
    "# 순서인수 > 튜플인수(*) > 키워드인수(기본값) > 딕셔너리인수(**)\n",
    "def func7(a, b, c, *d, e=10, **f ):\n",
    "    print('순서인수 a = ', a)\n",
    "    print('순서인수 b = ', b)\n",
    "    print('순서인수 c = ', c)\n",
    "    print('튜플인수 d = ', d)\n",
    "    print('키워드인수(기본갑=10) e = ', e)\n",
    "    print('딕셔너리인수 f = ', f)"
   ]
  },
  {
   "cell_type": "code",
   "execution_count": 91,
   "id": "c6ae08be",
   "metadata": {},
   "outputs": [
    {
     "name": "stdout",
     "output_type": "stream",
     "text": [
      "순서인수 a =  10\n",
      "순서인수 b =  20\n",
      "순서인수 c =  30\n",
      "튜플인수 d =  ()\n",
      "키워드인수(기본갑=10) e =  100\n",
      "딕셔너리인수 f =  {}\n"
     ]
    }
   ],
   "source": [
    "func7(10, 20, 30, e=100)"
   ]
  },
  {
   "cell_type": "code",
   "execution_count": 90,
   "id": "4f624452",
   "metadata": {},
   "outputs": [
    {
     "name": "stdout",
     "output_type": "stream",
     "text": [
      "순서인수 a =  10\n",
      "순서인수 b =  20\n",
      "순서인수 c =  30\n",
      "튜플인수 d =  ()\n",
      "키워드인수(기본갑=10) e =  10\n",
      "딕셔너리인수 f =  {}\n"
     ]
    }
   ],
   "source": [
    "func7(10, 20, 30)"
   ]
  },
  {
   "cell_type": "code",
   "execution_count": 92,
   "id": "8b20bcce",
   "metadata": {},
   "outputs": [
    {
     "name": "stdout",
     "output_type": "stream",
     "text": [
      "순서인수 a =  10\n",
      "순서인수 b =  20\n",
      "순서인수 c =  30\n",
      "튜플인수 d =  (1, 2, 3, 4, 5, 6, 7, 8, 9, 10)\n",
      "키워드인수(기본갑=10) e =  100\n",
      "딕셔너리인수 f =  {'shape': 'rect', 'width': 20, 'height': 30}\n"
     ]
    }
   ],
   "source": [
    "func7(10, 20, 30, 1,2,3,4,5,6,7,8,9,10, e=100, shape='rect', width=20, height=30 )"
   ]
  },
  {
   "cell_type": "markdown",
   "id": "0d93677b",
   "metadata": {},
   "source": [
    "## 3.7.인수의 언패킹\n",
    "### 튜플인수 언패킹\n",
    "- 언패킹 : 함수 호출 시 이미 패킹된 리스트나 튜플을 풀기 위해 매개변수 앞에 *를 붙임 \n",
    "- 패킹 : 함수 정의 시 매개변수 앞에 *를 붙임(튜플 매개변수)"
   ]
  },
  {
   "cell_type": "code",
   "execution_count": 93,
   "id": "9e378169",
   "metadata": {},
   "outputs": [],
   "source": [
    "# packing\n",
    "def add(*args):\n",
    "    sum = 0\n",
    "    for num in args:\n",
    "        sum += num\n",
    "    return sum"
   ]
  },
  {
   "cell_type": "code",
   "execution_count": 94,
   "id": "075ffbc3",
   "metadata": {},
   "outputs": [
    {
     "data": {
      "text/plain": [
       "6"
      ]
     },
     "execution_count": 94,
     "metadata": {},
     "output_type": "execute_result"
    }
   ],
   "source": [
    "add(1, 2, 3)"
   ]
  },
  {
   "cell_type": "code",
   "execution_count": 100,
   "id": "c3daff64",
   "metadata": {},
   "outputs": [
    {
     "data": {
      "text/plain": [
       "6"
      ]
     },
     "execution_count": 100,
     "metadata": {},
     "output_type": "execute_result"
    }
   ],
   "source": [
    "# unpacking\n",
    "numbers = [1, 2, 3]\n",
    "add(*numbers)"
   ]
  },
  {
   "cell_type": "markdown",
   "id": "7b716d30",
   "metadata": {},
   "source": [
    "### 딕셔너리 인수 언패킹\n",
    "- 언패킹 : 함수 호출 시 이미 패킹된 딕셔너리를 풀기 위해 매개변수 앞에 **를 붙임 \n",
    "- 패킹 : 함수 정의 시 매개변수 앞에 **를 붙임(딕셔너리 매개변수)"
   ]
  },
  {
   "cell_type": "code",
   "execution_count": 96,
   "id": "41c1ce7b",
   "metadata": {},
   "outputs": [],
   "source": [
    "def func8(**data):\n",
    "    for item in data.items():\n",
    "        print(item)"
   ]
  },
  {
   "cell_type": "code",
   "execution_count": 98,
   "id": "d5a67f73",
   "metadata": {},
   "outputs": [
    {
     "name": "stdout",
     "output_type": "stream",
     "text": [
      "('shape', 'rect')\n",
      "('width', 40)\n",
      "('height', 30)\n"
     ]
    }
   ],
   "source": [
    "# packing\n",
    "func8(shape='rect', width=40, height=30)"
   ]
  },
  {
   "cell_type": "code",
   "execution_count": 99,
   "id": "eadf65e4",
   "metadata": {},
   "outputs": [
    {
     "name": "stdout",
     "output_type": "stream",
     "text": [
      "('shape', 'rect')\n",
      "('width', 40)\n",
      "('height', 30)\n"
     ]
    }
   ],
   "source": [
    "# unpacking\n",
    "info = {'shape':'rect', 'width':40, 'height':30}\n",
    "func8(**info)"
   ]
  },
  {
   "cell_type": "code",
   "execution_count": null,
   "id": "0310d64e",
   "metadata": {},
   "outputs": [],
   "source": []
  },
  {
   "cell_type": "code",
   "execution_count": null,
   "id": "68edfdfb",
   "metadata": {},
   "outputs": [],
   "source": []
  },
  {
   "cell_type": "code",
   "execution_count": null,
   "id": "e86d7b81",
   "metadata": {},
   "outputs": [],
   "source": []
  },
  {
   "cell_type": "code",
   "execution_count": null,
   "id": "2d6dddff",
   "metadata": {},
   "outputs": [],
   "source": []
  },
  {
   "cell_type": "code",
   "execution_count": null,
   "id": "ad494ae3",
   "metadata": {},
   "outputs": [],
   "source": []
  },
  {
   "cell_type": "code",
   "execution_count": null,
   "id": "6dc68426",
   "metadata": {},
   "outputs": [],
   "source": []
  },
  {
   "cell_type": "code",
   "execution_count": null,
   "id": "4001bcb4",
   "metadata": {},
   "outputs": [],
   "source": []
  },
  {
   "cell_type": "code",
   "execution_count": null,
   "id": "d9384130",
   "metadata": {},
   "outputs": [],
   "source": []
  },
  {
   "cell_type": "code",
   "execution_count": null,
   "id": "2433b58c",
   "metadata": {},
   "outputs": [],
   "source": []
  },
  {
   "cell_type": "code",
   "execution_count": null,
   "id": "b0fab969",
   "metadata": {},
   "outputs": [],
   "source": []
  },
  {
   "cell_type": "code",
   "execution_count": null,
   "id": "f114e7de",
   "metadata": {},
   "outputs": [],
   "source": []
  },
  {
   "cell_type": "code",
   "execution_count": null,
   "id": "538259c8",
   "metadata": {},
   "outputs": [],
   "source": []
  },
  {
   "cell_type": "code",
   "execution_count": null,
   "id": "64d787c8",
   "metadata": {},
   "outputs": [],
   "source": []
  },
  {
   "cell_type": "code",
   "execution_count": null,
   "id": "4b4b55dd",
   "metadata": {},
   "outputs": [],
   "source": []
  },
  {
   "cell_type": "code",
   "execution_count": null,
   "id": "bd5a1203",
   "metadata": {},
   "outputs": [],
   "source": []
  },
  {
   "cell_type": "code",
   "execution_count": null,
   "id": "73249440",
   "metadata": {},
   "outputs": [],
   "source": []
  },
  {
   "cell_type": "code",
   "execution_count": null,
   "id": "51138698",
   "metadata": {},
   "outputs": [],
   "source": []
  },
  {
   "cell_type": "code",
   "execution_count": null,
   "id": "d59837d1",
   "metadata": {},
   "outputs": [],
   "source": []
  },
  {
   "cell_type": "code",
   "execution_count": null,
   "id": "49737fb6",
   "metadata": {},
   "outputs": [],
   "source": []
  },
  {
   "cell_type": "code",
   "execution_count": null,
   "id": "e3443b0a",
   "metadata": {},
   "outputs": [],
   "source": []
  },
  {
   "cell_type": "code",
   "execution_count": null,
   "id": "5072ca4f",
   "metadata": {},
   "outputs": [],
   "source": []
  },
  {
   "cell_type": "code",
   "execution_count": null,
   "id": "02d392eb",
   "metadata": {},
   "outputs": [],
   "source": []
  },
  {
   "cell_type": "code",
   "execution_count": null,
   "id": "5d513eb5",
   "metadata": {},
   "outputs": [],
   "source": []
  },
  {
   "cell_type": "code",
   "execution_count": null,
   "id": "00c540d3",
   "metadata": {},
   "outputs": [],
   "source": []
  },
  {
   "cell_type": "code",
   "execution_count": null,
   "id": "f1f5e8ff",
   "metadata": {},
   "outputs": [],
   "source": []
  },
  {
   "cell_type": "code",
   "execution_count": null,
   "id": "70933a0b",
   "metadata": {},
   "outputs": [],
   "source": []
  },
  {
   "cell_type": "code",
   "execution_count": null,
   "id": "7a6213dd",
   "metadata": {},
   "outputs": [],
   "source": []
  },
  {
   "cell_type": "code",
   "execution_count": null,
   "id": "e2059e5d",
   "metadata": {},
   "outputs": [],
   "source": []
  },
  {
   "cell_type": "code",
   "execution_count": null,
   "id": "0cdbe476",
   "metadata": {},
   "outputs": [],
   "source": []
  },
  {
   "cell_type": "code",
   "execution_count": null,
   "id": "d0a7fb27",
   "metadata": {},
   "outputs": [],
   "source": []
  },
  {
   "cell_type": "code",
   "execution_count": null,
   "id": "5f364efe",
   "metadata": {},
   "outputs": [],
   "source": []
  },
  {
   "cell_type": "code",
   "execution_count": null,
   "id": "c5c5e0da",
   "metadata": {},
   "outputs": [],
   "source": []
  },
  {
   "cell_type": "code",
   "execution_count": null,
   "id": "7569c10b",
   "metadata": {},
   "outputs": [],
   "source": []
  },
  {
   "cell_type": "code",
   "execution_count": null,
   "id": "df678286",
   "metadata": {},
   "outputs": [],
   "source": []
  },
  {
   "cell_type": "code",
   "execution_count": null,
   "id": "a6026291",
   "metadata": {},
   "outputs": [],
   "source": []
  },
  {
   "cell_type": "code",
   "execution_count": null,
   "id": "a47a04e1",
   "metadata": {},
   "outputs": [],
   "source": []
  },
  {
   "cell_type": "code",
   "execution_count": null,
   "id": "f6fd065a",
   "metadata": {},
   "outputs": [],
   "source": []
  },
  {
   "cell_type": "code",
   "execution_count": null,
   "id": "db68066f",
   "metadata": {},
   "outputs": [],
   "source": []
  },
  {
   "cell_type": "code",
   "execution_count": null,
   "id": "5e65fffc",
   "metadata": {},
   "outputs": [],
   "source": []
  },
  {
   "cell_type": "code",
   "execution_count": null,
   "id": "b2b3b135",
   "metadata": {},
   "outputs": [],
   "source": []
  },
  {
   "cell_type": "code",
   "execution_count": null,
   "id": "1bceb719",
   "metadata": {},
   "outputs": [],
   "source": []
  },
  {
   "cell_type": "code",
   "execution_count": null,
   "id": "bedb3836",
   "metadata": {},
   "outputs": [],
   "source": []
  },
  {
   "cell_type": "code",
   "execution_count": null,
   "id": "18f5543e",
   "metadata": {},
   "outputs": [],
   "source": []
  },
  {
   "cell_type": "code",
   "execution_count": null,
   "id": "979cf38a",
   "metadata": {},
   "outputs": [],
   "source": []
  },
  {
   "cell_type": "code",
   "execution_count": null,
   "id": "98e52357",
   "metadata": {},
   "outputs": [],
   "source": []
  },
  {
   "cell_type": "code",
   "execution_count": null,
   "id": "ea6bf217",
   "metadata": {},
   "outputs": [],
   "source": []
  },
  {
   "cell_type": "code",
   "execution_count": null,
   "id": "ef40a9e6",
   "metadata": {},
   "outputs": [],
   "source": []
  },
  {
   "cell_type": "code",
   "execution_count": null,
   "id": "5479bf12",
   "metadata": {},
   "outputs": [],
   "source": []
  },
  {
   "cell_type": "code",
   "execution_count": null,
   "id": "ca44440f",
   "metadata": {},
   "outputs": [],
   "source": []
  },
  {
   "cell_type": "code",
   "execution_count": null,
   "id": "974e89dd",
   "metadata": {},
   "outputs": [],
   "source": []
  },
  {
   "cell_type": "code",
   "execution_count": null,
   "id": "a310cd9d",
   "metadata": {},
   "outputs": [],
   "source": []
  },
  {
   "cell_type": "code",
   "execution_count": null,
   "id": "85d94559",
   "metadata": {},
   "outputs": [],
   "source": []
  },
  {
   "cell_type": "code",
   "execution_count": null,
   "id": "174347fd",
   "metadata": {},
   "outputs": [],
   "source": []
  },
  {
   "cell_type": "code",
   "execution_count": null,
   "id": "38d8c053",
   "metadata": {},
   "outputs": [],
   "source": []
  },
  {
   "cell_type": "code",
   "execution_count": null,
   "id": "7c41408a",
   "metadata": {},
   "outputs": [],
   "source": []
  },
  {
   "cell_type": "code",
   "execution_count": null,
   "id": "d0510264",
   "metadata": {},
   "outputs": [],
   "source": []
  },
  {
   "cell_type": "code",
   "execution_count": null,
   "id": "e0aa1f95",
   "metadata": {},
   "outputs": [],
   "source": []
  },
  {
   "cell_type": "code",
   "execution_count": null,
   "id": "ea9f61f0",
   "metadata": {},
   "outputs": [],
   "source": []
  },
  {
   "cell_type": "code",
   "execution_count": null,
   "id": "530b8fed",
   "metadata": {},
   "outputs": [],
   "source": []
  },
  {
   "cell_type": "code",
   "execution_count": null,
   "id": "fcf74eed",
   "metadata": {},
   "outputs": [],
   "source": []
  },
  {
   "cell_type": "code",
   "execution_count": null,
   "id": "8bb8577a",
   "metadata": {},
   "outputs": [],
   "source": []
  },
  {
   "cell_type": "code",
   "execution_count": null,
   "id": "6dcecf62",
   "metadata": {},
   "outputs": [],
   "source": []
  },
  {
   "cell_type": "code",
   "execution_count": null,
   "id": "1466b910",
   "metadata": {},
   "outputs": [],
   "source": []
  },
  {
   "cell_type": "code",
   "execution_count": null,
   "id": "c9e9dbb8",
   "metadata": {},
   "outputs": [],
   "source": []
  },
  {
   "cell_type": "code",
   "execution_count": null,
   "id": "096e2228",
   "metadata": {},
   "outputs": [],
   "source": []
  },
  {
   "cell_type": "code",
   "execution_count": null,
   "id": "40f59cde",
   "metadata": {},
   "outputs": [],
   "source": []
  },
  {
   "cell_type": "code",
   "execution_count": null,
   "id": "7fc21b0c",
   "metadata": {},
   "outputs": [],
   "source": []
  },
  {
   "cell_type": "code",
   "execution_count": null,
   "id": "18d101c6",
   "metadata": {},
   "outputs": [],
   "source": []
  },
  {
   "cell_type": "code",
   "execution_count": null,
   "id": "71b8d68c",
   "metadata": {},
   "outputs": [],
   "source": []
  },
  {
   "cell_type": "code",
   "execution_count": null,
   "id": "843abfbc",
   "metadata": {},
   "outputs": [],
   "source": []
  },
  {
   "cell_type": "code",
   "execution_count": null,
   "id": "522ad9f5",
   "metadata": {},
   "outputs": [],
   "source": []
  },
  {
   "cell_type": "code",
   "execution_count": null,
   "id": "d80c390e",
   "metadata": {},
   "outputs": [],
   "source": []
  },
  {
   "cell_type": "code",
   "execution_count": null,
   "id": "9a39b004",
   "metadata": {},
   "outputs": [],
   "source": []
  },
  {
   "cell_type": "code",
   "execution_count": null,
   "id": "f893ac90",
   "metadata": {},
   "outputs": [],
   "source": []
  },
  {
   "cell_type": "code",
   "execution_count": null,
   "id": "63822835",
   "metadata": {},
   "outputs": [],
   "source": []
  },
  {
   "cell_type": "code",
   "execution_count": null,
   "id": "9d73c0d5",
   "metadata": {},
   "outputs": [],
   "source": []
  },
  {
   "cell_type": "code",
   "execution_count": null,
   "id": "d8b24631",
   "metadata": {},
   "outputs": [],
   "source": []
  },
  {
   "cell_type": "code",
   "execution_count": null,
   "id": "7d372923",
   "metadata": {},
   "outputs": [],
   "source": []
  },
  {
   "cell_type": "code",
   "execution_count": null,
   "id": "a46c40e9",
   "metadata": {},
   "outputs": [],
   "source": []
  },
  {
   "cell_type": "code",
   "execution_count": null,
   "id": "2d90036f",
   "metadata": {},
   "outputs": [],
   "source": []
  },
  {
   "cell_type": "code",
   "execution_count": null,
   "id": "a22dda2f",
   "metadata": {},
   "outputs": [],
   "source": []
  },
  {
   "cell_type": "code",
   "execution_count": null,
   "id": "754ad785",
   "metadata": {},
   "outputs": [],
   "source": []
  },
  {
   "cell_type": "code",
   "execution_count": null,
   "id": "2c5f01e8",
   "metadata": {},
   "outputs": [],
   "source": []
  },
  {
   "cell_type": "code",
   "execution_count": null,
   "id": "70f85b5e",
   "metadata": {},
   "outputs": [],
   "source": []
  },
  {
   "cell_type": "code",
   "execution_count": null,
   "id": "28612051",
   "metadata": {},
   "outputs": [],
   "source": []
  },
  {
   "cell_type": "code",
   "execution_count": null,
   "id": "3e86c1cf",
   "metadata": {},
   "outputs": [],
   "source": []
  },
  {
   "cell_type": "code",
   "execution_count": null,
   "id": "070fdf2c",
   "metadata": {},
   "outputs": [],
   "source": []
  },
  {
   "cell_type": "code",
   "execution_count": null,
   "id": "59d547b5",
   "metadata": {},
   "outputs": [],
   "source": []
  },
  {
   "cell_type": "code",
   "execution_count": null,
   "id": "06e48bea",
   "metadata": {},
   "outputs": [],
   "source": []
  },
  {
   "cell_type": "code",
   "execution_count": null,
   "id": "41b08307",
   "metadata": {},
   "outputs": [],
   "source": []
  },
  {
   "cell_type": "code",
   "execution_count": null,
   "id": "8549f056",
   "metadata": {},
   "outputs": [],
   "source": []
  },
  {
   "cell_type": "code",
   "execution_count": null,
   "id": "9b34bb91",
   "metadata": {},
   "outputs": [],
   "source": []
  },
  {
   "cell_type": "code",
   "execution_count": null,
   "id": "1677156b",
   "metadata": {},
   "outputs": [],
   "source": []
  },
  {
   "cell_type": "code",
   "execution_count": null,
   "id": "170a74e5",
   "metadata": {},
   "outputs": [],
   "source": []
  },
  {
   "cell_type": "code",
   "execution_count": null,
   "id": "f16de8e9",
   "metadata": {},
   "outputs": [],
   "source": []
  },
  {
   "cell_type": "code",
   "execution_count": null,
   "id": "722af7e0",
   "metadata": {},
   "outputs": [],
   "source": []
  },
  {
   "cell_type": "code",
   "execution_count": null,
   "id": "e7602bc7",
   "metadata": {},
   "outputs": [],
   "source": []
  },
  {
   "cell_type": "code",
   "execution_count": null,
   "id": "716b681e",
   "metadata": {},
   "outputs": [],
   "source": []
  },
  {
   "cell_type": "code",
   "execution_count": null,
   "id": "a0b0bfaa",
   "metadata": {},
   "outputs": [],
   "source": []
  },
  {
   "cell_type": "code",
   "execution_count": null,
   "id": "0031850a",
   "metadata": {},
   "outputs": [],
   "source": []
  },
  {
   "cell_type": "code",
   "execution_count": null,
   "id": "450f7ad5",
   "metadata": {},
   "outputs": [],
   "source": []
  },
  {
   "cell_type": "code",
   "execution_count": null,
   "id": "b76841a8",
   "metadata": {},
   "outputs": [],
   "source": []
  },
  {
   "cell_type": "code",
   "execution_count": null,
   "id": "5111087b",
   "metadata": {},
   "outputs": [],
   "source": []
  },
  {
   "cell_type": "code",
   "execution_count": null,
   "id": "f8ad6832",
   "metadata": {},
   "outputs": [],
   "source": []
  },
  {
   "cell_type": "code",
   "execution_count": null,
   "id": "3c85ce8a",
   "metadata": {},
   "outputs": [],
   "source": []
  },
  {
   "cell_type": "code",
   "execution_count": null,
   "id": "73b2eeca",
   "metadata": {},
   "outputs": [],
   "source": []
  },
  {
   "cell_type": "code",
   "execution_count": null,
   "id": "344b0526",
   "metadata": {},
   "outputs": [],
   "source": []
  },
  {
   "cell_type": "code",
   "execution_count": null,
   "id": "21feddda",
   "metadata": {},
   "outputs": [],
   "source": []
  },
  {
   "cell_type": "code",
   "execution_count": null,
   "id": "5d5560d5",
   "metadata": {},
   "outputs": [],
   "source": []
  },
  {
   "cell_type": "code",
   "execution_count": null,
   "id": "f9b7382b",
   "metadata": {},
   "outputs": [],
   "source": []
  },
  {
   "cell_type": "code",
   "execution_count": null,
   "id": "71fd1b26",
   "metadata": {},
   "outputs": [],
   "source": []
  },
  {
   "cell_type": "code",
   "execution_count": null,
   "id": "0ceca252",
   "metadata": {},
   "outputs": [],
   "source": []
  },
  {
   "cell_type": "code",
   "execution_count": null,
   "id": "f5f55a46",
   "metadata": {},
   "outputs": [],
   "source": []
  },
  {
   "cell_type": "code",
   "execution_count": null,
   "id": "3d78bd93",
   "metadata": {},
   "outputs": [],
   "source": []
  },
  {
   "cell_type": "code",
   "execution_count": null,
   "id": "d99d0724",
   "metadata": {},
   "outputs": [],
   "source": []
  },
  {
   "cell_type": "code",
   "execution_count": null,
   "id": "b0f8abfd",
   "metadata": {},
   "outputs": [],
   "source": []
  },
  {
   "cell_type": "code",
   "execution_count": null,
   "id": "4aa91d30",
   "metadata": {},
   "outputs": [],
   "source": []
  },
  {
   "cell_type": "code",
   "execution_count": null,
   "id": "fd2cc520",
   "metadata": {},
   "outputs": [],
   "source": []
  },
  {
   "cell_type": "code",
   "execution_count": null,
   "id": "c83c5b3e",
   "metadata": {},
   "outputs": [],
   "source": []
  },
  {
   "cell_type": "code",
   "execution_count": null,
   "id": "0669eec4",
   "metadata": {},
   "outputs": [],
   "source": []
  },
  {
   "cell_type": "code",
   "execution_count": null,
   "id": "175fba0d",
   "metadata": {},
   "outputs": [],
   "source": []
  },
  {
   "cell_type": "code",
   "execution_count": null,
   "id": "f79c5e59",
   "metadata": {},
   "outputs": [],
   "source": []
  },
  {
   "cell_type": "code",
   "execution_count": null,
   "id": "5527c3fa",
   "metadata": {},
   "outputs": [],
   "source": []
  },
  {
   "cell_type": "code",
   "execution_count": null,
   "id": "b6fefb0a",
   "metadata": {},
   "outputs": [],
   "source": []
  },
  {
   "cell_type": "code",
   "execution_count": null,
   "id": "fd278045",
   "metadata": {},
   "outputs": [],
   "source": []
  },
  {
   "cell_type": "code",
   "execution_count": null,
   "id": "6bdd5636",
   "metadata": {},
   "outputs": [],
   "source": []
  },
  {
   "cell_type": "code",
   "execution_count": null,
   "id": "7f5cb134",
   "metadata": {},
   "outputs": [],
   "source": []
  },
  {
   "cell_type": "code",
   "execution_count": null,
   "id": "bdb2ece7",
   "metadata": {},
   "outputs": [],
   "source": []
  },
  {
   "cell_type": "code",
   "execution_count": null,
   "id": "644b69ee",
   "metadata": {},
   "outputs": [],
   "source": []
  },
  {
   "cell_type": "code",
   "execution_count": null,
   "id": "4504e795",
   "metadata": {},
   "outputs": [],
   "source": []
  },
  {
   "cell_type": "code",
   "execution_count": null,
   "id": "eaadd86f",
   "metadata": {},
   "outputs": [],
   "source": []
  },
  {
   "cell_type": "code",
   "execution_count": null,
   "id": "dc6e3eaf",
   "metadata": {},
   "outputs": [],
   "source": []
  },
  {
   "cell_type": "code",
   "execution_count": null,
   "id": "b27667c1",
   "metadata": {},
   "outputs": [],
   "source": []
  },
  {
   "cell_type": "code",
   "execution_count": null,
   "id": "8dbb4e4d",
   "metadata": {},
   "outputs": [],
   "source": []
  },
  {
   "cell_type": "code",
   "execution_count": null,
   "id": "485131ce",
   "metadata": {},
   "outputs": [],
   "source": []
  },
  {
   "cell_type": "code",
   "execution_count": null,
   "id": "611a8b4c",
   "metadata": {},
   "outputs": [],
   "source": []
  },
  {
   "cell_type": "code",
   "execution_count": null,
   "id": "5cf77598",
   "metadata": {},
   "outputs": [],
   "source": []
  },
  {
   "cell_type": "code",
   "execution_count": null,
   "id": "d73380d1",
   "metadata": {},
   "outputs": [],
   "source": []
  },
  {
   "cell_type": "code",
   "execution_count": null,
   "id": "9bbb7d4e",
   "metadata": {},
   "outputs": [],
   "source": []
  },
  {
   "cell_type": "code",
   "execution_count": null,
   "id": "809e04bf",
   "metadata": {},
   "outputs": [],
   "source": []
  },
  {
   "cell_type": "code",
   "execution_count": null,
   "id": "9554a436",
   "metadata": {},
   "outputs": [],
   "source": []
  },
  {
   "cell_type": "code",
   "execution_count": null,
   "id": "ee713644",
   "metadata": {},
   "outputs": [],
   "source": []
  },
  {
   "cell_type": "code",
   "execution_count": null,
   "id": "fe206e66",
   "metadata": {},
   "outputs": [],
   "source": []
  },
  {
   "cell_type": "code",
   "execution_count": null,
   "id": "dfcac0fe",
   "metadata": {},
   "outputs": [],
   "source": []
  },
  {
   "cell_type": "code",
   "execution_count": null,
   "id": "eba03665",
   "metadata": {},
   "outputs": [],
   "source": []
  },
  {
   "cell_type": "code",
   "execution_count": null,
   "id": "75666098",
   "metadata": {},
   "outputs": [],
   "source": []
  },
  {
   "cell_type": "code",
   "execution_count": null,
   "id": "8aa3371a",
   "metadata": {},
   "outputs": [],
   "source": []
  },
  {
   "cell_type": "code",
   "execution_count": null,
   "id": "f9c7d8ce",
   "metadata": {},
   "outputs": [],
   "source": []
  },
  {
   "cell_type": "code",
   "execution_count": null,
   "id": "ad07c938",
   "metadata": {},
   "outputs": [],
   "source": []
  },
  {
   "cell_type": "code",
   "execution_count": null,
   "id": "50f1d882",
   "metadata": {},
   "outputs": [],
   "source": []
  },
  {
   "cell_type": "code",
   "execution_count": null,
   "id": "2a5510fe",
   "metadata": {},
   "outputs": [],
   "source": []
  },
  {
   "cell_type": "code",
   "execution_count": null,
   "id": "7c566729",
   "metadata": {},
   "outputs": [],
   "source": []
  },
  {
   "cell_type": "code",
   "execution_count": null,
   "id": "7875a44a",
   "metadata": {},
   "outputs": [],
   "source": []
  },
  {
   "cell_type": "code",
   "execution_count": null,
   "id": "68a05a0b",
   "metadata": {},
   "outputs": [],
   "source": []
  },
  {
   "cell_type": "code",
   "execution_count": null,
   "id": "8142a831",
   "metadata": {},
   "outputs": [],
   "source": []
  },
  {
   "cell_type": "code",
   "execution_count": null,
   "id": "fbedf679",
   "metadata": {},
   "outputs": [],
   "source": []
  },
  {
   "cell_type": "code",
   "execution_count": null,
   "id": "626caee4",
   "metadata": {},
   "outputs": [],
   "source": []
  },
  {
   "cell_type": "code",
   "execution_count": null,
   "id": "90f25e96",
   "metadata": {},
   "outputs": [],
   "source": []
  },
  {
   "cell_type": "code",
   "execution_count": null,
   "id": "233325d1",
   "metadata": {},
   "outputs": [],
   "source": []
  },
  {
   "cell_type": "code",
   "execution_count": null,
   "id": "9e5b7323",
   "metadata": {},
   "outputs": [],
   "source": []
  },
  {
   "cell_type": "code",
   "execution_count": null,
   "id": "0bbaeb6c",
   "metadata": {},
   "outputs": [],
   "source": []
  },
  {
   "cell_type": "code",
   "execution_count": null,
   "id": "153142a7",
   "metadata": {},
   "outputs": [],
   "source": []
  },
  {
   "cell_type": "code",
   "execution_count": null,
   "id": "286c9637",
   "metadata": {},
   "outputs": [],
   "source": []
  },
  {
   "cell_type": "code",
   "execution_count": null,
   "id": "2ab5c420",
   "metadata": {},
   "outputs": [],
   "source": []
  },
  {
   "cell_type": "code",
   "execution_count": null,
   "id": "2aa9a3da",
   "metadata": {},
   "outputs": [],
   "source": []
  },
  {
   "cell_type": "code",
   "execution_count": null,
   "id": "cbb30088",
   "metadata": {},
   "outputs": [],
   "source": []
  },
  {
   "cell_type": "code",
   "execution_count": null,
   "id": "a231f095",
   "metadata": {},
   "outputs": [],
   "source": []
  },
  {
   "cell_type": "code",
   "execution_count": null,
   "id": "ebd1002a",
   "metadata": {},
   "outputs": [],
   "source": []
  },
  {
   "cell_type": "code",
   "execution_count": null,
   "id": "fd5dc044",
   "metadata": {},
   "outputs": [],
   "source": []
  },
  {
   "cell_type": "code",
   "execution_count": null,
   "id": "07795534",
   "metadata": {},
   "outputs": [],
   "source": []
  },
  {
   "cell_type": "code",
   "execution_count": null,
   "id": "f7be896d",
   "metadata": {},
   "outputs": [],
   "source": []
  },
  {
   "cell_type": "code",
   "execution_count": null,
   "id": "fbe47ade",
   "metadata": {},
   "outputs": [],
   "source": []
  },
  {
   "cell_type": "code",
   "execution_count": null,
   "id": "7edb95be",
   "metadata": {},
   "outputs": [],
   "source": []
  },
  {
   "cell_type": "code",
   "execution_count": null,
   "id": "ba31dabb",
   "metadata": {},
   "outputs": [],
   "source": []
  },
  {
   "cell_type": "code",
   "execution_count": null,
   "id": "60c16c60",
   "metadata": {},
   "outputs": [],
   "source": []
  },
  {
   "cell_type": "code",
   "execution_count": null,
   "id": "9d3dfc33",
   "metadata": {},
   "outputs": [],
   "source": []
  },
  {
   "cell_type": "code",
   "execution_count": null,
   "id": "da617640",
   "metadata": {},
   "outputs": [],
   "source": []
  },
  {
   "cell_type": "code",
   "execution_count": null,
   "id": "3bf6e37b",
   "metadata": {},
   "outputs": [],
   "source": []
  },
  {
   "cell_type": "code",
   "execution_count": null,
   "id": "bf94ee58",
   "metadata": {},
   "outputs": [],
   "source": []
  },
  {
   "cell_type": "code",
   "execution_count": null,
   "id": "722157fb",
   "metadata": {},
   "outputs": [],
   "source": []
  },
  {
   "cell_type": "code",
   "execution_count": null,
   "id": "2b1c7dfe",
   "metadata": {},
   "outputs": [],
   "source": []
  },
  {
   "cell_type": "code",
   "execution_count": null,
   "id": "196a931b",
   "metadata": {},
   "outputs": [],
   "source": []
  },
  {
   "cell_type": "code",
   "execution_count": null,
   "id": "fac21945",
   "metadata": {},
   "outputs": [],
   "source": []
  },
  {
   "cell_type": "code",
   "execution_count": null,
   "id": "19022fe9",
   "metadata": {},
   "outputs": [],
   "source": []
  },
  {
   "cell_type": "code",
   "execution_count": null,
   "id": "1d022384",
   "metadata": {},
   "outputs": [],
   "source": []
  },
  {
   "cell_type": "code",
   "execution_count": null,
   "id": "72d03000",
   "metadata": {},
   "outputs": [],
   "source": []
  },
  {
   "cell_type": "code",
   "execution_count": null,
   "id": "d4e0526b",
   "metadata": {},
   "outputs": [],
   "source": []
  },
  {
   "cell_type": "code",
   "execution_count": null,
   "id": "fd702b51",
   "metadata": {},
   "outputs": [],
   "source": []
  },
  {
   "cell_type": "code",
   "execution_count": null,
   "id": "fae0fc1d",
   "metadata": {},
   "outputs": [],
   "source": []
  },
  {
   "cell_type": "code",
   "execution_count": null,
   "id": "99fb22ce",
   "metadata": {},
   "outputs": [],
   "source": []
  },
  {
   "cell_type": "code",
   "execution_count": null,
   "id": "09cd2931",
   "metadata": {},
   "outputs": [],
   "source": []
  },
  {
   "cell_type": "code",
   "execution_count": null,
   "id": "c9642b9b",
   "metadata": {},
   "outputs": [],
   "source": []
  },
  {
   "cell_type": "code",
   "execution_count": null,
   "id": "79255b7c",
   "metadata": {},
   "outputs": [],
   "source": []
  },
  {
   "cell_type": "code",
   "execution_count": null,
   "id": "df4eb605",
   "metadata": {},
   "outputs": [],
   "source": []
  },
  {
   "cell_type": "code",
   "execution_count": null,
   "id": "bbdb7331",
   "metadata": {},
   "outputs": [],
   "source": []
  },
  {
   "cell_type": "code",
   "execution_count": null,
   "id": "f3da51be",
   "metadata": {},
   "outputs": [],
   "source": []
  },
  {
   "cell_type": "code",
   "execution_count": null,
   "id": "313e70a7",
   "metadata": {},
   "outputs": [],
   "source": []
  },
  {
   "cell_type": "code",
   "execution_count": null,
   "id": "2d8d579f",
   "metadata": {},
   "outputs": [],
   "source": []
  },
  {
   "cell_type": "code",
   "execution_count": null,
   "id": "d6f5c1ce",
   "metadata": {},
   "outputs": [],
   "source": []
  },
  {
   "cell_type": "code",
   "execution_count": null,
   "id": "80abc87b",
   "metadata": {},
   "outputs": [],
   "source": []
  },
  {
   "cell_type": "code",
   "execution_count": null,
   "id": "d2feec5c",
   "metadata": {},
   "outputs": [],
   "source": []
  },
  {
   "cell_type": "code",
   "execution_count": null,
   "id": "dac65a02",
   "metadata": {},
   "outputs": [],
   "source": []
  },
  {
   "cell_type": "code",
   "execution_count": null,
   "id": "afc80ad7",
   "metadata": {},
   "outputs": [],
   "source": []
  },
  {
   "cell_type": "code",
   "execution_count": null,
   "id": "62bb4b1f",
   "metadata": {},
   "outputs": [],
   "source": []
  },
  {
   "cell_type": "code",
   "execution_count": null,
   "id": "4b99ec2c",
   "metadata": {},
   "outputs": [],
   "source": [
    "# 연습문제(실습형)"
   ]
  },
  {
   "cell_type": "code",
   "execution_count": null,
   "id": "4ea5182d",
   "metadata": {},
   "outputs": [],
   "source": [
    "# 1. 함수의 인자로 리스트를 받은 후 리스트 내에 있는 모든 정수값에 대한 최대값과 최소값을 리턴하는 함수를 작성하세요\n",
    "# def get_max_min data_list\n",
    "# get_max_min = lambda"
   ]
  },
  {
   "cell_type": "code",
   "execution_count": null,
   "id": "c9dada19",
   "metadata": {},
   "outputs": [],
   "source": [
    "# 2. 체질량 지수 (Body Mass Index, BMI) 는 체중과 키를 이용해 비만도를 나타내는 지수로 아래의 수식에 의해 계산됩니다 . \n",
    "# 함수의 인자로 체중 (kg) 과 신장 (m) 를 입력받은 후 BMI 값에 따라 '마른 체형', '표준, '비만', '고도비만' 중 하나의 상태를 출력하는 함수를 구현해 보세요\n",
    "\n",
    "# • getBMI (kg, m):\n",
    "# • BMI 지수 = 체중 (kg) / 신장 (m) 의 제곱\n",
    "# • BMI<18.5 : 마른체형\n",
    "# • 18.5<=BMI<25 : 표준\n",
    "# • 25<=BMI<30 : 비만\n",
    "# • BMI >=30 고도비만"
   ]
  },
  {
   "cell_type": "code",
   "execution_count": null,
   "id": "19c3b584",
   "metadata": {},
   "outputs": [],
   "source": [
    "# 3. 직각삼각형의 밑변과 높이를 입력받은 후 삼각형의 면적과 둘레를 계산하는 함수를 작성하세요\n",
    "# • 리턴값은 면적과 둘레를 return 하도록 구현하세요\n",
    "# • math.sqrt() : 제곱근을 구하는 함수이용 (ex)math.sqrt(25) : 5.0\n",
    "# • def get_triangle (width, height):"
   ]
  },
  {
   "cell_type": "code",
   "execution_count": null,
   "id": "5741aa21",
   "metadata": {},
   "outputs": [],
   "source": [
    "# 4. 함수의 인자로 시작과 끝 숫자가 주어질 때 시작부터 끝까지의 모든 정수값의 합을 리턴하는 함수를 작성하세요(시작값과 끝값 포함).\n",
    "# def mysum(fRom, end):"
   ]
  },
  {
   "cell_type": "code",
   "execution_count": null,
   "id": "6e7dc451",
   "metadata": {},
   "outputs": [],
   "source": [
    "# 5. 함수의 인자로 문자열을 포함하는 리스트가 입력될 때 각 문자열의 첫 세글자로만 구성된 리스트를 리턴하는 함수와 람다식을 작성하세요\n",
    "# • 예를 들어 함수의 입력으로 [‘Seoul’, ‘Daegu’, ‘Kwangju’, ‘ 가 입력될 때 함수의 리턴값은 [‘Seo’, ‘Dae’, ‘ Jej ’]\n",
    "# • def get_abbrs(lst):"
   ]
  },
  {
   "cell_type": "code",
   "execution_count": null,
   "id": "f241b86c",
   "metadata": {},
   "outputs": [],
   "source": [
    "# 6. 다음 코드를 람다 함수 형태로 수정할 때 알맞은 코드를 작성하시오\n",
    "def f(x, y):\n",
    "    return x ** y"
   ]
  },
  {
   "cell_type": "code",
   "execution_count": null,
   "id": "5629296a",
   "metadata": {},
   "outputs": [],
   "source": [
    "# 7. ex = [1,2,3,4,5]를 [1,4,9,16,25] 의 결과를 얻을 수 있도록 람다 함수와 map() 함수를 사용하여 구현과 리스트 컴프리헨션으로 구현하시오\n"
   ]
  },
  {
   "cell_type": "code",
   "execution_count": null,
   "id": "42bd1ca9",
   "metadata": {},
   "outputs": [],
   "source": [
    "# 8. 다음 코드를 각각 실행하면 서로 다른 결과가 나온다 . 이런 결과가 나오는 이유를 서술하시오"
   ]
  },
  {
   "cell_type": "code",
   "execution_count": null,
   "id": "e1b49947",
   "metadata": {},
   "outputs": [],
   "source": [
    "# 9. 다음 코드의 실행 결과는"
   ]
  },
  {
   "cell_type": "code",
   "execution_count": null,
   "id": "21113d08",
   "metadata": {},
   "outputs": [],
   "source": [
    "# 10. n 개의 벡터(리스트나 튜플, 셋 등)들의 크기가 같은지 여부를 reutrn 하는 vector_size_check(*vector_var)를 한 줄의 코드(리스트 컴프리헨션 이용)로 작성하시오"
   ]
  },
  {
   "cell_type": "code",
   "execution_count": null,
   "id": "9ed5325a",
   "metadata": {},
   "outputs": [],
   "source": [
    "# 11. 다음과 같은 결과를 얻기 위해 하나의 스칼라값을 리스트나 튜플 , 셋등 벡터에 곱하는 코드를 작성하시오(단 입력되는 벡터의 크기는 일정하지 않음)."
   ]
  },
  {
   "cell_type": "code",
   "execution_count": null,
   "id": "f66d040d",
   "metadata": {},
   "outputs": [],
   "source": [
    "# 연습문제(서술형)"
   ]
  },
  {
   "cell_type": "code",
   "execution_count": null,
   "id": "0394b427",
   "metadata": {},
   "outputs": [],
   "source": [
    "# 1. 다음 코드의 실행 결과는?"
   ]
  },
  {
   "cell_type": "code",
   "execution_count": null,
   "id": "9770503c",
   "metadata": {},
   "outputs": [],
   "source": [
    "# 2. "
   ]
  },
  {
   "cell_type": "code",
   "execution_count": null,
   "id": "bfaade4f",
   "metadata": {},
   "outputs": [],
   "source": [
    "# 3. 다음 구문을 실행한 결과는?"
   ]
  },
  {
   "cell_type": "code",
   "execution_count": null,
   "id": "c7f3bdf9",
   "metadata": {},
   "outputs": [],
   "source": [
    "# 4. 다음 구문의 실행 결과는?"
   ]
  },
  {
   "cell_type": "code",
   "execution_count": null,
   "id": "66a52d2d",
   "metadata": {},
   "outputs": [],
   "source": [
    "# 5. 다음 구문의 실행 결과는?"
   ]
  },
  {
   "cell_type": "code",
   "execution_count": null,
   "id": "509e0916",
   "metadata": {},
   "outputs": [],
   "source": [
    "# 6. 파이썬 함수에 대한 설명 중 잘못된 것은?"
   ]
  },
  {
   "cell_type": "code",
   "execution_count": null,
   "id": "96133da2",
   "metadata": {},
   "outputs": [],
   "source": [
    "# 7. 다음과 같은 구문이 있을 경우 오류가 발생하는 함수 호출은?"
   ]
  },
  {
   "cell_type": "code",
   "execution_count": null,
   "id": "6f0201ba",
   "metadata": {},
   "outputs": [],
   "source": [
    "# 8. 다음 보기가 설명하는 것을 작성하기 위한 키워드를 쓰세요(영문 소문자로 쓰세요)."
   ]
  }
 ],
 "metadata": {
  "kernelspec": {
   "display_name": "Python 3 (ipykernel)",
   "language": "python",
   "name": "python3"
  },
  "language_info": {
   "codemirror_mode": {
    "name": "ipython",
    "version": 3
   },
   "file_extension": ".py",
   "mimetype": "text/x-python",
   "name": "python",
   "nbconvert_exporter": "python",
   "pygments_lexer": "ipython3",
   "version": "3.10.9"
  },
  "toc": {
   "base_numbering": 1,
   "nav_menu": {},
   "number_sections": false,
   "sideBar": true,
   "skip_h1_title": false,
   "title_cell": "Table of Contents",
   "title_sidebar": "Contents",
   "toc_cell": false,
   "toc_position": {
    "height": "calc(100% - 180px)",
    "left": "10px",
    "top": "150px",
    "width": "314px"
   },
   "toc_section_display": true,
   "toc_window_display": true
  }
 },
 "nbformat": 4,
 "nbformat_minor": 5
}

{
 "cells": [
  {
   "cell_type": "code",
   "execution_count": 40,
   "id": "95201de5",
   "metadata": {},
   "outputs": [
    {
     "data": {
      "text/html": [
       "\n",
       "<style>\n",
       "div.container{width:90% !important;}\n",
       "div.cell.code_cell.rendered{width:100%;}\n",
       "div.input_prompt{padding:0px;}\n",
       "div.CodeMirror {font-family:Consolas; font-size:12pt;}\n",
       "div.text_cell_render.rendered_html{font-size:12pt;}\n",
       "div.output {font-size:12pt; font-weight:bold;}\n",
       "div.input {font-family:Consolas; font-size:12pt;}\n",
       "div.prompt {min-width:70px;}\n",
       "div#toc-wrapper{padding-top:120px;}\n",
       "div.text_cell_render ul li{font-size:12pt;padding:5px;}\n",
       "table.dataframe{font-size:12px;}\n",
       "</style>\n"
      ],
      "text/plain": [
       "<IPython.core.display.HTML object>"
      ]
     },
     "metadata": {},
     "output_type": "display_data"
    }
   ],
   "source": [
    "from IPython.display import display, HTML\n",
    "display(HTML(\"\"\"\n",
    "<style>\n",
    "div.container{width:90% !important;}\n",
    "div.cell.code_cell.rendered{width:100%;}\n",
    "div.input_prompt{padding:0px;}\n",
    "div.CodeMirror {font-family:Consolas; font-size:12pt;}\n",
    "div.text_cell_render.rendered_html{font-size:12pt;}\n",
    "div.output {font-size:12pt; font-weight:bold;}\n",
    "div.input {font-family:Consolas; font-size:12pt;}\n",
    "div.prompt {min-width:70px;}\n",
    "div#toc-wrapper{padding-top:120px;}\n",
    "div.text_cell_render ul li{font-size:12pt;padding:5px;}\n",
    "table.dataframe{font-size:12px;}\n",
    "</style>\n",
    "\"\"\"))"
   ]
  },
  {
   "cell_type": "markdown",
   "id": "0246c223",
   "metadata": {},
   "source": [
    "<b><font size=\"6\" color=\"red\">ch05. 함수</font></b>\n",
    "- 반복해서 사용할 코드를 묶어 놓고 그것에 이름을 붙인 것\n",
    "- 같은 이름의 함수는 없음(overloading 불가)\n",
    "- 함수 정의\n",
    "```\n",
    "def 함수명([매개변수1, 매개변수2, ...]): # []는 생략 가능하다는 표시임\n",
    "    명령어1\n",
    "    명령어2\n",
    "```\n",
    "# 1. 함수의 정의 및 사용\n",
    "## 1.1.함수 정의"
   ]
  },
  {
   "cell_type": "code",
   "execution_count": 2,
   "id": "0ac9c427",
   "metadata": {},
   "outputs": [],
   "source": [
    "def my_message(x, msg): # msg를 x번 출력하는 함수 정의\n",
    "    for i in range(x):\n",
    "        print(i, msg)"
   ]
  },
  {
   "cell_type": "code",
   "execution_count": 3,
   "id": "251a9cb3",
   "metadata": {},
   "outputs": [
    {
     "name": "stdout",
     "output_type": "stream",
     "text": [
      "0 Hello\n",
      "1 Hello\n",
      "2 Hello\n"
     ]
    }
   ],
   "source": [
    "# 함수 사용 == 함수 호출\n",
    "my_message(3, 'Hello')"
   ]
  },
  {
   "cell_type": "code",
   "execution_count": 4,
   "id": "935f5b6d",
   "metadata": {},
   "outputs": [
    {
     "name": "stdout",
     "output_type": "stream",
     "text": [
      "0 Hello\n",
      "1 Hello\n",
      "0 Python\n",
      "1 Python\n",
      "2 Python\n"
     ]
    }
   ],
   "source": [
    "# 함수 이름 변경\n",
    "my_msg = my_message\n",
    "my_message(2, 'Hello')\n",
    "my_msg (3, 'Python')"
   ]
  },
  {
   "cell_type": "code",
   "execution_count": 5,
   "id": "74268d33",
   "metadata": {},
   "outputs": [
    {
     "data": {
      "text/plain": [
       "(function, function)"
      ]
     },
     "execution_count": 5,
     "metadata": {},
     "output_type": "execute_result"
    }
   ],
   "source": [
    "type(my_msg), type(my_message)"
   ]
  },
  {
   "cell_type": "code",
   "execution_count": 6,
   "id": "11386902",
   "metadata": {},
   "outputs": [
    {
     "name": "stdout",
     "output_type": "stream",
     "text": [
      "Hello\n",
      "Hello\n"
     ]
    }
   ],
   "source": [
    "print('Hello') # 파이썬 내장 함수(import하지 않고 사용할 수 있는 함수)\n",
    "print = 5\n",
    "# print('Hello')\n",
    "del print\n",
    "print('Hello')"
   ]
  },
  {
   "cell_type": "code",
   "execution_count": 7,
   "id": "d390f4c2",
   "metadata": {},
   "outputs": [
    {
     "name": "stdout",
     "output_type": "stream",
     "text": [
      "0 Hello\n",
      "1 Hello\n"
     ]
    }
   ],
   "source": [
    "my_message(2, 'Hello')"
   ]
  },
  {
   "cell_type": "code",
   "execution_count": 8,
   "id": "43cbbb4a",
   "metadata": {},
   "outputs": [
    {
     "name": "stdout",
     "output_type": "stream",
     "text": [
      "0 Hello\n",
      "1 Hello\n"
     ]
    }
   ],
   "source": [
    "my_message = 5\n",
    "my_msg(2, 'Hello')"
   ]
  },
  {
   "cell_type": "code",
   "execution_count": 9,
   "id": "bdce00a5",
   "metadata": {},
   "outputs": [
    {
     "ename": "TypeError",
     "evalue": "'int' object is not callable",
     "output_type": "error",
     "traceback": [
      "\u001b[1;31m---------------------------------------------------------------------------\u001b[0m",
      "\u001b[1;31mTypeError\u001b[0m                                 Traceback (most recent call last)",
      "Cell \u001b[1;32mIn[9], line 1\u001b[0m\n\u001b[1;32m----> 1\u001b[0m \u001b[43mmy_message\u001b[49m\u001b[43m(\u001b[49m\u001b[38;5;241;43m2\u001b[39;49m\u001b[43m,\u001b[49m\u001b[43m \u001b[49m\u001b[38;5;124;43m'\u001b[39;49m\u001b[38;5;124;43mHello\u001b[39;49m\u001b[38;5;124;43m'\u001b[39;49m\u001b[43m)\u001b[49m\n",
      "\u001b[1;31mTypeError\u001b[0m: 'int' object is not callable"
     ]
    }
   ],
   "source": [
    "my_message(2, 'Hello')"
   ]
  },
  {
   "cell_type": "code",
   "execution_count": null,
   "id": "0802c7ab",
   "metadata": {},
   "outputs": [],
   "source": [
    "del my_message # 사용자 정의 함수, 라이브러리 함수는 del(변수 및 함수 제거)하면 사용 불가"
   ]
  },
  {
   "cell_type": "code",
   "execution_count": 10,
   "id": "aba06922",
   "metadata": {},
   "outputs": [],
   "source": [
    "# 함수의 overloading 불가 (함수의 중복 정의 불가!)\n",
    "def my_hello():\n",
    "    print('Hello Python')\n",
    "    print('Hello World')\n",
    "def my_hello(cnt): # cnt번 출력\n",
    "    for i in range(cnt):\n",
    "        print('Hello Python', end='\\t')\n",
    "        print('Hello World')"
   ]
  },
  {
   "cell_type": "code",
   "execution_count": 11,
   "id": "cdeca402",
   "metadata": {},
   "outputs": [
    {
     "name": "stdout",
     "output_type": "stream",
     "text": [
      "Hello Python\tHello World\n",
      "Hello Python\tHello World\n"
     ]
    }
   ],
   "source": [
    "my_hello(2)"
   ]
  },
  {
   "cell_type": "code",
   "execution_count": 12,
   "id": "1785da3b",
   "metadata": {},
   "outputs": [
    {
     "data": {
      "text/plain": [
       "<function __main__.my_hello(cnt)>"
      ]
     },
     "execution_count": 12,
     "metadata": {},
     "output_type": "execute_result"
    }
   ],
   "source": [
    "my_hello"
   ]
  },
  {
   "cell_type": "code",
   "execution_count": 13,
   "id": "0bdf1d07",
   "metadata": {},
   "outputs": [
    {
     "data": {
      "text/plain": [
       "'__main__'"
      ]
     },
     "execution_count": 13,
     "metadata": {},
     "output_type": "execute_result"
    }
   ],
   "source": [
    "__name__"
   ]
  },
  {
   "cell_type": "code",
   "execution_count": 14,
   "id": "279f4663",
   "metadata": {},
   "outputs": [
    {
     "name": "stdout",
     "output_type": "stream",
     "text": [
      "Hello Python\tHello World\n",
      "Hello Python\tHello World\n"
     ]
    }
   ],
   "source": [
    "if __name__ == '__main__':\n",
    "    my_hello(2)"
   ]
  },
  {
   "cell_type": "code",
   "execution_count": 15,
   "id": "28e48134",
   "metadata": {},
   "outputs": [],
   "source": [
    "import ch05"
   ]
  },
  {
   "cell_type": "code",
   "execution_count": 16,
   "id": "8bc9407e",
   "metadata": {},
   "outputs": [
    {
     "name": "stdout",
     "output_type": "stream",
     "text": [
      "ch05\n",
      "Hello, Python\tHello, World\n",
      "Hello, Python\tHello, World\n",
      "Hello, Python\tHello, World\n"
     ]
    }
   ],
   "source": [
    "ch05.my_hello(3)"
   ]
  },
  {
   "cell_type": "code",
   "execution_count": 17,
   "id": "de3576b5",
   "metadata": {},
   "outputs": [],
   "source": [
    "from ch05 import my_hello # ch05 모듈 안의 my_hello만 메모리 로드"
   ]
  },
  {
   "cell_type": "code",
   "execution_count": 18,
   "id": "77897e5f",
   "metadata": {},
   "outputs": [
    {
     "data": {
      "text/plain": [
       "<function ch05.my_hello(cnt)>"
      ]
     },
     "execution_count": 18,
     "metadata": {},
     "output_type": "execute_result"
    }
   ],
   "source": [
    "my_hello"
   ]
  },
  {
   "cell_type": "markdown",
   "id": "09c4dfe1",
   "metadata": {},
   "source": [
    "## 1.2.docstring"
   ]
  },
  {
   "cell_type": "code",
   "execution_count": 19,
   "id": "74f4822a",
   "metadata": {},
   "outputs": [],
   "source": [
    "def my_function():\n",
    "    '''\n",
    "    함수의 첫 라인에 독스트링을 포함할 수 있음\n",
    "    독스트링은 함수의 설명서를 달아주는 역할\n",
    "    주석보다 많은 기능(함수 호출 시 shift+tab으로 독스트링을 볼 수 있음)\n",
    "    '''\n",
    "    pass"
   ]
  },
  {
   "cell_type": "code",
   "execution_count": 20,
   "id": "1f0025ea",
   "metadata": {},
   "outputs": [
    {
     "name": "stdout",
     "output_type": "stream",
     "text": [
      "\n",
      "    함수의 첫 라인에 독스트링을 포함할 수 있음\n",
      "    독스트링은 함수의 설명서를 달아주는 역할\n",
      "    주석보다 많은 기능(함수 호출 시 shift+tab으로 독스트링을 볼 수 있음)\n",
      "    \n"
     ]
    }
   ],
   "source": [
    "print(my_function.__doc__)"
   ]
  },
  {
   "cell_type": "code",
   "execution_count": 21,
   "id": "eb9117ea",
   "metadata": {},
   "outputs": [],
   "source": [
    "def fibonacci(n):\n",
    "    '''\n",
    "    매개변수로 들어온 n값 미만의 피보나치 수열을 출력하는 함수\n",
    "    ex. n=10 : 0 1 1 2 3 5 8\n",
    "        n=100 : 0 1 1 2 3 5 8 13 21 34 55 89\n",
    "    '''\n",
    "    a, b = 0, 1 # 함수 내에 선언한 변수 : 지역변수 (반댓말 : 전역변수); 지역변수는 함수 안에서만 사용 가능\n",
    "    while a < n:\n",
    "        print(a, end=' ')\n",
    "        a, b = b, a+b\n",
    "    print() # 개행"
   ]
  },
  {
   "cell_type": "code",
   "execution_count": 22,
   "id": "ad4f290c",
   "metadata": {},
   "outputs": [
    {
     "name": "stdout",
     "output_type": "stream",
     "text": [
      "0 1 1 2 3 5 8 13 21 34 55 89 144 233 377 610 987 1597 2584 4181 6765 \n"
     ]
    }
   ],
   "source": [
    "fibonacci(10000)"
   ]
  },
  {
   "cell_type": "markdown",
   "id": "4f3b2e6e",
   "metadata": {},
   "source": [
    "## 1.3.지역변수(local variable)와 전역변수(global variable)"
   ]
  },
  {
   "cell_type": "code",
   "execution_count": 23,
   "id": "222ee57e",
   "metadata": {},
   "outputs": [
    {
     "name": "stdout",
     "output_type": "stream",
     "text": [
      "함수 안 : 100\n",
      "함수 밖 : 100\n"
     ]
    }
   ],
   "source": [
    "global_var = 100\n",
    "def func1():\n",
    "    print('함수 안 :', global_var)\n",
    "func1()\n",
    "print('함수 밖 :', global_var)"
   ]
  },
  {
   "cell_type": "code",
   "execution_count": 24,
   "id": "4ce4d714",
   "metadata": {},
   "outputs": [
    {
     "name": "stdout",
     "output_type": "stream",
     "text": [
      "함수 안 : 200\n"
     ]
    }
   ],
   "source": [
    "def func2():\n",
    "    local_var = 200 # 지역변수(함수 내에서 할당)\n",
    "    print('함수 안 :', local_var )\n",
    "func2()"
   ]
  },
  {
   "cell_type": "code",
   "execution_count": 25,
   "id": "d7dc3629",
   "metadata": {},
   "outputs": [],
   "source": [
    "#print('함수 밖에서 지역변수 :', local_var) #에러 발생"
   ]
  },
  {
   "cell_type": "code",
   "execution_count": 26,
   "id": "c665484e",
   "metadata": {},
   "outputs": [
    {
     "name": "stdout",
     "output_type": "stream",
     "text": [
      "지역변수 g_var : 200\n",
      "전역변수 g_var : 100\n"
     ]
    }
   ],
   "source": [
    "g_var = 100 #전역변수\n",
    "def func3():\n",
    "    g_var = 200 # 지역변수(함수 내에서 할당)\n",
    "    print('지역변수 g_var :', g_var)\n",
    "func3()\n",
    "print('전역변수 g_var :', g_var)"
   ]
  },
  {
   "cell_type": "code",
   "execution_count": 27,
   "id": "8dd2696d",
   "metadata": {},
   "outputs": [],
   "source": [
    "# lexical 특성 : 변수가 어디서 선언되었는지 그 위치에 따라 변수의 범위(local vs global)가 정해짐\n",
    "# g_var = 100 #전역변수\n",
    "# def func3():\n",
    "#     print('지역변수 g_var :', g_var)\n",
    "#     g_var = 200 # 지역변수(함수 내에서 할당) \n",
    "# func3()\n",
    "# print('전역변수 g_var :', g_var)\n",
    "#에러 발생함"
   ]
  },
  {
   "cell_type": "code",
   "execution_count": 28,
   "id": "1425ce17",
   "metadata": {},
   "outputs": [
    {
     "name": "stdout",
     "output_type": "stream",
     "text": [
      "전역변수 g_var : 100\n",
      "전역변수 g_var : 200\n"
     ]
    }
   ],
   "source": [
    "# lexical 특성\n",
    "g_var = 100 #전역변수\n",
    "def func3():\n",
    "    global g_var # '함수 안에서 g_var는 전역변수를 쓰겠다'\n",
    "    print('전역변수 g_var :', g_var)\n",
    "    g_var = 200 # 전역변수 g_var에 200 할당\n",
    "func3()\n",
    "print('전역변수 g_var :', g_var)"
   ]
  },
  {
   "cell_type": "markdown",
   "id": "d6b56ab7",
   "metadata": {},
   "source": [
    "## 1.4.값에 의한 호출\n",
    "- 함수에 인수로 전달되는 변수가 스칼라 변수(문자, 숫자, 논리형)일 때"
   ]
  },
  {
   "cell_type": "code",
   "execution_count": 29,
   "id": "8eedb80f",
   "metadata": {},
   "outputs": [
    {
     "data": {
      "text/plain": [
       "2509325166384"
      ]
     },
     "execution_count": 29,
     "metadata": {},
     "output_type": "execute_result"
    }
   ],
   "source": [
    "foo = 'a' #전역변수\n",
    "id(foo)"
   ]
  },
  {
   "cell_type": "code",
   "execution_count": 30,
   "id": "b9494c28",
   "metadata": {},
   "outputs": [
    {
     "name": "stdout",
     "output_type": "stream",
     "text": [
      "Before : a 의 주소는  2509325166384\n",
      "After : aaa 의 주소는  2509396510000\n"
     ]
    }
   ],
   "source": [
    "def func1(f): #매개변수는 지역변수\n",
    "    print('Before :', f, '의 주소는 ', id(f))\n",
    "    f = f*3\n",
    "    print('After :', f, '의 주소는 ', id(f))\n",
    "func1(foo)"
   ]
  },
  {
   "cell_type": "code",
   "execution_count": 31,
   "id": "b732e520",
   "metadata": {},
   "outputs": [
    {
     "name": "stdout",
     "output_type": "stream",
     "text": [
      "foo = a 의 주소는 2509325166384\n"
     ]
    }
   ],
   "source": [
    "print('foo =', foo, '의 주소는', id(foo))"
   ]
  },
  {
   "cell_type": "markdown",
   "id": "820c30e9",
   "metadata": {},
   "source": [
    "## 1.5.참조에 의한 호출\n",
    "- 함수에 인수로 전달되는 변수가 리스트, 튜플, 셋, 딕셔너리, 기타 객체(데이터 프레임, 배열 등)일 경우"
   ]
  },
  {
   "cell_type": "code",
   "execution_count": 32,
   "id": "dbc27fb3",
   "metadata": {},
   "outputs": [
    {
     "data": {
      "text/plain": [
       "2509423338944"
      ]
     },
     "execution_count": 32,
     "metadata": {},
     "output_type": "execute_result"
    }
   ],
   "source": [
    "L = [1, 2, 3, 4, 5]\n",
    "id(L)"
   ]
  },
  {
   "cell_type": "code",
   "execution_count": 33,
   "id": "12ebbd7c",
   "metadata": {},
   "outputs": [
    {
     "name": "stdout",
     "output_type": "stream",
     "text": [
      "Before : [1, 2, 3, 4, 5] 의 주소는  2509423338944\n",
      "After : [1, 2, 3, 4, 5, 6] 의 주소는  2509423338944\n"
     ]
    }
   ],
   "source": [
    "def func2(l): # 매개변수는 지역변수\n",
    "    print('Before :', l, '의 주소는 ', id(l))\n",
    "    l.append(6)\n",
    "    print('After :', l, '의 주소는 ', id(l))\n",
    "func2(L)"
   ]
  },
  {
   "cell_type": "code",
   "execution_count": 34,
   "id": "b082ab27",
   "metadata": {},
   "outputs": [
    {
     "name": "stdout",
     "output_type": "stream",
     "text": [
      "L = [1, 2, 3, 4, 5, 6] 의 주소는 2509423338944\n"
     ]
    }
   ],
   "source": [
    "print('L =', L, '의 주소는', id(L)) # 리스트 등을 값에 의한 호출을 하고 원본은 그대로 두고 싶은 경우 복제를 실행"
   ]
  },
  {
   "cell_type": "markdown",
   "id": "d543c1c9",
   "metadata": {},
   "source": [
    "# 2. 함수의 실행 결과를 반환하는 return"
   ]
  },
  {
   "cell_type": "code",
   "execution_count": 35,
   "id": "aada4ee6",
   "metadata": {},
   "outputs": [],
   "source": [
    "def fibonacci_print(n):\n",
    "    '''\n",
    "    매개변수로 들어온 n값 미만의 피보나치 수열을 출력하는 함수\n",
    "    ex. n=10 : 0 1 1 2 3 5 8\n",
    "        n=100 : 0 1 1 2 3 5 8 13 21 34 55 89\n",
    "    '''\n",
    "    a, b = 0, 1 # 함수 내에 선언한 변수 : 지역변수 (반댓말 : 전역변수); 지역변수는 함수 안에서만 사용 가능\n",
    "    while a < n:\n",
    "        print(a, end=' ') # 출력\n",
    "        a, b = b, a+b\n",
    "    print() # 개행\n",
    "    \n",
    "def fibonacci(n):\n",
    "    '''\n",
    "    n미만의 피보나치 수열을 리스트로 return\n",
    "    '''\n",
    "    result = [] # 피보나치 수열을 append할 리스트\n",
    "    a, b = 0, 1\n",
    "    while a < n:\n",
    "        result.append(a) # 리스트에 append\n",
    "        a, b = b, a+b\n",
    "    return result"
   ]
  },
  {
   "cell_type": "code",
   "execution_count": 36,
   "id": "e93af857",
   "metadata": {},
   "outputs": [
    {
     "name": "stdout",
     "output_type": "stream",
     "text": [
      "[0, 1, 1, 2, 3, 5, 8]\n",
      "<class 'list'>\n"
     ]
    }
   ],
   "source": [
    "x = fibonacci(10)\n",
    "print(x)\n",
    "print(type(x))"
   ]
  },
  {
   "cell_type": "code",
   "execution_count": 37,
   "id": "363c586a",
   "metadata": {},
   "outputs": [
    {
     "name": "stdout",
     "output_type": "stream",
     "text": [
      "0 1 1 2 3 5 8 \n",
      "x = None\n",
      "<class 'NoneType'>\n"
     ]
    }
   ],
   "source": [
    "x = fibonacci_print(10)\n",
    "print('x =', x)\n",
    "print(type(x))"
   ]
  },
  {
   "cell_type": "markdown",
   "id": "83e6cd95",
   "metadata": {},
   "source": [
    "### 여러 개의 값을 return\n",
    "- 여러 개의 값을 갖는 튜플로 return"
   ]
  },
  {
   "cell_type": "code",
   "execution_count": 38,
   "id": "3a83f136",
   "metadata": {},
   "outputs": [],
   "source": [
    "def swap(a, b):\n",
    "    '매개변수의 순서를 바꿔서 return'\n",
    "    return b, a # return (b, a)"
   ]
  },
  {
   "cell_type": "code",
   "execution_count": 39,
   "id": "092fe1e4",
   "metadata": {},
   "outputs": [
    {
     "name": "stdout",
     "output_type": "stream",
     "text": [
      "함수 실행 전 x, y = 5 10\n",
      "함수 실행 후 x, y = 10 5\n"
     ]
    }
   ],
   "source": [
    "x = 5; y = 10\n",
    "print('함수 실행 전 x, y =', x, y)\n",
    "x, y = swap(x, y)\n",
    "print('함수 실행 후 x, y =', x, y)"
   ]
  },
  {
   "cell_type": "markdown",
   "id": "fcafe7ae",
   "metadata": {},
   "source": [
    "# 3. 함수의 매개변수 ★\n",
    "## 3.1.기본값을 갖는 매개변수"
   ]
  },
  {
   "cell_type": "code",
   "execution_count": 40,
   "id": "e2a9a868",
   "metadata": {},
   "outputs": [],
   "source": [
    "def make_url(ip, port=80): # 순서인수 > 기본값을 갖는 매개변수 순으로 배치\n",
    "    return 'http://{}:{}'.format(ip, port)"
   ]
  },
  {
   "cell_type": "code",
   "execution_count": 41,
   "id": "b49b0e71",
   "metadata": {},
   "outputs": [
    {
     "name": "stdout",
     "output_type": "stream",
     "text": [
      "http://localhost:8090\n",
      "http://www.naver.com:80\n",
      "http://localhost:9090\n"
     ]
    }
   ],
   "source": [
    "print(make_url('localhost', 8090))\n",
    "print(make_url('www.naver.com'))\n",
    "print(make_url(port=9090, ip='localhost'))"
   ]
  },
  {
   "cell_type": "markdown",
   "id": "45882a9f",
   "metadata": {},
   "source": [
    "## 3.2.기본변수를 기본값으로 갖는 매개변수\n",
    "- 기본변수가 스칼라 변수(문자, 숫자, 논리형)일 때\n",
    "- 기본변수가 리스트, 셋, 딕셔너리, 기타 객체일 때"
   ]
  },
  {
   "cell_type": "code",
   "execution_count": 42,
   "id": "c41b8951",
   "metadata": {},
   "outputs": [],
   "source": [
    "i = 80\n",
    "# 기본변수가 스칼라 변수일 때 : 함수가 정의되는 시점으로 기본값 셋팅\n",
    "def make_url(ip, port=i):\n",
    "    return 'http://{}:{}'.format(ip, port)"
   ]
  },
  {
   "cell_type": "code",
   "execution_count": 43,
   "id": "2008241a",
   "metadata": {},
   "outputs": [
    {
     "data": {
      "text/plain": [
       "'http://localhost:80'"
      ]
     },
     "execution_count": 43,
     "metadata": {},
     "output_type": "execute_result"
    }
   ],
   "source": [
    "i = 90\n",
    "make_url('localhost')"
   ]
  },
  {
   "cell_type": "code",
   "execution_count": 44,
   "id": "b77d730a",
   "metadata": {},
   "outputs": [
    {
     "name": "stdout",
     "output_type": "stream",
     "text": [
      "[10]\n"
     ]
    }
   ],
   "source": [
    "list_ = []\n",
    "# 기본변수가 리스트, 셋, 딕셔너리, 객체일 때 : 함수가 실행되는 시점으로 기본값 셋팅\n",
    "def func3(a, L=list_):\n",
    "    L.append(a)\n",
    "    return L\n",
    "print(func3(10))"
   ]
  },
  {
   "cell_type": "code",
   "execution_count": 45,
   "id": "0e258e94",
   "metadata": {},
   "outputs": [
    {
     "name": "stdout",
     "output_type": "stream",
     "text": [
      "[10, 20]\n"
     ]
    }
   ],
   "source": [
    "print(func3(20))"
   ]
  },
  {
   "cell_type": "code",
   "execution_count": 46,
   "id": "a93f4411",
   "metadata": {},
   "outputs": [
    {
     "name": "stdout",
     "output_type": "stream",
     "text": [
      "[10, 20, 30]\n"
     ]
    }
   ],
   "source": [
    "print(func3(30))"
   ]
  },
  {
   "cell_type": "code",
   "execution_count": 47,
   "id": "1b969b16",
   "metadata": {},
   "outputs": [
    {
     "name": "stdout",
     "output_type": "stream",
     "text": [
      "[10]\n",
      "[20]\n"
     ]
    }
   ],
   "source": [
    "# 실행할 때마다 L을 공유하는 게 싫으면 기본값을 상수로 가져올 것\n",
    "def func3(a, L=None):\n",
    "    if L is None: # None은 is로 비교\n",
    "        L = []\n",
    "    L.append(a)\n",
    "    return L\n",
    "print(func3(10))\n",
    "print(func3(20))"
   ]
  },
  {
   "cell_type": "markdown",
   "id": "0bd6a920",
   "metadata": {},
   "source": [
    "## 3.3.순서인수, 키워드인수\n",
    "- 순서인수 : 함수에 정의된 순서대로 전달하는 방식\n",
    "- 키워드인수 : 인수의 이름을 명시하여 전달하는 방식\n",
    "- 함수 정의 시 순서인수와 키워드인수가 같이 올 때는 순서인수 > 키워드인수 순으로"
   ]
  },
  {
   "cell_type": "code",
   "execution_count": 48,
   "id": "421d736c",
   "metadata": {},
   "outputs": [],
   "source": [
    "def func3(a, L=None):\n",
    "    if L is None:\n",
    "        L = []\n",
    "    L.append(a)\n",
    "    return L"
   ]
  },
  {
   "cell_type": "code",
   "execution_count": 49,
   "id": "484687e6",
   "metadata": {},
   "outputs": [
    {
     "name": "stdout",
     "output_type": "stream",
     "text": [
      "[10]\n",
      "[10, 20]\n"
     ]
    }
   ],
   "source": [
    "lst = []\n",
    "print(func3(10, lst)) # 순서인수 : 함수 정의된 순서대로 전달하는 방식(s. o.)\n",
    "print(func3(L=lst, a=20)) # 키워드인수 : 인수의 이름을 명시하여 전달하는 방식"
   ]
  },
  {
   "cell_type": "markdown",
   "id": "5f169261",
   "metadata": {},
   "source": [
    "## 3.4.튜플 매개변수를 이용한 가변인수 설정 ★\n",
    "- 가변인수 : 매개변수의 개수가 가변"
   ]
  },
  {
   "cell_type": "code",
   "execution_count": 50,
   "id": "3a55d405",
   "metadata": {},
   "outputs": [],
   "source": [
    "# 파이썬은 함수의 중복 정의(overloading)을 지원하지 않음\n",
    "def add(a, b):\n",
    "    return a+b\n",
    "def add(a, b, c):\n",
    "    return a+b+c"
   ]
  },
  {
   "cell_type": "code",
   "execution_count": 51,
   "id": "12590ff7",
   "metadata": {},
   "outputs": [
    {
     "data": {
      "text/plain": [
       "10"
      ]
     },
     "execution_count": 51,
     "metadata": {},
     "output_type": "execute_result"
    }
   ],
   "source": [
    "add(3, 5, 2)"
   ]
  },
  {
   "cell_type": "code",
   "execution_count": 52,
   "id": "c34817f8",
   "metadata": {},
   "outputs": [],
   "source": [
    "# args 앞에 * : args가 튜플로 전달된다\n",
    "def add(*args):\n",
    "    # print('args =', args)\n",
    "    '전달받은 매개변수들의 합을 return. 매개변수가 없는 경우 0을 return'\n",
    "    sum = 0 # 누적변수\n",
    "    for num in args:\n",
    "        sum += num # sum = sum + num\n",
    "    return sum"
   ]
  },
  {
   "cell_type": "code",
   "execution_count": 53,
   "id": "e02a3b92",
   "metadata": {},
   "outputs": [
    {
     "name": "stdout",
     "output_type": "stream",
     "text": [
      "0\n",
      "1\n",
      "4\n"
     ]
    },
    {
     "data": {
      "text/plain": [
       "55"
      ]
     },
     "execution_count": 53,
     "metadata": {},
     "output_type": "execute_result"
    }
   ],
   "source": [
    "print(add())\n",
    "print(add(1))\n",
    "print(add(1, 3))\n",
    "add(1, 2, 3, 4, 5, 6, 7, 8, 9, 10)"
   ]
  },
  {
   "cell_type": "code",
   "execution_count": 54,
   "id": "5b93ba23",
   "metadata": {},
   "outputs": [
    {
     "data": {
      "text/plain": [
       "'Python-HTML/CSS-JavaScript-DBMS'"
      ]
     },
     "execution_count": 54,
     "metadata": {},
     "output_type": "execute_result"
    }
   ],
   "source": [
    "subject = ('Python', 'HTML/CSS', 'JavaScript', 'DBMS')\n",
    "'-'.join(subject)"
   ]
  },
  {
   "cell_type": "code",
   "execution_count": 55,
   "id": "03b52d6c",
   "metadata": {},
   "outputs": [],
   "source": [
    "# 튜플 매개변수와 일반 매개변수가 같이 있을 때 \n",
    "def concat(*subject, sep): # concat << concatenate\n",
    "    return sep.join(subject)"
   ]
  },
  {
   "cell_type": "code",
   "execution_count": 56,
   "id": "d96a8a92",
   "metadata": {},
   "outputs": [
    {
     "ename": "TypeError",
     "evalue": "concat() missing 1 required keyword-only argument: 'sep'",
     "output_type": "error",
     "traceback": [
      "\u001b[1;31m---------------------------------------------------------------------------\u001b[0m",
      "\u001b[1;31mTypeError\u001b[0m                                 Traceback (most recent call last)",
      "Cell \u001b[1;32mIn[56], line 1\u001b[0m\n\u001b[1;32m----> 1\u001b[0m \u001b[43mconcat\u001b[49m\u001b[43m(\u001b[49m\u001b[38;5;124;43m'\u001b[39;49m\u001b[38;5;124;43mPython\u001b[39;49m\u001b[38;5;124;43m'\u001b[39;49m\u001b[43m,\u001b[49m\u001b[43m \u001b[49m\u001b[38;5;124;43m'\u001b[39;49m\u001b[38;5;124;43mHTML/CSS\u001b[39;49m\u001b[38;5;124;43m'\u001b[39;49m\u001b[43m,\u001b[49m\u001b[43m \u001b[49m\u001b[38;5;124;43m'\u001b[39;49m\u001b[38;5;124;43mJavaScript\u001b[39;49m\u001b[38;5;124;43m'\u001b[39;49m\u001b[43m,\u001b[49m\u001b[43m \u001b[49m\u001b[38;5;124;43m'\u001b[39;49m\u001b[38;5;124;43mDBMS\u001b[39;49m\u001b[38;5;124;43m'\u001b[39;49m\u001b[43m,\u001b[49m\u001b[43m \u001b[49m\u001b[38;5;124;43m'\u001b[39;49m\u001b[38;5;124;43m-\u001b[39;49m\u001b[38;5;124;43m'\u001b[39;49m\u001b[43m)\u001b[49m\n",
      "\u001b[1;31mTypeError\u001b[0m: concat() missing 1 required keyword-only argument: 'sep'"
     ]
    }
   ],
   "source": [
    "concat('Python', 'HTML/CSS', 'JavaScript', 'DBMS', '-')"
   ]
  },
  {
   "cell_type": "code",
   "execution_count": 57,
   "id": "c5b65443",
   "metadata": {},
   "outputs": [
    {
     "data": {
      "text/plain": [
       "'Python-HTML/CSS-JavaScript-DBMS'"
      ]
     },
     "execution_count": 57,
     "metadata": {},
     "output_type": "execute_result"
    }
   ],
   "source": [
    "# 해결책1 : 파라미터 매개변수 이름을 지정해서 호출하는 방법\n",
    "concat('Python', 'HTML/CSS', 'JavaScript', 'DBMS', sep='-')"
   ]
  },
  {
   "cell_type": "code",
   "execution_count": 58,
   "id": "0b400526",
   "metadata": {},
   "outputs": [
    {
     "name": "stdout",
     "output_type": "stream",
     "text": [
      "Python ~ HTML/CSS ~ JavaScript ~ DBMS\n",
      "Python-HTML/CSS-JavaScript-DBMS\n"
     ]
    }
   ],
   "source": [
    "# 해결책2 : 기본값을 갖는 키워드인수를 사용하는 방법 \n",
    "def concat(*subject, sep=' ~ '): # 튜플 매개변수 > 키워드인수 순으로 \n",
    "    return sep.join(subject)\n",
    "print(concat('Python', 'HTML/CSS', 'JavaScript', 'DBMS'))\n",
    "print(concat('Python', 'HTML/CSS', 'JavaScript', 'DBMS', sep='-'))"
   ]
  },
  {
   "cell_type": "code",
   "execution_count": 59,
   "id": "123d29a2",
   "metadata": {},
   "outputs": [],
   "source": [
    "# 해결책3 ★(강추!) : sep을 순서인수로 앞으로 선언하는 방법! 순서인수 > 튜플 매개변수 > 키워드인수\n",
    "def concat(sep, *subject):\n",
    "    return sep.join(subject)"
   ]
  },
  {
   "cell_type": "code",
   "execution_count": 60,
   "id": "9dd6832f",
   "metadata": {},
   "outputs": [
    {
     "data": {
      "text/plain": [
       "'Python~Web~DB~MLDL'"
      ]
     },
     "execution_count": 60,
     "metadata": {},
     "output_type": "execute_result"
    }
   ],
   "source": [
    "concat('~', 'Python', 'Web', 'DB', 'MLDL')"
   ]
  },
  {
   "cell_type": "markdown",
   "id": "5bd3d3f2",
   "metadata": {},
   "source": [
    "## 3.5.딕셔너리 매개변수★\n",
    "- 딕셔너리 인수 : 여러 개의 키워드인수를 딕셔너리 형태로 받아서 가변인수로 처리"
   ]
  },
  {
   "cell_type": "code",
   "execution_count": 61,
   "id": "728bc688",
   "metadata": {},
   "outputs": [],
   "source": [
    "def func5(**kwargs): # **args : 딕셔너리 매개변수(딕셔너리로 전달받음)\n",
    "    print('이름 :', args.get('name', '몰라'))\n",
    "    print('나이 :', args.get('age', 30))\n",
    "    print('전화 :', args.get('tel', '없음'))\n",
    "    print('주소 :', args.get('address', '서울 관악')) # 데이터 시각화 등을 위해 나중에 필요!"
   ]
  },
  {
   "cell_type": "code",
   "execution_count": 62,
   "id": "2d544db6",
   "metadata": {},
   "outputs": [],
   "source": [
    "def func5(**kwargs):\n",
    "    print(kwargs)\n",
    "    print(type(kwargs))\n",
    "    if 'address' not in kwargs: # args에 address키가 없으면 if문 True\n",
    "        kwargs['address'] = '서울시 관악구' # args.update({'address' : '서울시 관악구'}) | args.update(address='서울시 관악구')\n",
    "    for key, value in kwargs.items():\n",
    "        print('{} : {}'.format(key, value))"
   ]
  },
  {
   "cell_type": "code",
   "execution_count": 63,
   "id": "28ebcaa7",
   "metadata": {},
   "outputs": [
    {
     "name": "stdout",
     "output_type": "stream",
     "text": [
      "{'name': '홍길동', 'age': 30, 'tel': '010-9999-9999'}\n",
      "<class 'dict'>\n",
      "name : 홍길동\n",
      "age : 30\n",
      "tel : 010-9999-9999\n",
      "address : 서울시 관악구\n"
     ]
    }
   ],
   "source": [
    "func5(name='홍길동', age=30, tel='010-9999-9999')"
   ]
  },
  {
   "cell_type": "markdown",
   "id": "4c2d01ae",
   "metadata": {},
   "source": [
    "## 3.6.함수 정의 시 매개변수의 순서★\n",
    "- 순서인수 > 튜플인수(*) > 키워드인수(기본값) > 딕셔너리인수(**)"
   ]
  },
  {
   "cell_type": "code",
   "execution_count": 64,
   "id": "d14ab9ef",
   "metadata": {},
   "outputs": [],
   "source": [
    "# 순서인수 > 튜플인수 > 딕셔너리인수\n",
    "def func6(a, b, *c, **d):\n",
    "    print('순서인수 a = ', a)\n",
    "    print('순서인수 b = ', b)\n",
    "    print('튜플인수 c = ', c)\n",
    "    print('딕셔너리인수 d = ', d)"
   ]
  },
  {
   "cell_type": "code",
   "execution_count": 65,
   "id": "33f1e20d",
   "metadata": {},
   "outputs": [
    {
     "name": "stdout",
     "output_type": "stream",
     "text": [
      "순서인수 a =  10\n",
      "순서인수 b =  20\n",
      "튜플인수 c =  (1, 2, 3, 4, 5, 6, 7, 8, 9, 'a', 'b', True)\n",
      "딕셔너리인수 d =  {'name': '홍', 'age': 30, 'address': '신림'}\n"
     ]
    }
   ],
   "source": [
    "func6(10, 20, 1,2,3,4,5,6,7,8,9,'a','b',True, name='홍', age=30, address='신림')"
   ]
  },
  {
   "cell_type": "code",
   "execution_count": 66,
   "id": "a57b6efe",
   "metadata": {},
   "outputs": [],
   "source": [
    "# 순서인수 > 튜플인수(*) > 키워드인수(기본값) > 딕셔너리인수(**)\n",
    "def func7(a, b, c, *d, e=10, **f ):\n",
    "    print('순서인수 a = ', a)\n",
    "    print('순서인수 b = ', b)\n",
    "    print('순서인수 c = ', c)\n",
    "    print('튜플인수 d = ', d)\n",
    "    print('키워드인수(기본갑=10) e = ', e)\n",
    "    print('딕셔너리인수 f = ', f)"
   ]
  },
  {
   "cell_type": "code",
   "execution_count": 67,
   "id": "c6ae08be",
   "metadata": {},
   "outputs": [
    {
     "name": "stdout",
     "output_type": "stream",
     "text": [
      "순서인수 a =  10\n",
      "순서인수 b =  20\n",
      "순서인수 c =  30\n",
      "튜플인수 d =  ()\n",
      "키워드인수(기본갑=10) e =  100\n",
      "딕셔너리인수 f =  {}\n"
     ]
    }
   ],
   "source": [
    "func7(10, 20, 30, e=100)"
   ]
  },
  {
   "cell_type": "code",
   "execution_count": 68,
   "id": "4f624452",
   "metadata": {},
   "outputs": [
    {
     "name": "stdout",
     "output_type": "stream",
     "text": [
      "순서인수 a =  10\n",
      "순서인수 b =  20\n",
      "순서인수 c =  30\n",
      "튜플인수 d =  ()\n",
      "키워드인수(기본갑=10) e =  10\n",
      "딕셔너리인수 f =  {}\n"
     ]
    }
   ],
   "source": [
    "func7(10, 20, 30)"
   ]
  },
  {
   "cell_type": "code",
   "execution_count": 69,
   "id": "8b20bcce",
   "metadata": {},
   "outputs": [
    {
     "name": "stdout",
     "output_type": "stream",
     "text": [
      "순서인수 a =  10\n",
      "순서인수 b =  20\n",
      "순서인수 c =  30\n",
      "튜플인수 d =  (1, 2, 3, 4, 5, 6, 7, 8, 9, 10)\n",
      "키워드인수(기본갑=10) e =  100\n",
      "딕셔너리인수 f =  {'shape': 'rect', 'width': 20, 'height': 30}\n"
     ]
    }
   ],
   "source": [
    "func7(10, 20, 30, 1,2,3,4,5,6,7,8,9,10, e=100, shape='rect', width=20, height=30 )"
   ]
  },
  {
   "cell_type": "markdown",
   "id": "0d93677b",
   "metadata": {},
   "source": [
    "## 3.7.인수의 언패킹\n",
    "### 튜플인수 언패킹\n",
    "- 언패킹 : 함수 호출 시 이미 패킹된 리스트나 튜플을 풀기 위해 매개변수 앞에 *를 붙임 \n",
    "- 패킹 : 함수 정의 시 매개변수 앞에 *를 붙임(튜플 매개변수)"
   ]
  },
  {
   "cell_type": "code",
   "execution_count": 70,
   "id": "9e378169",
   "metadata": {},
   "outputs": [],
   "source": [
    "# packing\n",
    "def add(*args):\n",
    "    sum = 0\n",
    "    for num in args:\n",
    "        sum += num\n",
    "    return sum"
   ]
  },
  {
   "cell_type": "code",
   "execution_count": 71,
   "id": "075ffbc3",
   "metadata": {},
   "outputs": [
    {
     "data": {
      "text/plain": [
       "6"
      ]
     },
     "execution_count": 71,
     "metadata": {},
     "output_type": "execute_result"
    }
   ],
   "source": [
    "add(1, 2, 3)"
   ]
  },
  {
   "cell_type": "code",
   "execution_count": 72,
   "id": "c3daff64",
   "metadata": {},
   "outputs": [
    {
     "data": {
      "text/plain": [
       "6"
      ]
     },
     "execution_count": 72,
     "metadata": {},
     "output_type": "execute_result"
    }
   ],
   "source": [
    "# unpacking\n",
    "numbers = [1, 2, 3]\n",
    "add(*numbers)"
   ]
  },
  {
   "cell_type": "markdown",
   "id": "7b716d30",
   "metadata": {},
   "source": [
    "### 딕셔너리 인수 언패킹\n",
    "- 언패킹 : 함수 호출 시 이미 패킹된 딕셔너리를 풀기 위해 매개변수 앞에 **를 붙임 \n",
    "- 패킹 : 함수 정의 시 매개변수 앞에 **를 붙임(딕셔너리 매개변수)"
   ]
  },
  {
   "cell_type": "code",
   "execution_count": 73,
   "id": "41c1ce7b",
   "metadata": {},
   "outputs": [],
   "source": [
    "# packing\n",
    "def func8(**data):\n",
    "    for item in data.items():\n",
    "        print(item)"
   ]
  },
  {
   "cell_type": "code",
   "execution_count": 74,
   "id": "d5a67f73",
   "metadata": {},
   "outputs": [
    {
     "name": "stdout",
     "output_type": "stream",
     "text": [
      "('shape', 'rect')\n",
      "('width', 40)\n",
      "('height', 30)\n"
     ]
    }
   ],
   "source": [
    "func8(shape='rect', width=40, height=30)"
   ]
  },
  {
   "cell_type": "code",
   "execution_count": 75,
   "id": "eadf65e4",
   "metadata": {},
   "outputs": [
    {
     "name": "stdout",
     "output_type": "stream",
     "text": [
      "('shape', 'rect')\n",
      "('width', 40)\n",
      "('height', 30)\n"
     ]
    }
   ],
   "source": [
    "# unpacking\n",
    "info = {'shape':'rect', 'width':40, 'height':30}\n",
    "func8(**info)"
   ]
  },
  {
   "cell_type": "markdown",
   "id": "3eb6ee59",
   "metadata": {},
   "source": [
    "# 4. lambda식★\n",
    "- return 한 줄짜리 작은 익명함수\n",
    "## 4.1.lambda식 연습"
   ]
  },
  {
   "cell_type": "code",
   "execution_count": 76,
   "id": "68edfdfb",
   "metadata": {},
   "outputs": [
    {
     "name": "stdout",
     "output_type": "stream",
     "text": [
      "8\n",
      "<class 'function'>\n"
     ]
    }
   ],
   "source": [
    "def add(a, b):\n",
    "    return a+b\n",
    "print(add(3, 5))\n",
    "print(type(add))"
   ]
  },
  {
   "cell_type": "code",
   "execution_count": 77,
   "id": "e86d7b81",
   "metadata": {},
   "outputs": [
    {
     "name": "stdout",
     "output_type": "stream",
     "text": [
      "8\n",
      "<class 'function'>\n"
     ]
    }
   ],
   "source": [
    "add2 = lambda a, b : a + b # 변수에 할당 : lambda 함수의 인수(들) : return 값\n",
    "print(add2(3, 5))\n",
    "print(type(add2))"
   ]
  },
  {
   "cell_type": "code",
   "execution_count": 78,
   "id": "2d6dddff",
   "metadata": {},
   "outputs": [
    {
     "data": {
      "text/plain": [
       "'홀수'"
      ]
     },
     "execution_count": 78,
     "metadata": {},
     "output_type": "execute_result"
    }
   ],
   "source": [
    "# ex 1. 매개변수로 들어온 값이 짝수인지 홀수인지 return하는 함수를 람다식으로 만드시오\n",
    "def even_odd_ck (num):\n",
    "#     if num % 2:\n",
    "#         result = '홀수'\n",
    "#     else:\n",
    "#         result = '짝수'\n",
    "    return '홀수' if num % 2 else '짝수'\n",
    "even_odd_ck(3)"
   ]
  },
  {
   "cell_type": "code",
   "execution_count": 2,
   "id": "84eb2ca3",
   "metadata": {},
   "outputs": [
    {
     "data": {
      "text/plain": [
       "('홀수', '짝수')"
      ]
     },
     "execution_count": 2,
     "metadata": {},
     "output_type": "execute_result"
    }
   ],
   "source": [
    "even_odd_ck = lambda num : '홀수' if num % 2 else '짝수'\n",
    "even_odd_ck(5), even_odd_ck(-4)"
   ]
  },
  {
   "cell_type": "code",
   "execution_count": 3,
   "id": "ad494ae3",
   "metadata": {},
   "outputs": [
    {
     "data": {
      "text/plain": [
       "5"
      ]
     },
     "execution_count": 3,
     "metadata": {},
     "output_type": "execute_result"
    }
   ],
   "source": [
    "# ex 2. 두 매개변수의 차이를 return하는 함수를 람다식으로 만드시오 \n",
    "def diff(a, b):\n",
    "    if a<b:\n",
    "        diff = b-a\n",
    "    else:\n",
    "        diff = a-b\n",
    "    return diff\n",
    "diff(3, 8)"
   ]
  },
  {
   "cell_type": "code",
   "execution_count": 4,
   "id": "6dc68426",
   "metadata": {},
   "outputs": [
    {
     "data": {
      "text/plain": [
       "7"
      ]
     },
     "execution_count": 4,
     "metadata": {},
     "output_type": "execute_result"
    }
   ],
   "source": [
    "diff2 = lambda a, b : b-a if a<b else a-b\n",
    "diff2(3, 10)"
   ]
  },
  {
   "cell_type": "code",
   "execution_count": 13,
   "id": "4001bcb4",
   "metadata": {},
   "outputs": [
    {
     "data": {
      "text/plain": [
       "(1000, 'negative')"
      ]
     },
     "execution_count": 13,
     "metadata": {},
     "output_type": "execute_result"
    }
   ],
   "source": [
    "# ex 3. 매개변수로 잔액을 받아 잔액이 0이상이면 잔액을 return, 음수면 'negative'를 return\n",
    "Kontostand = lambda balance : balance if balance >=0 else 'negative'\n",
    "Kontostand(1000), Kontostand(-100)"
   ]
  },
  {
   "cell_type": "code",
   "execution_count": 28,
   "id": "d9384130",
   "metadata": {},
   "outputs": [
    {
     "name": "stdout",
     "output_type": "stream",
     "text": [
      "A팀\n",
      "B팀\n",
      "재시험\n",
      "유효하지 않음\n"
     ]
    }
   ],
   "source": [
    "# ex 4. 점수를 입력받아 80점 이상은 'A팀', 60점 이상은 'B팀', 60점 미만은 '재시험', 100점 초과, 0점 미만은 '유효하지 않음'을 return\n",
    "def levelCk(score):\n",
    "    if 80<=score<=100:\n",
    "        result = 'A팀'\n",
    "    elif 60<=score<80:\n",
    "        result = 'B팀'\n",
    "    elif 0<=score<60:\n",
    "        result = '재시험'\n",
    "    else:\n",
    "        return '유효하지 않음'\n",
    "niveauCK = lambda score : 'A팀' if 80<=score<=100 else \\\n",
    "                          'B팀' if 60<=score<80 else \\\n",
    "                          '재시험' if 0<=score<60 else \\\n",
    "                          '유효하지 않음'\n",
    "print(niveauCK(100))\n",
    "print(niveauCK(79))\n",
    "print(niveauCK(0))\n",
    "print(niveauCK(120))"
   ]
  },
  {
   "cell_type": "code",
   "execution_count": 32,
   "id": "2433b58c",
   "metadata": {},
   "outputs": [
    {
     "data": {
      "text/plain": [
       "'B학점'"
      ]
     },
     "execution_count": 32,
     "metadata": {},
     "output_type": "execute_result"
    }
   ],
   "source": [
    "# ex 5. 점수를 입력받아 학점을 return\n",
    "score_grade = lambda score : 'A학점' if 90<=score<=100 else \\\n",
    "                             'B학점' if 80<=score<90 else \\\n",
    "                             'C학점' if 70<=score<80 else \\\n",
    "                             'D학점' if 60<=score<70 else \\\n",
    "                             '유효하지 않은 점수'\n",
    "score_grade(87)"
   ]
  },
  {
   "cell_type": "code",
   "execution_count": 35,
   "id": "b0fab969",
   "metadata": {},
   "outputs": [
    {
     "data": {
      "text/plain": [
       "2"
      ]
     },
     "execution_count": 35,
     "metadata": {},
     "output_type": "execute_result"
    }
   ],
   "source": [
    "# ex 5. safe_index 함수를 람다식으로 바꾸시오\n",
    "def safe_index(lst, item, start=0):\n",
    "    '''\n",
    "    첫번째 매개변수 lst : 리스트, 튜플\n",
    "    두번째 매개변수 item : 리스트나 튜플에서 찾을 데이터\n",
    "    세번째 매개변수 start : 몇 번째 index부터 찾을지 index 수(기본값:0)\n",
    "    '''\n",
    "ex5 = lambda lst, item, start=0 : lst.index(item, start) if item in lst[start:] else '-1'\n",
    "l = [1,2,3,4,5]\n",
    "ex5(l, 3)"
   ]
  },
  {
   "cell_type": "code",
   "execution_count": 36,
   "id": "f114e7de",
   "metadata": {},
   "outputs": [
    {
     "data": {
      "text/plain": [
       "[25, 15, 100, 4.0]"
      ]
     },
     "execution_count": 36,
     "metadata": {},
     "output_type": "execute_result"
    }
   ],
   "source": [
    "# lambda식을 list에 들어가게끔 할 수 있음\n",
    "add = lambda a, b : a + b\n",
    "sub = lambda a, b : a - b\n",
    "mul = lambda a, b : a * b\n",
    "div = lambda a, b : a / b if b else '두번째 인자가 0이면 못 나눠요'\n",
    "operations = [add, sub, mul, div] # 사칙연산 함수들\n",
    "\n",
    "def act_operations(a, b, operations=operations): # a, b의 연산 결과를 return\n",
    "    result = []\n",
    "    for op in operations:\n",
    "        result.append(op(a, b))\n",
    "    return result\n",
    "act_operations(20, 5)"
   ]
  },
  {
   "cell_type": "code",
   "execution_count": 37,
   "id": "538259c8",
   "metadata": {},
   "outputs": [
    {
     "data": {
      "text/plain": [
       "[64, 82]"
      ]
     },
     "execution_count": 37,
     "metadata": {},
     "output_type": "execute_result"
    }
   ],
   "source": [
    "act_operations(8, 2, [lambda x,y:x**y, lambda x,y:10*x+y])"
   ]
  },
  {
   "cell_type": "code",
   "execution_count": 38,
   "id": "64d787c8",
   "metadata": {},
   "outputs": [
    {
     "data": {
      "text/plain": [
       "5"
      ]
     },
     "execution_count": 38,
     "metadata": {},
     "output_type": "execute_result"
    }
   ],
   "source": [
    "operations.append(lambda x, y : x**y)\n",
    "len(operations)"
   ]
  },
  {
   "cell_type": "code",
   "execution_count": 39,
   "id": "4b4b55dd",
   "metadata": {},
   "outputs": [
    {
     "data": {
      "text/plain": [
       "[10, 6, 16, 4.0, 64]"
      ]
     },
     "execution_count": 39,
     "metadata": {},
     "output_type": "execute_result"
    }
   ],
   "source": [
    "act_operations(8, 2) # 기본값을 갖는 변수(기본변수)가 리스트면 기본값은 호출하는 시점에 다시 정해짐"
   ]
  },
  {
   "cell_type": "markdown",
   "id": "b3454c07",
   "metadata": {},
   "source": [
    "## 4.2.함수의 매개변수(인수)에 람다식 사용★\n",
    "- 람다식을 주로 사용하는 곳(빈도 순으로) : 함수의 매개변수 > return문 > 변수에 할당\n",
    "### (1) map★"
   ]
  },
  {
   "cell_type": "code",
   "execution_count": 40,
   "id": "73249440",
   "metadata": {},
   "outputs": [],
   "source": [
    "def map_template(func, L=[]):\n",
    "    result = []\n",
    "    for item in L:\n",
    "        result.append(func(item))\n",
    "    return result"
   ]
  },
  {
   "cell_type": "code",
   "execution_count": 41,
   "id": "51138698",
   "metadata": {},
   "outputs": [
    {
     "data": {
      "text/plain": [
       "[2, 4, 6, 8, 10, 12, 14, 16, 18]"
      ]
     },
     "execution_count": 41,
     "metadata": {},
     "output_type": "execute_result"
    }
   ],
   "source": [
    "list_data = [1,2,3,4,5,6,7,8,9]\n",
    "def x_2(x):\n",
    "    return x*2\n",
    "x_2 = lambda x : x*2\n",
    "map_template(x_2, list_data)"
   ]
  },
  {
   "cell_type": "code",
   "execution_count": 42,
   "id": "d59837d1",
   "metadata": {},
   "outputs": [
    {
     "data": {
      "text/plain": [
       "[2, 4, 6, 8, 10, 12, 14, 16, 18]"
      ]
     },
     "execution_count": 42,
     "metadata": {},
     "output_type": "execute_result"
    }
   ],
   "source": [
    "map_template(lambda x:x*2, list_data)"
   ]
  },
  {
   "cell_type": "code",
   "execution_count": 43,
   "id": "49737fb6",
   "metadata": {},
   "outputs": [
    {
     "data": {
      "text/plain": [
       "[2, 4, 6, 8, 10, 12, 14, 16, 18]"
      ]
     },
     "execution_count": 43,
     "metadata": {},
     "output_type": "execute_result"
    }
   ],
   "source": [
    "# list comprehension\n",
    "[item*2 for item in list_data]"
   ]
  },
  {
   "cell_type": "code",
   "execution_count": 45,
   "id": "e3443b0a",
   "metadata": {},
   "outputs": [
    {
     "data": {
      "text/plain": [
       "[2, 4, 6, 8, 10, 12, 14, 16, 18]"
      ]
     },
     "execution_count": 45,
     "metadata": {},
     "output_type": "execute_result"
    }
   ],
   "source": [
    "list(map(lambda x:x*2, list_data))"
   ]
  },
  {
   "cell_type": "code",
   "execution_count": 46,
   "id": "5072ca4f",
   "metadata": {},
   "outputs": [
    {
     "name": "stdout",
     "output_type": "stream",
     "text": [
      "2 4 6 8 10 12 14 16 18 "
     ]
    }
   ],
   "source": [
    "for data in map(lambda x:x*2, list_data):\n",
    "    print(data, end=' ')"
   ]
  },
  {
   "cell_type": "code",
   "execution_count": 59,
   "id": "02d392eb",
   "metadata": {},
   "outputs": [
    {
     "data": {
      "text/plain": [
       "5000"
      ]
     },
     "execution_count": 59,
     "metadata": {},
     "output_type": "execute_result"
    }
   ],
   "source": [
    "# 예제 1 . prices = ['5,000', '5000', '6,000', '1000','5,000', '5000', '6,000', '1000']를 [5000,5000,6000,1000, ...] 식으로 바꾸시오.\n",
    "prices = ['5,000', '5000', '6,000', '1000','5,000', '5000', '6,000', '1000']\n",
    "def toint(value):\n",
    "    return int(value.replace(',', ''))\n",
    "toint('5,000')"
   ]
  },
  {
   "cell_type": "code",
   "execution_count": 57,
   "id": "5d513eb5",
   "metadata": {},
   "outputs": [],
   "source": [
    "map(lambda value : int(value.replace(',', '')), prices) \n",
    "prices_int = map(lambda value : int(value.replace(',', '')), prices)"
   ]
  },
  {
   "cell_type": "code",
   "execution_count": 58,
   "id": "00c540d3",
   "metadata": {},
   "outputs": [
    {
     "name": "stdout",
     "output_type": "stream",
     "text": [
      "5000 5000 6000 1000 5000 5000 6000 1000 "
     ]
    }
   ],
   "source": [
    "for price in prices_int:\n",
    "    print(price, end=' ')"
   ]
  },
  {
   "cell_type": "code",
   "execution_count": 54,
   "id": "f1f5e8ff",
   "metadata": {},
   "outputs": [
    {
     "data": {
      "text/plain": [
       "[5000, 5000, 6000, 1000, 5000, 5000, 6000, 1000]"
      ]
     },
     "execution_count": 54,
     "metadata": {},
     "output_type": "execute_result"
    }
   ],
   "source": [
    "list(map(lambda value : int(value.replace(',', '')), prices))"
   ]
  },
  {
   "cell_type": "code",
   "execution_count": 110,
   "id": "70933a0b",
   "metadata": {},
   "outputs": [
    {
     "data": {
      "text/plain": [
       "({'year': 2025, 'month': 1, 'day': 1}, {'year': 1995, 'month': 12, 'day': 12})"
      ]
     },
     "execution_count": 110,
     "metadata": {},
     "output_type": "execute_result"
    }
   ],
   "source": [
    "# 예제 2. \n",
    "# members1 = [{'name':'홍길동', 'birth':'2000-01-01’}, {'name':'신길동', 'birth':'1995-12-18'}]를 \n",
    "# members2 = [{'name':'홍길동', 'year':2000, 'month':1,'day':1}, {'name':'신길동', 'year':1995, 'month':12, 'day':18}]으로 변환\n",
    "\n",
    "members1 = [{'name':'홍길동', 'birth':'2000-01-01'}, {'name':'신길동', 'birth':'1995-12-18'}]\n",
    "\n",
    "def split_date(date):\n",
    "    split_date = date.split('-')\n",
    "    return {'year': int(split_date[0]),\n",
    "            'month': int(split_date[1]),\n",
    "            'day' : int(split_date[2])\n",
    "    }\n",
    "split_date('2025-01-01'), split_date('1995-12-12')"
   ]
  },
  {
   "cell_type": "code",
   "execution_count": 96,
   "id": "7a6213dd",
   "metadata": {},
   "outputs": [
    {
     "data": {
      "text/plain": [
       "({'year': 2025, 'month': 1, 'day': 1}, {'year': 1995, 'month': 12, 'day': 12})"
      ]
     },
     "execution_count": 96,
     "metadata": {},
     "output_type": "execute_result"
    }
   ],
   "source": [
    "def split_date(date):\n",
    "    return{\n",
    "        'year': int(date.split('-')[0]),\n",
    "        'month': int(date.split('-')[1]),\n",
    "        'day' : int(date.split('-')[2])\n",
    "    }\n",
    "split_date('2025-01-01'), split_date('1995-12-12')"
   ]
  },
  {
   "cell_type": "code",
   "execution_count": 97,
   "id": "e2059e5d",
   "metadata": {},
   "outputs": [
    {
     "data": {
      "text/plain": [
       "{'name': '홍길동', 'year': 2000, 'month': 1, 'day': 1}"
      ]
     },
     "execution_count": 97,
     "metadata": {},
     "output_type": "execute_result"
    }
   ],
   "source": [
    "\n",
    "def member_preprocessing(member):\n",
    "    return {'name' : member.get('name', '이름없음'), # member['name']\n",
    "            'year' : int(member.get('birth').split('-')[0]),\n",
    "            'month' : int(member.get('birth').split('-')[1]),\n",
    "            'day' : int(member.get('birth').split('-')[2])\n",
    "    }\n",
    "member_preprocessing(members1[0])"
   ]
  },
  {
   "cell_type": "code",
   "execution_count": 98,
   "id": "0cdbe476",
   "metadata": {},
   "outputs": [
    {
     "data": {
      "text/plain": [
       "[{'name': '홍길동', 'year': 2000, 'month': 1, 'day': 1},\n",
       " {'name': '신길동', 'year': 1995, 'month': 12, 'day': 18}]"
      ]
     },
     "execution_count": 98,
     "metadata": {},
     "output_type": "execute_result"
    }
   ],
   "source": [
    "members2 = list(map(lambda member : {\n",
    "                                'name' : member.get('name', '이름없음'),\n",
    "                                'year' : int(member.get('birth').split('-')[0]),\n",
    "                                'month' : int(member.get('birth').split('-')[1]),\n",
    "                                'day' : int(member.get('birth').split('-')[2])\n",
    "    }, members1))\n",
    "members2"
   ]
  },
  {
   "cell_type": "code",
   "execution_count": 102,
   "id": "d0a7fb27",
   "metadata": {},
   "outputs": [
    {
     "data": {
      "text/plain": [
       "'2000-01-01'"
      ]
     },
     "execution_count": 102,
     "metadata": {},
     "output_type": "execute_result"
    }
   ],
   "source": [
    "# 예제 3. members2를 members1로 전환\n",
    "# members2 = [{'name':'홍길동', 'year':2000, 'month':1,'day':1}, {'name':'신길동', 'year':1995, 'month':12, 'day':18}\n",
    "# members1 = [{'name':'홍길동', 'birth':'2000-01-01’}, {'name':'신길동', 'birth':'1995-12-18'},]으로 변환\n",
    "def join_date(data):\n",
    "    return '{}-{:02}-{:02}'.format(data.get('year'), data.get('month'), data.get('day'))\n",
    "join_date({'year':2000, 'month':1, 'day':1})"
   ]
  },
  {
   "cell_type": "code",
   "execution_count": 103,
   "id": "5f364efe",
   "metadata": {},
   "outputs": [
    {
     "data": {
      "text/plain": [
       "'2000-01-01'"
      ]
     },
     "execution_count": 103,
     "metadata": {},
     "output_type": "execute_result"
    }
   ],
   "source": [
    "def join_date(data):\n",
    "    return '{year}-{month:02}-{day:02}'.format(year=data.get('year'), month=data.get('month'), day=data.get('day'))\n",
    "join_date({'year':2000, 'month':1, 'day':1})"
   ]
  },
  {
   "cell_type": "code",
   "execution_count": 105,
   "id": "c5c5e0da",
   "metadata": {},
   "outputs": [
    {
     "data": {
      "text/plain": [
       "{'birth': '2000-01-01'}"
      ]
     },
     "execution_count": 105,
     "metadata": {},
     "output_type": "execute_result"
    }
   ],
   "source": [
    "def join_date(data):\n",
    "    return {'birth' : '{year}-{month:02}-{day:02}'.format(**data)} # 딕셔너리 매개변수\n",
    "join_date({'year':2000, 'month':1, 'day':1})"
   ]
  },
  {
   "cell_type": "code",
   "execution_count": 107,
   "id": "7569c10b",
   "metadata": {},
   "outputs": [
    {
     "data": {
      "text/plain": [
       "{'name': '홍길동', 'birth': '2000-01-01'}"
      ]
     },
     "execution_count": 107,
     "metadata": {},
     "output_type": "execute_result"
    }
   ],
   "source": [
    "# {'name':'홍길동', 'year':2000, 'month':1,'day':1} => {'name':'홍길동', 'birth':'2000-01-01’}\n",
    "def members_preprocessing(member):\n",
    "    return {\n",
    "        'name': member.get('name'),\n",
    "        'birth': '{year}-{month:02}-{day:02}'.format(**member)}\n",
    "members_preprocessing({'name':'홍길동', 'year':2000, 'month':1,'day':1})"
   ]
  },
  {
   "cell_type": "code",
   "execution_count": 109,
   "id": "df678286",
   "metadata": {},
   "outputs": [
    {
     "data": {
      "text/plain": [
       "[{'name': '홍길동', 'birth': '2000-01-01'},\n",
       " {'name': '신길동', 'birth': '1995-12-18'}]"
      ]
     },
     "execution_count": 109,
     "metadata": {},
     "output_type": "execute_result"
    }
   ],
   "source": [
    "list(map(lambda member : {\n",
    "        'name': member.get('name'),\n",
    "        'birth': '{year}-{month:02}-{day:02}'.format(**member)}, members2))"
   ]
  },
  {
   "cell_type": "markdown",
   "id": "e4e3afd2",
   "metadata": {},
   "source": [
    "### (2) filter"
   ]
  },
  {
   "cell_type": "code",
   "execution_count": 2,
   "id": "450f7ad5",
   "metadata": {},
   "outputs": [],
   "source": [
    "def filter_template(func, L=[]):\n",
    "    result = []\n",
    "    for item in L:\n",
    "        if func(item):\n",
    "            result.append(item)\n",
    "    return result"
   ]
  },
  {
   "cell_type": "code",
   "execution_count": 3,
   "id": "219f58ab",
   "metadata": {},
   "outputs": [
    {
     "data": {
      "text/plain": [
       "[1, 3, 5, 7, 9]"
      ]
     },
     "execution_count": 3,
     "metadata": {},
     "output_type": "execute_result"
    }
   ],
   "source": [
    "list_data = [1,2,3,4,5,6,7,8,9]\n",
    "def odd_CK(value):\n",
    "    return value % 2\n",
    "filter_template(lambda value : value%2, list_data)"
   ]
  },
  {
   "cell_type": "code",
   "execution_count": 7,
   "id": "dfa7d0e1",
   "metadata": {},
   "outputs": [
    {
     "data": {
      "text/plain": [
       "[1, 3, 5, 7, 9]"
      ]
     },
     "execution_count": 7,
     "metadata": {},
     "output_type": "execute_result"
    }
   ],
   "source": [
    "[value for value in list_data if value%2==1]"
   ]
  },
  {
   "cell_type": "code",
   "execution_count": 9,
   "id": "a62ad3a2",
   "metadata": {},
   "outputs": [
    {
     "name": "stdout",
     "output_type": "stream",
     "text": [
      "[1, 3, 5, 7, 9]\n"
     ]
    }
   ],
   "source": [
    "filter(lambda value : value%2, list_data)\n",
    "print(list(filter(lambda value : value%2, list_data)))"
   ]
  },
  {
   "cell_type": "code",
   "execution_count": 16,
   "id": "4dd9cc8d",
   "metadata": {},
   "outputs": [
    {
     "data": {
      "text/plain": [
       "[1, 3.0, 100, -2.0]"
      ]
     },
     "execution_count": 16,
     "metadata": {},
     "output_type": "execute_result"
    }
   ],
   "source": [
    "# ex : 다음 리스트에서 소수점 이하가 0인 수만 추출하시오(filter, list comprehension)\n",
    "L = [1, 1.2, 1.5, 3.0, 10.5, 100, -2.0, -12.2]\n",
    "[value for value in L if value == round(value)]"
   ]
  },
  {
   "cell_type": "code",
   "execution_count": 17,
   "id": "5fe52709",
   "metadata": {},
   "outputs": [
    {
     "data": {
      "text/plain": [
       "[1, 3.0, 100, -2.0]"
      ]
     },
     "execution_count": 17,
     "metadata": {},
     "output_type": "execute_result"
    }
   ],
   "source": [
    "list(filter(lambda value : value == round(value), L))"
   ]
  },
  {
   "cell_type": "code",
   "execution_count": 18,
   "id": "6663da6a",
   "metadata": {},
   "outputs": [
    {
     "data": {
      "text/plain": [
       "[-2.0, 1, 3.0, 100]"
      ]
     },
     "execution_count": 18,
     "metadata": {},
     "output_type": "execute_result"
    }
   ],
   "source": [
    "sorted(list(filter(lambda value : value == round(value), L)))"
   ]
  },
  {
   "cell_type": "markdown",
   "id": "c8504619",
   "metadata": {},
   "source": [
    "### (3) sort"
   ]
  },
  {
   "cell_type": "code",
   "execution_count": 21,
   "id": "25cceeb4",
   "metadata": {},
   "outputs": [
    {
     "data": {
      "text/plain": [
       "[10, 6, 3, 1]"
      ]
     },
     "execution_count": 21,
     "metadata": {},
     "output_type": "execute_result"
    }
   ],
   "source": [
    "p = [10, 3, 6, 1]\n",
    "p.sort(reverse=True)\n",
    "p"
   ]
  },
  {
   "cell_type": "code",
   "execution_count": 22,
   "id": "27634a29",
   "metadata": {},
   "outputs": [
    {
     "data": {
      "text/plain": [
       "[(1, 'one'), (2, 'two'), (3, 'three'), (4, 'four')]"
      ]
     },
     "execution_count": 22,
     "metadata": {},
     "output_type": "execute_result"
    }
   ],
   "source": [
    "# 무조건 0번째 item을 기준으로 오름차순 정렬\n",
    "pairs = [(2, 'two'), (1, 'one'), (3, 'three'), (4, 'four')]\n",
    "pairs.sort()\n",
    "pairs"
   ]
  },
  {
   "cell_type": "code",
   "execution_count": 24,
   "id": "28a84941",
   "metadata": {},
   "outputs": [
    {
     "data": {
      "text/plain": [
       "[(2, 'two'), (3, 'three'), (1, 'one'), (4, 'four')]"
      ]
     },
     "execution_count": 24,
     "metadata": {},
     "output_type": "execute_result"
    }
   ],
   "source": [
    "# 1번째 item 기준으로 내림차순 정렬\n",
    "pairs.sort(key=lambda data : data[1], reverse=True)\n",
    "pairs"
   ]
  },
  {
   "cell_type": "code",
   "execution_count": 37,
   "id": "16459bd1",
   "metadata": {},
   "outputs": [
    {
     "data": {
      "text/plain": [
       "[(1, 100), (9, 9), (10, 1)]"
      ]
     },
     "execution_count": 37,
     "metadata": {},
     "output_type": "execute_result"
    }
   ],
   "source": [
    "# 합이 큰 순으로 정렬\n",
    "numbers_2d = [(9,9), (1, 100), (10,1)]\n",
    "numbers_2d.sort(key=lambda items : sum(items), reverse=True)\n",
    "numbers_2d"
   ]
  },
  {
   "cell_type": "code",
   "execution_count": 43,
   "id": "0c237799",
   "metadata": {},
   "outputs": [],
   "source": [
    "students = [{'name':'홍', 'score':99},\n",
    "            {'name':'김', 'score':50},\n",
    "            {'name':'박', 'score':77},\n",
    "            {'score':100},]"
   ]
  },
  {
   "cell_type": "code",
   "execution_count": 44,
   "id": "ce24a86a",
   "metadata": {},
   "outputs": [
    {
     "data": {
      "text/plain": [
       "' 홍'"
      ]
     },
     "execution_count": 44,
     "metadata": {},
     "output_type": "execute_result"
    }
   ],
   "source": [
    "name_select = lambda data : data.get('name')\n",
    "name_select({'name':' 홍', 'score':99})"
   ]
  },
  {
   "cell_type": "code",
   "execution_count": 49,
   "id": "109918f5",
   "metadata": {},
   "outputs": [
    {
     "data": {
      "text/plain": [
       "[{'name': '김', 'score': 50},\n",
       " {'name': '박', 'score': 77},\n",
       " {'name': '홍', 'score': 99},\n",
       " {'score': 100}]"
      ]
     },
     "execution_count": 49,
     "metadata": {},
     "output_type": "execute_result"
    }
   ],
   "source": [
    "# students를 name순으로 정렬 (ㄱㄴㄷ순)\n",
    "students.sort(key=lambda data : data.get('name', '힣')) # 대체값\n",
    "students"
   ]
  },
  {
   "cell_type": "code",
   "execution_count": 53,
   "id": "e95711ad",
   "metadata": {},
   "outputs": [
    {
     "data": {
      "text/plain": [
       "[{'score': 100},\n",
       " {'name': '홍', 'score': 99},\n",
       " {'name': '박', 'score': 77},\n",
       " {'name': '김', 'score': 50}]"
      ]
     },
     "execution_count": 53,
     "metadata": {},
     "output_type": "execute_result"
    }
   ],
   "source": [
    "# students를 score 큰 순으로 정렬\n",
    "students.sort(key=lambda data : data.get('score', 0), reverse=True) # 대체값은 여기서는 option!\n",
    "students"
   ]
  },
  {
   "cell_type": "code",
   "execution_count": 56,
   "id": "f8bff5c6",
   "metadata": {},
   "outputs": [],
   "source": [
    "# 예제 4 : books 정렬(no, title, price)\n",
    "books = \\\n",
    "   [{'no':2, 'title':'더트릭컬', 'writer':'폴빠','price':'19,800'},\n",
    "    {'no':1, 'title':'흔한남매', 'writer':'백난도', 'price':'15,120'},\n",
    "    {'no':3, 'title':'단 한 번의 삶', 'writer':'김영하', 'price':'15,120'},\n",
    "    {'no':4, 'title':'가격잘못', 'writer':'홍길동', 'price':'ㅁ'},\n",
    "    {'no':5, 'title':'가격이숫자', 'writer':'백난도', 'price':30200},\n",
    "    {'no':6, 'title':'가격이없음', 'writer':'이길동'},]"
   ]
  },
  {
   "cell_type": "code",
   "execution_count": 57,
   "id": "dd5cff86",
   "metadata": {},
   "outputs": [
    {
     "data": {
      "text/plain": [
       "[{'no': 1, 'title': '흔한남매', 'writer': '백난도', 'price': '15,120'},\n",
       " {'no': 2, 'title': '더트릭컬', 'writer': '폴빠', 'price': '19,800'},\n",
       " {'no': 3, 'title': '단 한 번의 삶', 'writer': '김영하', 'price': '15,120'},\n",
       " {'no': 4, 'title': '가격잘못', 'writer': '홍길동', 'price': 'ㅁ'},\n",
       " {'no': 5, 'title': '가격이숫자', 'writer': '백난도', 'price': 30200},\n",
       " {'no': 6, 'title': '가격이없음', 'writer': '이길동'}]"
      ]
     },
     "execution_count": 57,
     "metadata": {},
     "output_type": "execute_result"
    }
   ],
   "source": [
    "books.sort(key=lambda data : data.get('no'))\n",
    "books"
   ]
  },
  {
   "cell_type": "code",
   "execution_count": 60,
   "id": "3f312c08",
   "metadata": {},
   "outputs": [
    {
     "data": {
      "text/plain": [
       "[{'no': 3, 'title': '단 한 번의 삶', 'writer': '김영하', 'price': '15,120'},\n",
       " {'no': 5, 'title': '가격이숫자', 'writer': '백난도', 'price': 30200},\n",
       " {'no': 1, 'title': '흔한남매', 'writer': '백난도', 'price': '15,120'},\n",
       " {'no': 6, 'title': '가격이없음', 'writer': '이길동'},\n",
       " {'no': 2, 'title': '더트릭컬', 'writer': '폴빠', 'price': '19,800'},\n",
       " {'no': 4, 'title': '가격잘못', 'writer': '홍길동', 'price': 'ㅁ'}]"
      ]
     },
     "execution_count": 60,
     "metadata": {},
     "output_type": "execute_result"
    }
   ],
   "source": [
    "books.sort(key=lambda data : data.get('writer'))\n",
    "books"
   ]
  },
  {
   "cell_type": "code",
   "execution_count": 58,
   "id": "dd495f5d",
   "metadata": {},
   "outputs": [
    {
     "data": {
      "text/plain": [
       "[{'no': 5, 'title': '가격이숫자', 'writer': '백난도', 'price': 30200},\n",
       " {'no': 6, 'title': '가격이없음', 'writer': '이길동'},\n",
       " {'no': 4, 'title': '가격잘못', 'writer': '홍길동', 'price': 'ㅁ'},\n",
       " {'no': 3, 'title': '단 한 번의 삶', 'writer': '김영하', 'price': '15,120'},\n",
       " {'no': 2, 'title': '더트릭컬', 'writer': '폴빠', 'price': '19,800'},\n",
       " {'no': 1, 'title': '흔한남매', 'writer': '백난도', 'price': '15,120'}]"
      ]
     },
     "execution_count": 58,
     "metadata": {},
     "output_type": "execute_result"
    }
   ],
   "source": [
    "books.sort(key=lambda data : data.get('title'))\n",
    "books"
   ]
  },
  {
   "cell_type": "code",
   "execution_count": 61,
   "id": "e04f3494",
   "metadata": {},
   "outputs": [],
   "source": [
    "# 30200, '12,000', '5000', ㅁ', None => 숫자로 처리 (entsprechend 30200, 12000, 5000, 0, 0)"
   ]
  },
  {
   "cell_type": "code",
   "execution_count": 72,
   "id": "70d0e1b8",
   "metadata": {},
   "outputs": [
    {
     "name": "stdout",
     "output_type": "stream",
     "text": [
      "12000 30200 0 0\n",
      "12000 30200 0 0\n"
     ]
    }
   ],
   "source": [
    "def parse_int(price):\n",
    "    if isinstance(price, str) and price.replace(',', '').isdigit(): # 앞에 것이 False면 뒤를 실행하지 않음 (and 논리 연산자)\n",
    "        return int(price.replace(',', ''))\n",
    "    elif isinstance(price, int):\n",
    "        return price\n",
    "    else:\n",
    "        return 0\n",
    "print(parse_int('12,000'), parse_int(30200), parse_int('ㅁ'), parse_int(None))\n",
    "\n",
    "parse_price = lambda price : int(price.replace(',', '')) if isinstance(price, str) and price.replace(',', '').isdigit() else\\\n",
    "                             price                       if isinstance(price, int) else\\\n",
    "                             0\n",
    "print(parse_int('12,000'), parse_int(30200), parse_int('ㅁ'), parse_int(None))"
   ]
  },
  {
   "cell_type": "code",
   "execution_count": 74,
   "id": "0ad3e6c7",
   "metadata": {},
   "outputs": [
    {
     "data": {
      "text/plain": [
       "30200"
      ]
     },
     "execution_count": 74,
     "metadata": {},
     "output_type": "execute_result"
    }
   ],
   "source": [
    "parse_price = lambda book : int(book.get('price').replace(',', '')) if isinstance(book.get('price'), str) and book.get('price').replace(',', '').isdigit() else\\\n",
    "                             book.get('price')                       if isinstance(book.get('price'), int) else\\\n",
    "                             0\n",
    "parse_price({'no': 5, 'title': '가격이숫자', 'writer': '백난도', 'price': 30200})"
   ]
  },
  {
   "cell_type": "code",
   "execution_count": 78,
   "id": "063fc118",
   "metadata": {},
   "outputs": [
    {
     "data": {
      "text/plain": [
       "[{'no': 6, 'title': '가격이없음', 'writer': '이길동'},\n",
       " {'no': 4, 'title': '가격잘못', 'writer': '홍길동', 'price': 'ㅁ'},\n",
       " {'no': 3, 'title': '단 한 번의 삶', 'writer': '김영하', 'price': '15,120'},\n",
       " {'no': 1, 'title': '흔한남매', 'writer': '백난도', 'price': '15,120'},\n",
       " {'no': 2, 'title': '더트릭컬', 'writer': '폴빠', 'price': '19,800'},\n",
       " {'no': 5, 'title': '가격이숫자', 'writer': '백난도', 'price': 30200}]"
      ]
     },
     "execution_count": 78,
     "metadata": {},
     "output_type": "execute_result"
    }
   ],
   "source": [
    "books.sort(key=parse_price)\n",
    "books"
   ]
  },
  {
   "cell_type": "code",
   "execution_count": 79,
   "id": "12a76c52",
   "metadata": {},
   "outputs": [
    {
     "data": {
      "text/plain": [
       "[{'no': 5, 'title': '가격이숫자', 'writer': '백난도', 'price': 30200},\n",
       " {'no': 2, 'title': '더트릭컬', 'writer': '폴빠', 'price': '19,800'},\n",
       " {'no': 3, 'title': '단 한 번의 삶', 'writer': '김영하', 'price': '15,120'},\n",
       " {'no': 1, 'title': '흔한남매', 'writer': '백난도', 'price': '15,120'},\n",
       " {'no': 6, 'title': '가격이없음', 'writer': '이길동'},\n",
       " {'no': 4, 'title': '가격잘못', 'writer': '홍길동', 'price': 'ㅁ'}]"
      ]
     },
     "execution_count": 79,
     "metadata": {},
     "output_type": "execute_result"
    }
   ],
   "source": [
    "books.sort(key=parse_price, reverse=True)\n",
    "books"
   ]
  },
  {
   "cell_type": "code",
   "execution_count": 84,
   "id": "3df14d84",
   "metadata": {},
   "outputs": [
    {
     "data": {
      "text/plain": [
       "[{'no': 6, 'title': '가격이없음', 'writer': '이길동'},\n",
       " {'no': 4, 'title': '가격잘못', 'writer': '홍길동', 'price': 'ㅁ'},\n",
       " {'no': 3, 'title': '단 한 번의 삶', 'writer': '김영하', 'price': '15,120'},\n",
       " {'no': 1, 'title': '흔한남매', 'writer': '백난도', 'price': '15,120'},\n",
       " {'no': 2, 'title': '더트릭컬', 'writer': '폴빠', 'price': '19,800'},\n",
       " {'no': 5, 'title': '가격이숫자', 'writer': '백난도', 'price': 30200}]"
      ]
     },
     "execution_count": 84,
     "metadata": {},
     "output_type": "execute_result"
    }
   ],
   "source": [
    "copyBooks = books.copy()\n",
    "copyBooks.sort(key=parse_price)\n",
    "copyBooks"
   ]
  },
  {
   "cell_type": "markdown",
   "id": "2e870861",
   "metadata": {},
   "source": [
    "# 5. 파이썬 내장 함수\n",
    "- import 하지 않고 바로 사용 가능한 함수\n",
    "- 키워드(if, while, ...)처럼 간주되므로 식별자(변수명, 함수명, 클래스명)로 사용하는 것을 피한다"
   ]
  },
  {
   "cell_type": "code",
   "execution_count": 86,
   "id": "8668228e",
   "metadata": {},
   "outputs": [],
   "source": [
    "a = 10"
   ]
  },
  {
   "cell_type": "code",
   "execution_count": 87,
   "id": "83c4efe8",
   "metadata": {
    "collapsed": true
   },
   "outputs": [
    {
     "data": {
      "text/plain": [
       "{'__name__': '__main__',\n",
       " '__doc__': 'Automatically created module for IPython interactive environment',\n",
       " '__package__': None,\n",
       " '__loader__': None,\n",
       " '__spec__': None,\n",
       " '__builtin__': <module 'builtins' (built-in)>,\n",
       " '__builtins__': <module 'builtins' (built-in)>,\n",
       " '_ih': ['',\n",
       "  '# 1. 함수의 인자로 리스트를 받은 후 리스트 내에 있는 모든 정수값에 대한 최대값과 최소값을 리턴하는 함수를 작성하세요\\ndef get_max_min(*args):\\n    for i in args:\\n        return \\nget_max_min = lambda i : ',\n",
       "  'def filter_template(func, L=[]):\\n    result = []\\n    for item in L:\\n        if func(item):\\n            result.append(item)\\n    return result',\n",
       "  'list_data = [1,2,3,4,5,6,7,8,9]\\ndef odd_CK(value):\\n    return value % 2\\nfilter_template(lambda value : value%2, list_data)',\n",
       "  '[value%2 for value in list_data]',\n",
       "  '[value%2==1 for value in list_data]',\n",
       "  '[value%2!=0 for value in list_data]',\n",
       "  '[value for value in list_data if value%2==1]',\n",
       "  'filter(lambda value : value%2, list_data)',\n",
       "  'filter(lambda value : value%2, list_data)\\nprint(list(filter(lambda value : value%2, list_data)))',\n",
       "  '# 예제 : 다음 리스트에서 소수점 이하가 0인 수만 추출하시오(filter)\\nL = [1, 1.2, 1.5, 3.0, 10.5, 100]\\nvalue for vaule in L if value == round()',\n",
       "  '# 예제 : 다음 리스트에서 소수점 이하가 0인 수만 추출하시오(filter)\\nL = [1, 1.2, 1.5, 3.0, 10.5, 100]\\nvalue for vaule in L if value == round(value)',\n",
       "  '# 예제 : 다음 리스트에서 소수점 이하가 0인 수만 추출하시오(filter)\\nL = [1, 1.2, 1.5, 3.0, 10.5, 100, -2.0, -12.2]\\nvalue for vaule in L if value == round()',\n",
       "  '# 예제 : 다음 리스트에서 소수점 이하가 0인 수만 추출하시오(filter)\\nL = [1, 1.2, 1.5, 3.0, 10.5, 100, -2.0, -12.2]\\n[value for vaule in L if value == round()]',\n",
       "  '# 예제 : 다음 리스트에서 소수점 이하가 0인 수만 추출하시오(filter)\\nL = [1, 1.2, 1.5, 3.0, 10.5, 100, -2.0, -12.2]\\n[value for value in L if value == round()]',\n",
       "  '# 예제 : 다음 리스트에서 소수점 이하가 0인 수만 추출하시오(filter)\\nL = [1, 1.2, 1.5, 3.0, 10.5, 100, -2.0, -12.2]\\n[value for value in L if value == round(ralue)]',\n",
       "  '# 예제 : 다음 리스트에서 소수점 이하가 0인 수만 추출하시오(filter)\\nL = [1, 1.2, 1.5, 3.0, 10.5, 100, -2.0, -12.2]\\n[value for value in L if value == round(value)]',\n",
       "  'list(filter(lambda value : value == round(value), L))',\n",
       "  'sorted(list(filter(lambda value : value == round(value), L)))',\n",
       "  '# 7. \\nex = [1,2,3,4,5] #를 [1,4,9,16,25] # 의 결과를 얻을 수 있도록 람다 함수와 map() 함수를 사용하여 구현과 리스트 컴프리헨션으로 구현하시오\\nprint([ex**2 for ex in ex])\\nlist(map(lambda value : value ** 2, ex))',\n",
       "  'p = [10, 3, 6, 1]\\np.sort(reverse=True)\\n0\\\\p',\n",
       "  'p = [10, 3, 6, 1]\\np.sort(reverse=True)\\np',\n",
       "  \"# 무조건 0번째 item을 기준으로 오름차순 정렬\\npairs = [(2, 'two'), (1, 'one'), (3, 'three'), (4, 'four')]\\npairs.sort()\\npairs\",\n",
       "  '# 1번째 item 기준으로 내림차순 정렬\\npairs.sort(key=lambda data : data[1], reverse=True)',\n",
       "  '# 1번째 item 기준으로 내림차순 정렬\\npairs.sort(key=lambda data : data[1], reverse=True)\\npairs',\n",
       "  '# 합이 큰 순으로 정렬\\nnumbers_2d = [(9,9), (1, 100), (10,1)]\\nnumbers_2d.sort(key=lambda data : sum(data), numbers_2d',\n",
       "  '# 합이 큰 순으로 정렬\\nnumbers_2d = [(9,9), (1, 100), (10,1)]\\nnumbers_2d.sort(key=lambda data : sum(data), numbers_2d)',\n",
       "  '# 합이 큰 순으로 정렬\\nnumbers_2d = [(9,9), (1, 100), (10,1)]\\nnumbers_2d.sort(key=lambda data : sum(data))',\n",
       "  '# 합이 큰 순으로 정렬\\nnumbers_2d = [(9,9), (1, 100), (10,1)]\\nnumbers_2d.sort(key=lambda data : sum(data))\\nnumbers_2d',\n",
       "  '# 합이 큰 순으로 정렬\\nnumbers_2d = [(9,9), (1, 100), (10,1)]\\nnumbers_2d.sort(key=lambda data : sum(*ata))\\nnumbers_2d',\n",
       "  '# 합이 큰 순으로 정렬\\nnumbers_2d = [(9,9), (1, 100), (10,1)]\\nnumbers_2d.sort(key=lambda data : sum(*data))\\nnumbers_2d',\n",
       "  '# 합이 큰 순으로 정렬\\nnumbers_2d = [(9,9), (1, 100), (10,1)]\\nnumbers_2d.sort(key=lambda data : data(sum)))\\nnumbers_2d',\n",
       "  '# 합이 큰 순으로 정렬\\nnumbers_2d = [(9,9), (1, 100), (10,1)]\\nnumbers_2d.sort(key=lambda data : data(sum))\\nnumbers_2d',\n",
       "  '# 합이 큰 순으로 정렬\\nnumbers_2d = [(9,9), (1, 100), (10,1)]\\nnumbers_2d.sort(key=lambda data : data(sum(data)))\\nnumbers_2d',\n",
       "  '# 합이 큰 순으로 정렬\\nnumbers_2d = [(9,9), (1, 100), (10,1)]\\nnumbers_2d.sort(key=lambda data : sum([0],[1]))\\nnumbers_2d',\n",
       "  '# 합이 큰 순으로 정렬\\nnumbers_2d = [(9,9), (1, 100), (10,1)]\\nnumbers_2d.sort(key=lambda data : data(max(sum)))\\nnumbers_2d',\n",
       "  '# 합이 큰 순으로 정렬\\nnumbers_2d = [(9,9), (1, 100), (10,1)]\\nnumbers_2d.sort(key=lambda data : data(max(sum))\\nnumbers_2d',\n",
       "  '# 합이 큰 순으로 정렬\\nnumbers_2d = [(9,9), (1, 100), (10,1)]\\nnumbers_2d.sort(key=lambda items : sum(items), reverse=True)\\nnumbers_2d',\n",
       "  \"name_select = lambda data : data.get('name')\\nname_select({'name':' 홍', 'score':99})\",\n",
       "  \"# students를 name순으로 정렬 (ㄱㄴㄷ순)\\nstudents.sort(key=lambda data : data.get('name'))\",\n",
       "  \"students = [{'name':' 홍', 'score':99},\\n            {'name':' 김', 'score':50},\\n            {'name':' 박', 'score':77},\\n            {'score':100},]\",\n",
       "  \"name_select = lambda data : data.get('name')\\nname_select({'name':' 홍', 'score':99})\",\n",
       "  \"# students를 name순으로 정렬 (ㄱㄴㄷ순)\\nstudents.sort(key=lambda data : data.get('name'))\",\n",
       "  \"students = [{'name':'홍', 'score':99},\\n            {'name':'김', 'score':50},\\n            {'name':'박', 'score':77},\\n            {'score':100},]\",\n",
       "  \"name_select = lambda data : data.get('name')\\nname_select({'name':' 홍', 'score':99})\",\n",
       "  \"# students를 name순으로 정렬 (ㄱㄴㄷ순)\\nstudents.sort(key=lambda data : data.get('name'))\",\n",
       "  \"# students를 name순으로 정렬 (ㄱㄴㄷ순)\\nstudents.sort(key=lambda name : students.get('name'))\",\n",
       "  \"# students를 name순으로 정렬 (ㄱㄴㄷ순)\\nstudents.sort(key=lambda name : data.get('name', '힣')\\nstudents\",\n",
       "  \"# students를 name순으로 정렬 (ㄱㄴㄷ순)\\nstudents.sort(key=lambda name : data.get('name', '힣'))\\nstudents\",\n",
       "  \"# students를 name순으로 정렬 (ㄱㄴㄷ순)\\nstudents.sort(key=lambda data : data.get('name', '힣'))\\nstudents\",\n",
       "  \"# students를 score 큰 순으로 정렬\\nstudents.sort(key=lambda data : data.get('score', reverse=True))\\nstudents\",\n",
       "  \"# students를 score 큰 순으로 정렬\\nstudents.sort(key=lambda data : data.get('score', reverse=True))\\nstudents\",\n",
       "  \"# students를 score 큰 순으로 정렬\\nstudents.sort(key=lambda data : data.get('score'), reverse=True))\\nstudents\",\n",
       "  \"# students를 score 큰 순으로 정렬\\nstudents.sort(key=lambda data : data.get('score'), reverse=True)\\nstudents\",\n",
       "  \"# 예제 4 : books 정렬()\\nbooks = \\\\\\n   [{'no':1, 'title':'더트릭컬', 'writer':'폴빠','price':'19,800'},\\n    {'no':2, 'title':'흔한남매', 'writer':'백난도', 'price':'15,120'},\\n    {'no':3, 'title':'단 한 번의 삶', 'writer':'김영하', 'price':'15,120'},\\n    {'no':4, 'title':'가격잘못', 'writer':'홍길동', 'price':'ㅁ'},\\n    {'no':5, 'title':'가격이숫자', 'writer':'백난도', 'price':30200},\\n    {'no':6, 'title':'가격이없음', 'writer':'이길동'},]\",\n",
       "  \"books.sort(key=lambda data : data.get('no'))\\nbooks\",\n",
       "  \"# 예제 4 : books 정렬(no, title, price)\\nbooks = \\\\\\n   [{'no':2, 'title':'더트릭컬', 'writer':'폴빠','price':'19,800'},\\n    {'no':1, 'title':'흔한남매', 'writer':'백난도', 'price':'15,120'},\\n    {'no':3, 'title':'단 한 번의 삶', 'writer':'김영하', 'price':'15,120'},\\n    {'no':4, 'title':'가격잘못', 'writer':'홍길동', 'price':'ㅁ'},\\n    {'no':5, 'title':'가격이숫자', 'writer':'백난도', 'price':30200},\\n    {'no':6, 'title':'가격이없음', 'writer':'이길동'},]\",\n",
       "  \"books.sort(key=lambda data : data.get('no'))\\nbooks\",\n",
       "  \"books.sort(key=lambda data : data.get('title'))\\nbooks\",\n",
       "  \"books.sort(key=lambda data : data.get('writer'))\",\n",
       "  \"books.sort(key=lambda data : data.get('writer'))\\nbooks\",\n",
       "  \"# 30200, '12,000', 'ㅁ', None \",\n",
       "  \"def parse_int(price):\\n    print(type(price))\\n    parse_int('12,000')\",\n",
       "  'def parse_int(price):\\n    print(type(price))\\nparse_int(None)',\n",
       "  \"def parse_int(price):\\n    print(type(price))\\nparse_int('ㅁ')\",\n",
       "  \"def parse_int(price):\\n    if isinstance(price, str) and price.replace(',', '').isdigit(): # 앞에 것이 False면 뒤를 실행하지 않음 (and 논리 연산자)\\n        return int(price.replace(',', ''))\",\n",
       "  \"def parse_int(price):\\n    if isinstance(price, str) and price.replace(',', '').isdigit(): # 앞에 것이 False면 뒤를 실행하지 않음 (and 논리 연산자)\\n        return int(price.replace(',', ''))\\n    elif isinstance(price, int):\\n        return price\\n    else:\\n        return 0\\nprint(parse_int('12,000'), parse_int(30200), parse_int('ㅁ'), parse_int(None))\",\n",
       "  \"def parse_int(price):\\n    if isinstance(price, str) and price.replace(',', '').isdigit(): # 앞에 것이 False면 뒤를 실행하지 않음 (and 논리 연산자)\\n        return int(price.replace(',', ''))\\n    elif isinstance(price, int):\\n        return price\\n    else:\\n        return 0\\nprint(parse_int('12,000'), parse_int(30200), parse_int('ㅁ'), parse_int(None))\\n\\nparse_price = lambda price : int(price.replace(',', '')) if isinstance(price, str) and price.replace(',', '').isdigit()\\\\\\n                  price                    elif isinstance(price, int) else 0\",\n",
       "  \"def parse_int(price):\\n    if isinstance(price, str) and price.replace(',', '').isdigit(): # 앞에 것이 False면 뒤를 실행하지 않음 (and 논리 연산자)\\n        return int(price.replace(',', ''))\\n    elif isinstance(price, int):\\n        return price\\n    else:\\n        return 0\\nprint(parse_int('12,000'), parse_int(30200), parse_int('ㅁ'), parse_int(None))\\n\\nparse_price = lambda price : int(price.replace(',', '')) if isinstance(price, str) and price.replace(',', '').isdigit()\\\\\\n                             price                       elif isinstance(price, int) else 0\",\n",
       "  \"def parse_int(price):\\n    if isinstance(price, str) and price.replace(',', '').isdigit(): # 앞에 것이 False면 뒤를 실행하지 않음 (and 논리 연산자)\\n        return int(price.replace(',', ''))\\n    elif isinstance(price, int):\\n        return price\\n    else:\\n        return 0\\nprint(parse_int('12,000'), parse_int(30200), parse_int('ㅁ'), parse_int(None))\\n\\nparse_price = lambda price : int(price.replace(',', '')) if isinstance(price, str) and price.replace(',', '').isdigit() else\\\\\\n                             price                       if isinstance(price, int) else\\\\\\n                             0\",\n",
       "  \"books.sort(key=lambda data : data.get('price'))\",\n",
       "  'books.sort(parse_price)',\n",
       "  \"def parse_int(price):\\n    if isinstance(price, str) and price.replace(',', '').isdigit(): # 앞에 것이 False면 뒤를 실행하지 않음 (and 논리 연산자)\\n        return int(price.replace(',', ''))\\n    elif isinstance(price, int):\\n        return price\\n    else:\\n        return 0\\nprint(parse_int('12,000'), parse_int(30200), parse_int('ㅁ'), parse_int(None))\\n\\nparse_price = lambda price : int(price.replace(',', '')) if isinstance(price, str) and price.replace(',', '').isdigit() else\\\\\\n                             price                       if isinstance(price, int) else\\\\\\n                             0\\nprint(parse_int('12,000'), parse_int(30200), parse_int('ㅁ'), parse_int(None))\",\n",
       "  \"parse_price = lambda book : int(book.get('price').replace(',', '')) if isinstance(book.get('price'), str) and book.get('price').replace(',', '').isdigit() else\\\\\\n                             price                       if isinstance(book.get('price'), int) else\\\\\\n                             0\\nparse_price({'no': 5, 'title': '가격이숫자', 'writer': '백난도', 'price': 30200})\",\n",
       "  \"parse_price = lambda book : int(book.get('price').replace(',', '')) if isinstance(book.get('price'), str) and book.get('price').replace(',', '').isdigit() else\\\\\\n                             book.get('price')                       if isinstance(book.get('price'), int) else\\\\\\n                             0\\nparse_price({'no': 5, 'title': '가격이숫자', 'writer': '백난도', 'price': 30200})\",\n",
       "  'books.sort(key=parse_price)',\n",
       "  'books.sort(key=parse_price)\\nbooks',\n",
       "  'books.sort(key=parse_price, reverse=True)\\nbooks',\n",
       "  'books.sort(key=parse_price)\\nbooks',\n",
       "  'books.sort(key=parse_price, reverse=True)\\nbooks',\n",
       "  'copyBook = books.copy()\\ncopyBooks',\n",
       "  'copyBooks = books.copy()\\ncopyBooks',\n",
       "  'copyBooks = books.copy()\\ncopyBooks.sort()',\n",
       "  'copyBooks = books.copy()\\ncopyBooks.sort(key=parse_price)',\n",
       "  'copyBooks = books.copy()\\ncopyBooks.sort(key=parse_price)\\ncopyBooks',\n",
       "  \"# 9. 다음 코드의 실행 결과는?\\ndate_info = {'year':2024, 'month':9, 'day':6}\\nresult = '{year}-{month}-{day}'.format(**date_info)\\nresult\",\n",
       "  'a = 10',\n",
       "  'globals() # 전역변수 리스트'],\n",
       " '_oh': {3: [1, 3, 5, 7, 9],\n",
       "  4: [1, 0, 1, 0, 1, 0, 1, 0, 1],\n",
       "  5: [True, False, True, False, True, False, True, False, True],\n",
       "  6: [True, False, True, False, True, False, True, False, True],\n",
       "  7: [1, 3, 5, 7, 9],\n",
       "  8: <filter at 0x24fc8f1ce50>,\n",
       "  16: [1, 3.0, 100, -2.0],\n",
       "  17: [1, 3.0, 100, -2.0],\n",
       "  18: [-2.0, 1, 3.0, 100],\n",
       "  19: [1, 4, 9, 16, 25],\n",
       "  21: [10, 6, 3, 1],\n",
       "  22: [(2, 'two'), (3, 'three'), (1, 'one'), (4, 'four')],\n",
       "  24: [(2, 'two'), (3, 'three'), (1, 'one'), (4, 'four')],\n",
       "  28: [(10, 1), (9, 9), (1, 100)],\n",
       "  37: [(1, 100), (9, 9), (10, 1)],\n",
       "  38: ' 홍',\n",
       "  41: ' 홍',\n",
       "  44: ' 홍',\n",
       "  49: [{'score': 100},\n",
       "   {'name': '홍', 'score': 99},\n",
       "   {'name': '박', 'score': 77},\n",
       "   {'name': '김', 'score': 50}],\n",
       "  53: [{'score': 100},\n",
       "   {'name': '홍', 'score': 99},\n",
       "   {'name': '박', 'score': 77},\n",
       "   {'name': '김', 'score': 50}],\n",
       "  55: [{'no': 1, 'title': '더트릭컬', 'writer': '폴빠', 'price': '19,800'},\n",
       "   {'no': 2, 'title': '흔한남매', 'writer': '백난도', 'price': '15,120'},\n",
       "   {'no': 3, 'title': '단 한 번의 삶', 'writer': '김영하', 'price': '15,120'},\n",
       "   {'no': 4, 'title': '가격잘못', 'writer': '홍길동', 'price': 'ㅁ'},\n",
       "   {'no': 5, 'title': '가격이숫자', 'writer': '백난도', 'price': 30200},\n",
       "   {'no': 6, 'title': '가격이없음', 'writer': '이길동'}],\n",
       "  57: [{'no': 5, 'title': '가격이숫자', 'writer': '백난도', 'price': 30200},\n",
       "   {'no': 2, 'title': '더트릭컬', 'writer': '폴빠', 'price': '19,800'},\n",
       "   {'no': 3, 'title': '단 한 번의 삶', 'writer': '김영하', 'price': '15,120'},\n",
       "   {'no': 1, 'title': '흔한남매', 'writer': '백난도', 'price': '15,120'},\n",
       "   {'no': 6, 'title': '가격이없음', 'writer': '이길동'},\n",
       "   {'no': 4, 'title': '가격잘못', 'writer': '홍길동', 'price': 'ㅁ'}],\n",
       "  58: [{'no': 5, 'title': '가격이숫자', 'writer': '백난도', 'price': 30200},\n",
       "   {'no': 2, 'title': '더트릭컬', 'writer': '폴빠', 'price': '19,800'},\n",
       "   {'no': 3, 'title': '단 한 번의 삶', 'writer': '김영하', 'price': '15,120'},\n",
       "   {'no': 1, 'title': '흔한남매', 'writer': '백난도', 'price': '15,120'},\n",
       "   {'no': 6, 'title': '가격이없음', 'writer': '이길동'},\n",
       "   {'no': 4, 'title': '가격잘못', 'writer': '홍길동', 'price': 'ㅁ'}],\n",
       "  60: [{'no': 5, 'title': '가격이숫자', 'writer': '백난도', 'price': 30200},\n",
       "   {'no': 2, 'title': '더트릭컬', 'writer': '폴빠', 'price': '19,800'},\n",
       "   {'no': 3, 'title': '단 한 번의 삶', 'writer': '김영하', 'price': '15,120'},\n",
       "   {'no': 1, 'title': '흔한남매', 'writer': '백난도', 'price': '15,120'},\n",
       "   {'no': 6, 'title': '가격이없음', 'writer': '이길동'},\n",
       "   {'no': 4, 'title': '가격잘못', 'writer': '홍길동', 'price': 'ㅁ'}],\n",
       "  74: 30200,\n",
       "  76: [{'no': 5, 'title': '가격이숫자', 'writer': '백난도', 'price': 30200},\n",
       "   {'no': 2, 'title': '더트릭컬', 'writer': '폴빠', 'price': '19,800'},\n",
       "   {'no': 3, 'title': '단 한 번의 삶', 'writer': '김영하', 'price': '15,120'},\n",
       "   {'no': 1, 'title': '흔한남매', 'writer': '백난도', 'price': '15,120'},\n",
       "   {'no': 6, 'title': '가격이없음', 'writer': '이길동'},\n",
       "   {'no': 4, 'title': '가격잘못', 'writer': '홍길동', 'price': 'ㅁ'}],\n",
       "  77: [{'no': 5, 'title': '가격이숫자', 'writer': '백난도', 'price': 30200},\n",
       "   {'no': 2, 'title': '더트릭컬', 'writer': '폴빠', 'price': '19,800'},\n",
       "   {'no': 3, 'title': '단 한 번의 삶', 'writer': '김영하', 'price': '15,120'},\n",
       "   {'no': 1, 'title': '흔한남매', 'writer': '백난도', 'price': '15,120'},\n",
       "   {'no': 6, 'title': '가격이없음', 'writer': '이길동'},\n",
       "   {'no': 4, 'title': '가격잘못', 'writer': '홍길동', 'price': 'ㅁ'}],\n",
       "  78: [{'no': 5, 'title': '가격이숫자', 'writer': '백난도', 'price': 30200},\n",
       "   {'no': 2, 'title': '더트릭컬', 'writer': '폴빠', 'price': '19,800'},\n",
       "   {'no': 3, 'title': '단 한 번의 삶', 'writer': '김영하', 'price': '15,120'},\n",
       "   {'no': 1, 'title': '흔한남매', 'writer': '백난도', 'price': '15,120'},\n",
       "   {'no': 6, 'title': '가격이없음', 'writer': '이길동'},\n",
       "   {'no': 4, 'title': '가격잘못', 'writer': '홍길동', 'price': 'ㅁ'}],\n",
       "  79: [{'no': 5, 'title': '가격이숫자', 'writer': '백난도', 'price': 30200},\n",
       "   {'no': 2, 'title': '더트릭컬', 'writer': '폴빠', 'price': '19,800'},\n",
       "   {'no': 3, 'title': '단 한 번의 삶', 'writer': '김영하', 'price': '15,120'},\n",
       "   {'no': 1, 'title': '흔한남매', 'writer': '백난도', 'price': '15,120'},\n",
       "   {'no': 6, 'title': '가격이없음', 'writer': '이길동'},\n",
       "   {'no': 4, 'title': '가격잘못', 'writer': '홍길동', 'price': 'ㅁ'}],\n",
       "  81: [{'no': 5, 'title': '가격이숫자', 'writer': '백난도', 'price': 30200},\n",
       "   {'no': 2, 'title': '더트릭컬', 'writer': '폴빠', 'price': '19,800'},\n",
       "   {'no': 3, 'title': '단 한 번의 삶', 'writer': '김영하', 'price': '15,120'},\n",
       "   {'no': 1, 'title': '흔한남매', 'writer': '백난도', 'price': '15,120'},\n",
       "   {'no': 6, 'title': '가격이없음', 'writer': '이길동'},\n",
       "   {'no': 4, 'title': '가격잘못', 'writer': '홍길동', 'price': 'ㅁ'}],\n",
       "  84: [{'no': 6, 'title': '가격이없음', 'writer': '이길동'},\n",
       "   {'no': 4, 'title': '가격잘못', 'writer': '홍길동', 'price': 'ㅁ'},\n",
       "   {'no': 3, 'title': '단 한 번의 삶', 'writer': '김영하', 'price': '15,120'},\n",
       "   {'no': 1, 'title': '흔한남매', 'writer': '백난도', 'price': '15,120'},\n",
       "   {'no': 2, 'title': '더트릭컬', 'writer': '폴빠', 'price': '19,800'},\n",
       "   {'no': 5, 'title': '가격이숫자', 'writer': '백난도', 'price': 30200}],\n",
       "  85: '2024-9-6'},\n",
       " '_dh': [WindowsPath('C:/KI/source/01_python')],\n",
       " 'In': ['',\n",
       "  '# 1. 함수의 인자로 리스트를 받은 후 리스트 내에 있는 모든 정수값에 대한 최대값과 최소값을 리턴하는 함수를 작성하세요\\ndef get_max_min(*args):\\n    for i in args:\\n        return \\nget_max_min = lambda i : ',\n",
       "  'def filter_template(func, L=[]):\\n    result = []\\n    for item in L:\\n        if func(item):\\n            result.append(item)\\n    return result',\n",
       "  'list_data = [1,2,3,4,5,6,7,8,9]\\ndef odd_CK(value):\\n    return value % 2\\nfilter_template(lambda value : value%2, list_data)',\n",
       "  '[value%2 for value in list_data]',\n",
       "  '[value%2==1 for value in list_data]',\n",
       "  '[value%2!=0 for value in list_data]',\n",
       "  '[value for value in list_data if value%2==1]',\n",
       "  'filter(lambda value : value%2, list_data)',\n",
       "  'filter(lambda value : value%2, list_data)\\nprint(list(filter(lambda value : value%2, list_data)))',\n",
       "  '# 예제 : 다음 리스트에서 소수점 이하가 0인 수만 추출하시오(filter)\\nL = [1, 1.2, 1.5, 3.0, 10.5, 100]\\nvalue for vaule in L if value == round()',\n",
       "  '# 예제 : 다음 리스트에서 소수점 이하가 0인 수만 추출하시오(filter)\\nL = [1, 1.2, 1.5, 3.0, 10.5, 100]\\nvalue for vaule in L if value == round(value)',\n",
       "  '# 예제 : 다음 리스트에서 소수점 이하가 0인 수만 추출하시오(filter)\\nL = [1, 1.2, 1.5, 3.0, 10.5, 100, -2.0, -12.2]\\nvalue for vaule in L if value == round()',\n",
       "  '# 예제 : 다음 리스트에서 소수점 이하가 0인 수만 추출하시오(filter)\\nL = [1, 1.2, 1.5, 3.0, 10.5, 100, -2.0, -12.2]\\n[value for vaule in L if value == round()]',\n",
       "  '# 예제 : 다음 리스트에서 소수점 이하가 0인 수만 추출하시오(filter)\\nL = [1, 1.2, 1.5, 3.0, 10.5, 100, -2.0, -12.2]\\n[value for value in L if value == round()]',\n",
       "  '# 예제 : 다음 리스트에서 소수점 이하가 0인 수만 추출하시오(filter)\\nL = [1, 1.2, 1.5, 3.0, 10.5, 100, -2.0, -12.2]\\n[value for value in L if value == round(ralue)]',\n",
       "  '# 예제 : 다음 리스트에서 소수점 이하가 0인 수만 추출하시오(filter)\\nL = [1, 1.2, 1.5, 3.0, 10.5, 100, -2.0, -12.2]\\n[value for value in L if value == round(value)]',\n",
       "  'list(filter(lambda value : value == round(value), L))',\n",
       "  'sorted(list(filter(lambda value : value == round(value), L)))',\n",
       "  '# 7. \\nex = [1,2,3,4,5] #를 [1,4,9,16,25] # 의 결과를 얻을 수 있도록 람다 함수와 map() 함수를 사용하여 구현과 리스트 컴프리헨션으로 구현하시오\\nprint([ex**2 for ex in ex])\\nlist(map(lambda value : value ** 2, ex))',\n",
       "  'p = [10, 3, 6, 1]\\np.sort(reverse=True)\\n0\\\\p',\n",
       "  'p = [10, 3, 6, 1]\\np.sort(reverse=True)\\np',\n",
       "  \"# 무조건 0번째 item을 기준으로 오름차순 정렬\\npairs = [(2, 'two'), (1, 'one'), (3, 'three'), (4, 'four')]\\npairs.sort()\\npairs\",\n",
       "  '# 1번째 item 기준으로 내림차순 정렬\\npairs.sort(key=lambda data : data[1], reverse=True)',\n",
       "  '# 1번째 item 기준으로 내림차순 정렬\\npairs.sort(key=lambda data : data[1], reverse=True)\\npairs',\n",
       "  '# 합이 큰 순으로 정렬\\nnumbers_2d = [(9,9), (1, 100), (10,1)]\\nnumbers_2d.sort(key=lambda data : sum(data), numbers_2d',\n",
       "  '# 합이 큰 순으로 정렬\\nnumbers_2d = [(9,9), (1, 100), (10,1)]\\nnumbers_2d.sort(key=lambda data : sum(data), numbers_2d)',\n",
       "  '# 합이 큰 순으로 정렬\\nnumbers_2d = [(9,9), (1, 100), (10,1)]\\nnumbers_2d.sort(key=lambda data : sum(data))',\n",
       "  '# 합이 큰 순으로 정렬\\nnumbers_2d = [(9,9), (1, 100), (10,1)]\\nnumbers_2d.sort(key=lambda data : sum(data))\\nnumbers_2d',\n",
       "  '# 합이 큰 순으로 정렬\\nnumbers_2d = [(9,9), (1, 100), (10,1)]\\nnumbers_2d.sort(key=lambda data : sum(*ata))\\nnumbers_2d',\n",
       "  '# 합이 큰 순으로 정렬\\nnumbers_2d = [(9,9), (1, 100), (10,1)]\\nnumbers_2d.sort(key=lambda data : sum(*data))\\nnumbers_2d',\n",
       "  '# 합이 큰 순으로 정렬\\nnumbers_2d = [(9,9), (1, 100), (10,1)]\\nnumbers_2d.sort(key=lambda data : data(sum)))\\nnumbers_2d',\n",
       "  '# 합이 큰 순으로 정렬\\nnumbers_2d = [(9,9), (1, 100), (10,1)]\\nnumbers_2d.sort(key=lambda data : data(sum))\\nnumbers_2d',\n",
       "  '# 합이 큰 순으로 정렬\\nnumbers_2d = [(9,9), (1, 100), (10,1)]\\nnumbers_2d.sort(key=lambda data : data(sum(data)))\\nnumbers_2d',\n",
       "  '# 합이 큰 순으로 정렬\\nnumbers_2d = [(9,9), (1, 100), (10,1)]\\nnumbers_2d.sort(key=lambda data : sum([0],[1]))\\nnumbers_2d',\n",
       "  '# 합이 큰 순으로 정렬\\nnumbers_2d = [(9,9), (1, 100), (10,1)]\\nnumbers_2d.sort(key=lambda data : data(max(sum)))\\nnumbers_2d',\n",
       "  '# 합이 큰 순으로 정렬\\nnumbers_2d = [(9,9), (1, 100), (10,1)]\\nnumbers_2d.sort(key=lambda data : data(max(sum))\\nnumbers_2d',\n",
       "  '# 합이 큰 순으로 정렬\\nnumbers_2d = [(9,9), (1, 100), (10,1)]\\nnumbers_2d.sort(key=lambda items : sum(items), reverse=True)\\nnumbers_2d',\n",
       "  \"name_select = lambda data : data.get('name')\\nname_select({'name':' 홍', 'score':99})\",\n",
       "  \"# students를 name순으로 정렬 (ㄱㄴㄷ순)\\nstudents.sort(key=lambda data : data.get('name'))\",\n",
       "  \"students = [{'name':' 홍', 'score':99},\\n            {'name':' 김', 'score':50},\\n            {'name':' 박', 'score':77},\\n            {'score':100},]\",\n",
       "  \"name_select = lambda data : data.get('name')\\nname_select({'name':' 홍', 'score':99})\",\n",
       "  \"# students를 name순으로 정렬 (ㄱㄴㄷ순)\\nstudents.sort(key=lambda data : data.get('name'))\",\n",
       "  \"students = [{'name':'홍', 'score':99},\\n            {'name':'김', 'score':50},\\n            {'name':'박', 'score':77},\\n            {'score':100},]\",\n",
       "  \"name_select = lambda data : data.get('name')\\nname_select({'name':' 홍', 'score':99})\",\n",
       "  \"# students를 name순으로 정렬 (ㄱㄴㄷ순)\\nstudents.sort(key=lambda data : data.get('name'))\",\n",
       "  \"# students를 name순으로 정렬 (ㄱㄴㄷ순)\\nstudents.sort(key=lambda name : students.get('name'))\",\n",
       "  \"# students를 name순으로 정렬 (ㄱㄴㄷ순)\\nstudents.sort(key=lambda name : data.get('name', '힣')\\nstudents\",\n",
       "  \"# students를 name순으로 정렬 (ㄱㄴㄷ순)\\nstudents.sort(key=lambda name : data.get('name', '힣'))\\nstudents\",\n",
       "  \"# students를 name순으로 정렬 (ㄱㄴㄷ순)\\nstudents.sort(key=lambda data : data.get('name', '힣'))\\nstudents\",\n",
       "  \"# students를 score 큰 순으로 정렬\\nstudents.sort(key=lambda data : data.get('score', reverse=True))\\nstudents\",\n",
       "  \"# students를 score 큰 순으로 정렬\\nstudents.sort(key=lambda data : data.get('score', reverse=True))\\nstudents\",\n",
       "  \"# students를 score 큰 순으로 정렬\\nstudents.sort(key=lambda data : data.get('score'), reverse=True))\\nstudents\",\n",
       "  \"# students를 score 큰 순으로 정렬\\nstudents.sort(key=lambda data : data.get('score'), reverse=True)\\nstudents\",\n",
       "  \"# 예제 4 : books 정렬()\\nbooks = \\\\\\n   [{'no':1, 'title':'더트릭컬', 'writer':'폴빠','price':'19,800'},\\n    {'no':2, 'title':'흔한남매', 'writer':'백난도', 'price':'15,120'},\\n    {'no':3, 'title':'단 한 번의 삶', 'writer':'김영하', 'price':'15,120'},\\n    {'no':4, 'title':'가격잘못', 'writer':'홍길동', 'price':'ㅁ'},\\n    {'no':5, 'title':'가격이숫자', 'writer':'백난도', 'price':30200},\\n    {'no':6, 'title':'가격이없음', 'writer':'이길동'},]\",\n",
       "  \"books.sort(key=lambda data : data.get('no'))\\nbooks\",\n",
       "  \"# 예제 4 : books 정렬(no, title, price)\\nbooks = \\\\\\n   [{'no':2, 'title':'더트릭컬', 'writer':'폴빠','price':'19,800'},\\n    {'no':1, 'title':'흔한남매', 'writer':'백난도', 'price':'15,120'},\\n    {'no':3, 'title':'단 한 번의 삶', 'writer':'김영하', 'price':'15,120'},\\n    {'no':4, 'title':'가격잘못', 'writer':'홍길동', 'price':'ㅁ'},\\n    {'no':5, 'title':'가격이숫자', 'writer':'백난도', 'price':30200},\\n    {'no':6, 'title':'가격이없음', 'writer':'이길동'},]\",\n",
       "  \"books.sort(key=lambda data : data.get('no'))\\nbooks\",\n",
       "  \"books.sort(key=lambda data : data.get('title'))\\nbooks\",\n",
       "  \"books.sort(key=lambda data : data.get('writer'))\",\n",
       "  \"books.sort(key=lambda data : data.get('writer'))\\nbooks\",\n",
       "  \"# 30200, '12,000', 'ㅁ', None \",\n",
       "  \"def parse_int(price):\\n    print(type(price))\\n    parse_int('12,000')\",\n",
       "  'def parse_int(price):\\n    print(type(price))\\nparse_int(None)',\n",
       "  \"def parse_int(price):\\n    print(type(price))\\nparse_int('ㅁ')\",\n",
       "  \"def parse_int(price):\\n    if isinstance(price, str) and price.replace(',', '').isdigit(): # 앞에 것이 False면 뒤를 실행하지 않음 (and 논리 연산자)\\n        return int(price.replace(',', ''))\",\n",
       "  \"def parse_int(price):\\n    if isinstance(price, str) and price.replace(',', '').isdigit(): # 앞에 것이 False면 뒤를 실행하지 않음 (and 논리 연산자)\\n        return int(price.replace(',', ''))\\n    elif isinstance(price, int):\\n        return price\\n    else:\\n        return 0\\nprint(parse_int('12,000'), parse_int(30200), parse_int('ㅁ'), parse_int(None))\",\n",
       "  \"def parse_int(price):\\n    if isinstance(price, str) and price.replace(',', '').isdigit(): # 앞에 것이 False면 뒤를 실행하지 않음 (and 논리 연산자)\\n        return int(price.replace(',', ''))\\n    elif isinstance(price, int):\\n        return price\\n    else:\\n        return 0\\nprint(parse_int('12,000'), parse_int(30200), parse_int('ㅁ'), parse_int(None))\\n\\nparse_price = lambda price : int(price.replace(',', '')) if isinstance(price, str) and price.replace(',', '').isdigit()\\\\\\n                  price                    elif isinstance(price, int) else 0\",\n",
       "  \"def parse_int(price):\\n    if isinstance(price, str) and price.replace(',', '').isdigit(): # 앞에 것이 False면 뒤를 실행하지 않음 (and 논리 연산자)\\n        return int(price.replace(',', ''))\\n    elif isinstance(price, int):\\n        return price\\n    else:\\n        return 0\\nprint(parse_int('12,000'), parse_int(30200), parse_int('ㅁ'), parse_int(None))\\n\\nparse_price = lambda price : int(price.replace(',', '')) if isinstance(price, str) and price.replace(',', '').isdigit()\\\\\\n                             price                       elif isinstance(price, int) else 0\",\n",
       "  \"def parse_int(price):\\n    if isinstance(price, str) and price.replace(',', '').isdigit(): # 앞에 것이 False면 뒤를 실행하지 않음 (and 논리 연산자)\\n        return int(price.replace(',', ''))\\n    elif isinstance(price, int):\\n        return price\\n    else:\\n        return 0\\nprint(parse_int('12,000'), parse_int(30200), parse_int('ㅁ'), parse_int(None))\\n\\nparse_price = lambda price : int(price.replace(',', '')) if isinstance(price, str) and price.replace(',', '').isdigit() else\\\\\\n                             price                       if isinstance(price, int) else\\\\\\n                             0\",\n",
       "  \"books.sort(key=lambda data : data.get('price'))\",\n",
       "  'books.sort(parse_price)',\n",
       "  \"def parse_int(price):\\n    if isinstance(price, str) and price.replace(',', '').isdigit(): # 앞에 것이 False면 뒤를 실행하지 않음 (and 논리 연산자)\\n        return int(price.replace(',', ''))\\n    elif isinstance(price, int):\\n        return price\\n    else:\\n        return 0\\nprint(parse_int('12,000'), parse_int(30200), parse_int('ㅁ'), parse_int(None))\\n\\nparse_price = lambda price : int(price.replace(',', '')) if isinstance(price, str) and price.replace(',', '').isdigit() else\\\\\\n                             price                       if isinstance(price, int) else\\\\\\n                             0\\nprint(parse_int('12,000'), parse_int(30200), parse_int('ㅁ'), parse_int(None))\",\n",
       "  \"parse_price = lambda book : int(book.get('price').replace(',', '')) if isinstance(book.get('price'), str) and book.get('price').replace(',', '').isdigit() else\\\\\\n                             price                       if isinstance(book.get('price'), int) else\\\\\\n                             0\\nparse_price({'no': 5, 'title': '가격이숫자', 'writer': '백난도', 'price': 30200})\",\n",
       "  \"parse_price = lambda book : int(book.get('price').replace(',', '')) if isinstance(book.get('price'), str) and book.get('price').replace(',', '').isdigit() else\\\\\\n                             book.get('price')                       if isinstance(book.get('price'), int) else\\\\\\n                             0\\nparse_price({'no': 5, 'title': '가격이숫자', 'writer': '백난도', 'price': 30200})\",\n",
       "  'books.sort(key=parse_price)',\n",
       "  'books.sort(key=parse_price)\\nbooks',\n",
       "  'books.sort(key=parse_price, reverse=True)\\nbooks',\n",
       "  'books.sort(key=parse_price)\\nbooks',\n",
       "  'books.sort(key=parse_price, reverse=True)\\nbooks',\n",
       "  'copyBook = books.copy()\\ncopyBooks',\n",
       "  'copyBooks = books.copy()\\ncopyBooks',\n",
       "  'copyBooks = books.copy()\\ncopyBooks.sort()',\n",
       "  'copyBooks = books.copy()\\ncopyBooks.sort(key=parse_price)',\n",
       "  'copyBooks = books.copy()\\ncopyBooks.sort(key=parse_price)\\ncopyBooks',\n",
       "  \"# 9. 다음 코드의 실행 결과는?\\ndate_info = {'year':2024, 'month':9, 'day':6}\\nresult = '{year}-{month}-{day}'.format(**date_info)\\nresult\",\n",
       "  'a = 10',\n",
       "  'globals() # 전역변수 리스트'],\n",
       " 'Out': {3: [1, 3, 5, 7, 9],\n",
       "  4: [1, 0, 1, 0, 1, 0, 1, 0, 1],\n",
       "  5: [True, False, True, False, True, False, True, False, True],\n",
       "  6: [True, False, True, False, True, False, True, False, True],\n",
       "  7: [1, 3, 5, 7, 9],\n",
       "  8: <filter at 0x24fc8f1ce50>,\n",
       "  16: [1, 3.0, 100, -2.0],\n",
       "  17: [1, 3.0, 100, -2.0],\n",
       "  18: [-2.0, 1, 3.0, 100],\n",
       "  19: [1, 4, 9, 16, 25],\n",
       "  21: [10, 6, 3, 1],\n",
       "  22: [(2, 'two'), (3, 'three'), (1, 'one'), (4, 'four')],\n",
       "  24: [(2, 'two'), (3, 'three'), (1, 'one'), (4, 'four')],\n",
       "  28: [(10, 1), (9, 9), (1, 100)],\n",
       "  37: [(1, 100), (9, 9), (10, 1)],\n",
       "  38: ' 홍',\n",
       "  41: ' 홍',\n",
       "  44: ' 홍',\n",
       "  49: [{'score': 100},\n",
       "   {'name': '홍', 'score': 99},\n",
       "   {'name': '박', 'score': 77},\n",
       "   {'name': '김', 'score': 50}],\n",
       "  53: [{'score': 100},\n",
       "   {'name': '홍', 'score': 99},\n",
       "   {'name': '박', 'score': 77},\n",
       "   {'name': '김', 'score': 50}],\n",
       "  55: [{'no': 1, 'title': '더트릭컬', 'writer': '폴빠', 'price': '19,800'},\n",
       "   {'no': 2, 'title': '흔한남매', 'writer': '백난도', 'price': '15,120'},\n",
       "   {'no': 3, 'title': '단 한 번의 삶', 'writer': '김영하', 'price': '15,120'},\n",
       "   {'no': 4, 'title': '가격잘못', 'writer': '홍길동', 'price': 'ㅁ'},\n",
       "   {'no': 5, 'title': '가격이숫자', 'writer': '백난도', 'price': 30200},\n",
       "   {'no': 6, 'title': '가격이없음', 'writer': '이길동'}],\n",
       "  57: [{'no': 5, 'title': '가격이숫자', 'writer': '백난도', 'price': 30200},\n",
       "   {'no': 2, 'title': '더트릭컬', 'writer': '폴빠', 'price': '19,800'},\n",
       "   {'no': 3, 'title': '단 한 번의 삶', 'writer': '김영하', 'price': '15,120'},\n",
       "   {'no': 1, 'title': '흔한남매', 'writer': '백난도', 'price': '15,120'},\n",
       "   {'no': 6, 'title': '가격이없음', 'writer': '이길동'},\n",
       "   {'no': 4, 'title': '가격잘못', 'writer': '홍길동', 'price': 'ㅁ'}],\n",
       "  58: [{'no': 5, 'title': '가격이숫자', 'writer': '백난도', 'price': 30200},\n",
       "   {'no': 2, 'title': '더트릭컬', 'writer': '폴빠', 'price': '19,800'},\n",
       "   {'no': 3, 'title': '단 한 번의 삶', 'writer': '김영하', 'price': '15,120'},\n",
       "   {'no': 1, 'title': '흔한남매', 'writer': '백난도', 'price': '15,120'},\n",
       "   {'no': 6, 'title': '가격이없음', 'writer': '이길동'},\n",
       "   {'no': 4, 'title': '가격잘못', 'writer': '홍길동', 'price': 'ㅁ'}],\n",
       "  60: [{'no': 5, 'title': '가격이숫자', 'writer': '백난도', 'price': 30200},\n",
       "   {'no': 2, 'title': '더트릭컬', 'writer': '폴빠', 'price': '19,800'},\n",
       "   {'no': 3, 'title': '단 한 번의 삶', 'writer': '김영하', 'price': '15,120'},\n",
       "   {'no': 1, 'title': '흔한남매', 'writer': '백난도', 'price': '15,120'},\n",
       "   {'no': 6, 'title': '가격이없음', 'writer': '이길동'},\n",
       "   {'no': 4, 'title': '가격잘못', 'writer': '홍길동', 'price': 'ㅁ'}],\n",
       "  74: 30200,\n",
       "  76: [{'no': 5, 'title': '가격이숫자', 'writer': '백난도', 'price': 30200},\n",
       "   {'no': 2, 'title': '더트릭컬', 'writer': '폴빠', 'price': '19,800'},\n",
       "   {'no': 3, 'title': '단 한 번의 삶', 'writer': '김영하', 'price': '15,120'},\n",
       "   {'no': 1, 'title': '흔한남매', 'writer': '백난도', 'price': '15,120'},\n",
       "   {'no': 6, 'title': '가격이없음', 'writer': '이길동'},\n",
       "   {'no': 4, 'title': '가격잘못', 'writer': '홍길동', 'price': 'ㅁ'}],\n",
       "  77: [{'no': 5, 'title': '가격이숫자', 'writer': '백난도', 'price': 30200},\n",
       "   {'no': 2, 'title': '더트릭컬', 'writer': '폴빠', 'price': '19,800'},\n",
       "   {'no': 3, 'title': '단 한 번의 삶', 'writer': '김영하', 'price': '15,120'},\n",
       "   {'no': 1, 'title': '흔한남매', 'writer': '백난도', 'price': '15,120'},\n",
       "   {'no': 6, 'title': '가격이없음', 'writer': '이길동'},\n",
       "   {'no': 4, 'title': '가격잘못', 'writer': '홍길동', 'price': 'ㅁ'}],\n",
       "  78: [{'no': 5, 'title': '가격이숫자', 'writer': '백난도', 'price': 30200},\n",
       "   {'no': 2, 'title': '더트릭컬', 'writer': '폴빠', 'price': '19,800'},\n",
       "   {'no': 3, 'title': '단 한 번의 삶', 'writer': '김영하', 'price': '15,120'},\n",
       "   {'no': 1, 'title': '흔한남매', 'writer': '백난도', 'price': '15,120'},\n",
       "   {'no': 6, 'title': '가격이없음', 'writer': '이길동'},\n",
       "   {'no': 4, 'title': '가격잘못', 'writer': '홍길동', 'price': 'ㅁ'}],\n",
       "  79: [{'no': 5, 'title': '가격이숫자', 'writer': '백난도', 'price': 30200},\n",
       "   {'no': 2, 'title': '더트릭컬', 'writer': '폴빠', 'price': '19,800'},\n",
       "   {'no': 3, 'title': '단 한 번의 삶', 'writer': '김영하', 'price': '15,120'},\n",
       "   {'no': 1, 'title': '흔한남매', 'writer': '백난도', 'price': '15,120'},\n",
       "   {'no': 6, 'title': '가격이없음', 'writer': '이길동'},\n",
       "   {'no': 4, 'title': '가격잘못', 'writer': '홍길동', 'price': 'ㅁ'}],\n",
       "  81: [{'no': 5, 'title': '가격이숫자', 'writer': '백난도', 'price': 30200},\n",
       "   {'no': 2, 'title': '더트릭컬', 'writer': '폴빠', 'price': '19,800'},\n",
       "   {'no': 3, 'title': '단 한 번의 삶', 'writer': '김영하', 'price': '15,120'},\n",
       "   {'no': 1, 'title': '흔한남매', 'writer': '백난도', 'price': '15,120'},\n",
       "   {'no': 6, 'title': '가격이없음', 'writer': '이길동'},\n",
       "   {'no': 4, 'title': '가격잘못', 'writer': '홍길동', 'price': 'ㅁ'}],\n",
       "  84: [{'no': 6, 'title': '가격이없음', 'writer': '이길동'},\n",
       "   {'no': 4, 'title': '가격잘못', 'writer': '홍길동', 'price': 'ㅁ'},\n",
       "   {'no': 3, 'title': '단 한 번의 삶', 'writer': '김영하', 'price': '15,120'},\n",
       "   {'no': 1, 'title': '흔한남매', 'writer': '백난도', 'price': '15,120'},\n",
       "   {'no': 2, 'title': '더트릭컬', 'writer': '폴빠', 'price': '19,800'},\n",
       "   {'no': 5, 'title': '가격이숫자', 'writer': '백난도', 'price': 30200}],\n",
       "  85: '2024-9-6'},\n",
       " 'get_ipython': <bound method InteractiveShell.get_ipython of <ipykernel.zmqshell.ZMQInteractiveShell object at 0x0000024FC8F1F730>>,\n",
       " 'exit': <IPython.core.autocall.ZMQExitAutocall at 0x24fc8f2fee0>,\n",
       " 'quit': <IPython.core.autocall.ZMQExitAutocall at 0x24fc8f2fee0>,\n",
       " 'open': <function io.open(file, mode='r', buffering=-1, encoding=None, errors=None, newline=None, closefd=True, opener=None)>,\n",
       " '_': '2024-9-6',\n",
       " '__': [{'no': 6, 'title': '가격이없음', 'writer': '이길동'},\n",
       "  {'no': 4, 'title': '가격잘못', 'writer': '홍길동', 'price': 'ㅁ'},\n",
       "  {'no': 3, 'title': '단 한 번의 삶', 'writer': '김영하', 'price': '15,120'},\n",
       "  {'no': 1, 'title': '흔한남매', 'writer': '백난도', 'price': '15,120'},\n",
       "  {'no': 2, 'title': '더트릭컬', 'writer': '폴빠', 'price': '19,800'},\n",
       "  {'no': 5, 'title': '가격이숫자', 'writer': '백난도', 'price': 30200}],\n",
       " '___': [{'no': 5, 'title': '가격이숫자', 'writer': '백난도', 'price': 30200},\n",
       "  {'no': 2, 'title': '더트릭컬', 'writer': '폴빠', 'price': '19,800'},\n",
       "  {'no': 3, 'title': '단 한 번의 삶', 'writer': '김영하', 'price': '15,120'},\n",
       "  {'no': 1, 'title': '흔한남매', 'writer': '백난도', 'price': '15,120'},\n",
       "  {'no': 6, 'title': '가격이없음', 'writer': '이길동'},\n",
       "  {'no': 4, 'title': '가격잘못', 'writer': '홍길동', 'price': 'ㅁ'}],\n",
       " '_i': 'a = 10',\n",
       " '_ii': \"# 9. 다음 코드의 실행 결과는?\\ndate_info = {'year':2024, 'month':9, 'day':6}\\nresult = '{year}-{month}-{day}'.format(**date_info)\\nresult\",\n",
       " '_iii': 'copyBooks = books.copy()\\ncopyBooks.sort(key=parse_price)\\ncopyBooks',\n",
       " '_i1': '# 1. 함수의 인자로 리스트를 받은 후 리스트 내에 있는 모든 정수값에 대한 최대값과 최소값을 리턴하는 함수를 작성하세요\\ndef get_max_min(*args):\\n    for i in args:\\n        return \\nget_max_min = lambda i : ',\n",
       " '_i2': 'def filter_template(func, L=[]):\\n    result = []\\n    for item in L:\\n        if func(item):\\n            result.append(item)\\n    return result',\n",
       " 'filter_template': <function __main__.filter_template(func, L=[])>,\n",
       " '_i3': 'list_data = [1,2,3,4,5,6,7,8,9]\\ndef odd_CK(value):\\n    return value % 2\\nfilter_template(lambda value : value%2, list_data)',\n",
       " 'list_data': [1, 2, 3, 4, 5, 6, 7, 8, 9],\n",
       " 'odd_CK': <function __main__.odd_CK(value)>,\n",
       " '_3': [1, 3, 5, 7, 9],\n",
       " '_i4': '[value%2 for value in list_data]',\n",
       " '_4': [1, 0, 1, 0, 1, 0, 1, 0, 1],\n",
       " '_i5': '[value%2==1 for value in list_data]',\n",
       " '_5': [True, False, True, False, True, False, True, False, True],\n",
       " '_i6': '[value%2!=0 for value in list_data]',\n",
       " '_6': [True, False, True, False, True, False, True, False, True],\n",
       " '_i7': '[value for value in list_data if value%2==1]',\n",
       " '_7': [1, 3, 5, 7, 9],\n",
       " '_i8': 'filter(lambda value : value%2, list_data)',\n",
       " '_8': <filter at 0x24fc8f1ce50>,\n",
       " '_i9': 'filter(lambda value : value%2, list_data)\\nprint(list(filter(lambda value : value%2, list_data)))',\n",
       " '_i10': '# 예제 : 다음 리스트에서 소수점 이하가 0인 수만 추출하시오(filter)\\nL = [1, 1.2, 1.5, 3.0, 10.5, 100]\\nvalue for vaule in L if value == round()',\n",
       " '_i11': '# 예제 : 다음 리스트에서 소수점 이하가 0인 수만 추출하시오(filter)\\nL = [1, 1.2, 1.5, 3.0, 10.5, 100]\\nvalue for vaule in L if value == round(value)',\n",
       " '_i12': '# 예제 : 다음 리스트에서 소수점 이하가 0인 수만 추출하시오(filter)\\nL = [1, 1.2, 1.5, 3.0, 10.5, 100, -2.0, -12.2]\\nvalue for vaule in L if value == round()',\n",
       " '_i13': '# 예제 : 다음 리스트에서 소수점 이하가 0인 수만 추출하시오(filter)\\nL = [1, 1.2, 1.5, 3.0, 10.5, 100, -2.0, -12.2]\\n[value for vaule in L if value == round()]',\n",
       " 'L': [1, 1.2, 1.5, 3.0, 10.5, 100, -2.0, -12.2],\n",
       " '_i14': '# 예제 : 다음 리스트에서 소수점 이하가 0인 수만 추출하시오(filter)\\nL = [1, 1.2, 1.5, 3.0, 10.5, 100, -2.0, -12.2]\\n[value for value in L if value == round()]',\n",
       " '_i15': '# 예제 : 다음 리스트에서 소수점 이하가 0인 수만 추출하시오(filter)\\nL = [1, 1.2, 1.5, 3.0, 10.5, 100, -2.0, -12.2]\\n[value for value in L if value == round(ralue)]',\n",
       " '_i16': '# 예제 : 다음 리스트에서 소수점 이하가 0인 수만 추출하시오(filter)\\nL = [1, 1.2, 1.5, 3.0, 10.5, 100, -2.0, -12.2]\\n[value for value in L if value == round(value)]',\n",
       " '_16': [1, 3.0, 100, -2.0],\n",
       " '_i17': 'list(filter(lambda value : value == round(value), L))',\n",
       " '_17': [1, 3.0, 100, -2.0],\n",
       " '_i18': 'sorted(list(filter(lambda value : value == round(value), L)))',\n",
       " '_18': [-2.0, 1, 3.0, 100],\n",
       " '_i19': '# 7. \\nex = [1,2,3,4,5] #를 [1,4,9,16,25] # 의 결과를 얻을 수 있도록 람다 함수와 map() 함수를 사용하여 구현과 리스트 컴프리헨션으로 구현하시오\\nprint([ex**2 for ex in ex])\\nlist(map(lambda value : value ** 2, ex))',\n",
       " 'ex': [1, 2, 3, 4, 5],\n",
       " '_19': [1, 4, 9, 16, 25],\n",
       " '_i20': 'p = [10, 3, 6, 1]\\np.sort(reverse=True)\\n0\\\\p',\n",
       " '_i21': 'p = [10, 3, 6, 1]\\np.sort(reverse=True)\\np',\n",
       " 'p': [10, 6, 3, 1],\n",
       " '_21': [10, 6, 3, 1],\n",
       " '_i22': \"# 무조건 0번째 item을 기준으로 오름차순 정렬\\npairs = [(2, 'two'), (1, 'one'), (3, 'three'), (4, 'four')]\\npairs.sort()\\npairs\",\n",
       " 'pairs': [(2, 'two'), (3, 'three'), (1, 'one'), (4, 'four')],\n",
       " '_22': [(2, 'two'), (3, 'three'), (1, 'one'), (4, 'four')],\n",
       " '_i23': '# 1번째 item 기준으로 내림차순 정렬\\npairs.sort(key=lambda data : data[1], reverse=True)',\n",
       " '_i24': '# 1번째 item 기준으로 내림차순 정렬\\npairs.sort(key=lambda data : data[1], reverse=True)\\npairs',\n",
       " '_24': [(2, 'two'), (3, 'three'), (1, 'one'), (4, 'four')],\n",
       " '_i25': '# 합이 큰 순으로 정렬\\nnumbers_2d = [(9,9), (1, 100), (10,1)]\\nnumbers_2d.sort(key=lambda data : sum(data), numbers_2d',\n",
       " '_i26': '# 합이 큰 순으로 정렬\\nnumbers_2d = [(9,9), (1, 100), (10,1)]\\nnumbers_2d.sort(key=lambda data : sum(data), numbers_2d)',\n",
       " '_i27': '# 합이 큰 순으로 정렬\\nnumbers_2d = [(9,9), (1, 100), (10,1)]\\nnumbers_2d.sort(key=lambda data : sum(data))',\n",
       " 'numbers_2d': [(1, 100), (9, 9), (10, 1)],\n",
       " '_i28': '# 합이 큰 순으로 정렬\\nnumbers_2d = [(9,9), (1, 100), (10,1)]\\nnumbers_2d.sort(key=lambda data : sum(data))\\nnumbers_2d',\n",
       " '_28': [(10, 1), (9, 9), (1, 100)],\n",
       " '_i29': '# 합이 큰 순으로 정렬\\nnumbers_2d = [(9,9), (1, 100), (10,1)]\\nnumbers_2d.sort(key=lambda data : sum(*ata))\\nnumbers_2d',\n",
       " '_i30': '# 합이 큰 순으로 정렬\\nnumbers_2d = [(9,9), (1, 100), (10,1)]\\nnumbers_2d.sort(key=lambda data : sum(*data))\\nnumbers_2d',\n",
       " '_i31': '# 합이 큰 순으로 정렬\\nnumbers_2d = [(9,9), (1, 100), (10,1)]\\nnumbers_2d.sort(key=lambda data : data(sum)))\\nnumbers_2d',\n",
       " '_i32': '# 합이 큰 순으로 정렬\\nnumbers_2d = [(9,9), (1, 100), (10,1)]\\nnumbers_2d.sort(key=lambda data : data(sum))\\nnumbers_2d',\n",
       " '_i33': '# 합이 큰 순으로 정렬\\nnumbers_2d = [(9,9), (1, 100), (10,1)]\\nnumbers_2d.sort(key=lambda data : data(sum(data)))\\nnumbers_2d',\n",
       " '_i34': '# 합이 큰 순으로 정렬\\nnumbers_2d = [(9,9), (1, 100), (10,1)]\\nnumbers_2d.sort(key=lambda data : sum([0],[1]))\\nnumbers_2d',\n",
       " '_i35': '# 합이 큰 순으로 정렬\\nnumbers_2d = [(9,9), (1, 100), (10,1)]\\nnumbers_2d.sort(key=lambda data : data(max(sum)))\\nnumbers_2d',\n",
       " '_i36': '# 합이 큰 순으로 정렬\\nnumbers_2d = [(9,9), (1, 100), (10,1)]\\nnumbers_2d.sort(key=lambda data : data(max(sum))\\nnumbers_2d',\n",
       " '_i37': '# 합이 큰 순으로 정렬\\nnumbers_2d = [(9,9), (1, 100), (10,1)]\\nnumbers_2d.sort(key=lambda items : sum(items), reverse=True)\\nnumbers_2d',\n",
       " '_37': [(1, 100), (9, 9), (10, 1)],\n",
       " '_i38': \"name_select = lambda data : data.get('name')\\nname_select({'name':' 홍', 'score':99})\",\n",
       " 'name_select': <function __main__.<lambda>(data)>,\n",
       " '_38': ' 홍',\n",
       " '_i39': \"# students를 name순으로 정렬 (ㄱㄴㄷ순)\\nstudents.sort(key=lambda data : data.get('name'))\",\n",
       " '_i40': \"students = [{'name':' 홍', 'score':99},\\n            {'name':' 김', 'score':50},\\n            {'name':' 박', 'score':77},\\n            {'score':100},]\",\n",
       " 'students': [{'score': 100},\n",
       "  {'name': '홍', 'score': 99},\n",
       "  {'name': '박', 'score': 77},\n",
       "  {'name': '김', 'score': 50}],\n",
       " '_i41': \"name_select = lambda data : data.get('name')\\nname_select({'name':' 홍', 'score':99})\",\n",
       " '_41': ' 홍',\n",
       " '_i42': \"# students를 name순으로 정렬 (ㄱㄴㄷ순)\\nstudents.sort(key=lambda data : data.get('name'))\",\n",
       " '_i43': \"students = [{'name':'홍', 'score':99},\\n            {'name':'김', 'score':50},\\n            {'name':'박', 'score':77},\\n            {'score':100},]\",\n",
       " '_i44': \"name_select = lambda data : data.get('name')\\nname_select({'name':' 홍', 'score':99})\",\n",
       " '_44': ' 홍',\n",
       " '_i45': \"# students를 name순으로 정렬 (ㄱㄴㄷ순)\\nstudents.sort(key=lambda data : data.get('name'))\",\n",
       " '_i46': \"# students를 name순으로 정렬 (ㄱㄴㄷ순)\\nstudents.sort(key=lambda name : students.get('name'))\",\n",
       " '_i47': \"# students를 name순으로 정렬 (ㄱㄴㄷ순)\\nstudents.sort(key=lambda name : data.get('name', '힣')\\nstudents\",\n",
       " '_i48': \"# students를 name순으로 정렬 (ㄱㄴㄷ순)\\nstudents.sort(key=lambda name : data.get('name', '힣'))\\nstudents\",\n",
       " '_i49': \"# students를 name순으로 정렬 (ㄱㄴㄷ순)\\nstudents.sort(key=lambda data : data.get('name', '힣'))\\nstudents\",\n",
       " '_49': [{'score': 100},\n",
       "  {'name': '홍', 'score': 99},\n",
       "  {'name': '박', 'score': 77},\n",
       "  {'name': '김', 'score': 50}],\n",
       " '_i50': \"# students를 score 큰 순으로 정렬\\nstudents.sort(key=lambda data : data.get('score', reverse=True))\\nstudents\",\n",
       " '_i51': \"# students를 score 큰 순으로 정렬\\nstudents.sort(key=lambda data : data.get('score', reverse=True))\\nstudents\",\n",
       " '_i52': \"# students를 score 큰 순으로 정렬\\nstudents.sort(key=lambda data : data.get('score'), reverse=True))\\nstudents\",\n",
       " '_i53': \"# students를 score 큰 순으로 정렬\\nstudents.sort(key=lambda data : data.get('score'), reverse=True)\\nstudents\",\n",
       " '_53': [{'score': 100},\n",
       "  {'name': '홍', 'score': 99},\n",
       "  {'name': '박', 'score': 77},\n",
       "  {'name': '김', 'score': 50}],\n",
       " '_i54': \"# 예제 4 : books 정렬()\\nbooks = \\\\\\n   [{'no':1, 'title':'더트릭컬', 'writer':'폴빠','price':'19,800'},\\n    {'no':2, 'title':'흔한남매', 'writer':'백난도', 'price':'15,120'},\\n    {'no':3, 'title':'단 한 번의 삶', 'writer':'김영하', 'price':'15,120'},\\n    {'no':4, 'title':'가격잘못', 'writer':'홍길동', 'price':'ㅁ'},\\n    {'no':5, 'title':'가격이숫자', 'writer':'백난도', 'price':30200},\\n    {'no':6, 'title':'가격이없음', 'writer':'이길동'},]\",\n",
       " 'books': [{'no': 5, 'title': '가격이숫자', 'writer': '백난도', 'price': 30200},\n",
       "  {'no': 2, 'title': '더트릭컬', 'writer': '폴빠', 'price': '19,800'},\n",
       "  {'no': 3, 'title': '단 한 번의 삶', 'writer': '김영하', 'price': '15,120'},\n",
       "  {'no': 1, 'title': '흔한남매', 'writer': '백난도', 'price': '15,120'},\n",
       "  {'no': 6, 'title': '가격이없음', 'writer': '이길동'},\n",
       "  {'no': 4, 'title': '가격잘못', 'writer': '홍길동', 'price': 'ㅁ'}],\n",
       " '_i55': \"books.sort(key=lambda data : data.get('no'))\\nbooks\",\n",
       " '_55': [{'no': 1, 'title': '더트릭컬', 'writer': '폴빠', 'price': '19,800'},\n",
       "  {'no': 2, 'title': '흔한남매', 'writer': '백난도', 'price': '15,120'},\n",
       "  {'no': 3, 'title': '단 한 번의 삶', 'writer': '김영하', 'price': '15,120'},\n",
       "  {'no': 4, 'title': '가격잘못', 'writer': '홍길동', 'price': 'ㅁ'},\n",
       "  {'no': 5, 'title': '가격이숫자', 'writer': '백난도', 'price': 30200},\n",
       "  {'no': 6, 'title': '가격이없음', 'writer': '이길동'}],\n",
       " '_i56': \"# 예제 4 : books 정렬(no, title, price)\\nbooks = \\\\\\n   [{'no':2, 'title':'더트릭컬', 'writer':'폴빠','price':'19,800'},\\n    {'no':1, 'title':'흔한남매', 'writer':'백난도', 'price':'15,120'},\\n    {'no':3, 'title':'단 한 번의 삶', 'writer':'김영하', 'price':'15,120'},\\n    {'no':4, 'title':'가격잘못', 'writer':'홍길동', 'price':'ㅁ'},\\n    {'no':5, 'title':'가격이숫자', 'writer':'백난도', 'price':30200},\\n    {'no':6, 'title':'가격이없음', 'writer':'이길동'},]\",\n",
       " '_i57': \"books.sort(key=lambda data : data.get('no'))\\nbooks\",\n",
       " '_57': [{'no': 5, 'title': '가격이숫자', 'writer': '백난도', 'price': 30200},\n",
       "  {'no': 2, 'title': '더트릭컬', 'writer': '폴빠', 'price': '19,800'},\n",
       "  {'no': 3, 'title': '단 한 번의 삶', 'writer': '김영하', 'price': '15,120'},\n",
       "  {'no': 1, 'title': '흔한남매', 'writer': '백난도', 'price': '15,120'},\n",
       "  {'no': 6, 'title': '가격이없음', 'writer': '이길동'},\n",
       "  {'no': 4, 'title': '가격잘못', 'writer': '홍길동', 'price': 'ㅁ'}],\n",
       " '_i58': \"books.sort(key=lambda data : data.get('title'))\\nbooks\",\n",
       " '_58': [{'no': 5, 'title': '가격이숫자', 'writer': '백난도', 'price': 30200},\n",
       "  {'no': 2, 'title': '더트릭컬', 'writer': '폴빠', 'price': '19,800'},\n",
       "  {'no': 3, 'title': '단 한 번의 삶', 'writer': '김영하', 'price': '15,120'},\n",
       "  {'no': 1, 'title': '흔한남매', 'writer': '백난도', 'price': '15,120'},\n",
       "  {'no': 6, 'title': '가격이없음', 'writer': '이길동'},\n",
       "  {'no': 4, 'title': '가격잘못', 'writer': '홍길동', 'price': 'ㅁ'}],\n",
       " '_i59': \"books.sort(key=lambda data : data.get('writer'))\",\n",
       " '_i60': \"books.sort(key=lambda data : data.get('writer'))\\nbooks\",\n",
       " '_60': [{'no': 5, 'title': '가격이숫자', 'writer': '백난도', 'price': 30200},\n",
       "  {'no': 2, 'title': '더트릭컬', 'writer': '폴빠', 'price': '19,800'},\n",
       "  {'no': 3, 'title': '단 한 번의 삶', 'writer': '김영하', 'price': '15,120'},\n",
       "  {'no': 1, 'title': '흔한남매', 'writer': '백난도', 'price': '15,120'},\n",
       "  {'no': 6, 'title': '가격이없음', 'writer': '이길동'},\n",
       "  {'no': 4, 'title': '가격잘못', 'writer': '홍길동', 'price': 'ㅁ'}],\n",
       " '_i61': \"# 30200, '12,000', 'ㅁ', None \",\n",
       " '_i62': \"def parse_int(price):\\n    print(type(price))\\n    parse_int('12,000')\",\n",
       " 'parse_int': <function __main__.parse_int(price)>,\n",
       " '_i63': 'def parse_int(price):\\n    print(type(price))\\nparse_int(None)',\n",
       " '_i64': \"def parse_int(price):\\n    print(type(price))\\nparse_int('ㅁ')\",\n",
       " '_i65': \"def parse_int(price):\\n    if isinstance(price, str) and price.replace(',', '').isdigit(): # 앞에 것이 False면 뒤를 실행하지 않음 (and 논리 연산자)\\n        return int(price.replace(',', ''))\",\n",
       " '_i66': \"def parse_int(price):\\n    if isinstance(price, str) and price.replace(',', '').isdigit(): # 앞에 것이 False면 뒤를 실행하지 않음 (and 논리 연산자)\\n        return int(price.replace(',', ''))\\n    elif isinstance(price, int):\\n        return price\\n    else:\\n        return 0\\nprint(parse_int('12,000'), parse_int(30200), parse_int('ㅁ'), parse_int(None))\",\n",
       " '_i67': \"def parse_int(price):\\n    if isinstance(price, str) and price.replace(',', '').isdigit(): # 앞에 것이 False면 뒤를 실행하지 않음 (and 논리 연산자)\\n        return int(price.replace(',', ''))\\n    elif isinstance(price, int):\\n        return price\\n    else:\\n        return 0\\nprint(parse_int('12,000'), parse_int(30200), parse_int('ㅁ'), parse_int(None))\\n\\nparse_price = lambda price : int(price.replace(',', '')) if isinstance(price, str) and price.replace(',', '').isdigit()\\\\\\n                  price                    elif isinstance(price, int) else 0\",\n",
       " '_i68': \"def parse_int(price):\\n    if isinstance(price, str) and price.replace(',', '').isdigit(): # 앞에 것이 False면 뒤를 실행하지 않음 (and 논리 연산자)\\n        return int(price.replace(',', ''))\\n    elif isinstance(price, int):\\n        return price\\n    else:\\n        return 0\\nprint(parse_int('12,000'), parse_int(30200), parse_int('ㅁ'), parse_int(None))\\n\\nparse_price = lambda price : int(price.replace(',', '')) if isinstance(price, str) and price.replace(',', '').isdigit()\\\\\\n                             price                       elif isinstance(price, int) else 0\",\n",
       " '_i69': \"def parse_int(price):\\n    if isinstance(price, str) and price.replace(',', '').isdigit(): # 앞에 것이 False면 뒤를 실행하지 않음 (and 논리 연산자)\\n        return int(price.replace(',', ''))\\n    elif isinstance(price, int):\\n        return price\\n    else:\\n        return 0\\nprint(parse_int('12,000'), parse_int(30200), parse_int('ㅁ'), parse_int(None))\\n\\nparse_price = lambda price : int(price.replace(',', '')) if isinstance(price, str) and price.replace(',', '').isdigit() else\\\\\\n                             price                       if isinstance(price, int) else\\\\\\n                             0\",\n",
       " 'parse_price': <function __main__.<lambda>(book)>,\n",
       " '_i70': \"books.sort(key=lambda data : data.get('price'))\",\n",
       " '_i71': 'books.sort(parse_price)',\n",
       " '_i72': \"def parse_int(price):\\n    if isinstance(price, str) and price.replace(',', '').isdigit(): # 앞에 것이 False면 뒤를 실행하지 않음 (and 논리 연산자)\\n        return int(price.replace(',', ''))\\n    elif isinstance(price, int):\\n        return price\\n    else:\\n        return 0\\nprint(parse_int('12,000'), parse_int(30200), parse_int('ㅁ'), parse_int(None))\\n\\nparse_price = lambda price : int(price.replace(',', '')) if isinstance(price, str) and price.replace(',', '').isdigit() else\\\\\\n                             price                       if isinstance(price, int) else\\\\\\n                             0\\nprint(parse_int('12,000'), parse_int(30200), parse_int('ㅁ'), parse_int(None))\",\n",
       " '_i73': \"parse_price = lambda book : int(book.get('price').replace(',', '')) if isinstance(book.get('price'), str) and book.get('price').replace(',', '').isdigit() else\\\\\\n                             price                       if isinstance(book.get('price'), int) else\\\\\\n                             0\\nparse_price({'no': 5, 'title': '가격이숫자', 'writer': '백난도', 'price': 30200})\",\n",
       " '_i74': \"parse_price = lambda book : int(book.get('price').replace(',', '')) if isinstance(book.get('price'), str) and book.get('price').replace(',', '').isdigit() else\\\\\\n                             book.get('price')                       if isinstance(book.get('price'), int) else\\\\\\n                             0\\nparse_price({'no': 5, 'title': '가격이숫자', 'writer': '백난도', 'price': 30200})\",\n",
       " '_74': 30200,\n",
       " '_i75': 'books.sort(key=parse_price)',\n",
       " '_i76': 'books.sort(key=parse_price)\\nbooks',\n",
       " '_76': [{'no': 5, 'title': '가격이숫자', 'writer': '백난도', 'price': 30200},\n",
       "  {'no': 2, 'title': '더트릭컬', 'writer': '폴빠', 'price': '19,800'},\n",
       "  {'no': 3, 'title': '단 한 번의 삶', 'writer': '김영하', 'price': '15,120'},\n",
       "  {'no': 1, 'title': '흔한남매', 'writer': '백난도', 'price': '15,120'},\n",
       "  {'no': 6, 'title': '가격이없음', 'writer': '이길동'},\n",
       "  {'no': 4, 'title': '가격잘못', 'writer': '홍길동', 'price': 'ㅁ'}],\n",
       " '_i77': 'books.sort(key=parse_price, reverse=True)\\nbooks',\n",
       " '_77': [{'no': 5, 'title': '가격이숫자', 'writer': '백난도', 'price': 30200},\n",
       "  {'no': 2, 'title': '더트릭컬', 'writer': '폴빠', 'price': '19,800'},\n",
       "  {'no': 3, 'title': '단 한 번의 삶', 'writer': '김영하', 'price': '15,120'},\n",
       "  {'no': 1, 'title': '흔한남매', 'writer': '백난도', 'price': '15,120'},\n",
       "  {'no': 6, 'title': '가격이없음', 'writer': '이길동'},\n",
       "  {'no': 4, 'title': '가격잘못', 'writer': '홍길동', 'price': 'ㅁ'}],\n",
       " '_i78': 'books.sort(key=parse_price)\\nbooks',\n",
       " '_78': [{'no': 5, 'title': '가격이숫자', 'writer': '백난도', 'price': 30200},\n",
       "  {'no': 2, 'title': '더트릭컬', 'writer': '폴빠', 'price': '19,800'},\n",
       "  {'no': 3, 'title': '단 한 번의 삶', 'writer': '김영하', 'price': '15,120'},\n",
       "  {'no': 1, 'title': '흔한남매', 'writer': '백난도', 'price': '15,120'},\n",
       "  {'no': 6, 'title': '가격이없음', 'writer': '이길동'},\n",
       "  {'no': 4, 'title': '가격잘못', 'writer': '홍길동', 'price': 'ㅁ'}],\n",
       " '_i79': 'books.sort(key=parse_price, reverse=True)\\nbooks',\n",
       " '_79': [{'no': 5, 'title': '가격이숫자', 'writer': '백난도', 'price': 30200},\n",
       "  {'no': 2, 'title': '더트릭컬', 'writer': '폴빠', 'price': '19,800'},\n",
       "  {'no': 3, 'title': '단 한 번의 삶', 'writer': '김영하', 'price': '15,120'},\n",
       "  {'no': 1, 'title': '흔한남매', 'writer': '백난도', 'price': '15,120'},\n",
       "  {'no': 6, 'title': '가격이없음', 'writer': '이길동'},\n",
       "  {'no': 4, 'title': '가격잘못', 'writer': '홍길동', 'price': 'ㅁ'}],\n",
       " '_i80': 'copyBook = books.copy()\\ncopyBooks',\n",
       " 'copyBook': [{'no': 5, 'title': '가격이숫자', 'writer': '백난도', 'price': 30200},\n",
       "  {'no': 2, 'title': '더트릭컬', 'writer': '폴빠', 'price': '19,800'},\n",
       "  {'no': 3, 'title': '단 한 번의 삶', 'writer': '김영하', 'price': '15,120'},\n",
       "  {'no': 1, 'title': '흔한남매', 'writer': '백난도', 'price': '15,120'},\n",
       "  {'no': 6, 'title': '가격이없음', 'writer': '이길동'},\n",
       "  {'no': 4, 'title': '가격잘못', 'writer': '홍길동', 'price': 'ㅁ'}],\n",
       " '_i81': 'copyBooks = books.copy()\\ncopyBooks',\n",
       " 'copyBooks': [{'no': 6, 'title': '가격이없음', 'writer': '이길동'},\n",
       "  {'no': 4, 'title': '가격잘못', 'writer': '홍길동', 'price': 'ㅁ'},\n",
       "  {'no': 3, 'title': '단 한 번의 삶', 'writer': '김영하', 'price': '15,120'},\n",
       "  {'no': 1, 'title': '흔한남매', 'writer': '백난도', 'price': '15,120'},\n",
       "  {'no': 2, 'title': '더트릭컬', 'writer': '폴빠', 'price': '19,800'},\n",
       "  {'no': 5, 'title': '가격이숫자', 'writer': '백난도', 'price': 30200}],\n",
       " '_81': [{'no': 5, 'title': '가격이숫자', 'writer': '백난도', 'price': 30200},\n",
       "  {'no': 2, 'title': '더트릭컬', 'writer': '폴빠', 'price': '19,800'},\n",
       "  {'no': 3, 'title': '단 한 번의 삶', 'writer': '김영하', 'price': '15,120'},\n",
       "  {'no': 1, 'title': '흔한남매', 'writer': '백난도', 'price': '15,120'},\n",
       "  {'no': 6, 'title': '가격이없음', 'writer': '이길동'},\n",
       "  {'no': 4, 'title': '가격잘못', 'writer': '홍길동', 'price': 'ㅁ'}],\n",
       " '_i82': 'copyBooks = books.copy()\\ncopyBooks.sort()',\n",
       " '_i83': 'copyBooks = books.copy()\\ncopyBooks.sort(key=parse_price)',\n",
       " '_i84': 'copyBooks = books.copy()\\ncopyBooks.sort(key=parse_price)\\ncopyBooks',\n",
       " '_84': [{'no': 6, 'title': '가격이없음', 'writer': '이길동'},\n",
       "  {'no': 4, 'title': '가격잘못', 'writer': '홍길동', 'price': 'ㅁ'},\n",
       "  {'no': 3, 'title': '단 한 번의 삶', 'writer': '김영하', 'price': '15,120'},\n",
       "  {'no': 1, 'title': '흔한남매', 'writer': '백난도', 'price': '15,120'},\n",
       "  {'no': 2, 'title': '더트릭컬', 'writer': '폴빠', 'price': '19,800'},\n",
       "  {'no': 5, 'title': '가격이숫자', 'writer': '백난도', 'price': 30200}],\n",
       " '_i85': \"# 9. 다음 코드의 실행 결과는?\\ndate_info = {'year':2024, 'month':9, 'day':6}\\nresult = '{year}-{month}-{day}'.format(**date_info)\\nresult\",\n",
       " 'date_info': {'year': 2024, 'month': 9, 'day': 6},\n",
       " 'result': '2024-9-6',\n",
       " '_85': '2024-9-6',\n",
       " '_i86': 'a = 10',\n",
       " 'a': 10,\n",
       " '_i87': 'globals() # 전역변수 리스트'}"
      ]
     },
     "execution_count": 87,
     "metadata": {},
     "output_type": "execute_result"
    }
   ],
   "source": [
    "globals() # 전역변수 리스트"
   ]
  },
  {
   "cell_type": "code",
   "execution_count": 88,
   "id": "acffdc95",
   "metadata": {},
   "outputs": [
    {
     "data": {
      "text/plain": [
       "False"
      ]
     },
     "execution_count": 88,
     "metadata": {},
     "output_type": "execute_result"
    }
   ],
   "source": [
    "all([True, True, True, False]) # 모든 요소가 다 True인지 여부를 반환"
   ]
  },
  {
   "cell_type": "markdown",
   "id": "95818d8b",
   "metadata": {},
   "source": [
    "# 연습문제(실습형)"
   ]
  },
  {
   "cell_type": "code",
   "execution_count": 39,
   "id": "4ea5182d",
   "metadata": {},
   "outputs": [
    {
     "data": {
      "text/plain": [
       "{'최대값': 4, '최소값': 1}"
      ]
     },
     "execution_count": 39,
     "metadata": {},
     "output_type": "execute_result"
    }
   ],
   "source": [
    "# 1. 함수의 인자로 리스트를 받은 후 리스트 내에 있는 모든 정수값에 대한 최대값과 최소값을 리턴하는 함수를 작성하세요\n",
    "def get_max_min(data_list):\n",
    "    import sys\n",
    "    min_, max_ = sys.maxsize, -sys.maxsize\n",
    "    for data in data_list:\n",
    "        if data==round(data):\n",
    "            if min_> data:\n",
    "                min_ = data\n",
    "            if max_ < data:\n",
    "                max_ = data\n",
    "    return {\"최대값\": max(data_list), \"최소값\": min(data_list)}\n",
    "\n",
    "data_list = [1,2,3,4]\n",
    "get_max_min(data_list)"
   ]
  },
  {
   "cell_type": "code",
   "execution_count": 114,
   "id": "c9dada19",
   "metadata": {},
   "outputs": [],
   "source": [
    "# 2. 체질량 지수 (Body Mass Index, BMI) 는 체중과 키를 이용해 비만도를 나타내는 지수로 아래의 수식에 의해 계산됩니다 . \n",
    "# 함수의 인자로 체중 (kg) 과 신장 (m) 를 입력받은 후 BMI 값에 따라 \n",
    "# '마른 체형', '표준, '비만', '고도비만' 중 하나의 상태를 출력하는 함수를 구현해 보세요\n",
    "\n",
    "# • getBMI (kg, m):\n",
    "# • BMI 지수 = 체중 (kg) / 신장 (m) 의 제곱\n",
    "# • BMI<18.5 : 마른체형\n",
    "# • 18.5<=BMI<25 : 표준\n",
    "# • 25<=BMI<30 : 비만\n",
    "# • BMI >=30 고도비만\n",
    "\n",
    "def bmi():\n",
    "    weight = float(input('몸무게를 입력하세요(kg) : '))\n",
    "    height = float(input('신장을 미터(m)로 입력하세요 : '))\n",
    "    if weight / (height**2) < 18.5:\n",
    "        print('마른 체형입니다')\n",
    "    elif 18.5 <= weight / (height**2) < 25:\n",
    "        print('표준입니다')\n",
    "    elif 25 <= weight / (height**2) < 30:\n",
    "        print('고도 비만입니다')        "
   ]
  },
  {
   "cell_type": "code",
   "execution_count": 8,
   "id": "7652cb8a",
   "metadata": {},
   "outputs": [
    {
     "name": "stdout",
     "output_type": "stream",
     "text": [
      "몸무게를 입력하세요(kg) : 80\n",
      "신장을 미터(m)로 입력하세요 : 1.8\n",
      "표준입니다\n"
     ]
    }
   ],
   "source": [
    "bmi()"
   ]
  },
  {
   "cell_type": "code",
   "execution_count": 9,
   "id": "19c3b584",
   "metadata": {},
   "outputs": [],
   "source": [
    "# 3. 직각삼각형의 밑변과 높이를 입력받은 후 삼각형의 면적과 둘레를 계산하는 함수를 작성하세요\n",
    "# 리턴값은 면적과 둘레를 return 하도록 구현하세요\n",
    "# • math.sqrt() : 제곱근을 구하는 함수이용 (ex)math.sqrt(25) : 5.0\n",
    "def get_triangle():\n",
    "    import math\n",
    "    width = float(input('밑변의 길이를 입력하세요 : '))\n",
    "    height = float(input('높이를 입력하세요 : '))\n",
    "    area = (width * height) / 2\n",
    "    perimeter = math.sqrt((width**2) + (height**2)) + width + height\n",
    "    return '면적은 {}'.format(area), '둘레는 {}'.format(perimeter)"
   ]
  },
  {
   "cell_type": "code",
   "execution_count": 10,
   "id": "4d8c2cbb",
   "metadata": {},
   "outputs": [
    {
     "name": "stdout",
     "output_type": "stream",
     "text": [
      "밑변의 길이를 입력하세요 : 3\n",
      "높이를 입력하세요 : 4\n"
     ]
    },
    {
     "data": {
      "text/plain": [
       "('면적은 6.0', '둘레는 12.0')"
      ]
     },
     "execution_count": 10,
     "metadata": {},
     "output_type": "execute_result"
    }
   ],
   "source": [
    "get_triangle()"
   ]
  },
  {
   "cell_type": "code",
   "execution_count": 11,
   "id": "5741aa21",
   "metadata": {},
   "outputs": [],
   "source": [
    "# 4. 함수의 인자로 시작과 끝 숫자가 주어질 때 시작부터 끝까지의 모든 정수값의 합을 리턴하는 함수를 작성하세요(시작값과 끝값 포함).\n",
    "def mysum(fRom, end):\n",
    "    sum = 0\n",
    "    for i in range(fRom, end+1):\n",
    "        sum += i\n",
    "    return sum"
   ]
  },
  {
   "cell_type": "code",
   "execution_count": 12,
   "id": "fad3a89a",
   "metadata": {},
   "outputs": [
    {
     "data": {
      "text/plain": [
       "10"
      ]
     },
     "execution_count": 12,
     "metadata": {},
     "output_type": "execute_result"
    }
   ],
   "source": [
    "mysum(1, 4)"
   ]
  },
  {
   "cell_type": "code",
   "execution_count": 34,
   "id": "6e7dc451",
   "metadata": {},
   "outputs": [
    {
     "name": "stdout",
     "output_type": "stream",
     "text": [
      "['Seo', 'Dea', 'Kwa', 'Jej']\n",
      "['Seo', 'Dea', 'Kwa', 'Jej']\n"
     ]
    }
   ],
   "source": [
    "# 5. 함수의 인자로 문자열을 포함하는 리스트가 입력될 때 각 문자열의 첫 세글자로만 구성된 리스트를 리턴하는 함수와 람다식을 작성하세요\n",
    "# • 예를 들어 함수의 입력으로 [‘Seoul’, ‘Daegu’, ‘Kwangju’, ‘ 가 입력될 때 함수의 리턴값은 [‘Seo’, ‘Dae’, ‘ Jej ’]\n",
    "test = ['Seoul', 'Deagu', 'Kwangju', 'Jeju']\n",
    "def get_abbrs(list_):\n",
    "    return [x[:3] for x in list_]\n",
    "\n",
    "print(get_abbrs(test)) # 일반 함수 이용\n",
    "print((lambda l : [x[:3] for x in l])(test)) #람다식 이용"
   ]
  },
  {
   "cell_type": "code",
   "execution_count": 15,
   "id": "8bfc6dfc",
   "metadata": {},
   "outputs": [
    {
     "data": {
      "text/plain": [
       "<function __main__.<lambda>(x)>"
      ]
     },
     "execution_count": 15,
     "metadata": {},
     "output_type": "execute_result"
    }
   ],
   "source": [
    "lambda x : x[:3] "
   ]
  },
  {
   "cell_type": "code",
   "execution_count": 81,
   "id": "f241b86c",
   "metadata": {},
   "outputs": [
    {
     "data": {
      "text/plain": [
       "16384"
      ]
     },
     "execution_count": 81,
     "metadata": {},
     "output_type": "execute_result"
    }
   ],
   "source": [
    "# 6. 다음 코드를 람다 함수 형태로 수정할 때 알맞은 코드를 작성하시오\n",
    "def f(x, y):\n",
    "    return x ** y\n",
    "Q = lambda x, y : x ** y\n",
    "Q(4, 7)"
   ]
  },
  {
   "cell_type": "code",
   "execution_count": 19,
   "id": "5629296a",
   "metadata": {},
   "outputs": [
    {
     "name": "stdout",
     "output_type": "stream",
     "text": [
      "[1, 4, 9, 16, 25]\n"
     ]
    },
    {
     "data": {
      "text/plain": [
       "[1, 4, 9, 16, 25]"
      ]
     },
     "execution_count": 19,
     "metadata": {},
     "output_type": "execute_result"
    }
   ],
   "source": [
    "# 7. \n",
    "ex = [1,2,3,4,5] #를 [1,4,9,16,25] # 의 결과를 얻을 수 있도록 람다 함수와 map() 함수를 사용하여 구현과 리스트 컴프리헨션으로 구현하시오\n",
    "print([ex**2 for ex in ex])\n",
    "list(map(lambda value : value ** 2, ex))"
   ]
  },
  {
   "cell_type": "code",
   "execution_count": null,
   "id": "42bd1ca9",
   "metadata": {},
   "outputs": [],
   "source": [
    "# 8. 다음 코드를 각각 실행하면 서로 다른 결과가 나온다 . 이런 결과가 나오는 이유를 서술하시오\n",
    "# 언팩킹"
   ]
  },
  {
   "cell_type": "code",
   "execution_count": 85,
   "id": "e1b49947",
   "metadata": {},
   "outputs": [
    {
     "data": {
      "text/plain": [
       "'2024-9-6'"
      ]
     },
     "execution_count": 85,
     "metadata": {},
     "output_type": "execute_result"
    }
   ],
   "source": [
    "# 9. 다음 코드의 실행 결과는?\n",
    "date_info = {'year':2024, 'month':9, 'day':6}\n",
    "result = '{year}-{month}-{day}'.format(**date_info)\n",
    "result"
   ]
  },
  {
   "cell_type": "code",
   "execution_count": 20,
   "id": "21113d08",
   "metadata": {},
   "outputs": [
    {
     "name": "stdout",
     "output_type": "stream",
     "text": [
      "True\n",
      "False\n"
     ]
    }
   ],
   "source": [
    "# 10. n 개의 벡터(리스트나 튜플, 셋 등)들의 크기가 같은지 여부를 return 하는 vector_size_check(*vector_var)를 한 줄의 코드(리스트 컴프리헨션 이용)로 작성하시오.\n",
    "def vector_size_check(*vector_var):\n",
    "    # print(vector_var)\n",
    "    result = set()\n",
    "    for vector in vector_var:\n",
    "        result.add(len(vector))\n",
    "    return len(result)==1\n",
    "\n",
    "def vector_size_check(*vector_var):\n",
    "    return len(set([len(vector) for vector in vector_var]))==1\n",
    "\n",
    "print(vector_size_check([1,2], {10,20}, {'name':'홍', 'age':30}, (1,2)))\n",
    "print(vector_size_check([1,2], {10,20}, {'name':'홍', 'age':30}, (1,)))"
   ]
  },
  {
   "cell_type": "code",
   "execution_count": 21,
   "id": "0097a7aa",
   "metadata": {},
   "outputs": [
    {
     "name": "stdout",
     "output_type": "stream",
     "text": [
      "True\n",
      "False\n"
     ]
    }
   ],
   "source": [
    "vector_size_check = lambda *vector_var :  \\\n",
    "        len(set([len(vector) for vector in vector_var]))==1\n",
    "\n",
    "print(vector_size_check([1,2], {10,20}, {'name':'홍', 'age':30}, (1,2)))\n",
    "print(vector_size_check([1,2], {10,20}, {'name':'홍', 'age':30}, (1,)))"
   ]
  },
  {
   "cell_type": "code",
   "execution_count": 22,
   "id": "9ed5325a",
   "metadata": {},
   "outputs": [
    {
     "data": {
      "text/plain": [
       "[10, 20, 30, 40]"
      ]
     },
     "execution_count": 22,
     "metadata": {},
     "output_type": "execute_result"
    }
   ],
   "source": [
    "# 11. 다음과 같은 결과를 얻기 위해 하나의 스칼라값을 리스트나 튜플 , 셋등 벡터에 곱하는 코드를 작성하시오(단 입력되는 벡터의 크기는 일정하지 않음).\n",
    "def scalar_vector_product(num, vector):\n",
    "    return [num*v for v in vector]\n",
    "\n",
    "# def scalar_vector_product(x, lst): # 메일 받은 내용\n",
    "    #return list(map(lambda num : num*x, lst)) \n",
    "\n",
    "scalar_vector_product = lambda num, vector : [num*v for v in vector]\n",
    "\n",
    "scalar_vector_product(10, [1,2,3,4])"
   ]
  },
  {
   "cell_type": "markdown",
   "id": "27432178",
   "metadata": {},
   "source": [
    "# 연습문제(서술형)"
   ]
  },
  {
   "cell_type": "code",
   "execution_count": 18,
   "id": "0394b427",
   "metadata": {},
   "outputs": [
    {
     "data": {
      "text/plain": [
       "[(4, 'a'), (3, 'b'), (2, 'c'), (1, 'd')]"
      ]
     },
     "execution_count": 18,
     "metadata": {},
     "output_type": "execute_result"
    }
   ],
   "source": [
    "# 1. 다음 코드의 실행 결과는?\n",
    "pairs = [(1, 'd'), (2, 'c'), (3, 'b'), (4, 'a')]\n",
    "pairs.sort(key=lambda pair: pair[1])\n",
    "pairs\n",
    "\n",
    "#답 : 2번"
   ]
  },
  {
   "cell_type": "code",
   "execution_count": 38,
   "id": "9770503c",
   "metadata": {},
   "outputs": [
    {
     "name": "stdout",
     "output_type": "stream",
     "text": [
      "6(func함수에서 출력) 12(sub함수에서 출력) 6(func함수에서 출력) 13(sub함수에서 출력) "
     ]
    }
   ],
   "source": [
    "# 2. 오류가 발생하는 라인을 찾고 문제 해결을 위한 코드를 작성하여 실행 결과를 쓰세요\n",
    "a = 10\n",
    "def sub():\n",
    "    global a # 문제해결을 위한 코드 (전역변수로 설정)\n",
    "    a += 1\n",
    "    print(a, end='(sub함수에서 출력) ')    \n",
    "def func():\n",
    "    for i in range(2):\n",
    "        a = 5 # 지역변수\n",
    "        a += 1\n",
    "        print(a, end='(func함수에서 출력) ')\n",
    "        sub()\n",
    "        \n",
    "a += 1\n",
    "func()"
   ]
  },
  {
   "cell_type": "code",
   "execution_count": 19,
   "id": "bfaade4f",
   "metadata": {},
   "outputs": [
    {
     "name": "stdout",
     "output_type": "stream",
     "text": [
      "100\n"
     ]
    }
   ],
   "source": [
    "# 3. 다음 구문을 실행한 결과는?\n",
    "var = 100\n",
    "def func(var):\n",
    "    var = 200\n",
    "func(var)\n",
    "print(var)"
   ]
  },
  {
   "cell_type": "code",
   "execution_count": 20,
   "id": "c7f3bdf9",
   "metadata": {},
   "outputs": [
    {
     "data": {
      "text/plain": [
       "5"
      ]
     },
     "execution_count": 20,
     "metadata": {},
     "output_type": "execute_result"
    }
   ],
   "source": [
    "# 4. 다음 구문의 실행 결과는?\n",
    "def my_func(func, *args):\n",
    "    return func(*args)\n",
    "import numpy as np\n",
    "my_func(np.add, 2, 3)"
   ]
  },
  {
   "cell_type": "code",
   "execution_count": 21,
   "id": "66a52d2d",
   "metadata": {},
   "outputs": [
    {
     "data": {
      "text/plain": [
       "9"
      ]
     },
     "execution_count": 21,
     "metadata": {},
     "output_type": "execute_result"
    }
   ],
   "source": [
    "# 5. 다음 구문의 실행 결과는?\n",
    "def my_func(func, *args):\n",
    "    return func(*args)\n",
    "my_func(lambda a, b : a**b, 3, 2)"
   ]
  },
  {
   "cell_type": "code",
   "execution_count": 22,
   "id": "509e0916",
   "metadata": {},
   "outputs": [],
   "source": [
    "# 6. 파이썬 함수에 대한 설명 중 잘못된 것은?\n",
    "# 답 : 1번"
   ]
  },
  {
   "cell_type": "code",
   "execution_count": 23,
   "id": "96133da2",
   "metadata": {},
   "outputs": [],
   "source": [
    "# 7. 다음과 같은 구문이 있을 경우 오류가 발생하는 함수 호출은?\n",
    "# 답 : 4번"
   ]
  },
  {
   "cell_type": "code",
   "execution_count": 79,
   "id": "6f0201ba",
   "metadata": {},
   "outputs": [],
   "source": [
    "# 8. 다음 보기가 설명하는 것을 작성하기 위한 키워드를 쓰세요(영문 소문자로 쓰세요).\n",
    "# lambda"
   ]
  }
 ],
 "metadata": {
  "kernelspec": {
   "display_name": "Python 3 (ipykernel)",
   "language": "python",
   "name": "python3"
  },
  "language_info": {
   "codemirror_mode": {
    "name": "ipython",
    "version": 3
   },
   "file_extension": ".py",
   "mimetype": "text/x-python",
   "name": "python",
   "nbconvert_exporter": "python",
   "pygments_lexer": "ipython3",
   "version": "3.10.9"
  },
  "toc": {
   "base_numbering": 1,
   "nav_menu": {},
   "number_sections": false,
   "sideBar": true,
   "skip_h1_title": false,
   "title_cell": "Table of Contents",
   "title_sidebar": "Contents",
   "toc_cell": false,
   "toc_position": {
    "height": "calc(100% - 180px)",
    "left": "10px",
    "top": "150px",
    "width": "208px"
   },
   "toc_section_display": true,
   "toc_window_display": true
  }
 },
 "nbformat": 4,
 "nbformat_minor": 5
}
